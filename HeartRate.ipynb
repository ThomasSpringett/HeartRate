{
 "cells": [
  {
   "cell_type": "code",
   "execution_count": 1,
   "metadata": {},
   "outputs": [],
   "source": [
    "# import libraries\n",
    "import pandas as pd\n",
    "import numpy as np\n",
    "import os\n",
    "import matplotlib.pyplot as plt\n",
    "from timeit import default_timer as timer\n",
    "from sklearn.cluster import KMeans\n",
    "from sklearn.metrics import silhouette_samples, silhouette_score\n",
    "import collections\n",
    "import helpers\n",
    "from helpers import *\n",
    "import pickle\n",
    "from matplotlib.pyplot import figure\n",
    "%matplotlib inline\n",
    "import warnings\n",
    "from IPython.display import Image\n",
    "from collections import Counter\n",
    "import random\n",
    "\n",
    "def fxn():\n",
    "    warnings.warn(\"deprecated\", DeprecationWarning)\n",
    "\n",
    "with warnings.catch_warnings():\n",
    "    warnings.simplefilter(\"ignore\")\n",
    "    fxn()"
   ]
  },
  {
   "cell_type": "code",
   "execution_count": 2,
   "metadata": {},
   "outputs": [
    {
     "data": {
      "text/plain": [
       "'/Users/thomasspringett/github/heartrate'"
      ]
     },
     "execution_count": 2,
     "metadata": {},
     "output_type": "execute_result"
    }
   ],
   "source": [
    "%pwd"
   ]
  },
  {
   "cell_type": "code",
   "execution_count": 3,
   "metadata": {},
   "outputs": [],
   "source": [
    "# Maximum heart rate (max_hr) is estimated by 220 - age. \n",
    "age = 63 \n",
    "max_hr = 220-age\n",
    "sample_size = 300000\n",
    "hardware_limit = 210"
   ]
  },
  {
   "cell_type": "code",
   "execution_count": 4,
   "metadata": {},
   "outputs": [],
   "source": [
    "#Dictionaries are defined for Mayo Clinic, CDC and Polar (tm) heart rate zones: \n",
    "mayo_limits = {'moderate_low':0.50*max_hr,'moderate_hi':0.7*max_hr,'intensity_low':0.70*max_hr,'intensity_hi':0.85*max_hr}\n",
    "cdc_limits = {'moderate_low':0.64*max_hr,'moderate_hi':0.76*max_hr,'intensity_low':0.76*max_hr,'intensity_hi':0.93*max_hr}\n",
    "polar_limits = {'zone1':0.6*max_hr,'zone2':0.7*max_hr,'zone3':0.80*max_hr,'zone4':0.9*max_hr,'zone5':1*max_hr}"
   ]
  },
  {
   "cell_type": "code",
   "execution_count": 5,
   "metadata": {},
   "outputs": [],
   "source": [
    "# The dataset for this project consist of heart rate data collected over 4 years from an Apple watch. \n",
    "# the person is a 63 year old white male during various physical activities: biking, walking, skiing. \n",
    "csv_file = 'data/HeartRateData.csv'\n",
    "df_raw = pd.read_csv(csv_file)\n",
    "df_raw=df_raw.drop('DateTime',1)"
   ]
  },
  {
   "cell_type": "code",
   "execution_count": 6,
   "metadata": {},
   "outputs": [
    {
     "name": "stdout",
     "output_type": "stream",
     "text": [
      "count    349768.0\n",
      "mean         78.0\n",
      "std          24.0\n",
      "min          30.0\n",
      "25%          61.0\n",
      "50%          69.0\n",
      "75%          86.0\n",
      "max         215.0\n",
      "Name: BPM, dtype: float64\n"
     ]
    }
   ],
   "source": [
    "print (round(df_raw.BPM.describe()))"
   ]
  },
  {
   "cell_type": "code",
   "execution_count": 7,
   "metadata": {},
   "outputs": [
    {
     "name": "stdout",
     "output_type": "stream",
     "text": [
      "            BPM\n",
      "count  300000.0\n",
      "mean       78.0\n",
      "std        24.0\n",
      "min        30.0\n",
      "25%        61.0\n",
      "50%        69.0\n",
      "75%        86.0\n",
      "max       215.0\n"
     ]
    }
   ],
   "source": [
    "#To improve execution times, a random sample of 10,000 from the population of 349,768 is drawn. By comparing the \n",
    "#percentiles of the population above to that of the sample below, it can be seen the distribution is not changed. \n",
    "df_s=random.sample(list(df_raw.BPM), sample_size)\n",
    "df_sample = pd.DataFrame(df_s)\n",
    "df_sample.columns=['BPM']\n",
    "print (round(df_sample.describe()))"
   ]
  },
  {
   "cell_type": "code",
   "execution_count": 8,
   "metadata": {},
   "outputs": [
    {
     "name": "stdout",
     "output_type": "stream",
     "text": [
      "Applying hardware limit of 210bpm resulted in dropping 0 data points.\n"
     ]
    }
   ],
   "source": [
    "df_limit = df_sample[(df_sample < hardware_limit)]\n",
    "num_screened = df_sample.shape[0]-df_limit.shape[0]\n",
    "print (\"Applying hardware limit of {}bpm resulted in dropping {} data points.\".format(hardware_limit,num_screened))"
   ]
  },
  {
   "cell_type": "code",
   "execution_count": 9,
   "metadata": {},
   "outputs": [],
   "source": [
    "def plot_data_histo(totals): \n",
    "    xref = [max_hr]\n",
    "    ref_colors=['r']\n",
    "    plt.figure(figsize=(5,3))\n",
    "    for ref, c in zip(xref,ref_colors):\n",
    "        plt.axvline(x=ref, c=c, label= 'ref at = {}'.format(ref))\n",
    "    plt.legend()\n",
    "    \n",
    "    # Setting up the grids: \n",
    "    plt.grid(True)\n",
    "    plt.minorticks_on()\n",
    "    plt.grid(which='major', linestyle='-', linewidth='0.5', color='grey')\n",
    "    plt.grid(which='minor', linestyle=':', linewidth='0.5', color='grey')\n",
    "    \n",
    "    plt.xlabel('Beats/Minute')\n",
    "    plt.ylabel('Count')\n",
    "    plt.title('Raw Heart Rate Distribution')\n",
    "    #plt.ylim(0,35000)\n",
    "    #plt.xlim(30,200)\n",
    "    plt.hist(df_raw.BPM, bins=range(35, 205+2, 2))\n",
    "    plt.savefig('./plots/raw_histo.png')\n",
    "    plt.show()"
   ]
  },
  {
   "cell_type": "code",
   "execution_count": 10,
   "metadata": {},
   "outputs": [],
   "source": [
    "def hr_cluster_histogram(df): \n",
    "    \n",
    "    if  'Label' in df: \n",
    "        df.drop(\"Label\",axis='columns',inplace=True)\n",
    "    \n",
    "    kmeans = KMeans(n_clusters=5)\n",
    "    model = kmeans.fit(df)\n",
    "    centers = np.round(model.cluster_centers_,0)\n",
    "    print (\"Percent of Values in each zone: \")\n",
    "    labels = kmeans.predict(df)\n",
    "    print (\"KMeans Labels: \",np.unique(labels))   \n",
    "   \n",
    "    df.insert(1,\"Label\",labels)\n",
    "\n",
    "    clusterCounts(labels)\n",
    "\n",
    "    xref = [max_hr]\n",
    "    ref_colors=['r']\n",
    "        \n",
    "    zone1 = df.loc[df.Label ==0, 'BPM']\n",
    "    zone2 = df.loc[df.Label ==1, 'BPM']\n",
    "    zone3 = df.loc[df.Label ==2, 'BPM']\n",
    "    zone4 = df.loc[df.Label ==3, 'BPM']\n",
    "    zone5 = df.loc[df.Label ==4, 'BPM']\n",
    "    \n",
    "    # Setup plot:\n",
    "    plt.figure(figsize=(5,3))\n",
    "  \n",
    "    plt.grid(True)\n",
    "    plt.minorticks_on()\n",
    "    plt.grid(which='major', linestyle='-', linewidth='0.5', color='grey')\n",
    "    plt.grid(which='minor', linestyle=':', linewidth='0.5', color='grey')\n",
    "    \n",
    "    plt.ylabel('Counts')\n",
    "    plt.xlabel('Beats Per Minute (BPM)')\n",
    "\n",
    "    #plt.grid(True)\n",
    "    plt.title('Cluster Heart Rate Distribution')\n",
    "    plt.hist(zone1,  color='b', label='Cluster 1', bins=range(35, 205, 2))\n",
    "    plt.hist(zone2,  color='c', label='Cluster 2', bins=range(35, 205, 2))\n",
    "    plt.hist(zone3,  color='g', label='Cluster 3', bins=range(35, 205, 2))\n",
    "    plt.hist(zone4,  color='y', label='Cluster 4', bins=range(35, 205, 2))\n",
    "    plt.hist(zone5,  color='r', label='Cluster 5', bins=range(35, 205, 2))\n",
    "    plt.legend()\n",
    "   \n",
    "    plt.savefig('./plots/cluster_histo.png')\n",
    "    plt.show()"
   ]
  },
  {
   "cell_type": "code",
   "execution_count": 43,
   "metadata": {},
   "outputs": [],
   "source": [
    "def hr_polar_histogram(df): \n",
    "\n",
    "    zone1 = df.loc[df.Polar_Zone == 'zone1', 'BPM']\n",
    "    zone2 = df.loc[df.Polar_Zone == 'zone2', 'BPM']\n",
    "    zone3 = df.loc[df.Polar_Zone == 'zone3', 'BPM']\n",
    "    zone4 = df.loc[df.Polar_Zone == 'zone4', 'BPM']\n",
    "    zone5 = df.loc[df.Polar_Zone == 'zone5', 'BPM']\n",
    "    \n",
    "    xref = [max_hr]\n",
    "    ref_colors=['r']\n",
    "    \n",
    "    plt.figure(figsize=(5,3))\n",
    "    kwargs = dict(alpha=0.5)\n",
    "    plt.xticks(np.arange(20, 205, 20))\n",
    "    plt.grid(b=True, which='both', color='0.65', linestyle='-')\n",
    "    \n",
    "    # Turn on the minor TICKS, which are required for the minor GRID\n",
    "    plt.minorticks_on()\n",
    "\n",
    "    # Customize the major grid\n",
    "    plt.grid(which='major', linestyle='-', linewidth='0.5', color='grey')\n",
    "    # Customize the minor grid\n",
    "    plt.grid(which='minor', linestyle=':', linewidth='0.5', color='grey')\n",
    "\n",
    "    #plt.grid(True)\n",
    "    plt.title('Polar(tm) Zone Heart Rate Distribution')\n",
    "    plt.hist(zone1, **kwargs, color='g', label='Zone 1', bins=range(35, 205+2, 2))\n",
    "    plt.hist(zone2, **kwargs, color='b', label='Zone 2', bins=range(35, 205+2, 2))\n",
    "    plt.hist(zone3, **kwargs, color='r', label='Zone 3', bins=range(35, 205+2, 2))\n",
    "    plt.hist(zone4, **kwargs, color='c', label='Zone 4', bins=range(35, 205+2, 2))\n",
    "    plt.hist(zone5, **kwargs, color='y', label='Zone 5', bins=range(35, 205+2, 2))\n",
    "    plt.ylabel('Counts')\n",
    "    plt.xlabel('Beats Per Minute (BPM)')\n",
    "    #plt.ylim(0,35000)\n",
    "    plt.xlim(30,200)\n",
    "    plt.legend()\n",
    "    plt.savefig('./plots/zone_histo.png')\n",
    "    plt.show()"
   ]
  },
  {
   "cell_type": "code",
   "execution_count": 74,
   "metadata": {},
   "outputs": [],
   "source": [
    "def hr_3zone_histogram(df,source): \n",
    "\n",
    "    if source == 'Mayo':\n",
    "        zone1 = df.loc[df.Mayo_Zone == 'Moderate', 'BPM']\n",
    "        zone2 = df.loc[df.Mayo_Zone == 'Intensity', 'BPM']\n",
    "        zone3 = df.loc[df.Mayo_Zone == 'Other', 'BPM']\n",
    "\n",
    "    \n",
    "    if source == 'CDC':\n",
    "        zone1 = df.loc[df.CDC_Zone == 'Moderate', 'BPM']\n",
    "        zone2 = df.loc[df.CDC_Zone == 'Intensity', 'BPM']\n",
    "        zone3 = df.loc[df.CDC_Zone == 'Other', 'BPM']\n",
    "\n",
    "\n",
    "    xref = [max_hr]\n",
    "    ref_colors=['r']\n",
    "    bin = 50\n",
    "    plt.figure(figsize=(5,3))\n",
    "    # xticks = np.linspace(30, 200, 50)\n",
    "    kwargs = dict(alpha=0.5)\n",
    "    plt.xticks(np.arange(20, 205, 20))\n",
    "    plt.grid(b=True, which='both', color='0.65', linestyle='-')\n",
    "    \n",
    "    # Turn on the minor TICKS, which are required for the minor GRID\n",
    "    plt.minorticks_on()\n",
    "\n",
    "    # Customize the major grid\n",
    "    plt.grid(which='major', linestyle='-', linewidth='0.5', color='grey')\n",
    "    # Customize the minor grid\n",
    "    plt.grid(which='minor', linestyle=':', linewidth='0.5', color='grey')\n",
    "    \n",
    "    \n",
    "    #plt.grid(True)\n",
    "\n",
    "    plt.title(source + ' Clinic Zone Heart Rate Distribution')\n",
    "        \n",
    "    plt.hist(zone1, **kwargs, color='g', label='Moderate',bins=range(35, 205+2, 2))\n",
    "    plt.hist(zone2, **kwargs, color='b', label='Intensity',bins=range(35, 205+2, 2))\n",
    "    plt.hist(zone3, **kwargs, color='r', label='Other',bins=range(35, 205+2, 2))\n",
    "\n",
    "    plt.ylabel('Counts')\n",
    "    plt.xlabel('Beats Per Minute (BPM)')\n",
    "    #plt.ylim(0,35000)\n",
    "    plt.xlim(30,200)\n",
    "    plt.legend()\n",
    "    plt.savefig('./plots/mayo_zone_histo.png')\n",
    "    plt.show()"
   ]
  },
  {
   "cell_type": "markdown",
   "metadata": {},
   "source": [
    " Note that with KMeans clustering the data will not be split into training and test sets. Kmeans clustering is not a classification tool. The data is not labeled."
   ]
  },
  {
   "cell_type": "code",
   "execution_count": 12,
   "metadata": {},
   "outputs": [],
   "source": [
    "\n",
    "def scree_KMeans_plot(data,num_clusters):\n",
    "    clusterCenters = [] \n",
    "    scores = [] \n",
    "    k_values = []\n",
    "    start = timer()\n",
    "    for k in range(1,num_clusters):\n",
    "        k_values.append(k)\n",
    "        kmeans = KMeans(n_clusters=k)\n",
    "        model = kmeans.fit(data)\n",
    "        #print (\"\\nCluster {}: {}\".format(k,model.cluster_centers_))\n",
    "        clusterCenters.append(model.cluster_centers_)\n",
    "        labels = kmeans.predict(data)\n",
    "        #print (\"Cluster Labels: \",np.unique(labels))\n",
    "        score = -(kmeans.score(data))\n",
    "        #print (\"score: \",round(score/100000000,2))\n",
    "        scores.append(score)\n",
    "    plt.plot(k_values, scores, marker = 'o')\n",
    "    plt.ylabel('K-Cluster Score')\n",
    "    plt.xlabel('k value')\n",
    "    plt.title('Number of Clusters vs KMeans Score')\n",
    "    plt.savefig('./plots/Cluster_vs_score_plot.png')\n",
    "    plt.show()\n",
    "    end = timer() \n",
    "    #print(f\"\\nFunction in {(end - start)/60:0.1f} minutes\")\n",
    "    return k_values, scores, labels"
   ]
  },
  {
   "cell_type": "code",
   "execution_count": 13,
   "metadata": {
    "scrolled": true
   },
   "outputs": [
    {
     "data": {
      "image/png": "[encoded data removed]",
      "text/plain": [
       "<Figure size 432x288 with 1 Axes>"
      ]
     },
     "metadata": {
      "needs_background": "light"
     },
     "output_type": "display_data"
    }
   ],
   "source": [
    "k_values, scores, labels = scree_KMeans_plot(df_sample,9) "
   ]
  },
  {
   "cell_type": "code",
   "execution_count": 14,
   "metadata": {},
   "outputs": [
    {
     "name": "stdout",
     "output_type": "stream",
     "text": [
      "Maximum value of number of clusters (k) is:  8\n",
      "Less than 30% improvement in score after k = 7\n"
     ]
    }
   ],
   "source": [
    "# The elbow method would suggest that most of the improvement in the cluster scores happens prior to k=5.\n",
    "# The algorithm below allows for selection of k based on the diminishing benefits of increasing clusters. \n",
    "# 5 clusters is being chosen, not just by the elbow method above as it also matches up with the 5 zones \n",
    "# defined by the Polar (tm) methodology. \n",
    "\n",
    "def findK(df,limit): \n",
    "\n",
    "    for k in range(len(df)):\n",
    "        if k == len(df):\n",
    "           print (\"\\nEnd of array reached.\") \n",
    "        elif k == len(df): \n",
    "          improvement = 'None'\n",
    "          print (\"end of array reached prior to limit\")\n",
    "          print (\"K=0\")\n",
    "        elif k > 0:\n",
    "          improvement = (round(100*((df[k-1]-df[k])/df[k])))\n",
    "          #print (k,round(df[k]/100000000,2),improvement)\n",
    "          if improvement < limit:\n",
    "                #print (\"Improvement of {}% is less than lower limit of {}% for k = {}. k max is {} \".format(improvement,limit,k,len(df)))\n",
    "                break\n",
    "    print (\"Maximum value of number of clusters (k) is: \",len(df))\n",
    "    print (\"Less than {}% improvement in score after k = {}\".format(limit,k))\n",
    "\n",
    "findK(scores,30) "
   ]
  },
  {
   "cell_type": "code",
   "execution_count": 15,
   "metadata": {},
   "outputs": [
    {
     "name": "stdout",
     "output_type": "stream",
     "text": [
      "KMeans Labels:  [0 1 2 3 4 5 6 7]\n"
     ]
    }
   ],
   "source": [
    "print (\"KMeans Labels: \",np.unique(labels))     "
   ]
  },
  {
   "cell_type": "code",
   "execution_count": 16,
   "metadata": {},
   "outputs": [],
   "source": [
    "# The function below calculates the percent of the distribution in each cluster. \n",
    "def clusterCounts(labels): \n",
    "    #Count number in each cluster for general population \n",
    "    clusterDict = collections.Counter(labels)\n",
    "    clusterSum = sum(clusterDict.values())\n",
    "    #clusterCounter = Counter(clusterDict.values())\n",
    "\n",
    "    for key,value in sorted(clusterDict.items()): \n",
    "        print (key, ' ->',np.round(100*value/clusterSum),'%')"
   ]
  },
  {
   "cell_type": "code",
   "execution_count": 17,
   "metadata": {},
   "outputs": [
    {
     "name": "stdout",
     "output_type": "stream",
     "text": [
      "Percent of Values in each zone: \n",
      "KMeans Labels:  [0 1 2 3 4]\n",
      "0  -> 55.0 %\n",
      "1  -> 26.0 %\n",
      "2  -> 12.0 %\n",
      "3  -> 1.0 %\n",
      "4  -> 7.0 %\n"
     ]
    },
    {
     "data": {
      "image/png": "[encoded data removed]",
      "text/plain": [
       "<Figure size 360x216 with 1 Axes>"
      ]
     },
     "metadata": {
      "needs_background": "light"
     },
     "output_type": "display_data"
    }
   ],
   "source": [
    "hr_cluster_histogram(df_sample)"
   ]
  },
  {
   "cell_type": "code",
   "execution_count": 18,
   "metadata": {},
   "outputs": [],
   "source": [
    "def assignZone(value):\n",
    "    if (value <= polar_limits['zone1']): \n",
    "        return \"zone1\"\n",
    "    elif (value > polar_limits['zone1']) and (value <= polar_limits['zone2']):\n",
    "        return \"zone2\"\n",
    "    elif (value > polar_limits['zone2']) and (value <= polar_limits['zone3']):\n",
    "        return  \"zone3\"\n",
    "    elif (value > polar_limits['zone3']) and (value <= polar_limits['zone4']):\n",
    "        return  \"zone4\"    \n",
    "    elif (value > polar_limits['zone4']) and (value <= polar_limits['zone5']):\n",
    "        return \"zone5\"\n",
    "    else:\n",
    "        return 'nan'\n",
    " "
   ]
  },
  {
   "cell_type": "code",
   "execution_count": 47,
   "metadata": {},
   "outputs": [
    {
     "name": "stdout",
     "output_type": "stream",
     "text": [
      "CDC Limits:  100 119 119 146\n"
     ]
    }
   ],
   "source": [
    "print (\"CDC Limits: \",int(cdc_limits['moderate_low']),int(cdc_limits['moderate_hi']), int(cdc_limits['intensity_low']),int(cdc_limits['intensity_hi']))\n",
    "def assignCDCZone(value):\n",
    "    if (value > cdc_limits['moderate_low']) and (value <= cdc_limits['moderate_hi']):\n",
    "        return \"Moderate\"\n",
    "    elif (value > cdc_limits['intensity_low']) and (value <= cdc_limits['intensity_hi']):\n",
    "        return  \"Intensity\"\n",
    "    else:\n",
    "        return 'Other'\n"
   ]
  },
  {
   "cell_type": "code",
   "execution_count": 48,
   "metadata": {},
   "outputs": [
    {
     "name": "stdout",
     "output_type": "stream",
     "text": [
      "Mayo Clinic Limits:  78 109 109 133\n"
     ]
    }
   ],
   "source": [
    "print (\"Mayo Clinic Limits: \",int(mayo_limits['moderate_low']),int(mayo_limits['moderate_hi']), int(mayo_limits['intensity_low']),int(mayo_limits['intensity_hi']))\n",
    "def assignMayoZone(value):\n",
    "    if (value > mayo_limits['moderate_low']) and (value <= mayo_limits['moderate_hi']):\n",
    "        return \"Moderate\"\n",
    "    elif (value > mayo_limits['intensity_low']) and (value <= mayo_limits['intensity_hi']):\n",
    "        return  \"Intensity\"\n",
    "    else:\n",
    "        return 'Other'"
   ]
  },
  {
   "cell_type": "code",
   "execution_count": 49,
   "metadata": {},
   "outputs": [
    {
     "name": "stdout",
     "output_type": "stream",
     "text": [
      "(300000, 5)\n"
     ]
    },
    {
     "data": {
      "text/html": [
       "<div>\n",
       "<style scoped>\n",
       "    .dataframe tbody tr th:only-of-type {\n",
       "        vertical-align: middle;\n",
       "    }\n",
       "\n",
       "    .dataframe tbody tr th {\n",
       "        vertical-align: top;\n",
       "    }\n",
       "\n",
       "    .dataframe thead th {\n",
       "        text-align: right;\n",
       "    }\n",
       "</style>\n",
       "<table border=\"1\" class=\"dataframe\">\n",
       "  <thead>\n",
       "    <tr style=\"text-align: right;\">\n",
       "      <th></th>\n",
       "      <th>BPM</th>\n",
       "      <th>Label</th>\n",
       "      <th>Polar_Zone</th>\n",
       "      <th>CDC_Zone</th>\n",
       "      <th>Mayo_Zone</th>\n",
       "    </tr>\n",
       "  </thead>\n",
       "  <tbody>\n",
       "    <tr>\n",
       "      <th>0</th>\n",
       "      <td>138</td>\n",
       "      <td>4</td>\n",
       "      <td>zone4</td>\n",
       "      <td>Intensity</td>\n",
       "      <td>Other</td>\n",
       "    </tr>\n",
       "    <tr>\n",
       "      <th>1</th>\n",
       "      <td>71</td>\n",
       "      <td>0</td>\n",
       "      <td>zone1</td>\n",
       "      <td>Other</td>\n",
       "      <td>Other</td>\n",
       "    </tr>\n",
       "    <tr>\n",
       "      <th>2</th>\n",
       "      <td>89</td>\n",
       "      <td>1</td>\n",
       "      <td>zone1</td>\n",
       "      <td>Other</td>\n",
       "      <td>Moderate</td>\n",
       "    </tr>\n",
       "    <tr>\n",
       "      <th>3</th>\n",
       "      <td>134</td>\n",
       "      <td>4</td>\n",
       "      <td>zone4</td>\n",
       "      <td>Intensity</td>\n",
       "      <td>Other</td>\n",
       "    </tr>\n",
       "    <tr>\n",
       "      <th>4</th>\n",
       "      <td>80</td>\n",
       "      <td>1</td>\n",
       "      <td>zone1</td>\n",
       "      <td>Other</td>\n",
       "      <td>Moderate</td>\n",
       "    </tr>\n",
       "  </tbody>\n",
       "</table>\n",
       "</div>"
      ],
      "text/plain": [
       "   BPM  Label Polar_Zone   CDC_Zone Mayo_Zone\n",
       "0  138      4      zone4  Intensity     Other\n",
       "1   71      0      zone1      Other     Other\n",
       "2   89      1      zone1      Other  Moderate\n",
       "3  134      4      zone4  Intensity     Other\n",
       "4   80      1      zone1      Other  Moderate"
      ]
     },
     "execution_count": 49,
     "metadata": {},
     "output_type": "execute_result"
    }
   ],
   "source": [
    "df_zones=df_sample.copy()\n",
    "df_zones['Polar_Zone'] = df_zones.BPM.apply(assignZone)\n",
    "df_zones['CDC_Zone'] = df_zones.BPM.apply(assignCDCZone)\n",
    "df_zones['Mayo_Zone'] = df_zones.BPM.apply(assignMayoZone)\n",
    "print (df_zones.shape)\n",
    "df_zones.head()"
   ]
  },
  {
   "cell_type": "code",
   "execution_count": 50,
   "metadata": {},
   "outputs": [
    {
     "name": "stdout",
     "output_type": "stream",
     "text": [
      "['zone4' 'zone1' 'zone2' 'zone3' 'nan' 'zone5']\n",
      "['Intensity' 'Other' 'Moderate']\n",
      "['Other' 'Moderate' 'Intensity']\n"
     ]
    }
   ],
   "source": [
    "#Checking for Zone assignment: \n",
    "print (df_zones['Polar_Zone'].unique())\n",
    "print (df_zones['CDC_Zone'].unique())\n",
    "print (df_zones['Mayo_Zone'].unique())"
   ]
  },
  {
   "cell_type": "code",
   "execution_count": 51,
   "metadata": {},
   "outputs": [
    {
     "name": "stdout",
     "output_type": "stream",
     "text": [
      "The percentiles for Polar Zones:\n",
      "nan  -> 1.0 %\n",
      "zone1  -> 81.0 %\n",
      "zone2  -> 8.0 %\n",
      "zone3  -> 6.0 %\n",
      "zone4  -> 4.0 %\n",
      "zone5  -> 2.0 %\n"
     ]
    }
   ],
   "source": [
    "df2 = df_zones.copy() \n",
    "print (\"The percentiles for Polar Zones:\")\n",
    "clusterCounts(df2['Polar_Zone'])\n",
    "#clusterCounts(df2['CDC_Zone'])\n",
    "#clusterCounts(df2['Mayo_Zone'])"
   ]
  },
  {
   "cell_type": "code",
   "execution_count": 52,
   "metadata": {},
   "outputs": [
    {
     "data": {
      "image/png": "[encoded data removed]",
      "text/plain": [
       "<Figure size 360x216 with 1 Axes>"
      ]
     },
     "metadata": {
      "needs_background": "light"
     },
     "output_type": "display_data"
    }
   ],
   "source": [
    "plot_data_histo(df_sample.BPM)"
   ]
  },
  {
   "cell_type": "code",
   "execution_count": 53,
   "metadata": {},
   "outputs": [
    {
     "data": {
      "image/png": "[encoded data removed]",
      "text/plain": [
       "<Figure size 360x216 with 1 Axes>"
      ]
     },
     "metadata": {
      "needs_background": "light"
     },
     "output_type": "display_data"
    }
   ],
   "source": [
    "hr_polar_histogram(df2)"
   ]
  },
  {
   "cell_type": "code",
   "execution_count": 75,
   "metadata": {},
   "outputs": [
    {
     "data": {
      "image/png": "[encoded data removed]",
      "text/plain": [
       "<Figure size 360x216 with 1 Axes>"
      ]
     },
     "metadata": {
      "needs_background": "light"
     },
     "output_type": "display_data"
    }
   ],
   "source": [
    "hr_3zone_histogram(df2,'CDC')"
   ]
  },
  {
   "cell_type": "code",
   "execution_count": 76,
   "metadata": {},
   "outputs": [
    {
     "data": {
      "image/png": "[encoded data removed]",
      "text/plain": [
       "<Figure size 360x216 with 1 Axes>"
      ]
     },
     "metadata": {
      "needs_background": "light"
     },
     "output_type": "display_data"
    }
   ],
   "source": [
    "hr_3zone_histogram(df2,'Mayo')"
   ]
  },
  {
   "cell_type": "code",
   "execution_count": null,
   "metadata": {},
   "outputs": [],
   "source": [
    "Image('./plots/raw_histo.png')"
   ]
  },
  {
   "cell_type": "code",
   "execution_count": null,
   "metadata": {},
   "outputs": [],
   "source": [
    "#import matplotlib.image as mpimg\n",
    "from skimage.io import imread, imsave, imshow, show, imread_collection, imshow_collection\n",
    "import imageio\n",
    "import matplotlib.pyplot as plt\n",
    "img1  =  imageio.imread('./plots/cluster_histo.png')\n",
    "img2 = imageio.imread('./plots/zone_histo.png') \n",
    "\n",
    "\n",
    "plt.rcParams[\"figure.figsize\"] = (20,20)\n",
    "\n",
    "\n",
    "fig,(ax1,ax2) = plt.subplots(1,2)\n",
    "#plt.subplot(2,1,1)\n",
    "#plt.figure()\n",
    "\n",
    "ax1.imshow(img1)                     \n",
    "#plt.subplot(212) \n",
    "ax2.imshow(img2) \n"
   ]
  },
  {
   "cell_type": "code",
   "execution_count": null,
   "metadata": {},
   "outputs": [],
   "source": [
    "print (df2.head())\n",
    "df2.BPM.head()\n"
   ]
  },
  {
   "cell_type": "code",
   "execution_count": null,
   "metadata": {},
   "outputs": [],
   "source": [
    "\n",
    "def silhouetteScore(df,num_clusters): \n",
    "    sil_scores = [] \n",
    "    start = timer()\n",
    "    range_n_clusters = list(range(2,num_clusters))\n",
    "    for n_clusters in range_n_clusters:\n",
    "        #kmeans = KMeans(n_clusters=n_clusters, random_state=10)\n",
    "        kmeans = KMeans(n_clusters=n_clusters)\n",
    "        cluster_labels = kmeans.fit_predict(df)\n",
    "        score = silhouette_score(df,cluster_labels)\n",
    "        sil_scores.append(score)\n",
    "        print(\"\\nFor n_clusters = {}, silhouette score is {}\".format(n_clusters, score))\n",
    "        end=timer()\n",
    "        print(f\"Function in {(end - start)/60:0.1f} minutes\")\n",
    "    print (\"\\nFinished!\")\n",
    "    return sil_scores"
   ]
  },
  {
   "cell_type": "code",
   "execution_count": null,
   "metadata": {
    "scrolled": true
   },
   "outputs": [],
   "source": [
    "%%time\n",
    "#sil_scores = silhouetteScore(df2.BPM.values.reshape(-1,1),10)"
   ]
  },
  {
   "cell_type": "code",
   "execution_count": null,
   "metadata": {},
   "outputs": [],
   "source": [
    "#pickle.dump(sil_scores,open('data/silhouetteScores','wb'))\n",
    "silhouette = pickle.load(open('data/silhouetteScores', 'rb'))\n",
    "print (\"Sil Scores: \",silhouette)"
   ]
  },
  {
   "cell_type": "code",
   "execution_count": null,
   "metadata": {},
   "outputs": [],
   "source": [
    "def silhouette_plot(scores, k_values):\n",
    "    plt.figure(figsize=(5,3))\n",
    "    plt.ylabel('Silhouette Score')\n",
    "    plt.xlabel('k value')\n",
    "    plt.title('Silhouete For Best K')\n",
    "    plt.ylim=(0.0,1.0)\n",
    "    plt.grid(True)\n",
    "    plt.plot(k_values, scores, marker = 'o')\n",
    "\n",
    "    plt.show()"
   ]
  },
  {
   "cell_type": "code",
   "execution_count": null,
   "metadata": {},
   "outputs": [],
   "source": [
    "print (len(k_values), len(silhouette))\n",
    "print (oftype(k_values))\n",
    "print (oftype(silhouette))\n",
    "if len(k_values) > len(silhouette):\n",
    "    x=len(k_values) - len(silhouette)\n",
    "    k_values = k_values[:-x]\n",
    "if len(silhouette) > len(k_values):\n",
    "    x = len(silhouette) - len(k_values)\n",
    "    silhouette = silhouette[:-x]\n",
    "oftype(k_values)\n",
    "print (len(k_values), len(silhouette))"
   ]
  },
  {
   "cell_type": "code",
   "execution_count": null,
   "metadata": {},
   "outputs": [],
   "source": [
    "silhouette_plot(silhouette,k_values)"
   ]
  },
  {
   "cell_type": "markdown",
   "metadata": {},
   "source": [
    "The first step in determining high intensity heart rate zones is to determine maximum heart rate. There are several methods for this: \n",
    "\n",
    "1. 200 - 1/2 age. Or 168bpm for a 62 year old. \n",
    "2. 220 - age. 0r 158bpm for a 62 year old.\n",
    "3. Heart Rate Monitor data collected over a period of months with various activities. \n",
    "4. Using a treadmill or stationary bike with an ECG. \n",
    "\n",
    "Option number 2 is the most common for folks that do not have access to the treadmill and ECG. It will be used for the remainder of the project. \n",
    "\n",
    "After the maximum heart rate is determined, target heart rates can be determined: \n",
    "1. Target active heart rate: 60-70%. Or 95 to 110 bpm for the 62 year old. \n",
    "2. Target Heart Rate is 64% to 76%. CDC. \n",
    "3. High Intensity target heart rate is 76-93% (CDC). Or 120 to 146 for the 62 year old. \n",
    " \n",
    "The heart rate monitor company Polar suggests 5 heart rate zones: \n",
    "1. Very light at 50-60% of HRMAX. Boost recovery and prepare for higher zones.\n",
    "2. Light 60-70%. Improve general endurance and increase capillary density.\n",
    "2. Moderate at 70-80%. Lactic acid build up,improve efficiency of blood circulation in the heart and muscles\n",
    "4. Hard 80-90%. Improve speed endurance.\n",
    "5. Maximum 90-100%. For elite atheletes to further improve speed. \n",
    "\n",
    "The Mayo Clinic defines \n",
    "1. Moderate intensity as 50-70% of maximum heart rate.\n",
    "2. Vigorous as 70% to 85%. "
   ]
  }
 ],
 "metadata": {
  "kernelspec": {
   "display_name": "Python 3",
   "language": "python",
   "name": "python3"
  },
  "language_info": {
   "codemirror_mode": {
    "name": "ipython",
    "version": 3
   },
   "file_extension": ".py",
   "mimetype": "text/x-python",
   "name": "python",
   "nbconvert_exporter": "python",
   "pygments_lexer": "ipython3",
   "version": "3.7.3"
  }
 },
 "nbformat": 4,
 "nbformat_minor": 4
}
