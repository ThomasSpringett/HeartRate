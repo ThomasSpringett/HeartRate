{
 "cells": [
  {
   "cell_type": "code",
   "execution_count": 115,
   "metadata": {},
   "outputs": [],
   "source": [
    "# import libraries\n",
    "import pandas as pd\n",
    "import numpy as np\n",
    "import os\n",
    "import matplotlib.pyplot as plt\n",
    "from timeit import default_timer as timer\n",
    "from sklearn.cluster import KMeans\n",
    "from sklearn.metrics import silhouette_samples, silhouette_score\n",
    "import collections\n",
    "import helpers\n",
    "from helpers import *"
   ]
  },
  {
   "cell_type": "code",
   "execution_count": 2,
   "metadata": {},
   "outputs": [
    {
     "data": {
      "text/plain": [
       "'/Users/thomasspringett/github/heartrate'"
      ]
     },
     "execution_count": 2,
     "metadata": {},
     "output_type": "execute_result"
    }
   ],
   "source": [
    "%pwd"
   ]
  },
  {
   "cell_type": "code",
   "execution_count": 3,
   "metadata": {},
   "outputs": [
    {
     "data": {
      "text/html": [
       "<div>\n",
       "<style scoped>\n",
       "    .dataframe tbody tr th:only-of-type {\n",
       "        vertical-align: middle;\n",
       "    }\n",
       "\n",
       "    .dataframe tbody tr th {\n",
       "        vertical-align: top;\n",
       "    }\n",
       "\n",
       "    .dataframe thead th {\n",
       "        text-align: right;\n",
       "    }\n",
       "</style>\n",
       "<table border=\"1\" class=\"dataframe\">\n",
       "  <thead>\n",
       "    <tr style=\"text-align: right;\">\n",
       "      <th></th>\n",
       "      <th>BPM</th>\n",
       "    </tr>\n",
       "  </thead>\n",
       "  <tbody>\n",
       "    <tr>\n",
       "      <th>0</th>\n",
       "      <td>77</td>\n",
       "    </tr>\n",
       "    <tr>\n",
       "      <th>1</th>\n",
       "      <td>69</td>\n",
       "    </tr>\n",
       "    <tr>\n",
       "      <th>2</th>\n",
       "      <td>69</td>\n",
       "    </tr>\n",
       "    <tr>\n",
       "      <th>3</th>\n",
       "      <td>69</td>\n",
       "    </tr>\n",
       "    <tr>\n",
       "      <th>4</th>\n",
       "      <td>69</td>\n",
       "    </tr>\n",
       "  </tbody>\n",
       "</table>\n",
       "</div>"
      ],
      "text/plain": [
       "   BPM\n",
       "0   77\n",
       "1   69\n",
       "2   69\n",
       "3   69\n",
       "4   69"
      ]
     },
     "execution_count": 3,
     "metadata": {},
     "output_type": "execute_result"
    }
   ],
   "source": [
    "csv_file = 'data/HeartRateData.csv'\n",
    "df = pd.read_csv(csv_file)\n",
    "df.head()\n",
    "df=df.drop('DateTime',1)\n",
    "df.head()"
   ]
  },
  {
   "cell_type": "code",
   "execution_count": 4,
   "metadata": {},
   "outputs": [
    {
     "data": {
      "text/plain": [
       "count    349768.000000\n",
       "mean         77.648204\n",
       "std          23.626089\n",
       "min          30.000000\n",
       "25%          61.000000\n",
       "50%          69.000000\n",
       "75%          86.000000\n",
       "max         215.000000\n",
       "Name: BPM, dtype: float64"
      ]
     },
     "execution_count": 4,
     "metadata": {},
     "output_type": "execute_result"
    }
   ],
   "source": [
    "df.BPM.describe()"
   ]
  },
  {
   "cell_type": "code",
   "execution_count": 5,
   "metadata": {},
   "outputs": [],
   "source": [
    "def zones(df, age):\n",
    "    max_hr = 220 - age\n",
    "    target_low = 0.64*max_hr\n",
    "    target_high = 0.76*max_hr\n",
    "    target_intensity_lo = 0.76*max_hr\n",
    "    target_intensity_hi = 0.93*max_hr\n",
    "    print (\"For Age: {} Maximum HR: {}\".format(age,max_hr))\n",
    "    print (\"Target HR Lower Bound:\", target_low)\n",
    "    print (\"Target HR Upper Bound:\", target_high)\n",
    "    print (\"Target HR Intensity Upper Bound:\", target_intensity_hi)\n",
    "    return max_hr, target_low, target_high, target_intensity_lo, target_intensity_hi"
   ]
  },
  {
   "cell_type": "code",
   "execution_count": 6,
   "metadata": {},
   "outputs": [
    {
     "name": "stdout",
     "output_type": "stream",
     "text": [
      "For Age: 62 Maximum HR: 158\n",
      "Target HR Lower Bound: 101.12\n",
      "Target HR Upper Bound: 120.08\n",
      "Target HR Intensity Upper Bound: 146.94\n"
     ]
    }
   ],
   "source": [
    "max_hr, target_low, target_high, target_intensity_lo, target_intensity_hi = zones(df,62)"
   ]
  },
  {
   "cell_type": "code",
   "execution_count": 7,
   "metadata": {},
   "outputs": [],
   "source": [
    "def plot_data_histo(totals): \n",
    "    #Histogram of the number of missing values per column (featrure).\n",
    "    xref = [max_hr,target_low, target_high,target_intensity_hi]\n",
    "    ref_colors=['r','g','y','b']\n",
    "\n",
    "    for ref, c in zip(xref,ref_colors):\n",
    "        plt.axvline(x=ref, c=c, label= 'ref at = {}'.format(ref))\n",
    "    plt.legend()\n",
    "    plt.grid(True)\n",
    "    plt.xlabel('Beats/Minute')\n",
    "    plt.ylabel('Count')\n",
    "    plt.title('Heart Rate Distribution')\n",
    "    plt.hist(df.BPM,50)\n",
    "    plt.show()"
   ]
  },
  {
   "cell_type": "code",
   "execution_count": 8,
   "metadata": {},
   "outputs": [
    {
     "data": {
      "image/png": "[encoded data removed]",
      "text/plain": [
       "<Figure size 432x288 with 1 Axes>"
      ]
     },
     "metadata": {
      "needs_background": "light"
     },
     "output_type": "display_data"
    }
   ],
   "source": [
    "#print (df.BPM)\n",
    "plot_data_histo(df.BPM)"
   ]
  },
  {
   "cell_type": "code",
   "execution_count": 151,
   "metadata": {},
   "outputs": [],
   "source": [
    "def scree_KMeans_plot(data,num_clusters):\n",
    "    clusterCenters = [] \n",
    "    scores = [] \n",
    "    k_values = []\n",
    "    start = timer()\n",
    "    for k in range(1,num_clusters):\n",
    "        k_values.append(k)\n",
    "        kmeans = KMeans(n_clusters=k)\n",
    "        model = kmeans.fit(data)\n",
    "        print (\"\\nCluster {}: {}\".format(k,model.cluster_centers_))\n",
    "        clusterCenters.append(model.cluster_centers_)\n",
    "        labels = kmeans.predict(data)\n",
    "        print (\"Cluster Label: \",labels)\n",
    "        score = -(kmeans.score(data))\n",
    "        print (\"score: \",score/100000000)\n",
    "        scores.append(score)\n",
    "    print (\"scores: \",scores )\n",
    "    plt.plot(k_values, scores, marker = 'o')\n",
    "    plt.ylabel('K-Cluster Score')\n",
    "    plt.xlabel('k value')\n",
    "    plt.title('Number of Clusters vs KMeans Score')\n",
    "    plt.savefig('Cluster_vs_score_plot.png')\n",
    "    plt.show()\n",
    "    end = timer() \n",
    "    print(f\"\\nFunction in {(end - start)/60:0.1f} minutes\")\n",
    "    return k_values, scores, labels"
   ]
  },
  {
   "cell_type": "code",
   "execution_count": 155,
   "metadata": {
    "scrolled": true
   },
   "outputs": [
    {
     "name": "stdout",
     "output_type": "stream",
     "text": [
      "\n",
      "Cluster 1: [[77.64820395]]\n",
      "Cluster Label:  [0 0 0 ... 0 0 0]\n",
      "score:  1.95237173551723\n",
      "\n",
      "Cluster 2: [[ 67.75020615]\n",
      " [117.47091011]]\n",
      "Cluster Label:  [0 0 0 ... 0 0 1]\n",
      "score:  0.5737084950402145\n",
      "\n",
      "Cluster 3: [[ 63.25309656]\n",
      " [129.08728976]\n",
      " [ 87.99679777]]\n",
      "Cluster Label:  [2 0 0 ... 0 0 1]\n",
      "score:  0.3054380885981595\n",
      "\n",
      "Cluster 4: [[103.414389  ]\n",
      " [ 61.48358498]\n",
      " [138.55663645]\n",
      " [ 78.29681967]]\n",
      "Cluster Label:  [3 1 1 ... 1 1 2]\n",
      "score:  0.1919105212269045\n",
      "scores:  [195237173.551723, 57370849.50402145, 30543808.85981595, 19191052.12269045]\n"
     ]
    },
    {
     "data": {
      "image/png": "[encoded data removed]",
      "text/plain": [
       "<Figure size 432x288 with 1 Axes>"
      ]
     },
     "metadata": {
      "needs_background": "light"
     },
     "output_type": "display_data"
    },
    {
     "name": "stdout",
     "output_type": "stream",
     "text": [
      "\n",
      "Function in 0.1 minutes\n",
      "<zip object at 0x7fe326c20708>\n"
     ]
    }
   ],
   "source": [
    "k_values, scores, labels = scree_KMeans_plot(df,5) \n",
    "k = zip(k_values, scores)\n",
    "print (k)"
   ]
  },
  {
   "cell_type": "code",
   "execution_count": 153,
   "metadata": {},
   "outputs": [
    {
     "name": "stdout",
     "output_type": "stream",
     "text": [
      "numpy (349768,)\n",
      "[6 1 1 ... 1 1 4]\n"
     ]
    },
    {
     "data": {
      "text/plain": [
       "array([0, 1, 2, 3, 4, 5, 6, 7, 8], dtype=int32)"
      ]
     },
     "execution_count": 153,
     "metadata": {},
     "output_type": "execute_result"
    }
   ],
   "source": [
    "x=labels\n",
    "oftype(labels)\n",
    "if isinstance(x,list):\n",
    "        print (\"List\")\n",
    "  \n",
    "print (labels)\n",
    "np.unique(labels)"
   ]
  },
  {
   "cell_type": "code",
   "execution_count": 89,
   "metadata": {},
   "outputs": [
    {
     "data": {
      "text/plain": [
       "[1.95237173551723,\n",
       " 0.5737084950402145,\n",
       " 0.3054380885981595,\n",
       " 0.18983188620401523,\n",
       " 0.13594165256442528,\n",
       " 0.09018768364450168,\n",
       " 0.06616339847613856,\n",
       " 0.05024936386329572,\n",
       " 0.040461319409733604,\n",
       " 0.03282647601760699,\n",
       " 0.028922767197097556,\n",
       " 0.023698337504489884,\n",
       " 0.021102467920565443,\n",
       " 0.017813945811622767,\n",
       " 0.015040609348080745,\n",
       " 0.013432169584281664,\n",
       " 0.011757957017291841,\n",
       " 0.01091934613564488,\n",
       " 0.009341136042500232]"
      ]
     },
     "execution_count": 89,
     "metadata": {},
     "output_type": "execute_result"
    }
   ],
   "source": [
    "scores_1E8 = [] \n",
    "for score in scores:\n",
    "    scores_1E8.append(score/100000000)\n",
    "scores_1E8"
   ]
  },
  {
   "cell_type": "code",
   "execution_count": null,
   "metadata": {},
   "outputs": [],
   "source": []
  },
  {
   "cell_type": "code",
   "execution_count": 130,
   "metadata": {},
   "outputs": [
    {
     "name": "stdout",
     "output_type": "stream",
     "text": [
      "10% improvement limit reached at k = 17\n"
     ]
    }
   ],
   "source": [
    "def findK(df,limit): \n",
    "    for k in range(len(df)):\n",
    "        if k > 0:\n",
    "          improvement = (round(100*((df[k-1]-df[k])/df[k])))\n",
    "          if improvement < limit:\n",
    "                break \n",
    "    print (\"{}% improvement limit reached at k = {}\".format(limit,k))\n",
    "findK(scores_1E8,10)      "
   ]
  },
  {
   "cell_type": "code",
   "execution_count": null,
   "metadata": {},
   "outputs": [],
   "source": [
    " "
   ]
  },
  {
   "cell_type": "code",
   "execution_count": 11,
   "metadata": {},
   "outputs": [],
   "source": [
    "def silhouetteScore(df): \n",
    "    start = timer()\n",
    "    range_n_clusters = list(range(2,7))\n",
    "    for n_clusters in range_n_clusters:\n",
    "        kmeans = KMeans(n_clusters=n_clusters, random_state=10)\n",
    "        cluster_labels = kmeans.fit_predict(df)\n",
    "        score = silhouette_score(df,cluster_labels)\n",
    "        print(\"For n_clusters = {}, silhouette score is {}\".format(n_clusters, score))\n",
    "        end=timer()\n",
    "        print(f\"\\nFunction in {(end - start)/60:0.1f} minutes\")"
   ]
  },
  {
   "cell_type": "code",
   "execution_count": 12,
   "metadata": {},
   "outputs": [
    {
     "name": "stdout",
     "output_type": "stream",
     "text": [
      "For n_clusters = 2, silhouette score is 0.7042516317444071\n",
      "\n",
      "Function in 30.5 minutes\n",
      "For n_clusters = 3, silhouette score is 0.6140819352176045\n",
      "\n",
      "Function in 62.6 minutes\n",
      "For n_clusters = 4, silhouette score is 0.58831778833054\n",
      "\n",
      "Function in 123.2 minutes\n",
      "For n_clusters = 5, silhouette score is 0.5563375366485069\n",
      "\n",
      "Function in 154.2 minutes\n",
      "For n_clusters = 6, silhouette score is 0.5654972784167175\n",
      "\n",
      "Function in 184.0 minutes\n"
     ]
    }
   ],
   "source": [
    "#silhouetteScore(df)"
   ]
  },
  {
   "cell_type": "code",
   "execution_count": 13,
   "metadata": {},
   "outputs": [],
   "source": [
    "# Maximum Heart Rate: 200 - 1/2 age. Harvard Health News \n",
    "#Target Heart Rate Zone: 60%-75%. 70 yr old max would be 165 and target of 99 to 124. Harvard Health News.\n",
    "# Maxiumum Heart Rate is 200 - Age. CDC. \n",
    "# Target Heart Rate is 64% to 76%. CDC. \n",
    "# Intenisty target heart rate is 77% to 93%. CDC. \n",
    "# Polar.com: \n",
    "# 5 Zones. 1: very light at 60-70% of HRMAX. Boost recovery, \n",
    "#2: light at 60-70% improve general endurance and increase capillary density. , \n",
    "#3:moderate at 70-80%.Lactic acid build up, improve efficiency of blood circulation in the heart and muscles\n",
    "#4: Hard 80-90%, 5: Maximum 90-100%. \n",
    "#5 - improve speed endurance. "
   ]
  },
  {
   "cell_type": "code",
   "execution_count": 14,
   "metadata": {},
   "outputs": [],
   "source": [
    "def silhotteScore(df): \n",
    "    range_n_clusters = list(range(2,7))\n",
    "    for n_clusters in range_n_clusters:\n",
    "        kmeans = KMeans(n_clusters=n_clusters, random_state=10)\n",
    "        cluster_labels = kmeans.fit_predict(df)\n",
    "        score = silhouette_score(df,cluster_labels)\n",
    "        print(\"For n_clusters = {}, silhouette score is {}\".format(n_clusters, score))"
   ]
  },
  {
   "cell_type": "code",
   "execution_count": null,
   "metadata": {},
   "outputs": [],
   "source": []
  },
  {
   "cell_type": "code",
   "execution_count": 156,
   "metadata": {},
   "outputs": [
    {
     "name": "stdout",
     "output_type": "stream",
     "text": [
      "0  -> 14.39 %\n",
      "1  -> 51.69 %\n",
      "2  -> 7.35 %\n",
      "3  -> 26.56 %\n"
     ]
    }
   ],
   "source": [
    "#Count number in each cluster for general population \n",
    "clusterDict = collections.Counter(labels)\n",
    "#print (clusterDict)\n",
    "\n",
    "customerClusterSum = sum(clusterDict.values())\n",
    "\n",
    "for key,value in sorted(clusterDict.items()): \n",
    "    print (key, ' ->',np.round(100*value/customerClusterSum,2),'%')"
   ]
  },
  {
   "cell_type": "code",
   "execution_count": null,
   "metadata": {},
   "outputs": [],
   "source": []
  }
 ],
 "metadata": {
  "kernelspec": {
   "display_name": "Python 3",
   "language": "python",
   "name": "python3"
  },
  "language_info": {
   "codemirror_mode": {
    "name": "ipython",
    "version": 3
   },
   "file_extension": ".py",
   "mimetype": "text/x-python",
   "name": "python",
   "nbconvert_exporter": "python",
   "pygments_lexer": "ipython3",
   "version": "3.7.3"
  }
 },
 "nbformat": 4,
 "nbformat_minor": 4
}
