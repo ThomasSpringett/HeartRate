{
 "cells": [
  {
   "cell_type": "code",
   "execution_count": 1,
   "metadata": {},
   "outputs": [],
   "source": [
    "# import libraries\n",
    "import pandas as pd\n",
    "import numpy as np\n",
    "import os\n",
    "import matplotlib.pyplot as plt\n",
    "from timeit import default_timer as timer\n",
    "from sklearn.cluster import KMeans\n",
    "from sklearn.metrics import silhouette_samples, silhouette_score\n",
    "import collections\n",
    "import helpers\n",
    "from helpers import *\n",
    "import pickle\n",
    "from matplotlib.pyplot import figure\n",
    "%matplotlib inline\n",
    "import warnings\n",
    "from IPython.display import Image\n",
    "from collections import Counter\n",
    "import random\n",
    "from sklearn import datasets, mixture \n",
    "from sklearn.cluster import DBSCAN\n",
    "import imageio\n",
    "import matplotlib.gridspec as gridspec\n",
    "    \n",
    "  \n",
    "def fxn():\n",
    "    warnings.warn(\"deprecated\", DeprecationWarning)\n",
    "\n",
    "with warnings.catch_warnings():\n",
    "    warnings.simplefilter(\"ignore\")\n",
    "    fxn()\n"
   ]
  },
  {
   "cell_type": "code",
   "execution_count": 2,
   "metadata": {},
   "outputs": [
    {
     "data": {
      "text/plain": [
       "'/Users/thomasspringett/github/heartrate'"
      ]
     },
     "execution_count": 2,
     "metadata": {},
     "output_type": "execute_result"
    }
   ],
   "source": [
    "%pwd"
   ]
  },
  {
   "cell_type": "markdown",
   "metadata": {},
   "source": [
    "# Project Objectives\n",
    "\n",
    "Heart rate data is used in several ways. One can select a target heart rate to stay under, so that the pace can be maintained, or one can target the highest rates for improving fitness. For example, one may want to stay under 140 for a long distance race, or may want to stay well above 140 in a short but high intensity session to improve fitness. \n",
    "\n",
    "To help with this last activity, this project will analyze heart rate data to determine if machine learning and clustering algorithms can indetify a high intensity zone for a given individual. The process will be to load and filter the data, select a sample, optimize hyper-paramters and select a model based on performance metrics.  "
   ]
  },
  {
   "cell_type": "markdown",
   "metadata": {},
   "source": [
    "# Loading and Pre-Processing\n",
    "\n",
    "The dataset is from one 63 year old white male exported from the Apple Health app. No features were available. For ill be analyzed.The .csv file was over 100MB, the limit for github. Consequently the data file was converted into a pickle file and is loaded below."
   ]
  },
  {
   "cell_type": "code",
   "execution_count": 3,
   "metadata": {},
   "outputs": [
    {
     "data": {
      "text/html": [
       "<div>\n",
       "<style scoped>\n",
       "    .dataframe tbody tr th:only-of-type {\n",
       "        vertical-align: middle;\n",
       "    }\n",
       "\n",
       "    .dataframe tbody tr th {\n",
       "        vertical-align: top;\n",
       "    }\n",
       "\n",
       "    .dataframe thead th {\n",
       "        text-align: right;\n",
       "    }\n",
       "</style>\n",
       "<table border=\"1\" class=\"dataframe\">\n",
       "  <thead>\n",
       "    <tr style=\"text-align: right;\">\n",
       "      <th></th>\n",
       "      <th>/@locale</th>\n",
       "      <th>/ExportDate/@value</th>\n",
       "      <th>/Me/@HKCharacteristicTypeIdentifierBiologicalSex</th>\n",
       "      <th>/Me/@HKCharacteristicTypeIdentifierBloodType</th>\n",
       "      <th>/Me/@HKCharacteristicTypeIdentifierDateOfBirth</th>\n",
       "      <th>/Me/@HKCharacteristicTypeIdentifierFitzpatrickSkinType</th>\n",
       "      <th>/Record/@creationDate</th>\n",
       "      <th>/Record/@device</th>\n",
       "      <th>/Record/@endDate</th>\n",
       "      <th>/Record/@sourceName</th>\n",
       "      <th>/Record/@sourceVersion</th>\n",
       "      <th>/Record/@startDate</th>\n",
       "      <th>/Record/@type</th>\n",
       "      <th>/Record/@unit</th>\n",
       "      <th>/Record/@value</th>\n",
       "      <th>/Record/MetadataEntry/@key</th>\n",
       "      <th>/Record/MetadataEntry/@value</th>\n",
       "      <th>/Record/MetadataEntry/@value/#agg</th>\n",
       "    </tr>\n",
       "  </thead>\n",
       "  <tbody>\n",
       "    <tr>\n",
       "      <th>0</th>\n",
       "      <td>en_US</td>\n",
       "      <td>8/23/20 10:28</td>\n",
       "      <td>HKBiologicalSexMale</td>\n",
       "      <td>HKBloodTypeOPositive</td>\n",
       "      <td>10/22/57</td>\n",
       "      <td>HKFitzpatrickSkinTypeNotSet</td>\n",
       "      <td>12/21/14 19:13</td>\n",
       "      <td>NaN</td>\n",
       "      <td>12/21/14 19:13</td>\n",
       "      <td>Health</td>\n",
       "      <td>NaN</td>\n",
       "      <td>12/21/14 19:13</td>\n",
       "      <td>HKQuantityTypeIdentifierBodyMassIndex</td>\n",
       "      <td>count</td>\n",
       "      <td>26.29000</td>\n",
       "      <td>HKWasUserEntered</td>\n",
       "      <td>1.0</td>\n",
       "      <td>1.0</td>\n",
       "    </tr>\n",
       "    <tr>\n",
       "      <th>1</th>\n",
       "      <td>en_US</td>\n",
       "      <td>8/23/20 10:28</td>\n",
       "      <td>HKBiologicalSexMale</td>\n",
       "      <td>HKBloodTypeOPositive</td>\n",
       "      <td>10/22/57</td>\n",
       "      <td>HKFitzpatrickSkinTypeNotSet</td>\n",
       "      <td>10/2/14 17:40</td>\n",
       "      <td>NaN</td>\n",
       "      <td>10/2/14 17:40</td>\n",
       "      <td>Health</td>\n",
       "      <td>NaN</td>\n",
       "      <td>10/2/14 17:40</td>\n",
       "      <td>HKQuantityTypeIdentifierHeight</td>\n",
       "      <td>ft</td>\n",
       "      <td>5.66667</td>\n",
       "      <td>HKWasUserEntered</td>\n",
       "      <td>1.0</td>\n",
       "      <td>1.0</td>\n",
       "    </tr>\n",
       "    <tr>\n",
       "      <th>2</th>\n",
       "      <td>en_US</td>\n",
       "      <td>8/23/20 10:28</td>\n",
       "      <td>HKBiologicalSexMale</td>\n",
       "      <td>HKBloodTypeOPositive</td>\n",
       "      <td>10/22/57</td>\n",
       "      <td>HKFitzpatrickSkinTypeNotSet</td>\n",
       "      <td>11/24/14 15:22</td>\n",
       "      <td>NaN</td>\n",
       "      <td>11/24/14 15:22</td>\n",
       "      <td>Health</td>\n",
       "      <td>NaN</td>\n",
       "      <td>11/24/14 15:22</td>\n",
       "      <td>HKQuantityTypeIdentifierHeight</td>\n",
       "      <td>ft</td>\n",
       "      <td>4.83333</td>\n",
       "      <td>HKWasUserEntered</td>\n",
       "      <td>1.0</td>\n",
       "      <td>1.0</td>\n",
       "    </tr>\n",
       "    <tr>\n",
       "      <th>3</th>\n",
       "      <td>en_US</td>\n",
       "      <td>8/23/20 10:28</td>\n",
       "      <td>HKBiologicalSexMale</td>\n",
       "      <td>HKBloodTypeOPositive</td>\n",
       "      <td>10/22/57</td>\n",
       "      <td>HKFitzpatrickSkinTypeNotSet</td>\n",
       "      <td>8/8/15 19:20</td>\n",
       "      <td>NaN</td>\n",
       "      <td>8/8/15 19:20</td>\n",
       "      <td>Toms iPhone6</td>\n",
       "      <td>NaN</td>\n",
       "      <td>8/8/15 19:20</td>\n",
       "      <td>HKQuantityTypeIdentifierHeight</td>\n",
       "      <td>ft</td>\n",
       "      <td>5.66667</td>\n",
       "      <td>NaN</td>\n",
       "      <td>NaN</td>\n",
       "      <td>NaN</td>\n",
       "    </tr>\n",
       "    <tr>\n",
       "      <th>4</th>\n",
       "      <td>en_US</td>\n",
       "      <td>8/23/20 10:28</td>\n",
       "      <td>HKBiologicalSexMale</td>\n",
       "      <td>HKBloodTypeOPositive</td>\n",
       "      <td>10/22/57</td>\n",
       "      <td>HKFitzpatrickSkinTypeNotSet</td>\n",
       "      <td>8/8/15 19:29</td>\n",
       "      <td>NaN</td>\n",
       "      <td>8/8/15 19:29</td>\n",
       "      <td>Thomas's Apple Watch</td>\n",
       "      <td>NaN</td>\n",
       "      <td>8/8/15 19:29</td>\n",
       "      <td>HKQuantityTypeIdentifierHeight</td>\n",
       "      <td>ft</td>\n",
       "      <td>5.66667</td>\n",
       "      <td>NaN</td>\n",
       "      <td>NaN</td>\n",
       "      <td>NaN</td>\n",
       "    </tr>\n",
       "  </tbody>\n",
       "</table>\n",
       "</div>"
      ],
      "text/plain": [
       "  /@locale /ExportDate/@value  \\\n",
       "0    en_US      8/23/20 10:28   \n",
       "1    en_US      8/23/20 10:28   \n",
       "2    en_US      8/23/20 10:28   \n",
       "3    en_US      8/23/20 10:28   \n",
       "4    en_US      8/23/20 10:28   \n",
       "\n",
       "  /Me/@HKCharacteristicTypeIdentifierBiologicalSex  \\\n",
       "0                              HKBiologicalSexMale   \n",
       "1                              HKBiologicalSexMale   \n",
       "2                              HKBiologicalSexMale   \n",
       "3                              HKBiologicalSexMale   \n",
       "4                              HKBiologicalSexMale   \n",
       "\n",
       "  /Me/@HKCharacteristicTypeIdentifierBloodType  \\\n",
       "0                         HKBloodTypeOPositive   \n",
       "1                         HKBloodTypeOPositive   \n",
       "2                         HKBloodTypeOPositive   \n",
       "3                         HKBloodTypeOPositive   \n",
       "4                         HKBloodTypeOPositive   \n",
       "\n",
       "  /Me/@HKCharacteristicTypeIdentifierDateOfBirth  \\\n",
       "0                                       10/22/57   \n",
       "1                                       10/22/57   \n",
       "2                                       10/22/57   \n",
       "3                                       10/22/57   \n",
       "4                                       10/22/57   \n",
       "\n",
       "  /Me/@HKCharacteristicTypeIdentifierFitzpatrickSkinType  \\\n",
       "0                        HKFitzpatrickSkinTypeNotSet       \n",
       "1                        HKFitzpatrickSkinTypeNotSet       \n",
       "2                        HKFitzpatrickSkinTypeNotSet       \n",
       "3                        HKFitzpatrickSkinTypeNotSet       \n",
       "4                        HKFitzpatrickSkinTypeNotSet       \n",
       "\n",
       "  /Record/@creationDate /Record/@device /Record/@endDate  \\\n",
       "0        12/21/14 19:13             NaN   12/21/14 19:13   \n",
       "1         10/2/14 17:40             NaN    10/2/14 17:40   \n",
       "2        11/24/14 15:22             NaN   11/24/14 15:22   \n",
       "3          8/8/15 19:20             NaN     8/8/15 19:20   \n",
       "4          8/8/15 19:29             NaN     8/8/15 19:29   \n",
       "\n",
       "    /Record/@sourceName /Record/@sourceVersion /Record/@startDate  \\\n",
       "0                Health                    NaN     12/21/14 19:13   \n",
       "1                Health                    NaN      10/2/14 17:40   \n",
       "2                Health                    NaN     11/24/14 15:22   \n",
       "3          Toms iPhone6                    NaN       8/8/15 19:20   \n",
       "4  Thomas's Apple Watch                    NaN       8/8/15 19:29   \n",
       "\n",
       "                           /Record/@type /Record/@unit  /Record/@value  \\\n",
       "0  HKQuantityTypeIdentifierBodyMassIndex         count        26.29000   \n",
       "1         HKQuantityTypeIdentifierHeight            ft         5.66667   \n",
       "2         HKQuantityTypeIdentifierHeight            ft         4.83333   \n",
       "3         HKQuantityTypeIdentifierHeight            ft         5.66667   \n",
       "4         HKQuantityTypeIdentifierHeight            ft         5.66667   \n",
       "\n",
       "  /Record/MetadataEntry/@key  /Record/MetadataEntry/@value  \\\n",
       "0           HKWasUserEntered                           1.0   \n",
       "1           HKWasUserEntered                           1.0   \n",
       "2           HKWasUserEntered                           1.0   \n",
       "3                        NaN                           NaN   \n",
       "4                        NaN                           NaN   \n",
       "\n",
       "   /Record/MetadataEntry/@value/#agg  \n",
       "0                                1.0  \n",
       "1                                1.0  \n",
       "2                                1.0  \n",
       "3                                NaN  \n",
       "4                                NaN  "
      ]
     },
     "execution_count": 3,
     "metadata": {},
     "output_type": "execute_result"
    }
   ],
   "source": [
    "# The dataset for this project consist of heart rate data collected over 4 years \n",
    "# during various physical activities: biking, walking, skiing. \n",
    "\n",
    "#csv_file = 'data/HeartRateDataRaw.csv'\n",
    "#df_raw = pd.read_csv(csv_file, header=0)\n",
    "#df_raw.to_pickle('./data/HeartRateDataRaw.pickle')\n",
    "\n",
    "df_raw=pd.read_pickle('./data/HeartRateDataRaw.pickle')\n",
    "df_raw.head()"
   ]
  },
  {
   "cell_type": "code",
   "execution_count": 4,
   "metadata": {},
   "outputs": [
    {
     "name": "stdout",
     "output_type": "stream",
     "text": [
      "/@locale\n",
      "/ExportDate/@value\n",
      "/Me/@HKCharacteristicTypeIdentifierBiologicalSex\n",
      "/Me/@HKCharacteristicTypeIdentifierBloodType\n",
      "/Me/@HKCharacteristicTypeIdentifierDateOfBirth\n",
      "/Me/@HKCharacteristicTypeIdentifierFitzpatrickSkinType\n",
      "/Record/@creationDate\n",
      "/Record/@device\n",
      "/Record/@endDate\n",
      "/Record/@sourceName\n",
      "/Record/@sourceVersion\n",
      "/Record/@startDate\n",
      "/Record/@type\n",
      "/Record/@unit\n",
      "/Record/@value\n",
      "/Record/MetadataEntry/@key\n",
      "/Record/MetadataEntry/@value\n",
      "/Record/MetadataEntry/@value/#agg\n"
     ]
    }
   ],
   "source": [
    "# Displaying the list of column names in the heart rate export: \n",
    "for col in df_raw.columns:\n",
    "    print (col)"
   ]
  },
  {
   "cell_type": "markdown",
   "metadata": {},
   "source": [
    "## Selecting Fields of Interest\n",
    "The only feature of interest is '/Record/@value'. It contains the beats per minute data. The other fields could be of interest, but they were either not populated, had only a single value (sex = male) or not expected to be relevant. The code below selects only the '/Record/@value' parameter and renames it to 'BPM'. In an ideal dataset scenario, multiple people of both sexes, a wide range of ages and different devices would also be included. For this exploratory analysis, this limited dataset should be sufficient. "
   ]
  },
  {
   "cell_type": "code",
   "execution_count": 5,
   "metadata": {},
   "outputs": [
    {
     "data": {
      "text/html": [
       "<div>\n",
       "<style scoped>\n",
       "    .dataframe tbody tr th:only-of-type {\n",
       "        vertical-align: middle;\n",
       "    }\n",
       "\n",
       "    .dataframe tbody tr th {\n",
       "        vertical-align: top;\n",
       "    }\n",
       "\n",
       "    .dataframe thead th {\n",
       "        text-align: right;\n",
       "    }\n",
       "</style>\n",
       "<table border=\"1\" class=\"dataframe\">\n",
       "  <thead>\n",
       "    <tr style=\"text-align: right;\">\n",
       "      <th></th>\n",
       "      <th>BPM</th>\n",
       "    </tr>\n",
       "  </thead>\n",
       "  <tbody>\n",
       "    <tr>\n",
       "      <th>0</th>\n",
       "      <td>26.29000</td>\n",
       "    </tr>\n",
       "    <tr>\n",
       "      <th>1</th>\n",
       "      <td>5.66667</td>\n",
       "    </tr>\n",
       "    <tr>\n",
       "      <th>2</th>\n",
       "      <td>4.83333</td>\n",
       "    </tr>\n",
       "  </tbody>\n",
       "</table>\n",
       "</div>"
      ],
      "text/plain": [
       "        BPM\n",
       "0  26.29000\n",
       "1   5.66667\n",
       "2   4.83333"
      ]
     },
     "execution_count": 5,
     "metadata": {},
     "output_type": "execute_result"
    }
   ],
   "source": [
    "# Creating dataframe with only beats per minute (BPM) data then renaming only the BPM values: \n",
    "df_raw = df_raw.filter(items=['/Record/@value'])\n",
    "df_raw = df_raw.rename(columns={'/Record/@value':\"BPM\"})\n",
    "df_raw.head(3)"
   ]
  },
  {
   "cell_type": "markdown",
   "metadata": {},
   "source": [
    "\n",
    "# Setting Parameters and Limits\n",
    "### Hardware Limits, Sample Size, Maximum HR \n",
    "\n",
    "The heart rate data was obtained from an Apple Watch and exported from Healthkit. Do to the sensitivity and availability of health data, the dataset is collected from only one white 63 year old male. The watch sensor's valid hardware limits are from 30 bpm to 210 bpm. Values outside of this range were filtered. Do to the large database with over 349,000 data points, a random sample of 10,000 from this population was generated. This did not significantly affect the distribution or results but did improve execution time. \n",
    "\n",
    "Maximum heart can be calculated from age. The formula is 220-age. There is no comparable algorithm for minimum heart rate. In general, a lower resting heart rate is indicative of better conditioning. "
   ]
  },
  {
   "cell_type": "code",
   "execution_count": 6,
   "metadata": {},
   "outputs": [],
   "source": [
    "# Configuration Parameters including hardware sensor limits, maximum heart rate and sample size are defined. \n",
    "# To calculate maximum heart rate, the formula 220 - age is used. \n",
    "age = 63 \n",
    "max_hr = 220-age\n",
    "sample_size = 10000\n",
    "hardware_upper_limit = 210\n",
    "hardware_lower_limit = 30"
   ]
  },
  {
   "cell_type": "markdown",
   "metadata": {},
   "source": [
    "### Heart Rate Zone Limits\n",
    "\n",
    "Various heart rate zones have been defined. They range from resting to high intensity zones. There is no standard. Polar heart rate monitors have been in use by atheletes for decades and have 5 zones. The CDC and Mayo clinic define two exercise zones, moderate and intense. While the zones for each of these sources have different limits, all use the same calculation for maximum hear rate, namely 220-age. Clustering algorithms will also be applied to the data with each cluster defining a zone. \n",
    "\n",
    "The limits for the CDC, Polar and Mayo Clinic zones are defined in the dictionaries below: "
   ]
  },
  {
   "cell_type": "code",
   "execution_count": 7,
   "metadata": {},
   "outputs": [],
   "source": [
    "#Dictionaries are defined for Mayo Clinic, CDC and Polar (tm) heart rate zones: \n",
    "mayo_limits = {'moderate_low':0.50*max_hr,'moderate_hi':0.7*max_hr,'intensity_low':0.70*max_hr,'intensity_hi':0.85*max_hr}\n",
    "cdc_limits = {'moderate_low':0.64*max_hr,'moderate_hi':0.76*max_hr,'intensity_low':0.76*max_hr,'intensity_hi':0.93*max_hr}\n",
    "polar_limits = {'zone1':0.6*max_hr,'zone2':0.7*max_hr,'zone3':0.80*max_hr,'zone4':0.9*max_hr,'zone5':1*max_hr}"
   ]
  },
  {
   "cell_type": "markdown",
   "metadata": {},
   "source": [
    "# Explore the Data\n",
    "It is now time to explore the data. A display of the raw dataframe, summary\n",
    "statistics and graphical analysis will all be used to understand the dataset. \n",
    "### Descriptive Statistics\n",
    "The summary below shows that there were 349,781 heat beat measurements. The minimum was 5 and the maximum is 215. These values are outside of the sensor's valid range, which is 30 to 210. Consequently, they will be filtered out. \n",
    "The mean at 78 bpm is significantly above the median at 69 bpm, suggesting there the distribution has a high end tail. The standard distribution of 24 is also high further suggesting a wide range of values. "
   ]
  },
  {
   "cell_type": "code",
   "execution_count": 8,
   "metadata": {},
   "outputs": [
    {
     "data": {
      "text/html": [
       "<div>\n",
       "<style scoped>\n",
       "    .dataframe tbody tr th:only-of-type {\n",
       "        vertical-align: middle;\n",
       "    }\n",
       "\n",
       "    .dataframe tbody tr th {\n",
       "        vertical-align: top;\n",
       "    }\n",
       "\n",
       "    .dataframe thead th {\n",
       "        text-align: right;\n",
       "    }\n",
       "</style>\n",
       "<table border=\"1\" class=\"dataframe\">\n",
       "  <thead>\n",
       "    <tr style=\"text-align: right;\">\n",
       "      <th></th>\n",
       "      <th>BPM</th>\n",
       "    </tr>\n",
       "  </thead>\n",
       "  <tbody>\n",
       "    <tr>\n",
       "      <th>0</th>\n",
       "      <td>26.29000</td>\n",
       "    </tr>\n",
       "    <tr>\n",
       "      <th>1</th>\n",
       "      <td>5.66667</td>\n",
       "    </tr>\n",
       "    <tr>\n",
       "      <th>2</th>\n",
       "      <td>4.83333</td>\n",
       "    </tr>\n",
       "    <tr>\n",
       "      <th>3</th>\n",
       "      <td>5.66667</td>\n",
       "    </tr>\n",
       "    <tr>\n",
       "      <th>4</th>\n",
       "      <td>5.66667</td>\n",
       "    </tr>\n",
       "  </tbody>\n",
       "</table>\n",
       "</div>"
      ],
      "text/plain": [
       "        BPM\n",
       "0  26.29000\n",
       "1   5.66667\n",
       "2   4.83333\n",
       "3   5.66667\n",
       "4   5.66667"
      ]
     },
     "metadata": {},
     "output_type": "display_data"
    },
    {
     "data": {
      "text/plain": [
       "count    349781.0\n",
       "mean         78.0\n",
       "std          24.0\n",
       "min           5.0\n",
       "25%          61.0\n",
       "50%          69.0\n",
       "75%          86.0\n",
       "max         215.0\n",
       "Name: BPM, dtype: float64"
      ]
     },
     "metadata": {},
     "output_type": "display_data"
    }
   ],
   "source": [
    "display (df_raw.head())\n",
    "# The summary statistics for heart rate data on the full dataset: \n",
    "display (round(df_raw.BPM.describe()))"
   ]
  },
  {
   "cell_type": "markdown",
   "metadata": {},
   "source": [
    "### Filter Outliers\n",
    "The hardware limits noted above will be applied to the dataset: "
   ]
  },
  {
   "cell_type": "code",
   "execution_count": 9,
   "metadata": {},
   "outputs": [
    {
     "name": "stdout",
     "output_type": "stream",
     "text": [
      "Applying hardware limit of 210bpm resulted in dropping 297 instances.\n"
     ]
    }
   ],
   "source": [
    "# Apply hardware limits:\n",
    "df_limit = df_raw[(df_raw['BPM'] <= hardware_upper_limit) & (df_raw['BPM'] > hardware_lower_limit) ]\n",
    "num_screened = df_raw.shape[0]-df_limit.shape[0]\n",
    "print (\"Applying hardware limit of {}bpm resulted in dropping {} instances.\".format(hardware_upper_limit,num_screened))"
   ]
  },
  {
   "cell_type": "markdown",
   "metadata": {},
   "source": [
    "### Sampling \n",
    "For performance metrics, this analysis relies heavily on the silhouette score, which is computationaly intensive. In order to reduce execution times, a sample was drawn from the original population. The sample size was 10,000. Descriptive statistics were again generated on this sample and the distibution is virtually unchanged. The results are presented below:"
   ]
  },
  {
   "cell_type": "code",
   "execution_count": 10,
   "metadata": {},
   "outputs": [
    {
     "name": "stdout",
     "output_type": "stream",
     "text": [
      "           BPM\n",
      "count  10000.0\n",
      "mean      77.0\n",
      "std       23.0\n",
      "min       40.0\n",
      "25%       61.0\n",
      "50%       69.0\n",
      "75%       86.0\n",
      "max      209.0\n"
     ]
    }
   ],
   "source": [
    "#To improve execution times, a random sample of 10,000 from the population of 349,768 is drawn. By comparing the \n",
    "#percentiles of the population above to that of the sample below, it can be seen the sample actuately \n",
    "#reflects the population. \n",
    "\n",
    "df_s=random.sample(list(df_limit.BPM), sample_size)\n",
    "df_sample = pd.DataFrame(df_s)\n",
    "df_sample.columns=['BPM']\n",
    "print (round(df_sample.describe()))"
   ]
  },
  {
   "cell_type": "markdown",
   "metadata": {},
   "source": [
    "## Adding Benchmark Limits and Creating Zones\n",
    "The next section of code will add target heart rate limits for various zones from the CDC, Polar and Mayo Clinic. The zones will then be compared against one another and serve as benchmarks for the clustering analysis.  "
   ]
  },
  {
   "cell_type": "code",
   "execution_count": 11,
   "metadata": {},
   "outputs": [
    {
     "name": "stdout",
     "output_type": "stream",
     "text": [
      "Polar Limits: 94 109 125 141 157 \n"
     ]
    }
   ],
   "source": [
    "def assignPolarZone(value):\n",
    "    '''\n",
    "    Polar Heart rate zones are defined below.\n",
    "    '''\n",
    "    if (value <= polar_limits['zone1']): \n",
    "        return \"zone1\"\n",
    "    elif (value > polar_limits['zone1']) and (value <= polar_limits['zone2']):\n",
    "        return \"zone2\"\n",
    "    elif (value > polar_limits['zone2']) and (value <= polar_limits['zone3']):\n",
    "        return  \"zone3\"\n",
    "    elif (value > polar_limits['zone3']) and (value <= polar_limits['zone4']):\n",
    "        return  \"zone4\"    \n",
    "    elif (value > polar_limits['zone4']) and (value <=polar_limits['zone5']):\n",
    "        return \"zone5\"\n",
    "    else:\n",
    "        return\n",
    "\n",
    "print (\"Polar Limits: {} {} {} {} {} \".format(int(polar_limits['zone1']),int(polar_limits['zone2']),int(polar_limits['zone3']),int(polar_limits['zone4']),int(polar_limits['zone5'])))"
   ]
  },
  {
   "cell_type": "code",
   "execution_count": 12,
   "metadata": {},
   "outputs": [
    {
     "name": "stdout",
     "output_type": "stream",
     "text": [
      "CDC Limits:  100 119 119 146\n"
     ]
    }
   ],
   "source": [
    "print (\"CDC Limits: \",int(cdc_limits['moderate_low']),int(cdc_limits['moderate_hi']), int(cdc_limits['intensity_low']),int(cdc_limits['intensity_hi']))\n",
    "def assignCDCZone(value):\n",
    "    '''\n",
    "    CDC Definitions are defined here:\n",
    "    '''\n",
    "    if (value > cdc_limits['moderate_low']) and (value <= cdc_limits['moderate_hi']):\n",
    "        return \"Moderate\"\n",
    "    elif (value > cdc_limits['intensity_low']) and (value <= cdc_limits['intensity_hi']):\n",
    "        return  \"Intensity\"\n",
    "    else:\n",
    "        return 'Other'"
   ]
  },
  {
   "cell_type": "code",
   "execution_count": 13,
   "metadata": {},
   "outputs": [
    {
     "name": "stdout",
     "output_type": "stream",
     "text": [
      "Mayo Clinic Limits:  78 109 109 133\n"
     ]
    }
   ],
   "source": [
    "print (\"Mayo Clinic Limits: \",int(mayo_limits['moderate_low']),int(mayo_limits['moderate_hi']), int(mayo_limits['intensity_low']),int(mayo_limits['intensity_hi']))\n",
    "def assignMayoZone(value):\n",
    "    '''\n",
    "    Mayo Clinic heart rate zones are defined below\n",
    "    '''\n",
    "    if (value > mayo_limits['moderate_low']) and (value <= mayo_limits['moderate_hi']):\n",
    "        return \"Moderate\"\n",
    "    elif (value > mayo_limits['intensity_low']) and (value <= mayo_limits['intensity_hi']):\n",
    "        return  \"Intensity\"\n",
    "    else:\n",
    "        return 'Other'"
   ]
  },
  {
   "cell_type": "code",
   "execution_count": 14,
   "metadata": {},
   "outputs": [
    {
     "name": "stdout",
     "output_type": "stream",
     "text": [
      "\n",
      "Here is what the dataframe header looks like with these zones are applied:\n"
     ]
    },
    {
     "data": {
      "text/html": [
       "<div>\n",
       "<style scoped>\n",
       "    .dataframe tbody tr th:only-of-type {\n",
       "        vertical-align: middle;\n",
       "    }\n",
       "\n",
       "    .dataframe tbody tr th {\n",
       "        vertical-align: top;\n",
       "    }\n",
       "\n",
       "    .dataframe thead th {\n",
       "        text-align: right;\n",
       "    }\n",
       "</style>\n",
       "<table border=\"1\" class=\"dataframe\">\n",
       "  <thead>\n",
       "    <tr style=\"text-align: right;\">\n",
       "      <th></th>\n",
       "      <th>BPM</th>\n",
       "      <th>Polar_Zone</th>\n",
       "      <th>CDC_Zone</th>\n",
       "      <th>Mayo_Zone</th>\n",
       "    </tr>\n",
       "  </thead>\n",
       "  <tbody>\n",
       "    <tr>\n",
       "      <th>0</th>\n",
       "      <td>57.0</td>\n",
       "      <td>zone1</td>\n",
       "      <td>Other</td>\n",
       "      <td>Other</td>\n",
       "    </tr>\n",
       "    <tr>\n",
       "      <th>1</th>\n",
       "      <td>63.0</td>\n",
       "      <td>zone1</td>\n",
       "      <td>Other</td>\n",
       "      <td>Other</td>\n",
       "    </tr>\n",
       "    <tr>\n",
       "      <th>2</th>\n",
       "      <td>69.0</td>\n",
       "      <td>zone1</td>\n",
       "      <td>Other</td>\n",
       "      <td>Other</td>\n",
       "    </tr>\n",
       "    <tr>\n",
       "      <th>3</th>\n",
       "      <td>74.0</td>\n",
       "      <td>zone1</td>\n",
       "      <td>Other</td>\n",
       "      <td>Other</td>\n",
       "    </tr>\n",
       "    <tr>\n",
       "      <th>4</th>\n",
       "      <td>72.0</td>\n",
       "      <td>zone1</td>\n",
       "      <td>Other</td>\n",
       "      <td>Other</td>\n",
       "    </tr>\n",
       "  </tbody>\n",
       "</table>\n",
       "</div>"
      ],
      "text/plain": [
       "    BPM Polar_Zone CDC_Zone Mayo_Zone\n",
       "0  57.0      zone1    Other     Other\n",
       "1  63.0      zone1    Other     Other\n",
       "2  69.0      zone1    Other     Other\n",
       "3  74.0      zone1    Other     Other\n",
       "4  72.0      zone1    Other     Other"
      ]
     },
     "execution_count": 14,
     "metadata": {},
     "output_type": "execute_result"
    }
   ],
   "source": [
    "# This section uses the 'apply' function to generate 3 new columns, one for each source of target heart rate limits: CDC, Polar and Mayo Clinic. \n",
    "df_zones=df_sample.copy()\n",
    "df_zones['Polar_Zone'] = df_zones.BPM.apply(assignPolarZone)\n",
    "df_zones['CDC_Zone'] = df_zones.BPM.apply(assignCDCZone)\n",
    "df_zones['Mayo_Zone'] = df_zones.BPM.apply(assignMayoZone)\n",
    "\n",
    "print (\"\\nHere is what the dataframe header looks like with these zones are applied:\")\n",
    "df_zones.head()"
   ]
  },
  {
   "cell_type": "code",
   "execution_count": 15,
   "metadata": {},
   "outputs": [
    {
     "name": "stdout",
     "output_type": "stream",
     "text": [
      "Polar:  ['zone1' 'zone4' 'zone3' 'zone2' 'zone5' None]\n",
      "CDC  :  ['Other' 'Intensity' 'Moderate']\n",
      "Mayo :  ['Other' 'Intensity' 'Moderate']\n"
     ]
    }
   ],
   "source": [
    "#Checking for Zone assignment: \n",
    "print (\"Polar: \",df_zones['Polar_Zone'].unique())\n",
    "print (\"CDC  : \",df_zones['CDC_Zone'].unique())\n",
    "print (\"Mayo : \",df_zones['Mayo_Zone'].unique())"
   ]
  },
  {
   "cell_type": "code",
   "execution_count": 16,
   "metadata": {},
   "outputs": [],
   "source": [
    "df2 = df_zones.copy() "
   ]
  },
  {
   "cell_type": "markdown",
   "metadata": {},
   "source": [
    "### Histograms\n",
    "Since the data is 1D, histograms are used for graphical analysis. The next section will superimpose the zones on the histogram. This will help to intuitively understand how the Mayo Clinic, CDC and Polar limits fit on the data. \n",
    "First step is to write the code:"
   ]
  },
  {
   "cell_type": "code",
   "execution_count": 17,
   "metadata": {},
   "outputs": [],
   "source": [
    "def hr_newzone_histogram(df,source,show): \n",
    "    '''\n",
    "       This method takes the heart rate zone limits from 3 different sources and applies\n",
    "       them to the given distribution. \n",
    "    '''\n",
    "    xref = [max_hr]\n",
    "    ref_colors=['r']\n",
    "    plt.figure(figsize=(6,4))\n",
    "    plt.tight_layout() \n",
    "    kwargs = dict(alpha=0.5)\n",
    "    plt.xticks(np.arange(20, 205, 20))\n",
    "    plt.grid(b=True, which='both', color='0.65', linestyle='-')\n",
    "    \n",
    "    # Turn on the minor TICKS, which are required for the minor GRID\n",
    "    plt.minorticks_on()\n",
    "\n",
    "    # Customize the major grid\n",
    "    plt.grid(which='major', linestyle='-', linewidth='0.5', color='grey')\n",
    "    # Customize the minor grid\n",
    "    plt.grid(which='minor', linestyle=':', linewidth='0.5', color='grey')\n",
    "\n",
    "    plt.title(source + ' Heart Rate Distribution')\n",
    "    \n",
    "    \n",
    "    if source == 'Kmeans':\n",
    "        if  'Kmeans_Cluster' in df: \n",
    "            df.drop(\"Kmeans_Cluster\",axis='columns',inplace=True)\n",
    "\n",
    "        kmeans = KMeans(n_clusters=5)\n",
    "        labels = kmeans.fit_predict(df2.BPM.values.reshape(-1,1))\n",
    "\n",
    "        df2.insert(1,\"Kmeans_Cluster\",labels)\n",
    "        print (source,\" clusters\",np.unique(labels))\n",
    "        \n",
    "        zone1 = df.loc[df.Kmeans_Cluster ==0, 'BPM']\n",
    "        zone2 = df.loc[df.Kmeans_Cluster ==1, 'BPM']\n",
    "        zone3 = df.loc[df.Kmeans_Cluster ==2, 'BPM']\n",
    "        zone4 = df.loc[df.Kmeans_Cluster ==3, 'BPM']\n",
    "        zone5 = df.loc[df.Kmeans_Cluster ==4, 'BPM']\n",
    "        \n",
    "        plt.hist(zone1, **kwargs, color='g', label='Cluster1',bins=range(35, 205+2, 2))\n",
    "        plt.hist(zone2, **kwargs, color='b', label='Cluster2',bins=range(35, 205+2, 2))\n",
    "        plt.hist(zone3, **kwargs, color='r', label='Cluster3',bins=range(35, 205+2, 2))\n",
    "        plt.hist(zone4, **kwargs, color='y', label='Cluster4',bins=range(35, 205+2, 2))\n",
    "        plt.hist(zone5, **kwargs, color='c', label='Cluster5',bins=range(35, 205+2, 2))\n",
    "        plt.legend()\n",
    "        \n",
    "        plt.savefig('./plots/kmeans_histo.png')\n",
    "        \n",
    "    elif source == 'GMM': \n",
    "        if  'GMM_Cluster' in df: \n",
    "            df.drop(\"GMM_Cluster\",axis='columns',inplace=True)\n",
    "            \n",
    "        gmm = mixture.GaussianMixture(n_components=5)\n",
    "        labels = gmm.fit_predict(df2.BPM.values.reshape(-1,1))\n",
    "        \n",
    "        df2.insert(1,\"GMM_Cluster\",labels)\n",
    "        print (source,\" clusters\",np.unique(labels))\n",
    "        \n",
    "        zone1 = df.loc[df.GMM_Cluster ==0, 'BPM']\n",
    "        zone2 = df.loc[df.GMM_Cluster ==1, 'BPM']\n",
    "        zone3 = df.loc[df.GMM_Cluster ==2, 'BPM']\n",
    "        zone4 = df.loc[df.GMM_Cluster ==3, 'BPM']\n",
    "        zone5 = df.loc[df.GMM_Cluster ==4, 'BPM']\n",
    "\n",
    "        plt.hist(zone1, **kwargs, color='g', label='Cluster1',bins=range(35, 205+2, 2))\n",
    "        plt.hist(zone2, **kwargs, color='b', label='Cluster2',bins=range(35, 205+2, 2))\n",
    "        plt.hist(zone3, **kwargs, color='r', label='Cluster3',bins=range(35, 205+2, 2))\n",
    "        plt.hist(zone4, **kwargs, color='y', label='Cluster4',bins=range(35, 205+2, 2))\n",
    "        plt.hist(zone5, **kwargs, color='c', label='Cluster5',bins=range(35, 205+2, 2))\n",
    "        plt.legend()\n",
    "        plt.savefig('./plots/gmm_histo.png')\n",
    "        if show == 'noshow':\n",
    "            plt.close()\n",
    "        return labels\n",
    "    \n",
    "    elif source == 'DBSCAN':\n",
    "        if  'DBSCAN_Cluster' in df: \n",
    "            df.drop(\"DBSCAN_Cluster\",axis='columns',inplace=True)\n",
    "   \n",
    "\n",
    "        dbscan = DBSCAN(eps=20, min_samples= 100)\n",
    "        labels = dbscan.fit_predict(df_sample.BPM.values.reshape(-1,1))\n",
    "\n",
    "        df2.insert(1,\"DBSCAN_Cluster\",labels)\n",
    "        print (source,\" clusters\",np.unique(labels))\n",
    "      \n",
    "        zone1 = df.loc[df.DBSCAN_Cluster ==0, 'BPM']\n",
    "        zone2 = df.loc[df.DBSCAN_Cluster ==1, 'BPM']\n",
    "\n",
    "\n",
    "        plt.hist(zone1, **kwargs, color='g', label='Cluster1',bins=range(35, 205+2, 2))\n",
    "        plt.hist(zone2, **kwargs, color='b', label='Cluster2',bins=range(35, 205+2, 2))\n",
    "\n",
    "        plt.legend()\n",
    "        plt.savefig('./plots/dbscan_histo.png')\n",
    "        \n",
    "    elif source == 'Raw':\n",
    "        plt.tight_layout() \n",
    "        plt.hist(df.BPM, **kwargs, color='b', label='Raw Data',bins=range(35, 205+2, 2))\n",
    "        for ref, c in zip(xref,ref_colors):\n",
    "         plt.axvline(x=ref, c=c, label= 'ref at = {}'.format(ref))\n",
    "        #plt.figure(figsize=(10,6))\n",
    "        plt.legend()\n",
    "        plt.savefig('./plots/raw_histo.png')\n",
    "\n",
    "    elif source == 'CDC':\n",
    "        plt.tight_layout() \n",
    "        zone1 = df.loc[df.CDC_Zone == 'Moderate', 'BPM']\n",
    "        zone2 = df.loc[df.CDC_Zone == 'Intensity', 'BPM']\n",
    "        zone3 = df.loc[df.CDC_Zone == 'Other', 'BPM']\n",
    "        for ref, c in zip(xref,ref_colors):\n",
    "         plt.axvline(x=ref, c=c, label= 'ref at = {}'.format(ref))\n",
    "        #plt.figure(figsize=(10,6))\n",
    "        plt.hist(zone1, **kwargs, color='g', label='Moderate',bins=range(35, 205+2, 2))\n",
    "        plt.hist(zone2, **kwargs, color='b', label='Intensity',bins=range(35, 205+2, 2))\n",
    "        plt.hist(zone3, **kwargs, color='r', label='Other',bins=range(35, 205+2, 2))\n",
    "        plt.legend()\n",
    "        plt.savefig('./plots/cdc_histo.png')\n",
    "        \n",
    "    elif source == 'Mayo':\n",
    "        plt.tight_layout() \n",
    "        zone1 = df.loc[df.Mayo_Zone == 'Moderate', 'BPM']\n",
    "        zone2 = df.loc[df.Mayo_Zone == 'Intensity', 'BPM']\n",
    "        zone3 = df.loc[df.Mayo_Zone == 'Other', 'BPM']\n",
    "        for ref, c in zip(xref,ref_colors):\n",
    "         plt.axvline(x=ref, c=c, label= 'ref at = {}'.format(ref))\n",
    "        #plt.figure(figsize=(10,6))\n",
    "        plt.hist(zone1, **kwargs, color='g', label='Moderate',bins=range(35, 205+2, 2))\n",
    "        plt.hist(zone2, **kwargs, color='b', label='Intensity',bins=range(35, 205+2, 2))\n",
    "        plt.hist(zone3, **kwargs, color='r', label='Other',bins=range(35, 205+2, 2))\n",
    "        plt.legend()\n",
    "        plt.savefig('./plots/mayo_histo.png')\n",
    "        \n",
    "    elif source == 'Polar':\n",
    "        plt.tight_layout() \n",
    "        zone1 = df.loc[df.Polar_Zone == 'zone1', 'BPM']\n",
    "        zone2 = df.loc[df.Polar_Zone == 'zone2', 'BPM']\n",
    "        zone3 = df.loc[df.Polar_Zone == 'zone3', 'BPM']\n",
    "        zone4 = df.loc[df.Polar_Zone == 'zone4', 'BPM']\n",
    "        zone5 = df.loc[df.Polar_Zone == 'zone5', 'BPM']\n",
    "        for ref, c in zip(xref,ref_colors):\n",
    "         plt.axvline(x=ref, c=c, label= 'ref at = {}'.format(ref))\n",
    "        #plt.figure(figsize=(10,6))\n",
    "        plt.hist(zone1, **kwargs, color='g', label='zone1',bins=range(35, 205+2, 2))\n",
    "        plt.hist(zone2, **kwargs, color='b', label='zone2',bins=range(35, 205+2, 2))\n",
    "        plt.hist(zone3, **kwargs, color='r', label='zone3',bins=range(35, 205+2, 2))\n",
    "        plt.hist(zone4, **kwargs, color='y', label='zone4',bins=range(35, 205+2, 2))\n",
    "        plt.hist(zone5, **kwargs, color='c', label='zone5',bins=range(35, 205+2, 2))\n",
    "        plt.legend()\n",
    "        plt.savefig('./plots/polar_histo.png')\n",
    "    else: \n",
    "        print (\"Source not recognized. Need CDC, Polar, kmeans, Mayo or Cluster.\")\n",
    "   \n",
    "    for ref, c in zip(xref,ref_colors):\n",
    "         plt.axvline(x=ref, c=c, label= 'ref at = {}'.format(ref))\n",
    "\n",
    "    plt.ylabel('Counts')\n",
    "    plt.xlabel('Beats Per Minute (BPM)')\n",
    "    #plt.ylim(0,35000)\n",
    "    plt.xlim(30,200)\n",
    "  \n",
    "    if show == 'noshow':\n",
    "        plt.close()\n",
    "    else:\n",
    "        plt.show()"
   ]
  },
  {
   "cell_type": "code",
   "execution_count": 18,
   "metadata": {},
   "outputs": [],
   "source": [
    "hr_newzone_histogram(df2,'Raw','noshow')\n",
    "hr_newzone_histogram(df2,'Polar','noshow')\n",
    "hr_newzone_histogram(df2,'CDC','noshow')\n",
    "hr_newzone_histogram(df2,'Mayo','noshow')"
   ]
  },
  {
   "cell_type": "code",
   "execution_count": 19,
   "metadata": {},
   "outputs": [
    {
     "name": "stdout",
     "output_type": "stream",
     "text": [
      "Kmeans  clusters [0 1 2 3 4]\n",
      "GMM  clusters [0 1 2 3 4]\n",
      "DBSCAN  clusters [-1  0]\n"
     ]
    }
   ],
   "source": [
    "hr_newzone_histogram(df2,'Raw','noshow')\n",
    "hr_newzone_histogram(df2,'Kmeans','noshow')\n",
    "labels_gmm=hr_newzone_histogram(df2,'GMM','noshow')\n",
    "hr_newzone_histogram(df2,'DBSCAN','noshow')"
   ]
  },
  {
   "cell_type": "code",
   "execution_count": 20,
   "metadata": {},
   "outputs": [],
   "source": [
    "def model_histos(type): \n",
    "\n",
    "    fig,((ax1,ax2),(ax3,ax4)) = plt.subplots(nrows=2, ncols=2,sharey=True)\n",
    "    if type == 'data':\n",
    "        img1 = imageio.imread('./plots/raw_histo.png')\n",
    "        img2 = imageio.imread('./plots/polar_histo.png') \n",
    "        img3 = imageio.imread('./plots/mayo_histo.png')\n",
    "        img4 = imageio.imread('./plots/cdc_histo.png')\n",
    "\n",
    "    if type == 'model':\n",
    "        img1 = imageio.imread('./plots/raw_histo.png')\n",
    "        img2 = imageio.imread('./plots/kmeans_histo.png') \n",
    "        img3 = imageio.imread('./plots/gmm_histo.png')\n",
    "        img4 = imageio.imread('./plots/dbscan_histo.png')\n",
    "        \n",
    "    #plt.rcParams[\"figure.figsize\"] = (20,20)\n",
    "    ax1.imshow(img1)                     \n",
    "    ax2.imshow(img2) \n",
    "    ax3.imshow(img3) \n",
    "    ax4.imshow(img4)\n",
    "\n",
    "    plt.tight_layout() \n",
    "    plt.gcf().set_size_inches(17, 12)\n",
    "    plt.show()\n",
    "    fig.savefig('./plots/cdc_mayo_histo.png')"
   ]
  },
  {
   "cell_type": "code",
   "execution_count": 21,
   "metadata": {},
   "outputs": [
    {
     "data": {
      "image/png": "[encoded data removed]",
      "text/plain": [
       "<Figure size 1224x864 with 4 Axes>"
      ]
     },
     "metadata": {
      "needs_background": "light"
     },
     "output_type": "display_data"
    }
   ],
   "source": [
    "model_histos('data')"
   ]
  },
  {
   "cell_type": "markdown",
   "metadata": {},
   "source": [
    "# Benchmarking - Histogram Comparison \n",
    "The histogram in the upper left is of the raw data with no zones applied. The distribution looks continuous with a tail on the high end. The zones applied are the CDC and Mayo Clinic and Polar recommendations. The CDC and Mayo limits are more conservative than the Polar zones. The Polar zones are more appropriate for atheletes as it is common to achieve the calculated maximum heart rate indicated by the red reference line. "
   ]
  },
  {
   "cell_type": "markdown",
   "metadata": {},
   "source": [
    "## Pre-Processing Summary\n",
    "The dataset has been loaded, columns of interest selected, data filtered and a smaller sample generated to speed execution. Summary statistics and graphical analysis have also been completed. This is a simple 1D dataset with no features or labels.\n",
    "\n",
    "The most siginificant take-away, highlighted by the distribution,  is that there does not appear to be any clusters. The is no clear separation in any of the data. However, the analysis will continue. The models, particularly a Guassian Mixture Model, may be able to tease apart at least a second distribution. \n",
    "\n",
    "Note also that training and test datasets have not been generated. This is becaused it is un-supervised learning. There are no labels for model predictions to be compared against. Instead a 'score', explained more below, will be used to evaluate the model with the best fit. "
   ]
  },
  {
   "cell_type": "markdown",
   "metadata": {},
   "source": [
    "# Modeling \n",
    "Since the data is not labeled, unsupervised clustering techniques will be utilized. Three models are evaluated: Kmeans, GMM and DBSCAN. The silhouette score will be used as a performance metric to determine the best model. For KMeans and GMM, the hyperparameter of interest is the number of clusters. For DBSCAN the number of clusters is not an input variable. In this case the hyperparametes of interest are the EPS and minimum number of samples. EPS is a measure of cluster distance. \n",
    "\n",
    "Kmeans is easy to understand but it is sensitive to outliers. On the other hand, with DBSCAN, not all data points are assigned to a cluster making it more robust to outliers. These points are labeled with a [-1]. And unlike Kmeans and GMM, DBSCAN does not require the number of clusters as a parameter, rather it infers the number of clusters. \n",
    "\n",
    "## Kmeans Elbow Plot\n",
    "The code below calculates and plots the cluster labels and score for a range of k values. "
   ]
  },
  {
   "cell_type": "code",
   "execution_count": 22,
   "metadata": {},
   "outputs": [],
   "source": [
    "def scree_KMeans_plot(data,num_clusters):\n",
    "    ''' This method will calculate Kmeans clusters. The number of clusters will be defined by a range. \n",
    "        Kmeans will be used to define the clusters and labels for the data generated. Finally the data \n",
    "        will be ploted so the Elbow method can be used to determine the optimum number of clusters. \n",
    "    '''\n",
    "    clusterCenters = [] \n",
    "    scores = [] \n",
    "    k_values = []\n",
    "    start = timer()\n",
    "    plt.figure(figsize=(5,3))\n",
    "    for k in range(1,num_clusters):\n",
    "        k_values.append(k)\n",
    "        kmeans = KMeans(n_clusters=k)\n",
    "        model = kmeans.fit(data)\n",
    "        #print (\"\\nCluster {}: {}\".format(k,model.cluster_centers_))\n",
    "        clusterCenters.append(model.cluster_centers_)\n",
    "        labels = kmeans.predict(data)\n",
    "        #print (\"Cluster Labels: \",np.unique(labels))\n",
    "        score = (-(kmeans.score(data))/10000000)\n",
    "        #print (\"score: \",round(score/100000000,2))\n",
    "        scores.append(score)\n",
    "    plt.plot(k_values, scores, marker = 'o')\n",
    "    plt.ylabel('K-Cluster Score')\n",
    "    plt.xlabel('k value')\n",
    "    plt.title('Elbow Method: Number of Clusters vs KMeans Score')\n",
    "    plt.savefig('./plots/Cluster_vs_score_plot.png')\n",
    "    plt.show()\n",
    "    end = timer() \n",
    "    #print(f\"\\nFunction in {(end - start)/60:0.1f} minutes\")\n",
    "    return k_values, scores, labels"
   ]
  },
  {
   "cell_type": "code",
   "execution_count": 23,
   "metadata": {},
   "outputs": [
    {
     "data": {
      "image/png": "[encoded data removed]",
      "text/plain": [
       "<Figure size 360x216 with 1 Axes>"
      ]
     },
     "metadata": {
      "needs_background": "light"
     },
     "output_type": "display_data"
    }
   ],
   "source": [
    "k_values, scores, labels = scree_KMeans_plot(df_sample,11) "
   ]
  },
  {
   "cell_type": "markdown",
   "metadata": {},
   "source": [
    "#### Kmeans Score or Inertia\n",
    "It can be seen that after 5 clusters the rate of improvment for the score diminishes. Consequently 5 is used for the number of clusters. "
   ]
  },
  {
   "cell_type": "markdown",
   "metadata": {},
   "source": [
    "## GMM and DBSCAN Models\n",
    "Two additional models were evaluated. A Guassian Mixture Model (GMM) and DBSCAN. Both are clustering models for unsupervised data. \n",
    "\n",
    "### Hyper-Parameter Tuning \n",
    "The first step for using these models is to tune the hyper-parameters. Similar to Kmeans, GMM will use the number of clusters, while for DBSCAN, EPS and the minimum number of samples will be used. EPS is a radius that defines the cluster neighborhood. The code and graph for evaluating the DBSCAN hyperparameter is below. "
   ]
  },
  {
   "cell_type": "code",
   "execution_count": 50,
   "metadata": {},
   "outputs": [],
   "source": [
    "\n",
    "def hyper(param):\n",
    "    scores = []\n",
    "    eps = []\n",
    "\n",
    "    dbscan_clusters = []\n",
    "    samples = []\n",
    "    min_sample = 60\n",
    "    eps_fixed = 20\n",
    "    \n",
    "    if param == 'eps' : \n",
    "        myrange = list(range(5,20,2))\n",
    "        for x in myrange:\n",
    "            dbscan = DBSCAN(eps=x, min_samples= min_sample)\n",
    "            labels = dbscan.fit_predict(df_sample.BPM.values.reshape(-1,1))\n",
    "            dbscan_clusters.append(labels)\n",
    "            score = silhouette_score(df_sample.BPM.values.reshape(-1,1),dbscan.labels_)\n",
    "            scores.append(score)\n",
    "            eps.append(x)\n",
    "            #print (x,np.unique(dbscan.labels_),round(score,2))\n",
    "        plt.figure(figsize=(5,3))\n",
    "        plt.ylim(0.70,0.80)\n",
    "        plt.ylabel('Silhouette Coefficient')\n",
    "        plt.xlabel('EPS Hyper-Parameter ')\n",
    "        plt.title('EPS DBSCAN Hyper-Parameter \\n min_samples = ' + str(min_sample))\n",
    "        plt.grid(True)\n",
    "        plt.tight_layout(pad=1.0)\n",
    "        plt.plot(eps,scores,  label = 'eps', marker = 'o')\n",
    "        plt.savefig('./plots/dbscan_eps.png')\n",
    "            \n",
    "    elif param == 'samples' : \n",
    "        myrange = list(range(20,100,20))\n",
    "        for x in myrange:\n",
    "            dbscan = DBSCAN(eps=eps_fixed, min_samples= x)\n",
    "            labels = dbscan.fit_predict(df_sample.BPM.values.reshape(-1,1))\n",
    "            dbscan_clusters.append(labels)\n",
    "            score_sil = silhouette_score(df_sample.BPM.values.reshape(-1,1),dbscan.labels_)\n",
    "            scores.append(score_sil)\n",
    "            samples.append(x)\n",
    "            #print (x,np.unique(dbscan.labels_),round(score,2))\n",
    "        plt.figure(figsize=(5,3))\n",
    "        #plt.ylim(0.7,0.85)\n",
    "        plt.ylabel('Silhouette Coefficient')\n",
    "        plt.xlabel('Min_sample Hyper-Parameter ')\n",
    "        plt.title('Minimum Samples DBSCAN Hyper-Parameter \\n eps = ' + str(eps_fixed))\n",
    "        plt.grid(True)\n",
    "        plt.tight_layout(pad=1.0)\n",
    "        plt.plot(samples,scores,  label = 'samples', marker = 'o')\n",
    "        plt.savefig('./plots/dbscan_samples.png')\n",
    "        plt.show()\n",
    "    return scores, eps, dbscan_clusters "
   ]
  },
  {
   "cell_type": "code",
   "execution_count": 25,
   "metadata": {},
   "outputs": [
    {
     "name": "stdout",
     "output_type": "stream",
     "text": [
      "CPU times: user 14.4 s, sys: 3.82 s, total: 18.2 s\n",
      "Wall time: 18.3 s\n"
     ]
    },
    {
     "data": {
      "image/png": "[encoded data removed]",
      "text/plain": [
       "<Figure size 360x216 with 1 Axes>"
      ]
     },
     "metadata": {
      "needs_background": "light"
     },
     "output_type": "display_data"
    }
   ],
   "source": [
    "%%time\n",
    "scores, eps,dbscan_clusters = hyper('eps')"
   ]
  },
  {
   "cell_type": "code",
   "execution_count": 53,
   "metadata": {},
   "outputs": [],
   "source": [
    "#scores, eps,dbscan_clusters = hyper('samples')"
   ]
  },
  {
   "cell_type": "code",
   "execution_count": 54,
   "metadata": {},
   "outputs": [
    {
     "data": {
      "text/plain": [
       "array([-1,  0])"
      ]
     },
     "execution_count": 54,
     "metadata": {},
     "output_type": "execute_result"
    }
   ],
   "source": [
    "np.unique(dbscan_clusters)"
   ]
  },
  {
   "cell_type": "markdown",
   "metadata": {},
   "source": [
    "#### DBSCAN Hyper-parameters \n",
    "10 was selected as the value for EPS. Minimum samples is 25. With the hyper-parameters now defined, the performance of each model will be evaluated. \n",
    "\n",
    "#### Silhouette Score\n",
    "The silhouette score is a performance metric that all 3 models can be evaluated against. The silhouette score is more robust than the inertia score.  It better comprehends both cohesion, or intra-cluster distances,  as well as the inter-cluster distances, or separation.\n",
    "\n",
    "The silhouette coefficient can vary from -1 to 1. Values near 1 mean that the instance is well within its cluster and far from other clusters. Higher is better. \n",
    "\n",
    "The next few code modules will calculate and plot the silhouette scores for the 3 models. "
   ]
  },
  {
   "cell_type": "code",
   "execution_count": 28,
   "metadata": {},
   "outputs": [
    {
     "name": "stdout",
     "output_type": "stream",
     "text": [
      "CPU times: user 4 µs, sys: 1e+03 ns, total: 5 µs\n",
      "Wall time: 10 µs\n"
     ]
    }
   ],
   "source": [
    "%%time\n",
    "def silhouetteScore(df,num_clusters):\n",
    "    models = ['kmeans', 'gmm', 'dbscan']\n",
    "    sil_scores = []\n",
    "    k_value = []\n",
    "    model_type = []\n",
    "    dbscan_cluster_labels = []\n",
    "    range_n_clusters = list(range(2,num_clusters))\n",
    "    for n_clusters in range_n_clusters:\n",
    "            for mymodel in models:\n",
    "                    if mymodel == 'kmeans':\n",
    "                            k_value.append(n_clusters)\n",
    "                            model_type.append(mymodel)\n",
    "                            kmeans = KMeans(n_clusters=n_clusters)\n",
    "                            cluster_label = kmeans.fit_predict(df)\n",
    "                            score = round(silhouette_score(df,cluster_label),2)\n",
    "                            sil_scores.append(score)\n",
    "                            print(\"Model {} with n_clusters = {}, silhouette score is {}\".format(mymodel,n_clusters, score))\n",
    "                    \n",
    "                    elif mymodel == 'gmm': \n",
    "                            k_value.append(n_clusters)\n",
    "                            model_type.append(mymodel)\n",
    "                            gmm = mixture.GaussianMixture(n_components=n_clusters)\n",
    "                            cluster_label = gmm.fit_predict(df)\n",
    "                            score = round(silhouette_score(df,cluster_label),2)\n",
    "                            sil_scores.append(score)\n",
    "                            print(\"Model {} with n_clusters = {}, silhouette score is {}\".format(mymodel,n_clusters, score))\n",
    "                    \n",
    "                    elif mymodel == 'dbscan':\n",
    "                            k_value.append(n_clusters)\n",
    "                            model_type.append(mymodel)\n",
    "                            dbscan = DBSCAN(eps=20, min_samples= 100)\n",
    "                            cluster_label = dbscan.fit_predict(df)\n",
    "                            dbscan_cluster_labels.append(cluster_label)\n",
    "                            score = round(silhouette_score(df,cluster_label),2)\n",
    "                            sil_scores.append(score)\n",
    "                            #print(\"Model {} with n_clusters = {}, silhouette score is {}\".format(mymodel,n_clusters, score))\n",
    " \n",
    "    print (\"\\nFinished!\")\n",
    "    return sil_scores, k_value, model_type,dbscan_cluster_labels"
   ]
  },
  {
   "cell_type": "code",
   "execution_count": 29,
   "metadata": {},
   "outputs": [
    {
     "name": "stdout",
     "output_type": "stream",
     "text": [
      "Model kmeans with n_clusters = 2, silhouette score is 0.7\n",
      "Model gmm with n_clusters = 2, silhouette score is 0.67\n",
      "Model kmeans with n_clusters = 3, silhouette score is 0.62\n",
      "Model gmm with n_clusters = 3, silhouette score is 0.61\n",
      "Model kmeans with n_clusters = 4, silhouette score is 0.59\n",
      "Model gmm with n_clusters = 4, silhouette score is 0.57\n",
      "Model kmeans with n_clusters = 5, silhouette score is 0.56\n",
      "Model gmm with n_clusters = 5, silhouette score is 0.56\n",
      "Model kmeans with n_clusters = 6, silhouette score is 0.57\n",
      "Model gmm with n_clusters = 6, silhouette score is 0.55\n",
      "Model kmeans with n_clusters = 7, silhouette score is 0.56\n",
      "Model gmm with n_clusters = 7, silhouette score is 0.51\n",
      "Model kmeans with n_clusters = 8, silhouette score is 0.55\n",
      "Model gmm with n_clusters = 8, silhouette score is 0.55\n",
      "Model kmeans with n_clusters = 9, silhouette score is 0.56\n",
      "Model gmm with n_clusters = 9, silhouette score is 0.54\n",
      "Model kmeans with n_clusters = 10, silhouette score is 0.55\n",
      "Model gmm with n_clusters = 10, silhouette score is 0.53\n",
      "\n",
      "Finished!\n",
      "CPU times: user 46.4 s, sys: 9.65 s, total: 56 s\n",
      "Wall time: 50.7 s\n"
     ]
    }
   ],
   "source": [
    "%%time\n",
    "sil_scores, k_value, model_type,dbscan_cluster_labels = silhouetteScore(df_sample.BPM.values.reshape(-1,1),11)"
   ]
  },
  {
   "cell_type": "markdown",
   "metadata": {},
   "source": [
    "The BaysianGaussianMixture model was also evaluated. There was a warning message that the model\n",
    "did not converge and consequently is being left out of the analysis. "
   ]
  },
  {
   "cell_type": "code",
   "execution_count": 30,
   "metadata": {},
   "outputs": [
    {
     "data": {
      "text/plain": [
       "array([-1,  0])"
      ]
     },
     "execution_count": 30,
     "metadata": {},
     "output_type": "execute_result"
    }
   ],
   "source": [
    "np.unique(dbscan_cluster_labels)"
   ]
  },
  {
   "cell_type": "code",
   "execution_count": 31,
   "metadata": {},
   "outputs": [
    {
     "data": {
      "text/html": [
       "<div>\n",
       "<style scoped>\n",
       "    .dataframe tbody tr th:only-of-type {\n",
       "        vertical-align: middle;\n",
       "    }\n",
       "\n",
       "    .dataframe tbody tr th {\n",
       "        vertical-align: top;\n",
       "    }\n",
       "\n",
       "    .dataframe thead th {\n",
       "        text-align: right;\n",
       "    }\n",
       "</style>\n",
       "<table border=\"1\" class=\"dataframe\">\n",
       "  <thead>\n",
       "    <tr style=\"text-align: right;\">\n",
       "      <th></th>\n",
       "      <th>sil_score</th>\n",
       "      <th>k</th>\n",
       "      <th>model</th>\n",
       "    </tr>\n",
       "  </thead>\n",
       "  <tbody>\n",
       "    <tr>\n",
       "      <th>0</th>\n",
       "      <td>0.70</td>\n",
       "      <td>2</td>\n",
       "      <td>kmeans</td>\n",
       "    </tr>\n",
       "    <tr>\n",
       "      <th>1</th>\n",
       "      <td>0.67</td>\n",
       "      <td>2</td>\n",
       "      <td>gmm</td>\n",
       "    </tr>\n",
       "    <tr>\n",
       "      <th>2</th>\n",
       "      <td>0.78</td>\n",
       "      <td>2</td>\n",
       "      <td>dbscan</td>\n",
       "    </tr>\n",
       "  </tbody>\n",
       "</table>\n",
       "</div>"
      ],
      "text/plain": [
       "   sil_score  k   model\n",
       "0       0.70  2  kmeans\n",
       "1       0.67  2     gmm\n",
       "2       0.78  2  dbscan"
      ]
     },
     "metadata": {},
     "output_type": "display_data"
    }
   ],
   "source": [
    "df =pd.DataFrame(list(zip(sil_scores,k_value,model_type,)),columns=['sil_score','k','model'])\n",
    "display (df.head(3))"
   ]
  },
  {
   "cell_type": "code",
   "execution_count": 57,
   "metadata": {},
   "outputs": [],
   "source": [
    "def silhouette_plot(df):\n",
    "    \n",
    "    # The code below plots the silhouette score for Kmeans, gmm and dbscan vs k. \n",
    "    \n",
    "    kmeans = df.loc[df.model == 'kmeans']\n",
    "    gmm = df.loc[df.model == 'gmm']\n",
    "    dbscan = df.loc[df.model == 'dbscan']\n",
    "    plt.figure(figsize=(5,3))\n",
    "    plt.ylabel('Silhouette Coefficient')\n",
    "    plt.xlabel('k value')\n",
    "    plt.title('Selecting K for Best Silhouette Score \\n Models = KMeans, GMM, DBSCAN')\n",
    "    plt.ylim=(0.3,1.0)\n",
    "    plt.grid(True)\n",
    "    plt.tight_layout(pad=1.0)\n",
    "    plt.plot(kmeans.k,kmeans.sil_score,  label = 'kmeans', marker = 'o')\n",
    "    plt.plot(gmm.k,gmm.sil_score,  label = 'gmm', marker = 'o')\n",
    "    #plt.plot(dbscan.iat[0,1],dbscan.iat[0,0],  label = 'gmm', marker = 'o')\n",
    "    plt.plot(0,dbscan.iat[0,0],  label = 'gmm', marker = 'o')\n",
    "    #plt.plot(dbscan.k[0],d,  label = 'gmm', marker = 'o')\n",
    "\n",
    "    plt.xticks(np.arange(1.0, 11, 1.0))\n",
    "    plt.yticks(np.arange(0.4, 1.1, 0.1))\n",
    "    plt.legend(['kmeans', 'gmm','dbscan'])\n",
    "    plt.savefig('./plots/silhouette_scores.png')\n",
    "    plt.show()"
   ]
  },
  {
   "cell_type": "markdown",
   "metadata": {},
   "source": [
    "## Modeling Evaluation and Results"
   ]
  },
  {
   "cell_type": "code",
   "execution_count": 58,
   "metadata": {},
   "outputs": [
    {
     "data": {
      "image/png": "[encoded data removed]",
      "text/plain": [
       "<Figure size 360x216 with 1 Axes>"
      ]
     },
     "metadata": {
      "needs_background": "light"
     },
     "output_type": "display_data"
    }
   ],
   "source": [
    "silhouette_plot(df)"
   ]
  },
  {
   "cell_type": "markdown",
   "metadata": {},
   "source": [
    "### Silhouette Score \n",
    "From the graph above, DBSCAN has the highest silhouette score at close to 0.8. \n",
    "Since the number of clusters is not a hyperparameter for DBSCAN, only one data point was plotted. GMM and Kmeans had similar performance. "
   ]
  },
  {
   "cell_type": "markdown",
   "metadata": {},
   "source": [
    "### Graphical Analysis\n",
    "For each of the 3 models, the clusters were mapped on a histogram. The figure below shows the results."
   ]
  },
  {
   "cell_type": "code",
   "execution_count": 34,
   "metadata": {},
   "outputs": [
    {
     "data": {
      "image/png": "[encoded data removed]",
      "text/plain": [
       "<Figure size 1224x864 with 4 Axes>"
      ]
     },
     "metadata": {
      "needs_background": "light"
     },
     "output_type": "display_data"
    }
   ],
   "source": [
    "model_histos('model')"
   ]
  },
  {
   "cell_type": "markdown",
   "metadata": {},
   "source": [
    "The upper left is the raw data with a reference line at the maximum heart rate. The upper right shows the Kmeans result, the lower left is for GMM and the lower right is DBSCAN. Again, the Kmeans and GMM look similar. The module \n",
    "below will determine the desciptive statistics for any given cluster. "
   ]
  },
  {
   "cell_type": "code",
   "execution_count": 35,
   "metadata": {},
   "outputs": [
    {
     "data": {
      "text/html": [
       "<div>\n",
       "<style scoped>\n",
       "    .dataframe tbody tr th:only-of-type {\n",
       "        vertical-align: middle;\n",
       "    }\n",
       "\n",
       "    .dataframe tbody tr th {\n",
       "        vertical-align: top;\n",
       "    }\n",
       "\n",
       "    .dataframe thead th {\n",
       "        text-align: right;\n",
       "    }\n",
       "</style>\n",
       "<table border=\"1\" class=\"dataframe\">\n",
       "  <thead>\n",
       "    <tr style=\"text-align: right;\">\n",
       "      <th></th>\n",
       "      <th>count</th>\n",
       "      <th>mean</th>\n",
       "      <th>std</th>\n",
       "      <th>min</th>\n",
       "      <th>25%</th>\n",
       "      <th>50%</th>\n",
       "      <th>75%</th>\n",
       "      <th>max</th>\n",
       "    </tr>\n",
       "    <tr>\n",
       "      <th>Kmeans_Cluster</th>\n",
       "      <th></th>\n",
       "      <th></th>\n",
       "      <th></th>\n",
       "      <th></th>\n",
       "      <th></th>\n",
       "      <th></th>\n",
       "      <th></th>\n",
       "      <th></th>\n",
       "    </tr>\n",
       "  </thead>\n",
       "  <tbody>\n",
       "    <tr>\n",
       "      <th>0</th>\n",
       "      <td>4139.0</td>\n",
       "      <td>59.719497</td>\n",
       "      <td>3.994418</td>\n",
       "      <td>40.0</td>\n",
       "      <td>57.0</td>\n",
       "      <td>60.0</td>\n",
       "      <td>63.0</td>\n",
       "      <td>66.0</td>\n",
       "    </tr>\n",
       "    <tr>\n",
       "      <th>1</th>\n",
       "      <td>993.0</td>\n",
       "      <td>111.904330</td>\n",
       "      <td>7.289790</td>\n",
       "      <td>101.0</td>\n",
       "      <td>105.0</td>\n",
       "      <td>112.0</td>\n",
       "      <td>118.0</td>\n",
       "      <td>126.0</td>\n",
       "    </tr>\n",
       "    <tr>\n",
       "      <th>2</th>\n",
       "      <td>2922.0</td>\n",
       "      <td>72.540726</td>\n",
       "      <td>4.215346</td>\n",
       "      <td>67.0</td>\n",
       "      <td>69.0</td>\n",
       "      <td>72.0</td>\n",
       "      <td>76.0</td>\n",
       "      <td>81.0</td>\n",
       "    </tr>\n",
       "    <tr>\n",
       "      <th>3</th>\n",
       "      <td>539.0</td>\n",
       "      <td>141.064935</td>\n",
       "      <td>15.096636</td>\n",
       "      <td>127.0</td>\n",
       "      <td>131.0</td>\n",
       "      <td>138.0</td>\n",
       "      <td>144.0</td>\n",
       "      <td>209.0</td>\n",
       "    </tr>\n",
       "    <tr>\n",
       "      <th>4</th>\n",
       "      <td>1407.0</td>\n",
       "      <td>89.749822</td>\n",
       "      <td>5.454580</td>\n",
       "      <td>82.0</td>\n",
       "      <td>85.0</td>\n",
       "      <td>89.0</td>\n",
       "      <td>95.0</td>\n",
       "      <td>100.0</td>\n",
       "    </tr>\n",
       "  </tbody>\n",
       "</table>\n",
       "</div>"
      ],
      "text/plain": [
       "                 count        mean        std    min    25%    50%    75%  \\\n",
       "Kmeans_Cluster                                                              \n",
       "0               4139.0   59.719497   3.994418   40.0   57.0   60.0   63.0   \n",
       "1                993.0  111.904330   7.289790  101.0  105.0  112.0  118.0   \n",
       "2               2922.0   72.540726   4.215346   67.0   69.0   72.0   76.0   \n",
       "3                539.0  141.064935  15.096636  127.0  131.0  138.0  144.0   \n",
       "4               1407.0   89.749822   5.454580   82.0   85.0   89.0   95.0   \n",
       "\n",
       "                  max  \n",
       "Kmeans_Cluster         \n",
       "0                66.0  \n",
       "1               126.0  \n",
       "2                81.0  \n",
       "3               209.0  \n",
       "4               100.0  "
      ]
     },
     "metadata": {},
     "output_type": "display_data"
    },
    {
     "data": {
      "text/html": [
       "<div>\n",
       "<style scoped>\n",
       "    .dataframe tbody tr th:only-of-type {\n",
       "        vertical-align: middle;\n",
       "    }\n",
       "\n",
       "    .dataframe tbody tr th {\n",
       "        vertical-align: top;\n",
       "    }\n",
       "\n",
       "    .dataframe thead th {\n",
       "        text-align: right;\n",
       "    }\n",
       "</style>\n",
       "<table border=\"1\" class=\"dataframe\">\n",
       "  <thead>\n",
       "    <tr style=\"text-align: right;\">\n",
       "      <th></th>\n",
       "      <th>count</th>\n",
       "      <th>mean</th>\n",
       "      <th>std</th>\n",
       "      <th>min</th>\n",
       "      <th>25%</th>\n",
       "      <th>50%</th>\n",
       "      <th>75%</th>\n",
       "      <th>max</th>\n",
       "    </tr>\n",
       "    <tr>\n",
       "      <th>GMM_Cluster</th>\n",
       "      <th></th>\n",
       "      <th></th>\n",
       "      <th></th>\n",
       "      <th></th>\n",
       "      <th></th>\n",
       "      <th></th>\n",
       "      <th></th>\n",
       "      <th></th>\n",
       "    </tr>\n",
       "  </thead>\n",
       "  <tbody>\n",
       "    <tr>\n",
       "      <th>0</th>\n",
       "      <td>4139.0</td>\n",
       "      <td>59.719497</td>\n",
       "      <td>3.994418</td>\n",
       "      <td>40.0</td>\n",
       "      <td>57.0</td>\n",
       "      <td>60.0</td>\n",
       "      <td>63.0</td>\n",
       "      <td>66.0</td>\n",
       "    </tr>\n",
       "    <tr>\n",
       "      <th>1</th>\n",
       "      <td>998.0</td>\n",
       "      <td>109.442886</td>\n",
       "      <td>6.873134</td>\n",
       "      <td>99.0</td>\n",
       "      <td>104.0</td>\n",
       "      <td>109.0</td>\n",
       "      <td>115.0</td>\n",
       "      <td>122.0</td>\n",
       "    </tr>\n",
       "    <tr>\n",
       "      <th>2</th>\n",
       "      <td>1428.0</td>\n",
       "      <td>88.313725</td>\n",
       "      <td>5.202922</td>\n",
       "      <td>81.0</td>\n",
       "      <td>83.0</td>\n",
       "      <td>87.0</td>\n",
       "      <td>92.0</td>\n",
       "      <td>98.0</td>\n",
       "    </tr>\n",
       "    <tr>\n",
       "      <th>3</th>\n",
       "      <td>635.0</td>\n",
       "      <td>138.549606</td>\n",
       "      <td>15.138227</td>\n",
       "      <td>123.0</td>\n",
       "      <td>129.0</td>\n",
       "      <td>135.0</td>\n",
       "      <td>142.0</td>\n",
       "      <td>209.0</td>\n",
       "    </tr>\n",
       "    <tr>\n",
       "      <th>4</th>\n",
       "      <td>2800.0</td>\n",
       "      <td>72.172143</td>\n",
       "      <td>3.910075</td>\n",
       "      <td>67.0</td>\n",
       "      <td>69.0</td>\n",
       "      <td>72.0</td>\n",
       "      <td>76.0</td>\n",
       "      <td>80.0</td>\n",
       "    </tr>\n",
       "  </tbody>\n",
       "</table>\n",
       "</div>"
      ],
      "text/plain": [
       "              count        mean        std    min    25%    50%    75%    max\n",
       "GMM_Cluster                                                                  \n",
       "0            4139.0   59.719497   3.994418   40.0   57.0   60.0   63.0   66.0\n",
       "1             998.0  109.442886   6.873134   99.0  104.0  109.0  115.0  122.0\n",
       "2            1428.0   88.313725   5.202922   81.0   83.0   87.0   92.0   98.0\n",
       "3             635.0  138.549606  15.138227  123.0  129.0  135.0  142.0  209.0\n",
       "4            2800.0   72.172143   3.910075   67.0   69.0   72.0   76.0   80.0"
      ]
     },
     "metadata": {},
     "output_type": "display_data"
    },
    {
     "data": {
      "text/html": [
       "<div>\n",
       "<style scoped>\n",
       "    .dataframe tbody tr th:only-of-type {\n",
       "        vertical-align: middle;\n",
       "    }\n",
       "\n",
       "    .dataframe tbody tr th {\n",
       "        vertical-align: top;\n",
       "    }\n",
       "\n",
       "    .dataframe thead th {\n",
       "        text-align: right;\n",
       "    }\n",
       "</style>\n",
       "<table border=\"1\" class=\"dataframe\">\n",
       "  <thead>\n",
       "    <tr style=\"text-align: right;\">\n",
       "      <th></th>\n",
       "      <th>count</th>\n",
       "      <th>mean</th>\n",
       "      <th>std</th>\n",
       "      <th>min</th>\n",
       "      <th>25%</th>\n",
       "      <th>50%</th>\n",
       "      <th>75%</th>\n",
       "      <th>max</th>\n",
       "    </tr>\n",
       "    <tr>\n",
       "      <th>DBSCAN_Cluster</th>\n",
       "      <th></th>\n",
       "      <th></th>\n",
       "      <th></th>\n",
       "      <th></th>\n",
       "      <th></th>\n",
       "      <th></th>\n",
       "      <th></th>\n",
       "      <th></th>\n",
       "    </tr>\n",
       "  </thead>\n",
       "  <tbody>\n",
       "    <tr>\n",
       "      <th>-1</th>\n",
       "      <td>22.0</td>\n",
       "      <td>198.181818</td>\n",
       "      <td>6.463350</td>\n",
       "      <td>186.0</td>\n",
       "      <td>193.25</td>\n",
       "      <td>200.5</td>\n",
       "      <td>203.0</td>\n",
       "      <td>209.0</td>\n",
       "    </tr>\n",
       "    <tr>\n",
       "      <th>0</th>\n",
       "      <td>9978.0</td>\n",
       "      <td>76.990980</td>\n",
       "      <td>22.287598</td>\n",
       "      <td>40.0</td>\n",
       "      <td>61.00</td>\n",
       "      <td>69.0</td>\n",
       "      <td>86.0</td>\n",
       "      <td>185.0</td>\n",
       "    </tr>\n",
       "  </tbody>\n",
       "</table>\n",
       "</div>"
      ],
      "text/plain": [
       "                 count        mean        std    min     25%    50%    75%  \\\n",
       "DBSCAN_Cluster                                                               \n",
       "-1                22.0  198.181818   6.463350  186.0  193.25  200.5  203.0   \n",
       " 0              9978.0   76.990980  22.287598   40.0   61.00   69.0   86.0   \n",
       "\n",
       "                  max  \n",
       "DBSCAN_Cluster         \n",
       "-1              209.0  \n",
       " 0              185.0  "
      ]
     },
     "metadata": {},
     "output_type": "display_data"
    }
   ],
   "source": [
    "display (df2.groupby('Kmeans_Cluster')['BPM'].describe())\n",
    "display (df2.groupby('GMM_Cluster')['BPM'].describe())\n",
    "display (df2.groupby('DBSCAN_Cluster')['BPM'].describe())"
   ]
  },
  {
   "cell_type": "markdown",
   "metadata": {},
   "source": [
    "###  Discussion\n",
    "DBSCAN achieved the best silhouette coefficient while Kmeans and GMM were comparable. The clusters identified by Kmeans and GMM did not have any separation, suggesting overfitting. However, this may not be the classic definition of over-fitting as any new data would certainly fall into one of the cluster definitions. It can be said that the clusters do not provide any additional insight over what the Polar zones are - ranges of relative heart rates reflecting relative physical effort. \n",
    "\n",
    "With DBSCAN, a [-1] represents an anomily or noise. Consequently, it can be seen that there is only one cluster identified [0]. The interesting part is that the anomilies identified by DBSCAN are most likely that. From the table above, the anomilies have a range of 188 to 215 - clearly above the predicted maximum heart rate of 158 and also very much displayed by the tail of the distribution. These anomilies could be a result of a faulty reading of the heart rate sensor. The wrist mounted sensors are prone to erroneous readings if the wrist band is too loose or improperly located, either to lower or too high, on the wrist.  \n",
    "\n",
    "The zones or clusters defined by the CDC and Mayo clinic seem to be insufficient for high intensity training. They both only define 2 zones, moderate and intense. Their upper limits (for a 62 year old), 133 and 146, respectively, are not close enough to the predicted maximum heart of 158. The heart rate is frequently obtained and to guard so heavily against it may prohibit atheletes from achieving their full potential. \n",
    "### Conclusion \n",
    "DBSCAN was able to identify erroneous heart rate readings. DBSCAN could be used to automatically filter bad readings in heart rate sensors. Kmeans and GMM were able to break up the raw distribution in clusters, but with little separation, the significance of those clusters is questionable. The Mayo Clinic, CDC and Polar zones would be similarly affected. \n",
    "\n",
    "The predicted maximum heart rate (220-age) compared extremely well with the data. \n",
    "### Next Steps\n",
    "It would be useful to collect a sample across a larger population and include features such as gender, weight, height, age, race and activity. However, with the restrictions on the privacy of health data, it would not be easy to collect. "
   ]
  },
  {
   "cell_type": "code",
   "execution_count": null,
   "metadata": {},
   "outputs": [],
   "source": []
  }
 ],
 "metadata": {
  "kernelspec": {
   "display_name": "Python 3",
   "language": "python",
   "name": "python3"
  },
  "language_info": {
   "codemirror_mode": {
    "name": "ipython",
    "version": 3
   },
   "file_extension": ".py",
   "mimetype": "text/x-python",
   "name": "python",
   "nbconvert_exporter": "python",
   "pygments_lexer": "ipython3",
   "version": "3.7.3"
  }
 },
 "nbformat": 4,
 "nbformat_minor": 4
}
