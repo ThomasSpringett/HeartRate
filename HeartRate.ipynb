{
 "cells": [
  {
   "cell_type": "code",
   "execution_count": 94,
   "metadata": {},
   "outputs": [
    {
     "data": {
      "text/plain": [
       "'   \\ndef fxn():\\n    warnings.warn(\"deprecated\", DeprecationWarning)\\n\\nwith warnings.catch_warnings():\\n    warnings.simplefilter(\"ignore\")\\n    fxn()\\n'"
      ]
     },
     "execution_count": 94,
     "metadata": {},
     "output_type": "execute_result"
    }
   ],
   "source": [
    "# import libraries\n",
    "import pandas as pd\n",
    "import numpy as np\n",
    "import os\n",
    "import matplotlib.pyplot as plt\n",
    "from timeit import default_timer as timer\n",
    "from sklearn.cluster import KMeans\n",
    "from sklearn.metrics import silhouette_samples, silhouette_score\n",
    "import collections\n",
    "import helpers\n",
    "from helpers import *\n",
    "import pickle\n",
    "from matplotlib.pyplot import figure\n",
    "%matplotlib inline\n",
    "import warnings\n",
    "from IPython.display import Image\n",
    "from collections import Counter\n",
    "import random\n",
    "from sklearn import datasets, mixture \n",
    "from sklearn.cluster import DBSCAN\n",
    "    \n",
    "'''   \n",
    "def fxn():\n",
    "    warnings.warn(\"deprecated\", DeprecationWarning)\n",
    "\n",
    "with warnings.catch_warnings():\n",
    "    warnings.simplefilter(\"ignore\")\n",
    "    fxn()\n",
    "'''"
   ]
  },
  {
   "cell_type": "code",
   "execution_count": 2,
   "metadata": {},
   "outputs": [
    {
     "data": {
      "text/plain": [
       "'/Users/thomasspringett/github/heartrate'"
      ]
     },
     "execution_count": 2,
     "metadata": {},
     "output_type": "execute_result"
    }
   ],
   "source": [
    "%pwd"
   ]
  },
  {
   "cell_type": "markdown",
   "metadata": {},
   "source": [
    "# Loading and Pre-Processing\n",
    "\n",
    "The dataset is from one 63 year old white male exported from the Apple Health app. A default field list is generated. Unfortunetly, attributes such as activity type, are not collected. For this project, only the heart rate, in beats per minute (bpm), will be analyzed. "
   ]
  },
  {
   "cell_type": "code",
   "execution_count": 3,
   "metadata": {},
   "outputs": [],
   "source": [
    "# The dataset for this project consist of heart rate data collected over 4 years \n",
    "# during various physical activities: biking, walking, skiing. \n",
    "#csv_file = 'data/HeartRateDataRaw.csv'\n",
    "#df_raw = pd.read_csv(csv_file, header=0)\n",
    "#df_raw.to_pickle('./data/HeartRateDataRaw.pickle')\n",
    "df_raw=pd.read_pickle('./data/HeartRateDataRaw.pickle')"
   ]
  },
  {
   "cell_type": "code",
   "execution_count": 4,
   "metadata": {},
   "outputs": [
    {
     "name": "stdout",
     "output_type": "stream",
     "text": [
      "/@locale\n",
      "/ExportDate/@value\n",
      "/Me/@HKCharacteristicTypeIdentifierBiologicalSex\n",
      "/Me/@HKCharacteristicTypeIdentifierBloodType\n",
      "/Me/@HKCharacteristicTypeIdentifierDateOfBirth\n",
      "/Me/@HKCharacteristicTypeIdentifierFitzpatrickSkinType\n",
      "/Record/@creationDate\n",
      "/Record/@device\n",
      "/Record/@endDate\n",
      "/Record/@sourceName\n",
      "/Record/@sourceVersion\n",
      "/Record/@startDate\n",
      "/Record/@type\n",
      "/Record/@unit\n",
      "/Record/@value\n",
      "/Record/MetadataEntry/@key\n",
      "/Record/MetadataEntry/@value\n",
      "/Record/MetadataEntry/@value/#agg\n"
     ]
    }
   ],
   "source": [
    "# Displaying the list of column names in the heart rate export: \n",
    "for col in df_raw.columns:\n",
    "    print (col)"
   ]
  },
  {
   "cell_type": "code",
   "execution_count": 5,
   "metadata": {},
   "outputs": [],
   "source": [
    "# Saving and renaming only the BPM values: \n",
    "df_raw = df_raw.filter(items=['/Record/@value'])\n",
    "df_raw = df_raw.rename(columns={'/Record/@value':\"BPM\"})"
   ]
  },
  {
   "cell_type": "markdown",
   "metadata": {},
   "source": [
    "\n",
    "# Setting Configuration and Limit Parameters\n",
    "## Hardware Limits, Sample Size, Maximum HR \n",
    "\n",
    "The heart rate data was obtained from an Apple Watch and exported from Healthkit. Do to the sensitivity and availability of health data, the dataset is collected from only one white 63 year old male. The watch sensor's valid limits are from 30 bpm to 210 bpm. Values outside of this range are filtered. Do to the large database with over 349,000 data points, a random sample was generated. This did not significantly affect the distribution or results but did improve execution time. \n",
    "\n",
    "Maximum heart can be calculated from age. The formula is 220-age. There is no comparable algorithm for minimum heart rate. In general, a lower resting heart rate is indicative of better conditioning. "
   ]
  },
  {
   "cell_type": "code",
   "execution_count": 6,
   "metadata": {},
   "outputs": [],
   "source": [
    "# Configuration Parameters including hardware sensor limits, maximum heart rate and sample size are defined. \n",
    "# To calculate maximum heart rate, the formula 220 - age is used. \n",
    "age = 63 \n",
    "max_hr = 220-age\n",
    "sample_size = 10000\n",
    "hardware_upper_limit = 210\n",
    "hardware_lower_limit = 30"
   ]
  },
  {
   "cell_type": "markdown",
   "metadata": {},
   "source": [
    "## Heart Rate Zone Limits from the CDC, Mayo Clinic and Polar (tm)\n",
    "\n",
    "Various heart rate zones have been defined from resting heart rates to high intensity heart rates. There is no standard. Polar heart rate monitors have been in use by atheletes for decades. They define 5 zones with the highest zone reserved for high intensity workouts from elite atheletes. The CDC and Mayo clinic define two exercise zones, moderate and intense. The resulting of the clusting algortihms will be compared to these 3 different sources. \n",
    "The limits for these zones are defined in a dictionary below: "
   ]
  },
  {
   "cell_type": "code",
   "execution_count": 7,
   "metadata": {},
   "outputs": [],
   "source": [
    "#Dictionaries are defined for Mayo Clinic, CDC and Polar (tm) heart rate zones: \n",
    "mayo_limits = {'moderate_low':0.50*max_hr,'moderate_hi':0.7*max_hr,'intensity_low':0.70*max_hr,'intensity_hi':0.85*max_hr}\n",
    "cdc_limits = {'moderate_low':0.64*max_hr,'moderate_hi':0.76*max_hr,'intensity_low':0.76*max_hr,'intensity_hi':0.93*max_hr}\n",
    "polar_limits = {'zone1':0.6*max_hr,'zone2':0.7*max_hr,'zone3':0.80*max_hr,'zone4':0.9*max_hr,'zone5':1*max_hr}"
   ]
  },
  {
   "cell_type": "markdown",
   "metadata": {},
   "source": [
    "## Explore the Data\n",
    "With the data of interest selected, it is now time to explore the data. A display of the raw dataframe, summary\n",
    "statistics and graphical analysis will all be used to understand the dataset. "
   ]
  },
  {
   "cell_type": "code",
   "execution_count": 8,
   "metadata": {},
   "outputs": [
    {
     "data": {
      "text/plain": [
       "count    349781.0\n",
       "mean         78.0\n",
       "std          24.0\n",
       "min           5.0\n",
       "25%          61.0\n",
       "50%          69.0\n",
       "75%          86.0\n",
       "max         215.0\n",
       "Name: BPM, dtype: float64"
      ]
     },
     "metadata": {},
     "output_type": "display_data"
    }
   ],
   "source": [
    "# The summary statistics for heart rate data on the full dataset: \n",
    "display (round(df_raw.BPM.describe()))"
   ]
  },
  {
   "cell_type": "markdown",
   "metadata": {},
   "source": [
    "### Sampling \n",
    "In order to reduce execution times, sampling from the original dataset was done. The below results show that the sample distribution accurately reflects the population from which it was drawn. In addition, later on the silhouette score was also unaffected by the sampling process. \n"
   ]
  },
  {
   "cell_type": "code",
   "execution_count": 9,
   "metadata": {},
   "outputs": [
    {
     "name": "stdout",
     "output_type": "stream",
     "text": [
      "           BPM\n",
      "count  10000.0\n",
      "mean      78.0\n",
      "std       24.0\n",
      "min       30.0\n",
      "25%       61.0\n",
      "50%       69.0\n",
      "75%       86.0\n",
      "max      215.0\n"
     ]
    }
   ],
   "source": [
    "#To improve execution times, a random sample of 10,000 from the population of 349,768 is drawn. By comparing the \n",
    "#percentiles of the population above to that of the sample below, it can be seen the sample actuately \n",
    "#reflects the population. \n",
    "\n",
    "df_s=random.sample(list(df_raw.BPM), sample_size)\n",
    "df_sample = pd.DataFrame(df_s)\n",
    "df_sample.columns=['BPM']\n",
    "print (round(df_sample.describe()))"
   ]
  },
  {
   "cell_type": "code",
   "execution_count": 10,
   "metadata": {},
   "outputs": [
    {
     "name": "stdout",
     "output_type": "stream",
     "text": [
      "Applying hardware limit of 210bpm resulted in dropping 15 data points.\n"
     ]
    }
   ],
   "source": [
    "# Now the hardware limits are being applied to the data:\n",
    "\n",
    "df_limit = df_sample[(df_sample['BPM'] < hardware_upper_limit) & (df_sample['BPM'] > hardware_lower_limit) ]\n",
    "num_screened = df_sample.shape[0]-df_limit.shape[0]\n",
    "print (\"Applying hardware limit of {}bpm resulted in dropping {} data points.\".format(hardware_upper_limit,num_screened))"
   ]
  },
  {
   "cell_type": "code",
   "execution_count": 11,
   "metadata": {},
   "outputs": [],
   "source": [
    "def plot_data_histo(totals): \n",
    "    \n",
    "    '''This method will be used to plot the heart rate distribution. The data will be\n",
    "       from the 'BPM' column, the same column used for the above summary statistics. \n",
    "    '''\n",
    "    \n",
    "    xref = [max_hr]\n",
    "    ref_colors=['r']\n",
    "    plt.figure(figsize=(5,3))\n",
    "    for ref, c in zip(xref,ref_colors):\n",
    "        plt.axvline(x=ref, c=c, label= 'ref at = {}'.format(ref))\n",
    "    plt.legend()\n",
    "    \n",
    "    # Setting up the grids: \n",
    "    plt.grid(True)\n",
    "    plt.minorticks_on()\n",
    "    plt.grid(which='major', linestyle='-', linewidth='0.5', color='grey')\n",
    "    plt.grid(which='minor', linestyle=':', linewidth='0.5', color='grey')\n",
    "    \n",
    "    plt.xlabel('Beats/Minute')\n",
    "    plt.ylabel('Count')\n",
    "    plt.title('Raw Heart Rate Distribution')\n",
    "    #plt.ylim(0,35000)\n",
    "    #plt.xlim(30,200)\n",
    "    plt.hist(df_raw.BPM, bins=range(35, 205+2, 2))\n",
    "    plt.savefig('./plots/raw_histo.png')\n",
    "    plt.show()"
   ]
  },
  {
   "cell_type": "code",
   "execution_count": 22,
   "metadata": {},
   "outputs": [
    {
     "data": {
      "image/png": "[encoded data removed]",
      "text/plain": [
       "<Figure size 360x216 with 1 Axes>"
      ]
     },
     "metadata": {
      "needs_background": "light"
     },
     "output_type": "display_data"
    }
   ],
   "source": [
    "plot_data_histo(df_limit.BPM)"
   ]
  },
  {
   "cell_type": "markdown",
   "metadata": {},
   "source": [
    "#### Heart Rate Distribution \n",
    "Note how the distribution is continuous. No clear second distibution or cluster sticks out. Also note that the maximum heart rate calculation, 220-age or 158 in this case, compares well to the maximum histogram value. There are data points above 158, but they are likely outliers. "
   ]
  },
  {
   "cell_type": "markdown",
   "metadata": {},
   "source": [
    "## Pre-Processing Summary\n",
    "The dataset has been loaded, columns of interest selected, data filtered for valid hardware limits and a smaller sample generated to speed execution. Summary statistics and graphical analysis have also been completed. This is a simple 1D dataset with no features or labels.\n",
    "#### Training and Test Sets\n",
    "The data has not been segregated into training and test sets. This is becaused it is un-supervised learning. There are no labels for model predictions to be compared against. Instead a 'score', explained more below, will be used to evaluate the model with the best fit. "
   ]
  },
  {
   "cell_type": "markdown",
   "metadata": {},
   "source": [
    "# Modeling \n",
    "## KMeans \n",
    "This model was selected as it does not required labeled data and it is intuitive to understand. One primary question to be answered is whether or not a high intensity, high heart rate cluster, separate from lower intensity clusters could be indentified. This would allow for personalized high intensity zones to be defined. \n",
    "\n",
    "### Fitting, Predicting and Evaluating the Model\n",
    "The primary hyperparameter of interest is the number of clusters. It is the first step in optimizing the model. Values from 2 to 10 were used. The data was fit and model predictions were used to define labels. \n",
    "\n",
    "The KMeans performance metric is called its score or inertia. It measures the mean square distance from the instance to the cluster centroid. Lower numbers are considerted to be better. "
   ]
  },
  {
   "cell_type": "code",
   "execution_count": 12,
   "metadata": {},
   "outputs": [],
   "source": [
    "def scree_KMeans_plot(data,num_clusters):\n",
    "    \n",
    "    ''' This method will calculate Kmeans clusters. The number of clusters will be defined by a range. \n",
    "        Kmeans will be used to define the clusters and labels for the data generated. Finally the data \n",
    "        will be ploted so the Elbow method can be used to determine the optimum number of clusters. \n",
    "    '''\n",
    "    clusterCenters = [] \n",
    "    scores = [] \n",
    "    k_values = []\n",
    "    start = timer()\n",
    "    for k in range(1,num_clusters):\n",
    "        k_values.append(k)\n",
    "        kmeans = KMeans(n_clusters=k)\n",
    "        model = kmeans.fit(data)\n",
    "        #print (\"\\nCluster {}: {}\".format(k,model.cluster_centers_))\n",
    "        clusterCenters.append(model.cluster_centers_)\n",
    "        labels = kmeans.predict(data)\n",
    "        #print (\"Cluster Labels: \",np.unique(labels))\n",
    "        score = -(kmeans.score(data))\n",
    "        #print (\"score: \",round(score/100000000,2))\n",
    "        scores.append(score)\n",
    "    plt.plot(k_values, scores, marker = 'o')\n",
    "    plt.ylabel('K-Cluster Score')\n",
    "    plt.xlabel('k value')\n",
    "    plt.title('Elbow Method: Number of Clusters vs KMeans Score')\n",
    "    plt.savefig('./plots/Cluster_vs_score_plot.png')\n",
    "    plt.show()\n",
    "    end = timer() \n",
    "    #print(f\"\\nFunction in {(end - start)/60:0.1f} minutes\")\n",
    "    return k_values, scores, labels"
   ]
  },
  {
   "cell_type": "code",
   "execution_count": 13,
   "metadata": {},
   "outputs": [
    {
     "data": {
      "image/png": "[encoded data removed]",
      "text/plain": [
       "<Figure size 432x288 with 1 Axes>"
      ]
     },
     "metadata": {
      "needs_background": "light"
     },
     "output_type": "display_data"
    }
   ],
   "source": [
    "k_values, scores, labels = scree_KMeans_plot(df_sample,11) "
   ]
  },
  {
   "cell_type": "code",
   "execution_count": 14,
   "metadata": {},
   "outputs": [
    {
     "name": "stdout",
     "output_type": "stream",
     "text": [
      "KMeans Labels:  [0 1 2 3 4 5 6 7 8 9]\n"
     ]
    }
   ],
   "source": [
    "print (\"KMeans Labels: \",np.unique(labels)) "
   ]
  },
  {
   "cell_type": "markdown",
   "metadata": {},
   "source": [
    "#### KMeans Score or Inertia\n",
    "For each of the clusters numbered 2 to 10, the score was calculated and compared to k. The plot is above. It can be seen that after 5 clusters the improvment in score diminishes. This rather crude method, also called the Elbow method, suggests that after 5 clusters the improvement diminishes. 5 cluster would also make the comparison to the Polar (tm) methodology straight forward.\n",
    "\n",
    "Another method, listed below, was written to specify a percentage improvement in the score at which the addition of more clusters is no longer beneficial.  "
   ]
  },
  {
   "cell_type": "code",
   "execution_count": 15,
   "metadata": {},
   "outputs": [
    {
     "name": "stdout",
     "output_type": "stream",
     "text": [
      "Maximum value of number of clusters (k) is:  10\n",
      "Less than 30% improvement in score after k = 6\n"
     ]
    }
   ],
   "source": [
    "# The elbow method would suggest that most of the improvement in the cluster scores happens prior to k=5.\n",
    "# The algorithm below allows for selection of k based on the diminishing benefits of increasing clusters. \n",
    "# 5 clusters is being chosen, not just by the elbow method above as it also matches up with the 5 zones \n",
    "# defined by the Polar (tm) methodology. \n",
    "\n",
    "def findK(df,limit): \n",
    "\n",
    "    for k in range(len(df)):\n",
    "        if k == len(df):\n",
    "           print (\"\\nEnd of array reached.\") \n",
    "        elif k == len(df): \n",
    "          improvement = 'None'\n",
    "          print (\"end of array reached prior to limit\")\n",
    "          print (\"K=0\")\n",
    "        elif k > 0:\n",
    "          improvement = (round(100*((df[k-1]-df[k])/df[k-1])))\n",
    "          #print (k,round(df[k]/100000000,2),improvement)\n",
    "          if improvement < limit:\n",
    "                #print (\"Improvement of {}% is less than lower limit of {}% for k = {}. k max is {} \".format(improvement,limit,k,len(df)))\n",
    "                break\n",
    "    print (\"Maximum value of number of clusters (k) is: \",len(df))\n",
    "    print (\"Less than {}% improvement in score after k = {}\".format(limit,k))\n",
    "findK(scores,30) "
   ]
  },
  {
   "cell_type": "markdown",
   "metadata": {},
   "source": [
    "#### KMeans Silhouette Score\n",
    "A second performance metric was also used to evaluate the model performance. It is called the silhouette score and is more robust than the inertia score.  It comprehends both cohesion, or intra-cluster distances,  as well as the inter-cluster distances, or separation."
   ]
  },
  {
   "cell_type": "code",
   "execution_count": 16,
   "metadata": {},
   "outputs": [],
   "source": [
    "def silhouetteScore(df,num_clusters): \n",
    "    sil_scores = []\n",
    "    k_value = []\n",
    "    start = timer()\n",
    "    range_n_clusters = list(range(2,num_clusters))\n",
    "    for n_clusters in range_n_clusters:\n",
    "        #kmeans = KMeans(n_clusters=n_clusters, random_state=10)\n",
    "        k_value.append(n_clusters)\n",
    "        kmeans = KMeans(n_clusters=n_clusters)\n",
    "        cluster_labels = kmeans.fit_predict(df)\n",
    "        score = round(silhouette_score(df,cluster_labels),2)\n",
    "        sil_scores.append(score)\n",
    "        print(\"For n_clusters = {}, silhouette score is {}\".format(n_clusters, score))\n",
    "        end=timer()\n",
    "        #print(f\"Function in {(end - start)/60:0.1f} minutes\")\n",
    "    print (\"\\nFinished!\")\n",
    "    return sil_scores, k_value"
   ]
  },
  {
   "cell_type": "code",
   "execution_count": 19,
   "metadata": {},
   "outputs": [
    {
     "name": "stdout",
     "output_type": "stream",
     "text": [
      "For n_clusters = 2, silhouette score is 0.7\n",
      "For n_clusters = 3, silhouette score is 0.63\n",
      "For n_clusters = 4, silhouette score is 0.59\n",
      "For n_clusters = 5, silhouette score is 0.59\n",
      "For n_clusters = 6, silhouette score is 0.56\n",
      "For n_clusters = 7, silhouette score is 0.55\n",
      "For n_clusters = 8, silhouette score is 0.55\n",
      "For n_clusters = 9, silhouette score is 0.56\n",
      "For n_clusters = 10, silhouette score is 0.53\n",
      "\n",
      "Finished!\n",
      "CPU times: user 12.1 s, sys: 2.22 s, total: 14.3 s\n",
      "Wall time: 14.3 s\n"
     ]
    }
   ],
   "source": [
    "%%time\n",
    "# The silhouette score is computationally expensive. The timer helps in monitoring.\n",
    "sil_scores, k_value = silhouetteScore(df_sample.BPM.values.reshape(-1,1),11)"
   ]
  },
  {
   "cell_type": "code",
   "execution_count": 20,
   "metadata": {},
   "outputs": [],
   "source": [
    "def silhouette_plot(scores, k_value):\n",
    "    plt.figure(figsize=(5,3))\n",
    "    plt.ylabel('Silhouette Coefficient')\n",
    "    plt.xlabel('k value')\n",
    "    plt.title('Silhouete For Best K')\n",
    "    plt.ylim=(0.0,1.0)\n",
    "    plt.grid(True)\n",
    "    plt.plot(k_value, scores, marker = 'o')\n",
    "\n",
    "    plt.show()"
   ]
  },
  {
   "cell_type": "code",
   "execution_count": 21,
   "metadata": {},
   "outputs": [
    {
     "data": {
      "image/png": "[encoded data removed]",
      "text/plain": [
       "<Figure size 360x216 with 1 Axes>"
      ]
     },
     "metadata": {
      "needs_background": "light"
     },
     "output_type": "display_data"
    }
   ],
   "source": [
    "silhouette_plot(sil_scores,k_value)"
   ]
  },
  {
   "cell_type": "markdown",
   "metadata": {},
   "source": [
    "The silhouette coefficient can vary from -1 to 1. Values near 1 mean that the instance is well within its cluster and far from other clusters. So higher is better. As can be seem from the plot above, the best fit is with a cluster of 2. Note that 2 is the minimum number of clusters that can be used for the silhouette calculation. \n",
    "\n",
    "This differs from the kmeans score results that saw improvements down to 5 or more clusters. This is because the score always increases as we add more clusters since the instance to cluster centroid distance will diminish. "
   ]
  },
  {
   "cell_type": "markdown",
   "metadata": {},
   "source": [
    "## Clustering and the Distribution\n",
    "The next section will look at how the predicted clusters compare to the overall distribution "
   ]
  },
  {
   "cell_type": "code",
   "execution_count": 36,
   "metadata": {},
   "outputs": [],
   "source": [
    "# This method will divide up the bpm histograms by the chosen number of clusters, 5 in this case, \n",
    "# and plot the results: \n",
    "\n",
    "def hr_cluster_histogram(df): \n",
    "    ''' This method will plot the heart rate distribution and color the clusters\n",
    "        that compose it. \n",
    "    '''\n",
    "    \n",
    "    if  'Label' in df: \n",
    "        df.drop(\"Label\",axis='columns',inplace=True)\n",
    "    \n",
    "    kmeans = KMeans(n_clusters=5)\n",
    "    model = kmeans.fit(df)\n",
    "    centers = np.round(model.cluster_centers_,0)\n",
    "    print (\"Percent of Values in each cluster: \")\n",
    "    labels = kmeans.predict(df)  \n",
    "   \n",
    "    df.insert(1,\"Label\",labels)\n",
    "\n",
    "    clusterCounts(labels)\n",
    "\n",
    "    xref = [max_hr]\n",
    "    ref_colors=['r']\n",
    "        \n",
    "    zone1 = df.loc[df.Label ==0, 'BPM']\n",
    "    zone2 = df.loc[df.Label ==1, 'BPM']\n",
    "    zone3 = df.loc[df.Label ==2, 'BPM']\n",
    "    zone4 = df.loc[df.Label ==3, 'BPM']\n",
    "    zone5 = df.loc[df.Label ==4, 'BPM']\n",
    "    \n",
    "    # Setup plot:\n",
    "    plt.figure(figsize=(5,3))\n",
    "  \n",
    "    plt.grid(True)\n",
    "    plt.minorticks_on()\n",
    "    plt.grid(which='major', linestyle='-', linewidth='0.5', color='grey')\n",
    "    plt.grid(which='minor', linestyle=':', linewidth='0.5', color='grey')\n",
    "    \n",
    "    plt.ylabel('Counts')\n",
    "    plt.xlabel('Beats Per Minute (BPM)')\n",
    "\n",
    "    plt.title('Cluster Heart Rate Distribution')\n",
    "    plt.hist(zone1,  color='b', label='Cluster 1', bins=range(35, 205, 2))\n",
    "    plt.hist(zone2,  color='c', label='Cluster 2', bins=range(35, 205, 2))\n",
    "    plt.hist(zone3,  color='g', label='Cluster 3', bins=range(35, 205, 2))\n",
    "    plt.hist(zone4,  color='y', label='Cluster 4', bins=range(35, 205, 2))\n",
    "    plt.hist(zone5,  color='r', label='Cluster 5', bins=range(35, 205, 2))\n",
    "    plt.legend()\n",
    "   \n",
    "    plt.savefig('./plots/cluster_histo.png')\n",
    "    plt.show()"
   ]
  },
  {
   "cell_type": "code",
   "execution_count": 37,
   "metadata": {},
   "outputs": [],
   "source": [
    "# The function below calculates the percent of the distribution in each cluster. \n",
    "def clusterCounts(labels): \n",
    "    clusterDict = collections.Counter(labels)\n",
    "    clusterSum = sum(clusterDict.values())\n",
    "\n",
    "    for key,value in sorted(clusterDict.items()): \n",
    "        print (key +1, ' ->',np.round(100*value/clusterSum),'%')"
   ]
  },
  {
   "cell_type": "code",
   "execution_count": 38,
   "metadata": {},
   "outputs": [
    {
     "name": "stdout",
     "output_type": "stream",
     "text": [
      "Percent of Values in each cluster: \n",
      "1  -> 55.0 %\n",
      "2  -> 12.0 %\n",
      "3  -> 26.0 %\n",
      "4  -> 1.0 %\n",
      "5  -> 7.0 %\n"
     ]
    },
    {
     "data": {
      "image/png": "[encoded data removed]",
      "text/plain": [
       "<Figure size 360x216 with 1 Axes>"
      ]
     },
     "metadata": {
      "needs_background": "light"
     },
     "output_type": "display_data"
    }
   ],
   "source": [
    "hr_cluster_histogram(df_sample)"
   ]
  },
  {
   "cell_type": "markdown",
   "metadata": {},
   "source": [
    "### Clustering Partitions on the Distribution\n",
    "This histogram show clearly that although KMeans succesfully partioned the data into clusters, there is no separation between clusters, suggesting the model has overfit the data. "
   ]
  },
  {
   "cell_type": "markdown",
   "metadata": {},
   "source": [
    "## Benchmarking\n",
    "The next section will compare how several sources, the Mayo Clinic, the CDC and the Polar Heart Rate company, define high intensity heart rates zones. These zones will be used as benchmarks for the ones defined by the clustering algorithm. \n",
    "\n",
    "The overall process is outlined below. \n",
    "###  Maximum Heart Rate\n",
    "The first step in determining high intensity heart rate zones is to determine maximum heart rate. There are several methods for this: \n",
    "\n",
    "1. 220 - age. 0r 158bpm for a 62 year old.\n",
    "2. Heart Rate Monitor data collected over a period of months with various activities. \n",
    "3. Using a treadmill or stationary bike with an ECG. \n",
    "Option number 1 is the most common for folks that do not have access to the treadmill and ECG. It is remarkable how well it works. The body seems to have a built in algorithm.  \n",
    "After the maximum heart rate is determined, target heart rates can be determined:\n",
    "\n",
    "### Hear Rate Intensity Zones\n",
    "\n",
    "#### CDC\n",
    "The CDC defines zones as follows: \n",
    "* Target Heart Rate is 64% to 76%. CDC. \n",
    "* High Intensity target heart rate is 76-93% (CDC). Or 120 to 146 for the 62 year old. \n",
    "\n",
    "#### MayoClinic\n",
    "The Mayo Clinic defines \n",
    "\n",
    "1. Moderate intensity as 50-70% of maximum heart rate.\n",
    "2. Vigorous as 70% to 85%.\n",
    "\n",
    "#### Polar\n",
    "The heart rate monitor company Polar suggests 5 heart rate zones:\n",
    "\n",
    "1. Very light at 50-60% of HRMAX. Boost recovery and prepare for higher zones.\n",
    "2. Light 60-70%. Improve general endurance and increase capillary density.\n",
    "2. Moderate at 70-80%. Lactic acid build up,improve efficiency of blood circulation in the heart and muscles\n",
    "4. Hard 80-90%. Improve speed endurance.\n",
    "5. Maximum 90-100%. For elite atheletes to further improve speed. \n",
    "\n",
    "The code below will assign new columns in the dataset that categorize the heart rate into the zones covered above: \n"
   ]
  },
  {
   "cell_type": "code",
   "execution_count": 77,
   "metadata": {},
   "outputs": [
    {
     "name": "stdout",
     "output_type": "stream",
     "text": [
      "Polar: 94 109 125 141 157 \n"
     ]
    }
   ],
   "source": [
    "def assignZone(value):\n",
    "    '''\n",
    "    Polar Heart rate zones are defined below\n",
    "    '''\n",
    "    if (value <= polar_limits['zone1']): \n",
    "        return \"zone1\"\n",
    "    elif (value > polar_limits['zone1']) and (value <= polar_limits['zone2']):\n",
    "        return \"zone2\"\n",
    "    elif (value > polar_limits['zone2']) and (value <= polar_limits['zone3']):\n",
    "        return  \"zone3\"\n",
    "    elif (value > polar_limits['zone3']) and (value <= polar_limits['zone4']):\n",
    "        return  \"zone4\"    \n",
    "    elif (value > polar_limits['zone4']) and (value <=polar_limits['zone5']):\n",
    "        return \"zone5\"\n",
    "    else:\n",
    "        return\n",
    "\n",
    "print (\"Polar: {} {} {} {} {} \".format(int(polar_limits['zone1']),int(polar_limits['zone2']),int(polar_limits['zone3']),int(polar_limits['zone4']),int(polar_limits['zone5'])))"
   ]
  },
  {
   "cell_type": "code",
   "execution_count": 42,
   "metadata": {},
   "outputs": [
    {
     "name": "stdout",
     "output_type": "stream",
     "text": [
      "CDC Limits:  100 119 119 146\n"
     ]
    }
   ],
   "source": [
    "print (\"CDC Limits: \",int(cdc_limits['moderate_low']),int(cdc_limits['moderate_hi']), int(cdc_limits['intensity_low']),int(cdc_limits['intensity_hi']))\n",
    "def assignCDCZone(value):\n",
    "    '''\n",
    "    CDC Definitions are defined here:\n",
    "    '''\n",
    "    if (value > cdc_limits['moderate_low']) and (value <= cdc_limits['moderate_hi']):\n",
    "        return \"Moderate\"\n",
    "    elif (value > cdc_limits['intensity_low']) and (value <= cdc_limits['intensity_hi']):\n",
    "        return  \"Intensity\"\n",
    "    else:\n",
    "        return 'Other'"
   ]
  },
  {
   "cell_type": "code",
   "execution_count": 45,
   "metadata": {},
   "outputs": [
    {
     "name": "stdout",
     "output_type": "stream",
     "text": [
      "Mayo Clinic Limits:  78 109 109 133\n"
     ]
    }
   ],
   "source": [
    "print (\"Mayo Clinic Limits: \",int(mayo_limits['moderate_low']),int(mayo_limits['moderate_hi']), int(mayo_limits['intensity_low']),int(mayo_limits['intensity_hi']))\n",
    "def assignMayoZone(value):\n",
    "    '''\n",
    "    Mayo Clinic heart rate zones are defined below\n",
    "    '''\n",
    "    if (value > mayo_limits['moderate_low']) and (value <= mayo_limits['moderate_hi']):\n",
    "        return \"Moderate\"\n",
    "    elif (value > mayo_limits['intensity_low']) and (value <= mayo_limits['intensity_hi']):\n",
    "        return  \"Intensity\"\n",
    "    else:\n",
    "        return 'Other'"
   ]
  },
  {
   "cell_type": "code",
   "execution_count": 81,
   "metadata": {},
   "outputs": [
    {
     "name": "stdout",
     "output_type": "stream",
     "text": [
      "(10000, 5)\n",
      "\n",
      "Here is what the dataframe header looks like with these zones applied:\n"
     ]
    },
    {
     "data": {
      "text/html": [
       "<div>\n",
       "<style scoped>\n",
       "    .dataframe tbody tr th:only-of-type {\n",
       "        vertical-align: middle;\n",
       "    }\n",
       "\n",
       "    .dataframe tbody tr th {\n",
       "        vertical-align: top;\n",
       "    }\n",
       "\n",
       "    .dataframe thead th {\n",
       "        text-align: right;\n",
       "    }\n",
       "</style>\n",
       "<table border=\"1\" class=\"dataframe\">\n",
       "  <thead>\n",
       "    <tr style=\"text-align: right;\">\n",
       "      <th></th>\n",
       "      <th>BPM</th>\n",
       "      <th>Label</th>\n",
       "      <th>Polar_Zone</th>\n",
       "      <th>CDC_Zone</th>\n",
       "      <th>Mayo_Zone</th>\n",
       "    </tr>\n",
       "  </thead>\n",
       "  <tbody>\n",
       "    <tr>\n",
       "      <th>0</th>\n",
       "      <td>61.0</td>\n",
       "      <td>0</td>\n",
       "      <td>zone1</td>\n",
       "      <td>Other</td>\n",
       "      <td>Other</td>\n",
       "    </tr>\n",
       "    <tr>\n",
       "      <th>1</th>\n",
       "      <td>84.0</td>\n",
       "      <td>2</td>\n",
       "      <td>zone1</td>\n",
       "      <td>Other</td>\n",
       "      <td>Moderate</td>\n",
       "    </tr>\n",
       "    <tr>\n",
       "      <th>2</th>\n",
       "      <td>62.0</td>\n",
       "      <td>0</td>\n",
       "      <td>zone1</td>\n",
       "      <td>Other</td>\n",
       "      <td>Other</td>\n",
       "    </tr>\n",
       "    <tr>\n",
       "      <th>3</th>\n",
       "      <td>58.0</td>\n",
       "      <td>0</td>\n",
       "      <td>zone1</td>\n",
       "      <td>Other</td>\n",
       "      <td>Other</td>\n",
       "    </tr>\n",
       "    <tr>\n",
       "      <th>4</th>\n",
       "      <td>96.0</td>\n",
       "      <td>1</td>\n",
       "      <td>zone2</td>\n",
       "      <td>Other</td>\n",
       "      <td>Moderate</td>\n",
       "    </tr>\n",
       "  </tbody>\n",
       "</table>\n",
       "</div>"
      ],
      "text/plain": [
       "    BPM  Label Polar_Zone CDC_Zone Mayo_Zone\n",
       "0  61.0      0      zone1    Other     Other\n",
       "1  84.0      2      zone1    Other  Moderate\n",
       "2  62.0      0      zone1    Other     Other\n",
       "3  58.0      0      zone1    Other     Other\n",
       "4  96.0      1      zone2    Other  Moderate"
      ]
     },
     "execution_count": 81,
     "metadata": {},
     "output_type": "execute_result"
    }
   ],
   "source": [
    "df_zones=df_sample.copy()\n",
    "df_zones['Polar_Zone'] = df_zones.BPM.apply(assignZone)\n",
    "df_zones['CDC_Zone'] = df_zones.BPM.apply(assignCDCZone)\n",
    "df_zones['Mayo_Zone'] = df_zones.BPM.apply(assignMayoZone)\n",
    "print (df_zones.shape)\n",
    "\n",
    "print (\"\\nHere is what the dataframe header looks like with these zones applied:\")\n",
    "df_zones.head()"
   ]
  },
  {
   "cell_type": "code",
   "execution_count": 49,
   "metadata": {},
   "outputs": [
    {
     "name": "stdout",
     "output_type": "stream",
     "text": [
      "Polar:  ['zone1' 'zone2' 'zone3' 'zone5' 'zone4' 'nan']\n",
      "CDC  :  ['Other' 'Intensity' 'Moderate']\n",
      "Mayo :  ['Other' 'Moderate' 'Intensity']\n"
     ]
    }
   ],
   "source": [
    "#Checking for Zone assignment: \n",
    "print (\"Polar: \",df_zones['Polar_Zone'].unique())\n",
    "print (\"CDC  : \",df_zones['CDC_Zone'].unique())\n",
    "print (\"Mayo : \",df_zones['Mayo_Zone'].unique())"
   ]
  },
  {
   "cell_type": "code",
   "execution_count": 51,
   "metadata": {},
   "outputs": [],
   "source": [
    "df2 = df_zones.copy() "
   ]
  },
  {
   "cell_type": "markdown",
   "metadata": {},
   "source": [
    "### Zone Histograms\n",
    "The next two modules define methods to superimpose the zones onto the hear rate dataset."
   ]
  },
  {
   "cell_type": "code",
   "execution_count": 64,
   "metadata": {},
   "outputs": [],
   "source": [
    "def hr_polar_histogram(df): \n",
    "\n",
    "    zone1 = df.loc[df.Polar_Zone == 'zone1', 'BPM']\n",
    "    zone2 = df.loc[df.Polar_Zone == 'zone2', 'BPM']\n",
    "    zone3 = df.loc[df.Polar_Zone == 'zone3', 'BPM']\n",
    "    zone4 = df.loc[df.Polar_Zone == 'zone4', 'BPM']\n",
    "    zone5 = df.loc[df.Polar_Zone == 'zone5', 'BPM']\n",
    "    \n",
    "    xref = [max_hr]\n",
    "    ref_colors=['r']\n",
    "    \n",
    "    plt.figure(figsize=(5,3))\n",
    "    kwargs = dict(alpha=0.5)\n",
    "    plt.xticks(np.arange(20, 205, 20))\n",
    "    plt.grid(b=True, which='both', color='0.65', linestyle='-')\n",
    "    \n",
    "    # Turn on the minor TICKS, which are required for the minor GRID\n",
    "    plt.minorticks_on()\n",
    "\n",
    "    # Customize the major grid\n",
    "    plt.grid(which='major', linestyle='-', linewidth='0.5', color='grey')\n",
    "    # Customize the minor grid\n",
    "    plt.grid(which='minor', linestyle=':', linewidth='0.5', color='grey')\n",
    "\n",
    "    #plt.grid(True)\n",
    "    plt.title('Polar(tm) Zone Heart Rate Distribution')\n",
    "    plt.hist(zone1, **kwargs, color='g', label='Zone 1', bins=range(35, 205+2, 2))\n",
    "    plt.hist(zone2, **kwargs, color='b', label='Zone 2', bins=range(35, 205+2, 2))\n",
    "    plt.hist(zone3, **kwargs, color='r', label='Zone 3', bins=range(35, 205+2, 2))\n",
    "    plt.hist(zone4, **kwargs, color='c', label='Zone 4', bins=range(35, 205+2, 2))\n",
    "    plt.hist(zone5, **kwargs, color='y', label='Zone 5', bins=range(35, 205+2, 2))\n",
    "    plt.ylabel('Counts')\n",
    "    plt.xlabel('Beats Per Minute (BPM)')\n",
    "    #plt.ylim(0,35000)\n",
    "    plt.xlim(30,200)\n",
    "    plt.legend()\n",
    "    plt.savefig('./plots/zone_histo.png')\n",
    "    plt.close()\n",
    "    #plt.show()"
   ]
  },
  {
   "cell_type": "code",
   "execution_count": 66,
   "metadata": {},
   "outputs": [],
   "source": [
    "def hr_3zone_histogram(df,source): \n",
    "\n",
    "    if source == 'Mayo':\n",
    "        zone1 = df.loc[df.Mayo_Zone == 'Moderate', 'BPM']\n",
    "        zone2 = df.loc[df.Mayo_Zone == 'Intensity', 'BPM']\n",
    "        zone3 = df.loc[df.Mayo_Zone == 'Other', 'BPM']\n",
    "\n",
    "    \n",
    "    if source == 'CDC':\n",
    "        zone1 = df.loc[df.CDC_Zone == 'Moderate', 'BPM']\n",
    "        zone2 = df.loc[df.CDC_Zone == 'Intensity', 'BPM']\n",
    "        zone3 = df.loc[df.CDC_Zone == 'Other', 'BPM']\n",
    "\n",
    "\n",
    "    xref = [max_hr]\n",
    "    ref_colors=['r']\n",
    "    bin = 50\n",
    "    plt.figure(figsize=(5,3))\n",
    "    # xticks = np.linspace(30, 200, 50)\n",
    "    kwargs = dict(alpha=0.5)\n",
    "    plt.xticks(np.arange(20, 205, 20))\n",
    "    plt.grid(b=True, which='both', color='0.65', linestyle='-')\n",
    "    \n",
    "    # Turn on the minor TICKS, which are required for the minor GRID\n",
    "    plt.minorticks_on()\n",
    "\n",
    "    # Customize the major grid\n",
    "    plt.grid(which='major', linestyle='-', linewidth='0.5', color='grey')\n",
    "    # Customize the minor grid\n",
    "    plt.grid(which='minor', linestyle=':', linewidth='0.5', color='grey')\n",
    "    \n",
    "    \n",
    "    #plt.grid(True)\n",
    "\n",
    "    plt.title(source + ' Clinic Zone Heart Rate Distribution')\n",
    "        \n",
    "    plt.hist(zone1, **kwargs, color='g', label='Moderate',bins=range(35, 205+2, 2))\n",
    "    plt.hist(zone2, **kwargs, color='b', label='Intensity',bins=range(35, 205+2, 2))\n",
    "    plt.hist(zone3, **kwargs, color='r', label='Other',bins=range(35, 205+2, 2))\n",
    "\n",
    "    plt.ylabel('Counts')\n",
    "    plt.xlabel('Beats Per Minute (BPM)')\n",
    "    #plt.ylim(0,35000)\n",
    "    plt.xlim(30,200)\n",
    "    plt.legend()\n",
    "    if source == 'Mayo': \n",
    "        plt.savefig('./plots/mayo_histo.png')\n",
    "    if source == 'CDC': \n",
    "        plt.savefig('./plots/cdc_histo.png')\n",
    "    plt.close()\n",
    "    #plt.show()"
   ]
  },
  {
   "cell_type": "markdown",
   "metadata": {},
   "source": [
    "#### Generating and Saving Histograms "
   ]
  },
  {
   "cell_type": "code",
   "execution_count": 67,
   "metadata": {},
   "outputs": [],
   "source": [
    "hr_polar_histogram(df2)"
   ]
  },
  {
   "cell_type": "code",
   "execution_count": 68,
   "metadata": {},
   "outputs": [],
   "source": [
    "hr_3zone_histogram(df2,'CDC')"
   ]
  },
  {
   "cell_type": "code",
   "execution_count": 69,
   "metadata": {},
   "outputs": [],
   "source": [
    "hr_3zone_histogram(df2,'Mayo')"
   ]
  },
  {
   "cell_type": "markdown",
   "metadata": {},
   "source": [
    "#### Displaying the Histograms\n",
    "The four histograms, one each for the clusters, CDC, Mayo and Polar are shown: "
   ]
  },
  {
   "cell_type": "code",
   "execution_count": 70,
   "metadata": {},
   "outputs": [
    {
     "data": {
      "image/png": "[encoded data removed]",
      "text/plain": [
       "<Figure size 1440x1440 with 4 Axes>"
      ]
     },
     "metadata": {
      "needs_background": "light"
     },
     "output_type": "display_data"
    }
   ],
   "source": [
    "import matplotlib.gridspec as gridspec\n",
    "\n",
    "fig,((ax1,ax2),(ax3,ax4)) = plt.subplots(nrows=2, ncols=2,sharey=True)\n",
    "\n",
    "img1 = imageio.imread('./plots/cluster_histo.png')\n",
    "img2 = imageio.imread('./plots/zone_histo.png') \n",
    "img3 = imageio.imread('./plots/mayo_histo.png')\n",
    "img4 = imageio.imread('./plots/cdc_histo.png')\n",
    "\n",
    "plt.rcParams[\"figure.figsize\"] = (20,20)\n",
    "#gs1 = gridspec.GridSpec(4, 4)\n",
    "#gs1.update(wspace=0.025, hspace=0.05) # set the spacing between axes\n",
    "fig.subplots_adjust(wspace=0, hspace=0,bottom = 0,top = 0.9)\n",
    "\n",
    "#fig,(ax1,ax2,ax3,ax4) = plt.subplots(2,2)\n",
    "#plt.subplot(2,1,1)\n",
    "#plt.figure()\n",
    "\n",
    "ax1.imshow(img1)                     \n",
    "#plt.subplot(212) \n",
    "ax2.imshow(img2) \n",
    "ax3.imshow(img3) \n",
    "ax4.imshow(img4) \n",
    "plt.show()"
   ]
  },
  {
   "cell_type": "markdown",
   "metadata": {},
   "source": [
    "### Discussion \n",
    "The clustering algorithm defines 5 zones but the boundaries seem artifical. The Polar algoritm seems to suffer from the same plight, but has a larger resting (Zone 1 & Zone 2) percentage. The Mayo Clinc and CDC Zones have an intensity session defined that provides a buffer to the maximum heart rate. \n",
    "\n",
    "### Next Steps \n",
    "Providing more features and data from more persons need to be added to the dataset. "
   ]
  },
  {
   "cell_type": "code",
   "execution_count": null,
   "metadata": {},
   "outputs": [],
   "source": [
    "#Single Link, Complete Lnk, Ward, "
   ]
  },
  {
   "cell_type": "code",
   "execution_count": 198,
   "metadata": {},
   "outputs": [
    {
     "name": "stdout",
     "output_type": "stream",
     "text": [
      "CPU times: user 5 µs, sys: 1e+03 ns, total: 6 µs\n",
      "Wall time: 7.15 µs\n"
     ]
    }
   ],
   "source": [
    "%%time\n",
    "def silhouetteScore2(df,num_clusters):\n",
    "    models = ['kmeans', 'gmm', 'dbscan']\n",
    "    sil_scores = []\n",
    "    k_value = []\n",
    "    model_type = []\n",
    "    range_n_clusters = list(range(2,num_clusters))\n",
    "    for n_clusters in range_n_clusters:\n",
    "            for mymodel in models:\n",
    "                    if mymodel == 'kmeans':\n",
    "                            k_value.append(n_clusters)\n",
    "                            model_type.append(mymodel)\n",
    "                            kmeans = KMeans(n_clusters=n_clusters)\n",
    "                            cluster_labels = kmeans.fit_predict(df)\n",
    "                            score = round(silhouette_score(df,cluster_labels),2)\n",
    "                            sil_scores.append(score)\n",
    "                            print(\"Model {} with n_clusters = {}, silhouette score is {}\".format(mymodel,n_clusters, score))\n",
    "                    \n",
    "                    elif mymodel == 'gmm': \n",
    "                            k_value.append(n_clusters)\n",
    "                            model_type.append(mymodel)\n",
    "                            gmm = mixture.GaussianMixture(n_components=n_clusters)\n",
    "                            cluster_labels = gmm.fit_predict(df)\n",
    "                            score = round(silhouette_score(df,cluster_labels),2)\n",
    "                            sil_scores.append(score)\n",
    "                            print(\"Model {} with n_clusters = {}, silhouette score is {}\".format(mymodel,n_clusters, score))\n",
    "                    \n",
    "                    elif mymodel == 'dbscan':\n",
    "                            k_value.append(n_clusters)\n",
    "                            model_type.append(mymodel)\n",
    "                            dbscan = DBSCAN(eps=3, min_samples= 30)\n",
    "                            cluster_labels = dbscan.fit_predict(df)\n",
    "                            score = round(silhouette_score(df,cluster_labels),2)\n",
    "                            sil_scores.append(score)\n",
    "                            print(\"Model {} with n_clusters = {}, silhouette score is {}\".format(mymodel,n_clusters, score))\n",
    " \n",
    "    print (\"\\nFinished!\")\n",
    "    return sil_scores, k_value, model_type"
   ]
  },
  {
   "cell_type": "code",
   "execution_count": 199,
   "metadata": {},
   "outputs": [
    {
     "name": "stdout",
     "output_type": "stream",
     "text": [
      "Model kmeans with n_clusters = 2, silhouette score is 0.7\n",
      "Model gmm with n_clusters = 2, silhouette score is 0.66\n",
      "Model dbscan with n_clusters = 2, silhouette score is 0.75\n",
      "Model kmeans with n_clusters = 3, silhouette score is 0.63\n",
      "Model gmm with n_clusters = 3, silhouette score is 0.62\n",
      "Model dbscan with n_clusters = 3, silhouette score is 0.75\n",
      "Model kmeans with n_clusters = 4, silhouette score is 0.58\n",
      "Model gmm with n_clusters = 4, silhouette score is 0.6\n",
      "Model dbscan with n_clusters = 4, silhouette score is 0.75\n",
      "Model kmeans with n_clusters = 5, silhouette score is 0.59\n",
      "Model gmm with n_clusters = 5, silhouette score is 0.55\n",
      "Model dbscan with n_clusters = 5, silhouette score is 0.75\n",
      "\n",
      "Finished!\n",
      "CPU times: user 19.3 s, sys: 3.42 s, total: 22.7 s\n",
      "Wall time: 20.6 s\n"
     ]
    }
   ],
   "source": [
    "%%time\n",
    "sil_scores_gmm, k_value_gmm, model_type_gmm = silhouetteScore2(df_sample.BPM.values.reshape(-1,1),6)"
   ]
  },
  {
   "cell_type": "code",
   "execution_count": 200,
   "metadata": {},
   "outputs": [
    {
     "name": "stdout",
     "output_type": "stream",
     "text": [
      "12 12 12\n"
     ]
    }
   ],
   "source": [
    "print (len(sil_scores_gmm),len(k_value_gmm), len(model_type_gmm))"
   ]
  },
  {
   "cell_type": "code",
   "execution_count": 201,
   "metadata": {},
   "outputs": [
    {
     "name": "stdout",
     "output_type": "stream",
     "text": [
      "[]\n"
     ]
    },
    {
     "data": {
      "text/html": [
       "<div>\n",
       "<style scoped>\n",
       "    .dataframe tbody tr th:only-of-type {\n",
       "        vertical-align: middle;\n",
       "    }\n",
       "\n",
       "    .dataframe tbody tr th {\n",
       "        vertical-align: top;\n",
       "    }\n",
       "\n",
       "    .dataframe thead th {\n",
       "        text-align: right;\n",
       "    }\n",
       "</style>\n",
       "<table border=\"1\" class=\"dataframe\">\n",
       "  <thead>\n",
       "    <tr style=\"text-align: right;\">\n",
       "      <th></th>\n",
       "      <th>sil_score</th>\n",
       "      <th>k</th>\n",
       "      <th>model</th>\n",
       "    </tr>\n",
       "  </thead>\n",
       "  <tbody>\n",
       "    <tr>\n",
       "      <th>0</th>\n",
       "      <td>0.70</td>\n",
       "      <td>2</td>\n",
       "      <td>kmeans</td>\n",
       "    </tr>\n",
       "    <tr>\n",
       "      <th>1</th>\n",
       "      <td>0.66</td>\n",
       "      <td>2</td>\n",
       "      <td>gmm</td>\n",
       "    </tr>\n",
       "    <tr>\n",
       "      <th>2</th>\n",
       "      <td>0.75</td>\n",
       "      <td>2</td>\n",
       "      <td>dbscan</td>\n",
       "    </tr>\n",
       "    <tr>\n",
       "      <th>3</th>\n",
       "      <td>0.63</td>\n",
       "      <td>3</td>\n",
       "      <td>kmeans</td>\n",
       "    </tr>\n",
       "    <tr>\n",
       "      <th>4</th>\n",
       "      <td>0.62</td>\n",
       "      <td>3</td>\n",
       "      <td>gmm</td>\n",
       "    </tr>\n",
       "    <tr>\n",
       "      <th>5</th>\n",
       "      <td>0.75</td>\n",
       "      <td>3</td>\n",
       "      <td>dbscan</td>\n",
       "    </tr>\n",
       "    <tr>\n",
       "      <th>6</th>\n",
       "      <td>0.58</td>\n",
       "      <td>4</td>\n",
       "      <td>kmeans</td>\n",
       "    </tr>\n",
       "    <tr>\n",
       "      <th>7</th>\n",
       "      <td>0.60</td>\n",
       "      <td>4</td>\n",
       "      <td>gmm</td>\n",
       "    </tr>\n",
       "    <tr>\n",
       "      <th>8</th>\n",
       "      <td>0.75</td>\n",
       "      <td>4</td>\n",
       "      <td>dbscan</td>\n",
       "    </tr>\n",
       "    <tr>\n",
       "      <th>9</th>\n",
       "      <td>0.59</td>\n",
       "      <td>5</td>\n",
       "      <td>kmeans</td>\n",
       "    </tr>\n",
       "    <tr>\n",
       "      <th>10</th>\n",
       "      <td>0.55</td>\n",
       "      <td>5</td>\n",
       "      <td>gmm</td>\n",
       "    </tr>\n",
       "    <tr>\n",
       "      <th>11</th>\n",
       "      <td>0.75</td>\n",
       "      <td>5</td>\n",
       "      <td>dbscan</td>\n",
       "    </tr>\n",
       "  </tbody>\n",
       "</table>\n",
       "</div>"
      ],
      "text/plain": [
       "    sil_score  k   model\n",
       "0        0.70  2  kmeans\n",
       "1        0.66  2     gmm\n",
       "2        0.75  2  dbscan\n",
       "3        0.63  3  kmeans\n",
       "4        0.62  3     gmm\n",
       "5        0.75  3  dbscan\n",
       "6        0.58  4  kmeans\n",
       "7        0.60  4     gmm\n",
       "8        0.75  4  dbscan\n",
       "9        0.59  5  kmeans\n",
       "10       0.55  5     gmm\n",
       "11       0.75  5  dbscan"
      ]
     },
     "metadata": {},
     "output_type": "display_data"
    }
   ],
   "source": [
    "\n",
    "\n",
    "print (list(all))\n",
    "df =pd.DataFrame(list(zip(sil_scores_gmm,k_value_gmm,model_type_gmm)),columns=['sil_score','k','model'])\n",
    "display (df.head(20))"
   ]
  },
  {
   "cell_type": "code",
   "execution_count": 261,
   "metadata": {},
   "outputs": [],
   "source": [
    "def silhouette_plot2(df):\n",
    "    \n",
    "    kmeans = df.loc[df.model == 'kmeans']\n",
    "    gmm = df.loc[df.model == 'gmm']\n",
    "    dbscan = df.loc[df.model == 'dbscan']\n",
    "    plt.figure(figsize=(5,3))\n",
    "    plt.ylabel('Silhouette Coefficient')\n",
    "    plt.xlabel('k value')\n",
    "    plt.title('Silhouete For Best K')\n",
    "    plt.ylim=(0.3,1.0)\n",
    "    plt.grid(True)\n",
    "    plt.plot(kmeans.k,kmeans.sil_score,  label = 'kmeans', marker = 'o')\n",
    "    plt.plot(gmm.k,gmm.sil_score,  label = 'gmm', marker = 'o')\n",
    "    plt.plot(dbscan.k,dbscan.sil_score,  label = 'gmm', marker = 'o')\n",
    "\n",
    "    plt.xticks(np.arange(1.0, 11, 1.0))\n",
    "    plt.yticks(np.arange(0.4, 1.1, 0.1))\n",
    "    plt.legend(['kmeans', 'gmm','dbscan'])\n",
    "    plt.show()"
   ]
  },
  {
   "cell_type": "code",
   "execution_count": 262,
   "metadata": {},
   "outputs": [
    {
     "data": {
      "image/png": "[encoded data removed]",
      "text/plain": [
       "<Figure size 360x216 with 1 Axes>"
      ]
     },
     "metadata": {
      "needs_background": "light"
     },
     "output_type": "display_data"
    }
   ],
   "source": [
    "silhouette_plot2(df)"
   ]
  },
  {
   "cell_type": "code",
   "execution_count": 197,
   "metadata": {},
   "outputs": [
    {
     "data": {
      "text/plain": [
       "DBSCAN(algorithm='auto', eps=0.5, leaf_size=30, metric='euclidean',\n",
       "       metric_params=None, min_samples=6, n_jobs=None, p=None)"
      ]
     },
     "execution_count": 197,
     "metadata": {},
     "output_type": "execute_result"
    }
   ],
   "source": [
    "dbscan = DBSCAN( min_samples=6)\n",
    "dbscan"
   ]
  },
  {
   "cell_type": "code",
   "execution_count": 220,
   "metadata": {},
   "outputs": [
    {
     "name": "stdout",
     "output_type": "stream",
     "text": [
      "0.7647318339230184\n"
     ]
    }
   ],
   "source": [
    "df3 = df.loc[df.model == 'dbscan']\n",
    "\n",
    "dbscan = DBSCAN(eps=5, min_samples= 30)\n",
    "cluster_labels = dbscan.fit_predict(df_sample.BPM.values.reshape(-1,1))\n",
    "score = silhouette_score(df_sample.BPM.values.reshape(-1,1),cluster_labels)\n",
    "print (score)"
   ]
  },
  {
   "cell_type": "code",
   "execution_count": 250,
   "metadata": {},
   "outputs": [
    {
     "name": "stdout",
     "output_type": "stream",
     "text": [
      "2 [-1  0  1] 0.59\n",
      "4 [-1  0] 0.72\n",
      "6 [-1  0] 0.76\n",
      "8 [-1  0] 0.76\n",
      "10 [-1  0] 0.77\n",
      "12 [-1  0] 0.77\n",
      "14 [-1  0] 0.78\n",
      "CPU times: user 11.7 s, sys: 2.75 s, total: 14.5 s\n",
      "Wall time: 14.5 s\n"
     ]
    }
   ],
   "source": [
    "%%time\n",
    "scores = []\n",
    "for x in range(2,16,2):\n",
    "    dbscan = DBSCAN(eps=x, min_samples= 100)\n",
    "    dbscan.fit(df_sample.BPM.values.reshape(-1,1))\n",
    "\n",
    "    score = silhouette_score(df_sample.BPM.values.reshape(-1,1),dbscan.labels_)\n",
    "    print (x,np.unique(dbscan.labels_),round(score,2))\n",
    "\n",
    "    "
   ]
  },
  {
   "cell_type": "code",
   "execution_count": 264,
   "metadata": {},
   "outputs": [
    {
     "name": "stdout",
     "output_type": "stream",
     "text": [
      "14 [-1  0  1  2] 0.72\n"
     ]
    }
   ],
   "source": [
    "dbscan = DBSCAN(eps=5, min_samples= 15)\n",
    "dbscan.fit(df_sample.BPM.values.reshape(-1,1))\n",
    "\n",
    "score = silhouette_score(df_sample.BPM.values.reshape(-1,1),dbscan.labels_)\n",
    "print (x,np.unique(dbscan.labels_),round(score,2))\n"
   ]
  },
  {
   "cell_type": "code",
   "execution_count": 229,
   "metadata": {},
   "outputs": [
    {
     "name": "stdout",
     "output_type": "stream",
     "text": [
      "numpy (10000,)\n"
     ]
    },
    {
     "data": {
      "text/plain": [
       "array([-1,  0])"
      ]
     },
     "execution_count": 229,
     "metadata": {},
     "output_type": "execute_result"
    }
   ],
   "source": [
    "oftype(dbscan.labels_)\n",
    "np.unique(dbscan.labels_)"
   ]
  },
  {
   "cell_type": "code",
   "execution_count": null,
   "metadata": {},
   "outputs": [],
   "source": [
    "print (\"dbs"
   ]
  }
 ],
 "metadata": {
  "kernelspec": {
   "display_name": "Python 3",
   "language": "python",
   "name": "python3"
  },
  "language_info": {
   "codemirror_mode": {
    "name": "ipython",
    "version": 3
   },
   "file_extension": ".py",
   "mimetype": "text/x-python",
   "name": "python",
   "nbconvert_exporter": "python",
   "pygments_lexer": "ipython3",
   "version": "3.7.3"
  }
 },
 "nbformat": 4,
 "nbformat_minor": 4
}
