{
 "cells": [
  {
   "cell_type": "code",
   "execution_count": 1,
   "metadata": {},
   "outputs": [],
   "source": [
    "# import libraries\n",
    "import pandas as pd\n",
    "import numpy as np\n",
    "import os\n",
    "import matplotlib.pyplot as plt\n",
    "from timeit import default_timer as timer\n",
    "from sklearn.cluster import KMeans\n",
    "from sklearn.metrics import silhouette_samples, silhouette_score\n",
    "import collections\n",
    "import helpers\n",
    "from helpers import *"
   ]
  },
  {
   "cell_type": "code",
   "execution_count": 2,
   "metadata": {},
   "outputs": [
    {
     "data": {
      "text/plain": [
       "'/Users/thomasspringett/github/heartrate'"
      ]
     },
     "execution_count": 2,
     "metadata": {},
     "output_type": "execute_result"
    }
   ],
   "source": [
    "%pwd"
   ]
  },
  {
   "cell_type": "code",
   "execution_count": 3,
   "metadata": {},
   "outputs": [
    {
     "data": {
      "text/html": [
       "<div>\n",
       "<style scoped>\n",
       "    .dataframe tbody tr th:only-of-type {\n",
       "        vertical-align: middle;\n",
       "    }\n",
       "\n",
       "    .dataframe tbody tr th {\n",
       "        vertical-align: top;\n",
       "    }\n",
       "\n",
       "    .dataframe thead th {\n",
       "        text-align: right;\n",
       "    }\n",
       "</style>\n",
       "<table border=\"1\" class=\"dataframe\">\n",
       "  <thead>\n",
       "    <tr style=\"text-align: right;\">\n",
       "      <th></th>\n",
       "      <th>BPM</th>\n",
       "    </tr>\n",
       "  </thead>\n",
       "  <tbody>\n",
       "    <tr>\n",
       "      <th>0</th>\n",
       "      <td>77</td>\n",
       "    </tr>\n",
       "    <tr>\n",
       "      <th>1</th>\n",
       "      <td>69</td>\n",
       "    </tr>\n",
       "    <tr>\n",
       "      <th>2</th>\n",
       "      <td>69</td>\n",
       "    </tr>\n",
       "    <tr>\n",
       "      <th>3</th>\n",
       "      <td>69</td>\n",
       "    </tr>\n",
       "    <tr>\n",
       "      <th>4</th>\n",
       "      <td>69</td>\n",
       "    </tr>\n",
       "  </tbody>\n",
       "</table>\n",
       "</div>"
      ],
      "text/plain": [
       "   BPM\n",
       "0   77\n",
       "1   69\n",
       "2   69\n",
       "3   69\n",
       "4   69"
      ]
     },
     "execution_count": 3,
     "metadata": {},
     "output_type": "execute_result"
    }
   ],
   "source": [
    "csv_file = 'data/HeartRateData.csv'\n",
    "df_raw = pd.read_csv(csv_file)\n",
    "df_raw=df_raw.drop('DateTime',1)\n",
    "df_raw.head()"
   ]
  },
  {
   "cell_type": "code",
   "execution_count": 4,
   "metadata": {},
   "outputs": [
    {
     "name": "stdout",
     "output_type": "stream",
     "text": [
      "count    349768.0\n",
      "mean         78.0\n",
      "std          24.0\n",
      "min          30.0\n",
      "25%          61.0\n",
      "50%          69.0\n",
      "75%          86.0\n",
      "max         215.0\n",
      "Name: BPM, dtype: float64\n"
     ]
    }
   ],
   "source": [
    "print (round(df_raw.BPM.describe()))\n",
    " "
   ]
  },
  {
   "cell_type": "code",
   "execution_count": 5,
   "metadata": {},
   "outputs": [],
   "source": [
    "def zones(df_raw, age):\n",
    "    max_hr = 220 - age\n",
    "    target_low = 0.64*max_hr\n",
    "    target_high = 0.76*max_hr\n",
    "    target_intensity_lo = 0.76*max_hr\n",
    "    target_intensity_hi = 0.93*max_hr\n",
    "    print (\"For Age: {} Maximum HR: {}\".format(age,max_hr))\n",
    "    print (\"Target HR Lower Bound:\", target_low)\n",
    "    print (\"Target HR Upper Bound:\", target_high)\n",
    "    print (\"Target HR Intensity Upper Bound:\", target_intensity_hi)\n",
    "    return max_hr, target_low, target_high, target_intensity_lo, target_intensity_hi"
   ]
  },
  {
   "cell_type": "code",
   "execution_count": 6,
   "metadata": {},
   "outputs": [
    {
     "name": "stdout",
     "output_type": "stream",
     "text": [
      "For Age: 62 Maximum HR: 158\n",
      "Target HR Lower Bound: 101.12\n",
      "Target HR Upper Bound: 120.08\n",
      "Target HR Intensity Upper Bound: 146.94\n"
     ]
    }
   ],
   "source": [
    "max_hr, target_low, target_high, target_intensity_lo, target_intensity_hi = zones(df_raw,62)"
   ]
  },
  {
   "cell_type": "code",
   "execution_count": 7,
   "metadata": {},
   "outputs": [],
   "source": [
    "def plot_data_histo(totals): \n",
    "    #Histogram of the number of missing values per column (featrure).\n",
    "    xref = [max_hr,target_low, target_high,target_intensity_hi]\n",
    "    ref_colors=['r','g','y','b']\n",
    "\n",
    "    for ref, c in zip(xref,ref_colors):\n",
    "        plt.axvline(x=ref, c=c, label= 'ref at = {}'.format(ref))\n",
    "    plt.legend()\n",
    "    plt.grid(True)\n",
    "    plt.xlabel('Beats/Minute')\n",
    "    plt.ylabel('Count')\n",
    "    plt.title('Heart Rate Distribution')\n",
    "    plt.hist(df_raw.BPM,50)\n",
    "    plt.show()"
   ]
  },
  {
   "cell_type": "code",
   "execution_count": 8,
   "metadata": {},
   "outputs": [
    {
     "data": {
      "image/png": "[encoded data removed]",
      "text/plain": [
       "<Figure size 432x288 with 1 Axes>"
      ]
     },
     "metadata": {
      "needs_background": "light"
     },
     "output_type": "display_data"
    }
   ],
   "source": [
    "#print (df.BPM)\n",
    "plot_data_histo(df_raw.BPM)"
   ]
  },
  {
   "cell_type": "code",
   "execution_count": 9,
   "metadata": {},
   "outputs": [],
   "source": [
    "#df_raw.BPM.quantile([0.95,0.98,0.99])"
   ]
  },
  {
   "cell_type": "code",
   "execution_count": 10,
   "metadata": {},
   "outputs": [
    {
     "name": "stdout",
     "output_type": "stream",
     "text": [
      "Applying hardware limit of 210bpm resulted in dropping 314 data points.\n"
     ]
    }
   ],
   "source": [
    "hardware_limit = 210\n",
    "df = df_raw[(df_raw.BPM < hardware_limit)]\n",
    "num_screened = df_raw.shape[0]-df.shape[0]\n",
    "print (\"Applying hardware limit of {}bpm resulted in dropping {} data points.\".format(hardware_limit,num_screened))"
   ]
  },
  {
   "cell_type": "code",
   "execution_count": 11,
   "metadata": {},
   "outputs": [],
   "source": [
    "\n",
    "def scree_KMeans_plot(data,num_clusters):\n",
    "    clusterCenters = [] \n",
    "    scores = [] \n",
    "    k_values = []\n",
    "    start = timer()\n",
    "    for k in range(1,num_clusters):\n",
    "        k_values.append(k)\n",
    "        kmeans = KMeans(n_clusters=k)\n",
    "        model = kmeans.fit(data)\n",
    "        print (\"\\nCluster {}: {}\".format(k,model.cluster_centers_))\n",
    "        clusterCenters.append(model.cluster_centers_)\n",
    "        labels = kmeans.predict(data)\n",
    "        print (\"Cluster Label: \",labels)\n",
    "        score = -(kmeans.score(data))\n",
    "        print (\"score: \",round(score/100000000,2))\n",
    "        scores.append(score)\n",
    "    plt.plot(k_values, scores, marker = 'o')\n",
    "    plt.ylabel('K-Cluster Score')\n",
    "    plt.xlabel('k value')\n",
    "    plt.title('Number of Clusters vs KMeans Score')\n",
    "    plt.savefig('Cluster_vs_score_plot.png')\n",
    "    plt.show()\n",
    "    end = timer() \n",
    "    print(f\"\\nFunction in {(end - start)/60:0.1f} minutes\")\n",
    "    return k_values, scores, labels"
   ]
  },
  {
   "cell_type": "code",
   "execution_count": 12,
   "metadata": {
    "scrolled": true
   },
   "outputs": [
    {
     "name": "stdout",
     "output_type": "stream",
     "text": [
      "\n",
      "Cluster 1: [[77.52634109]]\n",
      "Cluster Label:  [0 0 0 ... 0 0 0]\n",
      "score:  1.89\n",
      "\n",
      "Cluster 2: [[ 67.39849131]\n",
      " [115.66932624]]\n",
      "Cluster Label:  [0 0 0 ... 0 0 0]\n",
      "score:  0.54\n",
      "\n",
      "Cluster 3: [[ 87.68667061]\n",
      " [127.76962689]\n",
      " [ 63.25309656]]\n",
      "Cluster Label:  [0 2 2 ... 2 2 2]\n",
      "score:  0.28\n",
      "\n",
      "Cluster 4: [[104.35769113]\n",
      " [ 78.97879596]\n",
      " [ 61.66033189]\n",
      " [138.25791948]]\n",
      "Cluster Label:  [1 2 2 ... 2 2 2]\n",
      "score:  0.17\n",
      "\n",
      "Cluster 5: [[ 59.53639126]\n",
      " [111.37086986]\n",
      " [ 71.85607837]\n",
      " [142.22547081]\n",
      " [ 88.60821494]]\n",
      "Cluster Label:  [2 2 2 ... 0 0 0]\n",
      "score:  0.12\n",
      "\n",
      "Cluster 6: [[ 71.85607837]\n",
      " [134.60010654]\n",
      " [ 59.53639126]\n",
      " [108.8175716 ]\n",
      " [180.75193399]\n",
      " [ 88.25771775]]\n",
      "Cluster Label:  [0 0 0 ... 2 2 2]\n",
      "score:  0.09\n",
      "\n",
      "Cluster 7: [[ 68.44468475]\n",
      " [137.60192538]\n",
      " [ 95.9458388 ]\n",
      " [ 58.39574023]\n",
      " [183.74633861]\n",
      " [ 80.78030018]\n",
      " [114.03523166]]\n",
      "Cluster Label:  [5 0 0 ... 3 3 3]\n",
      "score:  0.06\n",
      "\n",
      "Cluster 8: [[ 66.6416811 ]\n",
      " [107.14831804]\n",
      " [ 57.91997182]\n",
      " [144.84094667]\n",
      " [ 90.36041616]\n",
      " [187.34594223]\n",
      " [ 76.86944039]\n",
      " [125.71840257]]\n",
      "Cluster Label:  [6 0 0 ... 2 0 2]\n",
      "score:  0.05\n",
      "\n",
      "Cluster 9: [[ 84.51042071]\n",
      " [145.04472404]\n",
      " [ 57.91997182]\n",
      " [111.51392442]\n",
      " [ 97.03264808]\n",
      " [ 66.2985272 ]\n",
      " [187.34594223]\n",
      " [127.32601637]\n",
      " [ 74.6665912 ]]\n",
      "Cluster Label:  [8 5 5 ... 2 5 2]\n",
      "score:  0.04\n"
     ]
    },
    {
     "data": {
      "image/png": "[encoded data removed]",
      "text/plain": [
       "<Figure size 432x288 with 1 Axes>"
      ]
     },
     "metadata": {
      "needs_background": "light"
     },
     "output_type": "display_data"
    },
    {
     "name": "stdout",
     "output_type": "stream",
     "text": [
      "\n",
      "Function in 0.4 minutes\n",
      "<zip object at 0x7fc339c97648>\n"
     ]
    }
   ],
   "source": [
    "k_values, scores, labels = scree_KMeans_plot(df,10) \n",
    "k = zip(k_values, scores)\n",
    "print (k)"
   ]
  },
  {
   "cell_type": "code",
   "execution_count": 20,
   "metadata": {},
   "outputs": [
    {
     "data": {
      "text/html": [
       "<div>\n",
       "<style scoped>\n",
       "    .dataframe tbody tr th:only-of-type {\n",
       "        vertical-align: middle;\n",
       "    }\n",
       "\n",
       "    .dataframe tbody tr th {\n",
       "        vertical-align: top;\n",
       "    }\n",
       "\n",
       "    .dataframe thead th {\n",
       "        text-align: right;\n",
       "    }\n",
       "</style>\n",
       "<table border=\"1\" class=\"dataframe\">\n",
       "  <thead>\n",
       "    <tr style=\"text-align: right;\">\n",
       "      <th></th>\n",
       "      <th>BPM</th>\n",
       "      <th>Label</th>\n",
       "    </tr>\n",
       "  </thead>\n",
       "  <tbody>\n",
       "    <tr>\n",
       "      <th>349762</th>\n",
       "      <td>62</td>\n",
       "      <td>2</td>\n",
       "    </tr>\n",
       "    <tr>\n",
       "      <th>349763</th>\n",
       "      <td>67</td>\n",
       "      <td>5</td>\n",
       "    </tr>\n",
       "    <tr>\n",
       "      <th>349764</th>\n",
       "      <td>61</td>\n",
       "      <td>2</td>\n",
       "    </tr>\n",
       "    <tr>\n",
       "      <th>349765</th>\n",
       "      <td>63</td>\n",
       "      <td>5</td>\n",
       "    </tr>\n",
       "    <tr>\n",
       "      <th>349766</th>\n",
       "      <td>62</td>\n",
       "      <td>2</td>\n",
       "    </tr>\n",
       "  </tbody>\n",
       "</table>\n",
       "</div>"
      ],
      "text/plain": [
       "        BPM  Label\n",
       "349762   62      2\n",
       "349763   67      5\n",
       "349764   61      2\n",
       "349765   63      5\n",
       "349766   62      2"
      ]
     },
     "execution_count": 20,
     "metadata": {},
     "output_type": "execute_result"
    }
   ],
   "source": [
    "labels.shape\n",
    "if not 'Label' in df: \n",
    "    df.insert(1,\"Label\",labels)\n",
    "df.tail(5)\n"
   ]
  },
  {
   "cell_type": "code",
   "execution_count": 40,
   "metadata": {},
   "outputs": [
    {
     "name": "stdout",
     "output_type": "stream",
     "text": [
      "   BPM\n",
      "0   77\n",
      "1   69\n",
      "2   69\n",
      "3   69\n",
      "4   69\n",
      "   BPM\n",
      "0   77\n",
      "1   69\n",
      "2   69\n",
      "3   69\n",
      "4   69\n",
      "\n",
      "Cluster <zip object at 0x7fc339c97648>: [[ 67.39849131]\n",
      " [115.66932624]]\n",
      "Cluster Label:  [0 0 0 ... 0 0 0]\n",
      "   BPM  Label\n",
      "0   77      0\n",
      "1   69      0\n",
      "2   69      0\n",
      "3   69      0\n",
      "4   69      0\n"
     ]
    },
    {
     "ename": "NameError",
     "evalue": "name 'x' is not defined",
     "output_type": "error",
     "traceback": [
      "\u001b[0;31m---------------------------------------------------------------------------\u001b[0m",
      "\u001b[0;31mNameError\u001b[0m                                 Traceback (most recent call last)",
      "\u001b[0;32m<ipython-input-40-a495ee5a43f2>\u001b[0m in \u001b[0;36m<module>\u001b[0;34m\u001b[0m\n\u001b[1;32m     15\u001b[0m     \u001b[0mprint\u001b[0m \u001b[0;34m(\u001b[0m\u001b[0mx\u001b[0m\u001b[0;34m)\u001b[0m\u001b[0;34m\u001b[0m\u001b[0;34m\u001b[0m\u001b[0m\n\u001b[1;32m     16\u001b[0m \u001b[0;34m\u001b[0m\u001b[0m\n\u001b[0;32m---> 17\u001b[0;31m \u001b[0mclusters_plot\u001b[0m\u001b[0;34m(\u001b[0m\u001b[0mdf\u001b[0m\u001b[0;34m)\u001b[0m\u001b[0;34m\u001b[0m\u001b[0;34m\u001b[0m\u001b[0m\n\u001b[0m",
      "\u001b[0;32m<ipython-input-40-a495ee5a43f2>\u001b[0m in \u001b[0;36mclusters_plot\u001b[0;34m(df)\u001b[0m\n\u001b[1;32m     13\u001b[0m     \u001b[0mprint\u001b[0m \u001b[0;34m(\u001b[0m\u001b[0mdf\u001b[0m\u001b[0;34m.\u001b[0m\u001b[0mhead\u001b[0m\u001b[0;34m(\u001b[0m\u001b[0;34m)\u001b[0m\u001b[0;34m)\u001b[0m\u001b[0;34m\u001b[0m\u001b[0;34m\u001b[0m\u001b[0m\n\u001b[1;32m     14\u001b[0m     \u001b[0mcluster\u001b[0m \u001b[0;34m=\u001b[0m \u001b[0mdf\u001b[0m\u001b[0;34m.\u001b[0m\u001b[0mloc\u001b[0m\u001b[0;34m[\u001b[0m\u001b[0mdf\u001b[0m\u001b[0;34m[\u001b[0m\u001b[0;34m'Label'\u001b[0m\u001b[0;34m]\u001b[0m \u001b[0;34m==\u001b[0m \u001b[0;36m8\u001b[0m\u001b[0;34m]\u001b[0m\u001b[0;34m\u001b[0m\u001b[0;34m\u001b[0m\u001b[0m\n\u001b[0;32m---> 15\u001b[0;31m     \u001b[0mprint\u001b[0m \u001b[0;34m(\u001b[0m\u001b[0mx\u001b[0m\u001b[0;34m)\u001b[0m\u001b[0;34m\u001b[0m\u001b[0;34m\u001b[0m\u001b[0m\n\u001b[0m\u001b[1;32m     16\u001b[0m \u001b[0;34m\u001b[0m\u001b[0m\n\u001b[1;32m     17\u001b[0m \u001b[0mclusters_plot\u001b[0m\u001b[0;34m(\u001b[0m\u001b[0mdf\u001b[0m\u001b[0;34m)\u001b[0m\u001b[0;34m\u001b[0m\u001b[0;34m\u001b[0m\u001b[0m\n",
      "\u001b[0;31mNameError\u001b[0m: name 'x' is not defined"
     ]
    }
   ],
   "source": [
    "def clusters_plot(df):\n",
    "    print (df.head())\n",
    "    if  'Label' in df: \n",
    "        df.drop(\"Label\",axis='columns',inplace=True)\n",
    "    print (df.head())\n",
    "    kmeans = KMeans(n_clusters=2)\n",
    "    model = kmeans.fit(df)\n",
    "    print (\"\\nCluster {}: {}\".format(k,model.cluster_centers_))\n",
    "    labels = kmeans.predict(df)\n",
    "    print (\"Cluster Label: \",labels)\n",
    "   \n",
    "    df.insert(1,\"Label\",labels)\n",
    "    print (df.head())\n",
    "    cluster = df.loc[df['Label'] == 8]\n",
    "    print (x)\n",
    "        \n",
    "clusters_plot(df)"
   ]
  },
  {
   "cell_type": "code",
   "execution_count": 14,
   "metadata": {},
   "outputs": [
    {
     "name": "stdout",
     "output_type": "stream",
     "text": [
      "KMeans Labels:  [0 1 2 3 4 5 6 7 8]\n"
     ]
    }
   ],
   "source": [
    "print (\"KMeans Labels: \",np.unique(labels))     "
   ]
  },
  {
   "cell_type": "code",
   "execution_count": 15,
   "metadata": {},
   "outputs": [
    {
     "name": "stdout",
     "output_type": "stream",
     "text": [
      "1.89\n",
      "0.54\n",
      "0.28\n",
      "0.17\n",
      "0.12\n",
      "0.09\n",
      "0.06\n",
      "0.05\n",
      "0.04\n",
      "1 0.54 248.0\n",
      "2 0.28 92.0\n",
      "3 0.17 63.0\n",
      "4 0.12 43.0\n",
      "5 0.09 38.0\n",
      "6 0.06 37.0\n",
      "7 0.05 33.0\n",
      "8 0.04 25.0\n",
      "Less than 10% improvement in score after k = 8\n"
     ]
    }
   ],
   "source": [
    "for score in scores:\n",
    "    print (round(score/100000000,2))\n",
    "def findK(df,limit): \n",
    "    for k in range(len(df)):\n",
    "        if k > 0:\n",
    "          improvement = (round(100*((df[k-1]-df[k])/df[k])))\n",
    "          print (k,round(df[k]/100000000,2),improvement)\n",
    "          if improvement < limit:\n",
    "                break \n",
    "    print (\"Less than {}% improvement in score after k = {}\".format(limit,k))\n",
    "findK(scores,10)      "
   ]
  },
  {
   "cell_type": "code",
   "execution_count": 16,
   "metadata": {},
   "outputs": [
    {
     "name": "stdout",
     "output_type": "stream",
     "text": [
      "CPU times: user 6 µs, sys: 0 ns, total: 6 µs\n",
      "Wall time: 12.2 µs\n"
     ]
    }
   ],
   "source": [
    "%%time\n",
    "def silhouetteScore(df): \n",
    "    sil_scores = [] \n",
    "    start = timer()\n",
    "    range_n_clusters = list(range(2,10))\n",
    "    for n_clusters in range_n_clusters:\n",
    "        kmeans = KMeans(n_clusters=n_clusters, random_state=10)\n",
    "        cluster_labels = kmeans.fit_predict(df)\n",
    "        score = silhouette_score(df,cluster_labels)\n",
    "        sil_scores.append(score)\n",
    "        print(\"For n_clusters = {}, silhouette score is {}\".format(n_clusters, score))\n",
    "        end=timer()\n",
    "        print(f\"\\nFunction in {(end - start)/60:0.1f} minutes\")\n",
    "    return sil_scores"
   ]
  },
  {
   "cell_type": "code",
   "execution_count": 17,
   "metadata": {},
   "outputs": [],
   "source": [
    "#sil_scores = silhouetteScore(df)"
   ]
  },
  {
   "cell_type": "code",
   "execution_count": 18,
   "metadata": {},
   "outputs": [
    {
     "ename": "NameError",
     "evalue": "name 'pickle' is not defined",
     "output_type": "error",
     "traceback": [
      "\u001b[0;31m---------------------------------------------------------------------------\u001b[0m",
      "\u001b[0;31mNameError\u001b[0m                                 Traceback (most recent call last)",
      "\u001b[0;32m<ipython-input-18-3dd2eec15ca1>\u001b[0m in \u001b[0;36m<module>\u001b[0;34m\u001b[0m\n\u001b[0;32m----> 1\u001b[0;31m \u001b[0mpickle\u001b[0m\u001b[0;34m.\u001b[0m\u001b[0mdump\u001b[0m\u001b[0;34m(\u001b[0m\u001b[0msil_scores\u001b[0m\u001b[0;34m,\u001b[0m\u001b[0mopen\u001b[0m\u001b[0;34m(\u001b[0m\u001b[0;34m'data/silhouetteScores'\u001b[0m\u001b[0;34m,\u001b[0m\u001b[0;34m'wb'\u001b[0m\u001b[0;34m)\u001b[0m\u001b[0;34m)\u001b[0m\u001b[0;34m\u001b[0m\u001b[0;34m\u001b[0m\u001b[0m\n\u001b[0m\u001b[1;32m      2\u001b[0m \u001b[0msilhouette\u001b[0m \u001b[0;34m=\u001b[0m \u001b[0mpickle\u001b[0m\u001b[0;34m.\u001b[0m\u001b[0mload\u001b[0m\u001b[0;34m(\u001b[0m\u001b[0mopen\u001b[0m\u001b[0;34m(\u001b[0m\u001b[0;34m'data/silhouetteScores'\u001b[0m\u001b[0;34m,\u001b[0m \u001b[0;34m'rb'\u001b[0m\u001b[0;34m)\u001b[0m\u001b[0;34m)\u001b[0m\u001b[0;34m\u001b[0m\u001b[0;34m\u001b[0m\u001b[0m\n\u001b[1;32m      3\u001b[0m \u001b[0mprint\u001b[0m \u001b[0;34m(\u001b[0m\u001b[0;34m\"Sil Scores: \"\u001b[0m\u001b[0;34m,\u001b[0m\u001b[0msilhouette\u001b[0m\u001b[0;34m)\u001b[0m\u001b[0;34m\u001b[0m\u001b[0;34m\u001b[0m\u001b[0m\n",
      "\u001b[0;31mNameError\u001b[0m: name 'pickle' is not defined"
     ]
    }
   ],
   "source": [
    "pickle.dump(sil_scores,open('data/silhouetteScores','wb'))\n",
    "silhouette = pickle.load(open('data/silhouetteScores', 'rb'))\n",
    "print (\"Sil Scores: \",silhouette)"
   ]
  },
  {
   "cell_type": "code",
   "execution_count": null,
   "metadata": {},
   "outputs": [],
   "source": [
    "def silhouette_plot(scores, k_values):\n",
    "    start = timer()\n",
    "    plt.plot(k_values, scores, marker = 'o')\n",
    "    plt.ylabel('Silhouette Score')\n",
    "    plt.xlabel('k value')\n",
    "    plt.title('Silhouete For Best K')\n",
    "    plt.show()\n",
    "    end = timer() \n",
    "    print(f\"\\nFunction in {(end - start)/60:0.1f} minutes\")"
   ]
  },
  {
   "cell_type": "code",
   "execution_count": null,
   "metadata": {},
   "outputs": [],
   "source": [
    "silhouette_plot(sil_scores,k_values)"
   ]
  },
  {
   "cell_type": "code",
   "execution_count": null,
   "metadata": {},
   "outputs": [],
   "source": [
    "# Maximum Heart Rate: 200 - 1/2 age. Harvard Health News \n",
    "#Target Heart Rate Zone: 60%-75%. 70 yr old max would be 165 and target of 99 to 124. Harvard Health News.\n",
    "# Maxiumum Heart Rate is 200 - Age. CDC. \n",
    "# Target Heart Rate is 64% to 76%. CDC. \n",
    "# Intenisty target heart rate is 77% to 93%. CDC. \n",
    "# Polar.com: \n",
    "# 5 Zones. 1: very light at 60-70% of HRMAX. Boost recovery, \n",
    "#2: light at 60-70% improve general endurance and increase capillary density. , \n",
    "#3:moderate at 70-80%.Lactic acid build up, improve efficiency of blood circulation in the heart and muscles\n",
    "#4: Hard 80-90%, 5: Maximum 90-100%. \n",
    "#5 - improve speed endurance. "
   ]
  },
  {
   "cell_type": "code",
   "execution_count": null,
   "metadata": {},
   "outputs": [],
   "source": [
    "#Count number in each cluster for general population \n",
    "clusterDict = collections.Counter(labels)\n",
    "#print (clusterDict)\n",
    "\n",
    "clusterSum = sum(clusterDict.values())\n",
    "\n",
    "for key,value in sorted(clusterDict.items()): \n",
    "    print (key, ' ->',np.round(100*value/clusterSum,2),'%')"
   ]
  },
  {
   "cell_type": "code",
   "execution_count": null,
   "metadata": {},
   "outputs": [],
   "source": [
    "def make_histos(df_col1,df_col2,df_col3,df_col4,df_col5,df_col6):\n",
    "   \n",
    "    bins = 20\n",
    "    bins = np.linspace(0, 10, 50)\n",
    "    \n",
    "    column1, df1, df2 = df_col1\n",
    "    column2, df3, df4 = df_col2\n",
    "    column3, df5, df6 = df_col3\n",
    "    column4, df7, df8 = df_col4\n",
    "    column5, df9, df10 = df_col5\n",
    "    column6, df11, df12 = df_col6\n",
    "\n",
    "    fig, ax = plt.subplots(2,3, sharex=True,sharey=True,figsize=(14,4),gridspec_kw={'hspace': 0.3})\n",
    "    \n",
    "    ax0, ax1,ax2,ax3,ax4,ax5 = ax.flatten()\n",
    "     \n",
    "    ax0.hist(df1,bins,label='Lower',histtype='bar',stacked = False)\n",
    "    ax0.hist(df2,bins,label='Higher',histtype='bar', stacked = False)\n",
    "    ax0.set_title('Category: ' + column1)\n",
    "    ax0.legend(loc='upper right')\n",
    "    ax0.grid(True)\n",
    "    \n",
    "    ax1.hist(df3,bins,label='Lower',stacked = False)\n",
    "    ax1.hist(df4,bins,label='Higher',stacked = False)\n",
    "    ax1.set_title('Category: ' + column2)\n",
    "    ax1.legend(loc='upper right')\n",
    "    ax1.grid(True)\n",
    "    \n",
    "    ax2.hist(df5,bins,label='Lower',stacked = False)\n",
    "    ax2.hist(df6,bins,label='Higher',stacked = False)\n",
    "    ax2.set_title('Category: ' + column3)\n",
    "    ax2.legend(loc='upper right')\n",
    "    ax2.grid(True)\n",
    "        \n",
    "    ax3.hist(df7,bins,label='Lower',stacked = False)\n",
    "    ax3.hist(df8,bins,label='Higher',stacked = False)\n",
    "    ax3.set_title('Category: ' + column4)\n",
    "    ax3.legend(loc='upper right')\n",
    "    ax3.grid(True)\n",
    "    \n",
    "    ax4.hist(df9,bins,label='Lower',stacked = False)\n",
    "    ax4.hist(df10,bins,label='Higher',stacked = False)\n",
    "    ax4.set_title('Category: ' + column5)\n",
    "    ax4.legend(loc='upper right')\n",
    "    ax4.grid(True)\n",
    "    \n",
    "    ax5.hist(df11,bins,label='Lower',stacked = False)\n",
    "    ax5.hist(df12,bins,label='Higher',stacked = False)\n",
    "    ax5.set_title('Category: ' + column6)\n",
    "    ax5.legend(loc='upper right')\n",
    "    ax5.grid(True)\n",
    "    \n",
    "    plt.subplots_adjust(wspace= 0.1)\n",
    "    plt.legend(loc='upper right')\n",
    " \n",
    "    fig.text(0.5,0.04,'Category Code', ha='center')\n",
    "    fig.text(0.04,0.5,'Number of Rows', va='center', rotation='vertical')\n",
    "    plt.show()\n",
    "    return\n",
    "\n"
   ]
  }
 ],
 "metadata": {
  "kernelspec": {
   "display_name": "Python 3",
   "language": "python",
   "name": "python3"
  },
  "language_info": {
   "codemirror_mode": {
    "name": "ipython",
    "version": 3
   },
   "file_extension": ".py",
   "mimetype": "text/x-python",
   "name": "python",
   "nbconvert_exporter": "python",
   "pygments_lexer": "ipython3",
   "version": "3.7.3"
  }
 },
 "nbformat": 4,
 "nbformat_minor": 4
}
