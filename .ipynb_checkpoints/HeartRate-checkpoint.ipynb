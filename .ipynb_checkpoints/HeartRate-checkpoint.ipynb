{
 "cells": [
  {
   "cell_type": "code",
   "execution_count": 110,
   "metadata": {},
   "outputs": [],
   "source": [
    "# import libraries\n",
    "import pandas as pd\n",
    "import numpy as np\n",
    "import os\n",
    "import matplotlib.pyplot as plt\n",
    "from timeit import default_timer as timer\n",
    "from sklearn.cluster import KMeans\n",
    "from sklearn.metrics import silhouette_samples, silhouette_score\n",
    "import collections\n",
    "import helpers\n",
    "from helpers import *\n",
    "import pickle\n",
    "from matplotlib.pyplot import figure\n",
    "%matplotlib inline\n",
    "import warnings\n",
    "\n",
    "def fxn():\n",
    "    warnings.warn(\"deprecated\", DeprecationWarning)\n",
    "\n",
    "with warnings.catch_warnings():\n",
    "    warnings.simplefilter(\"ignore\")\n",
    "    fxn()"
   ]
  },
  {
   "cell_type": "code",
   "execution_count": 2,
   "metadata": {},
   "outputs": [
    {
     "data": {
      "text/plain": [
       "'/Users/thomasspringett/Git/HeartRate'"
      ]
     },
     "execution_count": 2,
     "metadata": {},
     "output_type": "execute_result"
    }
   ],
   "source": [
    "%pwd"
   ]
  },
  {
   "cell_type": "code",
   "execution_count": 102,
   "metadata": {},
   "outputs": [
    {
     "data": {
      "text/html": [
       "<div>\n",
       "<style scoped>\n",
       "    .dataframe tbody tr th:only-of-type {\n",
       "        vertical-align: middle;\n",
       "    }\n",
       "\n",
       "    .dataframe tbody tr th {\n",
       "        vertical-align: top;\n",
       "    }\n",
       "\n",
       "    .dataframe thead th {\n",
       "        text-align: right;\n",
       "    }\n",
       "</style>\n",
       "<table border=\"1\" class=\"dataframe\">\n",
       "  <thead>\n",
       "    <tr style=\"text-align: right;\">\n",
       "      <th></th>\n",
       "      <th>BPM</th>\n",
       "    </tr>\n",
       "  </thead>\n",
       "  <tbody>\n",
       "    <tr>\n",
       "      <td>0</td>\n",
       "      <td>77</td>\n",
       "    </tr>\n",
       "    <tr>\n",
       "      <td>1</td>\n",
       "      <td>69</td>\n",
       "    </tr>\n",
       "    <tr>\n",
       "      <td>2</td>\n",
       "      <td>69</td>\n",
       "    </tr>\n",
       "  </tbody>\n",
       "</table>\n",
       "</div>"
      ],
      "text/plain": [
       "   BPM\n",
       "0   77\n",
       "1   69\n",
       "2   69"
      ]
     },
     "execution_count": 102,
     "metadata": {},
     "output_type": "execute_result"
    }
   ],
   "source": [
    "csv_file = 'data/HeartRateData.csv'\n",
    "df_raw = pd.read_csv(csv_file)\n",
    "df_raw=df_raw.drop('DateTime',1)\n",
    "df_raw.head(3)"
   ]
  },
  {
   "cell_type": "code",
   "execution_count": 106,
   "metadata": {},
   "outputs": [
    {
     "name": "stdout",
     "output_type": "stream",
     "text": [
      "count    349768.0\n",
      "mean         78.0\n",
      "std          24.0\n",
      "min          30.0\n",
      "25%          61.0\n",
      "50%          69.0\n",
      "75%          86.0\n",
      "max         215.0\n",
      "Name: BPM, dtype: float64\n"
     ]
    }
   ],
   "source": [
    "print (round(df_raw.BPM.describe()))\n"
   ]
  },
  {
   "cell_type": "code",
   "execution_count": 5,
   "metadata": {},
   "outputs": [],
   "source": [
    "def zones(df_raw, age):\n",
    "    max_hr = 220 - age\n",
    "    target_low = 0.64*max_hr\n",
    "    target_high = 0.76*max_hr\n",
    "    target_intensity_lo = 0.76*max_hr\n",
    "    target_intensity_hi = 0.93*max_hr\n",
    "    print (\"For Age: {} Maximum HR: {}\".format(age,max_hr))\n",
    "    print (\"Target HR Lower Bound:\", target_low)\n",
    "    print (\"Target HR Upper Bound:\", target_high)\n",
    "    print (\"Target HR Intensity Upper Bound:\", target_intensity_hi)\n",
    "    return max_hr, target_low, target_high, target_intensity_lo, target_intensity_hi"
   ]
  },
  {
   "cell_type": "code",
   "execution_count": 6,
   "metadata": {},
   "outputs": [
    {
     "name": "stdout",
     "output_type": "stream",
     "text": [
      "For Age: 62 Maximum HR: 158\n",
      "Target HR Lower Bound: 101.12\n",
      "Target HR Upper Bound: 120.08\n",
      "Target HR Intensity Upper Bound: 146.94\n"
     ]
    }
   ],
   "source": [
    "max_hr, target_low, target_high, target_intensity_lo, target_intensity_hi = zones(df_raw,62)"
   ]
  },
  {
   "cell_type": "code",
   "execution_count": 7,
   "metadata": {},
   "outputs": [],
   "source": [
    "def plot_data_histo(totals): \n",
    "    #Histogram of the number of missing values per column (featrure).\n",
    "    xref = [max_hr,target_low, target_high,target_intensity_hi]\n",
    "    ref_colors=['r','g','y','b']\n",
    "\n",
    "    for ref, c in zip(xref,ref_colors):\n",
    "        plt.axvline(x=ref, c=c, label= 'ref at = {}'.format(ref))\n",
    "    plt.legend()\n",
    "    plt.grid(True)\n",
    "    plt.xlabel('Beats/Minute')\n",
    "    plt.ylabel('Count')\n",
    "    plt.title('Heart Rate Distribution')\n",
    "    plt.hist(df_raw.BPM,50)\n",
    "    plt.show()"
   ]
  },
  {
   "cell_type": "code",
   "execution_count": 100,
   "metadata": {},
   "outputs": [],
   "source": [
    "def plot_data_histo1(df): \n",
    "    \n",
    "    if  'Label' in df: \n",
    "        df.drop(\"Label\",axis='columns',inplace=True)\n",
    "    kmeans = KMeans(n_clusters=5)\n",
    "    model = kmeans.fit(df)\n",
    "    centers = np.round(model.cluster_centers_,0)\n",
    "    print (\"\\nCluster {}: {}\".format(k,centers))\n",
    "    labels = kmeans.predict(df)\n",
    "    print (\"KMeans Labels: \",np.unique(labels))   \n",
    "   \n",
    "    df.insert(1,\"Label\",labels)\n",
    "\n",
    "    clusterCounts(labels)\n",
    "    #Histogram of the number of missing values per column (featrure).\n",
    "    xref = [max_hr,target_low, target_high,target_intensity_hi]\n",
    "    ref_colors=['r','g','y','b']\n",
    "\n",
    "    #for ref, c in zip(xref,ref_colors):\n",
    "    #    plt.axvline(x=ref, c=c, label= 'ref at = {}'.format(ref))\n",
    "        \n",
    "    x1 = df.loc[df.Label ==0, 'BPM']\n",
    "    x2 = df.loc[df.Label ==1, 'BPM']\n",
    "    x3 = df.loc[df.Label ==2, 'BPM']\n",
    "    x4 = df.loc[df.Label ==3, 'BPM']\n",
    "    x5 = df.loc[df.Label ==4, 'BPM']\n",
    "    \n",
    "    \n",
    "    plt.figure(figsize=(10,5))\n",
    "    # xticks = np.linspace(30, 200, 50)\n",
    "    kwargs = dict(alpha=0.5)\n",
    "    plt.xticks(np.arange(20, 205, 20))\n",
    "    plt.grid(b=True, which='both', color='0.65', linestyle='-')\n",
    "    \n",
    "    # Turn on the minor TICKS, which are required for the minor GRID\n",
    "    plt.minorticks_on()\n",
    "\n",
    "    # Customize the major grid\n",
    "    plt.grid(which='major', linestyle='-', linewidth='0.5', color='grey')\n",
    "    # Customize the minor grid\n",
    "    plt.grid(which='minor', linestyle=':', linewidth='0.5', color='grey')\n",
    "    \n",
    "\n",
    "    \n",
    "    #plt.grid(True)\n",
    "    plt.title('Heart Rate Distribution')\n",
    "    plt.hist(x1, **kwargs, color='g', label='Zone 1')\n",
    "    plt.hist(x2, **kwargs, color='b', label='Zone 2')\n",
    "    plt.hist(x3, **kwargs, color='r', label='Zone 3')\n",
    "    plt.hist(x4, **kwargs, color='c', label='Zone 4')\n",
    "    plt.hist(x5, **kwargs, color='y', label='Zone 5')\n",
    "    plt.xlim(30,200)\n",
    "    plt.legend()\n",
    "    plt.show()"
   ]
  },
  {
   "cell_type": "code",
   "execution_count": 101,
   "metadata": {},
   "outputs": [
    {
     "name": "stderr",
     "output_type": "stream",
     "text": [
      "/Users/thomasspringett/opt/anaconda3/lib/python3.7/site-packages/pandas/core/frame.py:4102: SettingWithCopyWarning: \n",
      "A value is trying to be set on a copy of a slice from a DataFrame\n",
      "\n",
      "See the caveats in the documentation: http://pandas.pydata.org/pandas-docs/stable/user_guide/indexing.html#returning-a-view-versus-a-copy\n",
      "  errors=errors,\n"
     ]
    },
    {
     "name": "stdout",
     "output_type": "stream",
     "text": [
      "\n",
      "Cluster <zip object at 0x7ff35b2264b0>: [[ 59.]\n",
      " [142.]\n",
      " [ 88.]\n",
      " [ 71.]\n",
      " [111.]]\n",
      "KMeans Labels:  [0 1 2 3 4]\n",
      "0  -> 35.24 %\n",
      "1  -> 5.5 %\n",
      "2  -> 15.89 %\n",
      "3  -> 32.76 %\n",
      "4  -> 10.61 %\n"
     ]
    },
    {
     "data": {
      "image/png": "[encoded data removed]",
      "text/plain": [
       "<Figure size 720x360 with 1 Axes>"
      ]
     },
     "metadata": {
      "needs_background": "light"
     },
     "output_type": "display_data"
    }
   ],
   "source": [
    "plot_data_histo1(df)"
   ]
  },
  {
   "cell_type": "code",
   "execution_count": 32,
   "metadata": {},
   "outputs": [
    {
     "data": {
      "image/png": "[encoded data removed]",
      "text/plain": [
       "<Figure size 432x288 with 1 Axes>"
      ]
     },
     "metadata": {
      "needs_background": "light"
     },
     "output_type": "display_data"
    }
   ],
   "source": [
    "#print (df.BPM)\n",
    "plot_data_histo(df_raw.BPM)"
   ]
  },
  {
   "cell_type": "code",
   "execution_count": 33,
   "metadata": {},
   "outputs": [],
   "source": [
    "#df_raw.BPM.quantile([0.95,0.98,0.99])"
   ]
  },
  {
   "cell_type": "code",
   "execution_count": 34,
   "metadata": {},
   "outputs": [
    {
     "name": "stdout",
     "output_type": "stream",
     "text": [
      "Applying hardware limit of 210bpm resulted in dropping 314 data points.\n"
     ]
    }
   ],
   "source": [
    "hardware_limit = 210\n",
    "df = df_raw[(df_raw.BPM < hardware_limit)]\n",
    "num_screened = df_raw.shape[0]-df.shape[0]\n",
    "print (\"Applying hardware limit of {}bpm resulted in dropping {} data points.\".format(hardware_limit,num_screened))"
   ]
  },
  {
   "cell_type": "markdown",
   "metadata": {},
   "source": [
    " Note that with KMeans clustering the data will not be split into training and test sets. Kmeans clustering is not a classification tool. The data is not labeled."
   ]
  },
  {
   "cell_type": "code",
   "execution_count": 12,
   "metadata": {},
   "outputs": [],
   "source": [
    "\n",
    "def scree_KMeans_plot(data,num_clusters):\n",
    "    clusterCenters = [] \n",
    "    scores = [] \n",
    "    k_values = []\n",
    "    start = timer()\n",
    "    for k in range(1,num_clusters):\n",
    "        k_values.append(k)\n",
    "        kmeans = KMeans(n_clusters=k)\n",
    "        model = kmeans.fit(data)\n",
    "        print (\"\\nCluster {}: {}\".format(k,model.cluster_centers_))\n",
    "        clusterCenters.append(model.cluster_centers_)\n",
    "        labels = kmeans.predict(data)\n",
    "        print (\"Cluster Label: \",labels)\n",
    "        score = -(kmeans.score(data))\n",
    "        print (\"score: \",round(score/100000000,2))\n",
    "        scores.append(score)\n",
    "    plt.plot(k_values, scores, marker = 'o')\n",
    "    plt.ylabel('K-Cluster Score')\n",
    "    plt.xlabel('k value')\n",
    "    plt.title('Number of Clusters vs KMeans Score')\n",
    "    plt.savefig('Cluster_vs_score_plot.png')\n",
    "    plt.show()\n",
    "    end = timer() \n",
    "    print(f\"\\nFunction in {(end - start)/60:0.1f} minutes\")\n",
    "    return k_values, scores, labels"
   ]
  },
  {
   "cell_type": "code",
   "execution_count": 13,
   "metadata": {
    "scrolled": true
   },
   "outputs": [
    {
     "name": "stdout",
     "output_type": "stream",
     "text": [
      "\n",
      "Cluster 1: [[77.52634109]]\n",
      "Cluster Label:  [0 0 0 ... 0 0 0]\n",
      "score:  1.89\n",
      "\n",
      "Cluster 2: [[ 67.39849131]\n",
      " [115.66932624]]\n",
      "Cluster Label:  [0 0 0 ... 0 0 0]\n",
      "score:  0.54\n",
      "\n",
      "Cluster 3: [[ 63.25309656]\n",
      " [127.76962689]\n",
      " [ 87.68667061]]\n",
      "Cluster Label:  [2 0 0 ... 0 0 0]\n",
      "score:  0.28\n",
      "\n",
      "Cluster 4: [[140.08461679]\n",
      " [ 61.97746584]\n",
      " [106.49140798]\n",
      " [ 80.2132846 ]]\n",
      "Cluster Label:  [3 1 1 ... 1 1 1]\n",
      "score:  0.17\n",
      "\n",
      "Cluster 5: [[ 70.68505271]\n",
      " [111.71188855]\n",
      " [ 88.02222863]\n",
      " [ 58.86800266]\n",
      " [142.90997554]]\n",
      "Cluster Label:  [0 0 0 ... 3 3 3]\n",
      "score:  0.12\n",
      "\n",
      "Cluster 6: [[ 71.85607837]\n",
      " [137.00077692]\n",
      " [ 88.96072077]\n",
      " [111.17730665]\n",
      " [ 59.53639126]\n",
      " [183.74633861]]\n",
      "Cluster Label:  [0 0 0 ... 4 4 4]\n",
      "score:  0.09\n",
      "\n",
      "Cluster 7: [[ 57.41391104]\n",
      " [112.57285518]\n",
      " [ 76.97112077]\n",
      " [137.68308943]\n",
      " [ 66.11917522]\n",
      " [ 92.03990217]\n",
      " [184.63237979]]\n",
      "Cluster Label:  [2 4 4 ... 0 4 4]\n",
      "score:  0.06\n",
      "\n",
      "Cluster 8: [[126.24728659]\n",
      " [ 66.11917522]\n",
      " [ 90.73453734]\n",
      " [ 76.86944039]\n",
      " [107.99964441]\n",
      " [144.84094667]\n",
      " [ 57.41391104]\n",
      " [187.34594223]]\n",
      "Cluster Label:  [3 1 1 ... 6 1 1]\n",
      "score:  0.05\n",
      "\n",
      "Cluster 9: [[ 66.6416811 ]\n",
      " [110.28789955]\n",
      " [144.76633479]\n",
      " [ 85.03807696]\n",
      " [ 57.91997182]\n",
      " [ 75.54054484]\n",
      " [186.85819892]\n",
      " [ 96.28031502]\n",
      " [126.74385768]]\n",
      "Cluster Label:  [5 0 0 ... 4 0 4]\n",
      "score:  0.04\n"
     ]
    },
    {
     "data": {
      "image/png": "[encoded data removed]",
      "text/plain": [
       "<Figure size 432x288 with 1 Axes>"
      ]
     },
     "metadata": {
      "needs_background": "light"
     },
     "output_type": "display_data"
    },
    {
     "name": "stdout",
     "output_type": "stream",
     "text": [
      "\n",
      "Function in 0.2 minutes\n",
      "<zip object at 0x7ff35b2264b0>\n"
     ]
    }
   ],
   "source": [
    "k_values, scores, labels = scree_KMeans_plot(df,10) \n",
    "k = zip(k_values, scores)\n",
    "print (k)"
   ]
  },
  {
   "cell_type": "code",
   "execution_count": 14,
   "metadata": {},
   "outputs": [
    {
     "data": {
      "text/html": [
       "<div>\n",
       "<style scoped>\n",
       "    .dataframe tbody tr th:only-of-type {\n",
       "        vertical-align: middle;\n",
       "    }\n",
       "\n",
       "    .dataframe tbody tr th {\n",
       "        vertical-align: top;\n",
       "    }\n",
       "\n",
       "    .dataframe thead th {\n",
       "        text-align: right;\n",
       "    }\n",
       "</style>\n",
       "<table border=\"1\" class=\"dataframe\">\n",
       "  <thead>\n",
       "    <tr style=\"text-align: right;\">\n",
       "      <th></th>\n",
       "      <th>BPM</th>\n",
       "      <th>Label</th>\n",
       "    </tr>\n",
       "  </thead>\n",
       "  <tbody>\n",
       "    <tr>\n",
       "      <td>349762</td>\n",
       "      <td>62</td>\n",
       "      <td>4</td>\n",
       "    </tr>\n",
       "    <tr>\n",
       "      <td>349763</td>\n",
       "      <td>67</td>\n",
       "      <td>0</td>\n",
       "    </tr>\n",
       "    <tr>\n",
       "      <td>349764</td>\n",
       "      <td>61</td>\n",
       "      <td>4</td>\n",
       "    </tr>\n",
       "    <tr>\n",
       "      <td>349765</td>\n",
       "      <td>63</td>\n",
       "      <td>0</td>\n",
       "    </tr>\n",
       "    <tr>\n",
       "      <td>349766</td>\n",
       "      <td>62</td>\n",
       "      <td>4</td>\n",
       "    </tr>\n",
       "  </tbody>\n",
       "</table>\n",
       "</div>"
      ],
      "text/plain": [
       "        BPM  Label\n",
       "349762   62      4\n",
       "349763   67      0\n",
       "349764   61      4\n",
       "349765   63      0\n",
       "349766   62      4"
      ]
     },
     "execution_count": 14,
     "metadata": {},
     "output_type": "execute_result"
    }
   ],
   "source": [
    "if not 'Label' in df: \n",
    "    df.insert(1,\"Label\",labels)\n",
    "df.tail(5)"
   ]
  },
  {
   "cell_type": "code",
   "execution_count": 15,
   "metadata": {},
   "outputs": [
    {
     "name": "stdout",
     "output_type": "stream",
     "text": [
      "KMeans Labels:  [0 1 2 3 4 5 6 7 8]\n"
     ]
    }
   ],
   "source": [
    "print (\"KMeans Labels: \",np.unique(labels))     "
   ]
  },
  {
   "cell_type": "code",
   "execution_count": 41,
   "metadata": {},
   "outputs": [
    {
     "name": "stdout",
     "output_type": "stream",
     "text": [
      "1 0.54 248.0\n",
      "2 0.28 92.0\n",
      "3 0.17 63.0\n",
      "4 0.12 43.0\n",
      "5 0.09 39.0\n",
      "6 0.06 36.0\n",
      "7 0.05 33.0\n",
      "8 0.04 25.0\n",
      "Less than 10% improvement in score after k = 8\n"
     ]
    }
   ],
   "source": [
    "#for score in scores:\n",
    "    #print (round(score/100000000,2))\n",
    "\n",
    "def findK(df,limit): \n",
    "    for k in range(len(df)):\n",
    "        if k == len(df):\n",
    "           print (\"end of array reached.\")\n",
    "            \n",
    "        if k == 0: \n",
    "          improvement = 'None'\n",
    "        if k > 0:\n",
    "          improvement = (round(100*((df[k-1]-df[k])/df[k])))\n",
    "          print (k,round(df[k]/100000000,2),improvement)\n",
    "          if improvement < limit:\n",
    "                break \n",
    "    print (\"Less than {}% improvement in score after k = {}\".format(limit,k))\n",
    "findK(scores,10)      "
   ]
  },
  {
   "cell_type": "code",
   "execution_count": 18,
   "metadata": {},
   "outputs": [
    {
     "name": "stdout",
     "output_type": "stream",
     "text": [
      "CPU times: user 4 µs, sys: 1 µs, total: 5 µs\n",
      "Wall time: 5.72 µs\n"
     ]
    }
   ],
   "source": [
    "%%time\n",
    "def silhouetteScore(df): \n",
    "    sil_scores = [] \n",
    "    start = timer()\n",
    "    range_n_clusters = list(range(1,10))\n",
    "    for n_clusters in range_n_clusters:\n",
    "        kmeans = KMeans(n_clusters=n_clusters, random_state=10)\n",
    "        cluster_labels = kmeans.fit_predict(df)\n",
    "        score = silhouette_score(df,cluster_labels)\n",
    "        sil_scores.append(score)\n",
    "        print(\"For n_clusters = {}, silhouette score is {}\".format(n_clusters, score))\n",
    "        end=timer()\n",
    "        print(f\"\\nFunction in {(end - start)/60:0.1f} minutes\")\n",
    "    print (\"\\nFinished!\")\n",
    "    return sil_scores"
   ]
  },
  {
   "cell_type": "code",
   "execution_count": 19,
   "metadata": {
    "scrolled": true
   },
   "outputs": [],
   "source": [
    "#sil_scores = silhouetteScore(df)"
   ]
  },
  {
   "cell_type": "code",
   "execution_count": 20,
   "metadata": {},
   "outputs": [
    {
     "name": "stdout",
     "output_type": "stream",
     "text": [
      "Sil Scores:  [0.6898181825990433, 0.5874511324301963, 0.5535071353160601, 0.5660426272202901, 0.5787567554857502, 0.5823607690806277, 0.6260014148168749, 0.6373106436985563]\n"
     ]
    }
   ],
   "source": [
    "#pickle.dump(sil_scores,open('data/silhouetteScores','wb'))\n",
    "silhouette = pickle.load(open('data/silhouetteScores', 'rb'))\n",
    "print (\"Sil Scores: \",silhouette)"
   ]
  },
  {
   "cell_type": "code",
   "execution_count": 21,
   "metadata": {},
   "outputs": [],
   "source": [
    "def silhouette_plot(scores, k_values):\n",
    "\n",
    "    plt.ylabel('Silhouette Score')\n",
    "    plt.xlabel('k value')\n",
    "    plt.title('Silhouete For Best K')\n",
    "    plt.ylim=(0.0,1.0)\n",
    "    plt.grid(True)\n",
    "    plt.plot(k_values, scores, marker = 'o')\n",
    "    plt.show()"
   ]
  },
  {
   "cell_type": "code",
   "execution_count": 22,
   "metadata": {},
   "outputs": [
    {
     "name": "stdout",
     "output_type": "stream",
     "text": [
      "9 8\n",
      "8 8\n"
     ]
    }
   ],
   "source": [
    "print (len(k_values), len(silhouette))\n",
    "oftype(k_values)\n",
    "oftype(silhouette)\n",
    "if len(k_values) > len(silhouette):\n",
    "    k_values = k_values[:-1]\n",
    "oftype(k_values)\n",
    "print (len(k_values), len(silhouette))"
   ]
  },
  {
   "cell_type": "code",
   "execution_count": 23,
   "metadata": {},
   "outputs": [
    {
     "data": {
      "image/png": "[encoded data removed]",
      "text/plain": [
       "<Figure size 432x288 with 1 Axes>"
      ]
     },
     "metadata": {
      "needs_background": "light"
     },
     "output_type": "display_data"
    }
   ],
   "source": [
    "silhouette_plot(silhouette,k_values)"
   ]
  },
  {
   "cell_type": "code",
   "execution_count": 24,
   "metadata": {},
   "outputs": [
    {
     "name": "stderr",
     "output_type": "stream",
     "text": [
      "/Users/thomasspringett/opt/anaconda3/lib/python3.7/site-packages/pandas/core/frame.py:4102: SettingWithCopyWarning: \n",
      "A value is trying to be set on a copy of a slice from a DataFrame\n",
      "\n",
      "See the caveats in the documentation: http://pandas.pydata.org/pandas-docs/stable/user_guide/indexing.html#returning-a-view-versus-a-copy\n",
      "  errors=errors,\n"
     ]
    },
    {
     "name": "stdout",
     "output_type": "stream",
     "text": [
      "\n",
      "Cluster <zip object at 0x7ff35b2264b0>: [[115.66932624]\n",
      " [ 67.39849131]]\n",
      "KMeans Labels:  [0 1]\n",
      "cluster0.shape:  (73320, 2)\n",
      "cluster1.shape:  (276134, 2)\n"
     ]
    },
    {
     "data": {
      "image/png": "[encoded data removed]",
      "text/plain": [
       "<Figure size 432x288 with 2 Axes>"
      ]
     },
     "metadata": {
      "needs_background": "light"
     },
     "output_type": "display_data"
    }
   ],
   "source": [
    "def clusters_plot(df,num_clusters):\n",
    "    \n",
    "    if  'Label' in df: \n",
    "        df.drop(\"Label\",axis='columns',inplace=True)\n",
    "    kmeans = KMeans(n_clusters=num_clusters)\n",
    "    model = kmeans.fit(df)\n",
    "    print (\"\\nCluster {}: {}\".format(k,model.cluster_centers_))\n",
    "    labels = kmeans.predict(df)\n",
    "    print (\"KMeans Labels: \",np.unique(labels))   \n",
    "   \n",
    "    df.insert(1,\"Label\",labels)\n",
    " \n",
    "    cluster0 = df.loc[df['Label'] == 0]\n",
    "    cluster1 = df.loc[df['Label'] == 1]\n",
    "    \n",
    "    print (\"cluster0.shape: \",cluster0.shape)\n",
    "    print (\"cluster1.shape: \",cluster1.shape)\n",
    "    #print (cluster0.head())\n",
    "    #print (cluster1.head())\n",
    "    \n",
    "    bins = np.linspace(30, 200, 50)\n",
    "    plt.subplot(2,1,1)\n",
    "    plt.hist(cluster0.BPM,bins)\n",
    "    plt.title('Heart Rate Distribution for 2 Clusters')\n",
    "  \n",
    "    plt.grid(True)\n",
    "    plt.ylabel('Cluster 0')\n",
    "    \n",
    "    plt.subplot(2,1,2)\n",
    "    plt.hist(cluster1.BPM,bins) \n",
    "    plt.xlabel('Beats Per Minute')\n",
    "    plt.ylabel('Cluster 1')\n",
    "    plt.grid(True)\n",
    "    plt.show()\n",
    "        \n",
    "clusters_plot(df,2)"
   ]
  },
  {
   "cell_type": "code",
   "execution_count": 25,
   "metadata": {
    "scrolled": false
   },
   "outputs": [
    {
     "name": "stderr",
     "output_type": "stream",
     "text": [
      "/Users/thomasspringett/opt/anaconda3/lib/python3.7/site-packages/pandas/core/frame.py:4102: SettingWithCopyWarning: \n",
      "A value is trying to be set on a copy of a slice from a DataFrame\n",
      "\n",
      "See the caveats in the documentation: http://pandas.pydata.org/pandas-docs/stable/user_guide/indexing.html#returning-a-view-versus-a-copy\n",
      "  errors=errors,\n"
     ]
    },
    {
     "name": "stdout",
     "output_type": "stream",
     "text": [
      "\n",
      "Cluster <zip object at 0x7ff35b2264b0>: [[ 63.25309656]\n",
      " [ 87.68667061]\n",
      " [127.76962689]]\n",
      "KMeans Labels:  [0 1 2]\n",
      "   BPM  Label\n",
      "0   77      1\n",
      "1   69      0\n",
      "2   69      0\n",
      "3   69      0\n",
      "4   69      0\n",
      "\n",
      "\n",
      "cluster0.shape:  (215400, 2)\n",
      "cluster1.shape:  (91332, 2)\n",
      "cluster1.shape:  (42722, 2)\n"
     ]
    },
    {
     "data": {
      "image/png": "[encoded data removed]",
      "text/plain": [
       "<Figure size 432x288 with 3 Axes>"
      ]
     },
     "metadata": {
      "needs_background": "light"
     },
     "output_type": "display_data"
    }
   ],
   "source": [
    "def clusters_plot(df,num_clusters):\n",
    "    \n",
    "    if  'Label' in df: \n",
    "        df.drop(\"Label\",axis='columns',inplace=True)\n",
    "    kmeans = KMeans(n_clusters=num_clusters)\n",
    "    model = kmeans.fit(df)\n",
    "    print (\"\\nCluster {}: {}\".format(k,model.cluster_centers_))\n",
    "    labels = kmeans.predict(df)\n",
    "    print (\"KMeans Labels: \",np.unique(labels))   \n",
    "   \n",
    "    df.insert(1,\"Label\",labels)\n",
    "    print (df.head())\n",
    "    cluster0 = df.loc[df['Label'] == 0]\n",
    "    cluster1 = df.loc[df['Label'] == 1]\n",
    "    cluster2 = df.loc[df['Label'] == 2]\n",
    "    \n",
    " \n",
    "    print (\"\\n\")\n",
    "    print (\"cluster0.shape: \",cluster0.shape)\n",
    "    print (\"cluster1.shape: \",cluster1.shape)\n",
    "    print (\"cluster1.shape: \",cluster2.shape)\n",
    "    #print (cluster0.head())\n",
    "    #print (cluster1.head())\n",
    "    \n",
    "    xbins = np.linspace(30, 200, 50)\n",
    "    #ybins = np.linspace(0, 60000, 2000)\n",
    "\n",
    "    \n",
    "    plt.subplot(3,1,1)\n",
    "    plt.hist(cluster0.BPM,xbins)\n",
    "    plt.title('Heart Rate Distribution for 3 Clusters')\n",
    "    plt.ylabel('Cluster 1')\n",
    "    plt.grid(True)\n",
    "    #plt.ylim(0,40000)\n",
    "    \n",
    "\n",
    "    plt.subplot(3,1,2)\n",
    "    plt.hist(cluster1.BPM,xbins) \n",
    "    plt.xlabel('Beats Per Minute')\n",
    "    plt.ylabel('Cluster 2')\n",
    "    plt.grid(True)\n",
    "    #plt.ylim(0,40000)\n",
    "\n",
    "    plt.subplot(3,1,3)\n",
    "    plt.hist(cluster2.BPM,xbins) \n",
    "    plt.xlabel('Beats Per Minute')\n",
    "    plt.ylabel('Cluster 3')\n",
    "    plt.grid(True)\n",
    "    #plt.ylim(0,40000)\n",
    "\n",
    "    plt.show()\n",
    "        \n",
    "clusters_plot(df,3)"
   ]
  },
  {
   "cell_type": "code",
   "execution_count": 26,
   "metadata": {},
   "outputs": [
    {
     "name": "stderr",
     "output_type": "stream",
     "text": [
      "/Users/thomasspringett/opt/anaconda3/lib/python3.7/site-packages/pandas/core/frame.py:4102: SettingWithCopyWarning: \n",
      "A value is trying to be set on a copy of a slice from a DataFrame\n",
      "\n",
      "See the caveats in the documentation: http://pandas.pydata.org/pandas-docs/stable/user_guide/indexing.html#returning-a-view-versus-a-copy\n",
      "  errors=errors,\n"
     ]
    },
    {
     "name": "stdout",
     "output_type": "stream",
     "text": [
      "\n",
      "Cluster <zip object at 0x7ff35b2264b0>: [[ 59.53639126]\n",
      " [111.37086986]\n",
      " [ 71.5465335 ]\n",
      " [142.22547081]\n",
      " [ 88.02222863]]\n",
      "KMeans Labels:  [0 1 2 3 4]\n",
      "\n",
      "\n",
      "cluster0.shape:  (138220, 2)\n",
      "cluster1.shape:  (37075, 2)\n",
      "cluster2.shape:  (99423, 2)\n",
      "cluster3.shape:  (19222, 2)\n",
      "cluster4.shape:  (55514, 2)\n"
     ]
    },
    {
     "data": {
      "image/png": "[encoded data removed]",
      "text/plain": [
       "<Figure size 432x288 with 5 Axes>"
      ]
     },
     "metadata": {
      "needs_background": "light"
     },
     "output_type": "display_data"
    }
   ],
   "source": [
    "def clusters5_plot(df):\n",
    "    \n",
    "    if  'Label' in df: \n",
    "        df.drop(\"Label\",axis='columns',inplace=True)\n",
    "    kmeans = KMeans(n_clusters=5)\n",
    "    model = kmeans.fit(df)\n",
    "    print (\"\\nCluster {}: {}\".format(k,model.cluster_centers_))\n",
    "    labels = kmeans.predict(df)\n",
    "    print (\"KMeans Labels: \",np.unique(labels))   \n",
    "   \n",
    "    df.insert(1,\"Label\",labels)\n",
    "    #print (df.head())\n",
    "    cluster0 = df.loc[df['Label'] == 0]\n",
    "    cluster1 = df.loc[df['Label'] == 1]\n",
    "    cluster2 = df.loc[df['Label'] == 2]\n",
    "    cluster3 = df.loc[df['Label'] == 3]\n",
    "    cluster4 = df.loc[df['Label'] == 4]\n",
    "  \n",
    " \n",
    "    print (\"\\n\")\n",
    "    print (\"cluster0.shape: \",cluster0.shape)\n",
    "    print (\"cluster1.shape: \",cluster1.shape)\n",
    "    print (\"cluster2.shape: \",cluster2.shape)\n",
    "    print (\"cluster3.shape: \",cluster3.shape)\n",
    "    print (\"cluster4.shape: \",cluster4.shape)\n",
    "\n",
    "    xbins = np.linspace(30, 200, 50)\n",
    "    ybins = np.linspace(0, 40000, 8000)\n",
    "\n",
    "    \n",
    "    plt.subplot(5,1,1)\n",
    "    plt.hist(cluster0.BPM,xbins)\n",
    "    plt.title('Heart Rate Distribution for 3 Clusters')\n",
    "    plt.ylabel('Zone 1')\n",
    "    plt.grid(True)\n",
    "    #plt.ylim(0,40000)\n",
    "    \n",
    "\n",
    "    plt.subplot(5,1,2)\n",
    "    plt.hist(cluster1.BPM,xbins) \n",
    "    plt.xlabel('Beats Per Minute')\n",
    "    plt.ylabel('Zone 2')\n",
    "    plt.grid(True)\n",
    "    #plt.ylim(0,40000)\n",
    "\n",
    "    plt.subplot(5,1,3)\n",
    "    plt.hist(cluster2.BPM,xbins) \n",
    "    plt.xlabel('Beats Per Minute')\n",
    "    plt.ylabel('Zone 3')\n",
    "    plt.grid(True)\n",
    "    #plt.ylim(0,40000)\n",
    "    \n",
    "    plt.subplot(5,1,4)\n",
    "    plt.hist(cluster3.BPM,xbins) \n",
    "    plt.xlabel('Beats Per Minute')\n",
    "    plt.ylabel('Zone 4')\n",
    "    plt.grid(True)\n",
    "    #plt.ylim(0,40000)\n",
    "    \n",
    "    plt.subplot(5,1,5)\n",
    "    plt.hist(cluster4.BPM,xbins) \n",
    "    plt.xlabel('Beats Per Minute')\n",
    "    plt.ylabel('Zone 5')\n",
    "    plt.grid(True)\n",
    "    #plt.ylim(0,40000)\n",
    "\n",
    "\n",
    "    plt.show()\n",
    "\n",
    "\n",
    "        \n",
    "clusters5_plot(df)"
   ]
  },
  {
   "cell_type": "markdown",
   "metadata": {},
   "source": [
    "The first step in determining high intensity heart rate zones is to determine maximum heart rate. There are several methods for this: \n",
    "\n",
    "1. 200 - 1/2 age. Or 168bpm for a 62 year old. \n",
    "2. 220 - age. 0r 158bpm for a 62 year old.\n",
    "3. Heart Rate Monitor data collected over a period of months with various activities. \n",
    "4. Using a treadmill or stationary bike with an ECG. \n",
    "\n",
    "Option number 2 is the most common for folks that do not have access to the treadmill and ECG. It will be used for the remainder of the project. \n",
    "\n",
    "After the maximum heart rate is determined, target heart rates can be determined: \n",
    "1. Target active heart rate: 60-70%. Or 95 to 110 bpm for the 62 year old. \n",
    "2. Target Heart Rate is 64% to 76%. CDC. \n",
    "3. High Intensity target heart rate is 76-93% (CDC). Or 120 to 146 for the 62 year old. \n",
    " \n",
    "The heart rate monitor company Polar suggests 5 heart rate zones: \n",
    "1. Very light at 50-60% of HRMAX. Boost recovery and prepare for higher zones.\n",
    "2. Light 60-70%. Improve general endurance and increase capillary density.\n",
    "2. Moderate at 70-80%. Lactic acid build up,improve efficiency of blood circulation in the heart and muscles\n",
    "4. Hard 80-90%. Improve speed endurance.\n",
    "5. Maximum 90-100%. For elite atheletes to further improve speed. "
   ]
  },
  {
   "cell_type": "code",
   "execution_count": 107,
   "metadata": {},
   "outputs": [],
   "source": [
    "def clusterCounts(labels): \n",
    "    #Count number in each cluster for general population \n",
    "    clusterDict = collections.Counter(labels)\n",
    "    #print (clusterDict)\n",
    "\n",
    "    clusterSum = sum(clusterDict.values())\n",
    "\n",
    "    for key,value in sorted(clusterDict.items()): \n",
    "        print (key, ' ->',np.round(100*value/clusterSum),'%')"
   ]
  },
  {
   "cell_type": "code",
   "execution_count": 108,
   "metadata": {},
   "outputs": [
    {
     "name": "stdout",
     "output_type": "stream",
     "text": [
      "0  -> 25.0 %\n",
      "1  -> 6.0 %\n",
      "2  -> 3.0 %\n",
      "3  -> 9.0 %\n",
      "4  -> 29.0 %\n",
      "5  -> 14.0 %\n",
      "6  -> 0.0 %\n",
      "7  -> 7.0 %\n",
      "8  -> 5.0 %\n"
     ]
    }
   ],
   "source": [
    "clusterCounts(labels)"
   ]
  }
 ],
 "metadata": {
  "kernelspec": {
   "display_name": "Python 3",
   "language": "python",
   "name": "python3"
  },
  "language_info": {
   "codemirror_mode": {
    "name": "ipython",
    "version": 3
   },
   "file_extension": ".py",
   "mimetype": "text/x-python",
   "name": "python",
   "nbconvert_exporter": "python",
   "pygments_lexer": "ipython3",
   "version": "3.7.4"
  }
 },
 "nbformat": 4,
 "nbformat_minor": 4
}
