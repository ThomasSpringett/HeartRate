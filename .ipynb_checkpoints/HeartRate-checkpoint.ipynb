{
 "cells": [
  {
   "cell_type": "code",
   "execution_count": 1,
   "metadata": {},
   "outputs": [],
   "source": [
    "# import libraries\n",
    "import pandas as pd\n",
    "import numpy as np\n",
    "import os\n",
    "import matplotlib.pyplot as plt\n",
    "from timeit import default_timer as timer\n",
    "from sklearn.cluster import KMeans\n",
    "from sklearn.metrics import silhouette_samples, silhouette_score\n",
    "import collections\n",
    "import helpers\n",
    "from helpers import *\n",
    "import pickle\n",
    "from matplotlib.pyplot import figure\n",
    "%matplotlib inline\n",
    "import warnings\n",
    "\n",
    "def fxn():\n",
    "    warnings.warn(\"deprecated\", DeprecationWarning)\n",
    "\n",
    "with warnings.catch_warnings():\n",
    "    warnings.simplefilter(\"ignore\")\n",
    "    fxn()"
   ]
  },
  {
   "cell_type": "code",
   "execution_count": 2,
   "metadata": {},
   "outputs": [
    {
     "data": {
      "text/plain": [
       "'/Users/thomasspringett/github/heartrate'"
      ]
     },
     "execution_count": 2,
     "metadata": {},
     "output_type": "execute_result"
    }
   ],
   "source": [
    "%pwd"
   ]
  },
  {
   "cell_type": "code",
   "execution_count": 3,
   "metadata": {},
   "outputs": [
    {
     "data": {
      "text/html": [
       "<div>\n",
       "<style scoped>\n",
       "    .dataframe tbody tr th:only-of-type {\n",
       "        vertical-align: middle;\n",
       "    }\n",
       "\n",
       "    .dataframe tbody tr th {\n",
       "        vertical-align: top;\n",
       "    }\n",
       "\n",
       "    .dataframe thead th {\n",
       "        text-align: right;\n",
       "    }\n",
       "</style>\n",
       "<table border=\"1\" class=\"dataframe\">\n",
       "  <thead>\n",
       "    <tr style=\"text-align: right;\">\n",
       "      <th></th>\n",
       "      <th>BPM</th>\n",
       "    </tr>\n",
       "  </thead>\n",
       "  <tbody>\n",
       "    <tr>\n",
       "      <th>0</th>\n",
       "      <td>77</td>\n",
       "    </tr>\n",
       "    <tr>\n",
       "      <th>1</th>\n",
       "      <td>69</td>\n",
       "    </tr>\n",
       "    <tr>\n",
       "      <th>2</th>\n",
       "      <td>69</td>\n",
       "    </tr>\n",
       "  </tbody>\n",
       "</table>\n",
       "</div>"
      ],
      "text/plain": [
       "   BPM\n",
       "0   77\n",
       "1   69\n",
       "2   69"
      ]
     },
     "execution_count": 3,
     "metadata": {},
     "output_type": "execute_result"
    }
   ],
   "source": [
    "csv_file = 'data/HeartRateData.csv'\n",
    "df_raw = pd.read_csv(csv_file)\n",
    "df_raw=df_raw.drop('DateTime',1)\n",
    "df_raw.head(3)"
   ]
  },
  {
   "cell_type": "code",
   "execution_count": 4,
   "metadata": {},
   "outputs": [
    {
     "name": "stdout",
     "output_type": "stream",
     "text": [
      "count    349768.0\n",
      "mean         78.0\n",
      "std          24.0\n",
      "min          30.0\n",
      "25%          61.0\n",
      "50%          69.0\n",
      "75%          86.0\n",
      "max         215.0\n",
      "Name: BPM, dtype: float64\n"
     ]
    }
   ],
   "source": [
    "print (round(df_raw.BPM.describe()))"
   ]
  },
  {
   "cell_type": "code",
   "execution_count": 5,
   "metadata": {},
   "outputs": [],
   "source": [
    "def zones(df_raw, age):\n",
    "    max_hr = 220 - age\n",
    "    target_low = 0.64*max_hr\n",
    "    target_high = 0.76*max_hr\n",
    "    target_intensity_lo = 0.76*max_hr\n",
    "    target_intensity_hi = 0.93*max_hr\n",
    "    print (\"For Age: {} Maximum HR: {}\".format(age,max_hr))\n",
    "    print (\"Target HR Lower Bound:\", target_low)\n",
    "    print (\"Target HR Upper Bound:\", target_high)\n",
    "    print (\"Target HR Intensity Upper Bound:\", target_intensity_hi)\n",
    "    return max_hr, target_low, target_high, target_intensity_lo, target_intensity_hi"
   ]
  },
  {
   "cell_type": "code",
   "execution_count": 6,
   "metadata": {},
   "outputs": [
    {
     "name": "stdout",
     "output_type": "stream",
     "text": [
      "For Age: 62 Maximum HR: 158\n",
      "Target HR Lower Bound: 101.12\n",
      "Target HR Upper Bound: 120.08\n",
      "Target HR Intensity Upper Bound: 146.94\n"
     ]
    }
   ],
   "source": [
    "max_hr, target_low, target_high, target_intensity_lo, target_intensity_hi = zones(df_raw,62)"
   ]
  },
  {
   "cell_type": "code",
   "execution_count": 7,
   "metadata": {},
   "outputs": [],
   "source": [
    "def plot_data_histo(totals): \n",
    "    #Histogram of the number of missing values per column (featrure).\n",
    "    xref = [max_hr,target_low, target_high,target_intensity_hi]\n",
    "    ref_colors=['r','g','y','b']\n",
    "\n",
    "    for ref, c in zip(xref,ref_colors):\n",
    "        plt.axvline(x=ref, c=c, label= 'ref at = {}'.format(ref))\n",
    "    plt.legend()\n",
    "    plt.grid(True)\n",
    "    plt.xlabel('Beats/Minute')\n",
    "    plt.ylabel('Count')\n",
    "    plt.title('Heart Rate Distribution')\n",
    "    plt.hist(df_raw.BPM,50)\n",
    "    plt.show()"
   ]
  },
  {
   "cell_type": "code",
   "execution_count": 8,
   "metadata": {},
   "outputs": [],
   "source": [
    "def hr_zone_histogram(df): \n",
    "    \n",
    "    if  'Label' in df: \n",
    "        df.drop(\"Label\",axis='columns',inplace=True)\n",
    "    kmeans = KMeans(n_clusters=5)\n",
    "    model = kmeans.fit(df)\n",
    "    centers = np.round(model.cluster_centers_,0)\n",
    "    print (\"\\nCluster {}: {}\".format(k,centers))\n",
    "    labels = kmeans.predict(df)\n",
    "    print (\"KMeans Labels: \",np.unique(labels))   \n",
    "   \n",
    "    df.insert(1,\"Label\",labels)\n",
    "\n",
    "    clusterCounts(labels)\n",
    "    #Histogram of the number of missing values per column (featrure).\n",
    "    xref = [max_hr,target_low, target_high,target_intensity_hi]\n",
    "    ref_colors=['r','g','y','b']\n",
    "\n",
    "    #for ref, c in zip(xref,ref_colors):\n",
    "    #    plt.axvline(x=ref, c=c, label= 'ref at = {}'.format(ref))\n",
    "        \n",
    "    zone1 = df.loc[df.Label ==0, 'BPM']\n",
    "    zone2 = df.loc[df.Label ==1, 'BPM']\n",
    "    zone3 = df.loc[df.Label ==2, 'BPM']\n",
    "    zone4 = df.loc[df.Label ==3, 'BPM']\n",
    "    zone5 = df.loc[df.Label ==4, 'BPM']\n",
    "    \n",
    "    \n",
    "    plt.figure(figsize=(10,5))\n",
    "    # xticks = np.linspace(30, 200, 50)\n",
    "    kwargs = dict(alpha=0.5)\n",
    "    plt.xticks(np.arange(20, 205, 20))\n",
    "    plt.grid(b=True, which='both', color='0.65', linestyle='-')\n",
    "    \n",
    "    # Turn on the minor TICKS, which are required for the minor GRID\n",
    "    plt.minorticks_on()\n",
    "\n",
    "    # Customize the major grid\n",
    "    plt.grid(which='major', linestyle='-', linewidth='0.5', color='grey')\n",
    "    # Customize the minor grid\n",
    "    plt.grid(which='minor', linestyle=':', linewidth='0.5', color='grey')\n",
    "    \n",
    "\n",
    "    \n",
    "    #plt.grid(True)\n",
    "    plt.title('Heart Rate Distribution')\n",
    "    plt.hist(zone1, **kwargs, color='g', label='Zone 1')\n",
    "    plt.hist(zone2, **kwargs, color='b', label='Zone 2')\n",
    "    plt.hist(zone3, **kwargs, color='r', label='Zone 3')\n",
    "    plt.hist(zone4, **kwargs, color='c', label='Zone 4')\n",
    "    plt.hist(zone5, **kwargs, color='y', label='Zone 5')\n",
    "    plt.ylabel('Counts')\n",
    "    plt.xlabel('Beats Per Minute (BPM)')\n",
    "    plt.xlim(30,200)\n",
    "    plt.legend()\n",
    "    plt.show()"
   ]
  },
  {
   "cell_type": "code",
   "execution_count": 9,
   "metadata": {},
   "outputs": [],
   "source": [
    "#plot_data_histo1(df)"
   ]
  },
  {
   "cell_type": "code",
   "execution_count": 10,
   "metadata": {},
   "outputs": [
    {
     "data": {
      "image/png": "[encoded data removed]",
      "text/plain": [
       "<Figure size 432x288 with 1 Axes>"
      ]
     },
     "metadata": {
      "needs_background": "light"
     },
     "output_type": "display_data"
    }
   ],
   "source": [
    "#print (df.BPM)\n",
    "plot_data_histo(df_raw.BPM)"
   ]
  },
  {
   "cell_type": "code",
   "execution_count": 11,
   "metadata": {},
   "outputs": [],
   "source": [
    "#df_raw.BPM.quantile([0.95,0.98,0.99])"
   ]
  },
  {
   "cell_type": "code",
   "execution_count": 12,
   "metadata": {},
   "outputs": [
    {
     "name": "stdout",
     "output_type": "stream",
     "text": [
      "Applying hardware limit of 210bpm resulted in dropping 314 data points.\n"
     ]
    }
   ],
   "source": [
    "hardware_limit = 210\n",
    "df = df_raw[(df_raw.BPM < hardware_limit)]\n",
    "num_screened = df_raw.shape[0]-df.shape[0]\n",
    "print (\"Applying hardware limit of {}bpm resulted in dropping {} data points.\".format(hardware_limit,num_screened))"
   ]
  },
  {
   "cell_type": "markdown",
   "metadata": {},
   "source": [
    " Note that with KMeans clustering the data will not be split into training and test sets. Kmeans clustering is not a classification tool. The data is not labeled."
   ]
  },
  {
   "cell_type": "code",
   "execution_count": 13,
   "metadata": {},
   "outputs": [],
   "source": [
    "\n",
    "def scree_KMeans_plot(data,num_clusters):\n",
    "    clusterCenters = [] \n",
    "    scores = [] \n",
    "    k_values = []\n",
    "    start = timer()\n",
    "    for k in range(1,num_clusters):\n",
    "        k_values.append(k)\n",
    "        kmeans = KMeans(n_clusters=k)\n",
    "        model = kmeans.fit(data)\n",
    "        print (\"\\nCluster {}: {}\".format(k,model.cluster_centers_))\n",
    "        clusterCenters.append(model.cluster_centers_)\n",
    "        labels = kmeans.predict(data)\n",
    "        print (\"Cluster Labels: \",np.unique(labels))\n",
    "        score = -(kmeans.score(data))\n",
    "        print (\"score: \",round(score/100000000,2))\n",
    "        scores.append(score)\n",
    "    plt.plot(k_values, scores, marker = 'o')\n",
    "    plt.ylabel('K-Cluster Score')\n",
    "    plt.xlabel('k value')\n",
    "    plt.title('Number of Clusters vs KMeans Score')\n",
    "    plt.savefig('Cluster_vs_score_plot.png')\n",
    "    plt.show()\n",
    "    end = timer() \n",
    "    print(f\"\\nFunction in {(end - start)/60:0.1f} minutes\")\n",
    "    return k_values, scores, labels"
   ]
  },
  {
   "cell_type": "code",
   "execution_count": 14,
   "metadata": {
    "scrolled": true
   },
   "outputs": [
    {
     "name": "stdout",
     "output_type": "stream",
     "text": [
      "\n",
      "Cluster 1: [[77.52634109]]\n",
      "Cluster Labels:  [0]\n",
      "score:  1.89\n",
      "\n",
      "Cluster 2: [[ 67.39849131]\n",
      " [115.66932624]]\n",
      "Cluster Labels:  [0 1]\n",
      "score:  0.54\n",
      "\n",
      "Cluster 3: [[ 63.25309656]\n",
      " [127.76962689]\n",
      " [ 87.68667061]]\n",
      "Cluster Labels:  [0 1 2]\n",
      "score:  0.28\n",
      "\n",
      "Cluster 4: [[ 80.2132846 ]\n",
      " [106.49140798]\n",
      " [ 61.97746584]\n",
      " [140.08461679]]\n",
      "Cluster Labels:  [0 1 2 3]\n",
      "score:  0.17\n",
      "\n",
      "Cluster 5: [[ 88.02222863]\n",
      " [ 59.53639126]\n",
      " [142.22547081]\n",
      " [111.37086986]\n",
      " [ 71.5465335 ]]\n",
      "Cluster Labels:  [0 1 2 3 4]\n",
      "score:  0.12\n",
      "\n",
      "Cluster 6: [[ 59.53639126]\n",
      " [108.33710588]\n",
      " [134.60010654]\n",
      " [180.75193399]\n",
      " [ 71.5465335 ]\n",
      " [ 87.37028392]]\n",
      "Cluster Labels:  [0 1 2 3 4 5]\n",
      "score:  0.09\n",
      "\n",
      "Cluster 7: [[ 92.55217652]\n",
      " [ 57.91997182]\n",
      " [136.93746754]\n",
      " [ 77.89552437]\n",
      " [183.03125   ]\n",
      " [112.19663401]\n",
      " [ 67.00769094]]\n",
      "Cluster Labels:  [0 1 2 3 4 5 6]\n",
      "score:  0.06\n",
      "\n",
      "Cluster 8: [[ 77.53533437]\n",
      " [126.24728659]\n",
      " [ 57.91997182]\n",
      " [ 90.89587328]\n",
      " [144.84094667]\n",
      " [ 67.00769094]\n",
      " [107.99964441]\n",
      " [187.34594223]]\n",
      "Cluster Labels:  [0 1 2 3 4 5 6 7]\n",
      "score:  0.05\n",
      "\n",
      "Cluster 9: [[ 74.6665912 ]\n",
      " [111.51392442]\n",
      " [ 57.91997182]\n",
      " [145.04472404]\n",
      " [ 97.03264808]\n",
      " [ 84.51042071]\n",
      " [127.32601637]\n",
      " [187.34594223]\n",
      " [ 66.2985272 ]]\n",
      "Cluster Labels:  [0 1 2 3 4 5 6 7 8]\n",
      "score:  0.04\n"
     ]
    },
    {
     "data": {
      "image/png": "[encoded data removed]",
      "text/plain": [
       "<Figure size 432x288 with 1 Axes>"
      ]
     },
     "metadata": {
      "needs_background": "light"
     },
     "output_type": "display_data"
    },
    {
     "name": "stdout",
     "output_type": "stream",
     "text": [
      "\n",
      "Function in 0.3 minutes\n",
      "<zip object at 0x7fc857812a08>\n"
     ]
    }
   ],
   "source": [
    "\n",
    "k_values, scores, labels = scree_KMeans_plot(df,10) \n",
    "k = zip(k_values, scores)\n",
    "print (k)"
   ]
  },
  {
   "cell_type": "code",
   "execution_count": 15,
   "metadata": {},
   "outputs": [
    {
     "data": {
      "text/html": [
       "<div>\n",
       "<style scoped>\n",
       "    .dataframe tbody tr th:only-of-type {\n",
       "        vertical-align: middle;\n",
       "    }\n",
       "\n",
       "    .dataframe tbody tr th {\n",
       "        vertical-align: top;\n",
       "    }\n",
       "\n",
       "    .dataframe thead th {\n",
       "        text-align: right;\n",
       "    }\n",
       "</style>\n",
       "<table border=\"1\" class=\"dataframe\">\n",
       "  <thead>\n",
       "    <tr style=\"text-align: right;\">\n",
       "      <th></th>\n",
       "      <th>BPM</th>\n",
       "      <th>Label</th>\n",
       "    </tr>\n",
       "  </thead>\n",
       "  <tbody>\n",
       "    <tr>\n",
       "      <th>349762</th>\n",
       "      <td>62</td>\n",
       "      <td>2</td>\n",
       "    </tr>\n",
       "    <tr>\n",
       "      <th>349763</th>\n",
       "      <td>67</td>\n",
       "      <td>8</td>\n",
       "    </tr>\n",
       "    <tr>\n",
       "      <th>349764</th>\n",
       "      <td>61</td>\n",
       "      <td>2</td>\n",
       "    </tr>\n",
       "    <tr>\n",
       "      <th>349765</th>\n",
       "      <td>63</td>\n",
       "      <td>8</td>\n",
       "    </tr>\n",
       "    <tr>\n",
       "      <th>349766</th>\n",
       "      <td>62</td>\n",
       "      <td>2</td>\n",
       "    </tr>\n",
       "  </tbody>\n",
       "</table>\n",
       "</div>"
      ],
      "text/plain": [
       "        BPM  Label\n",
       "349762   62      2\n",
       "349763   67      8\n",
       "349764   61      2\n",
       "349765   63      8\n",
       "349766   62      2"
      ]
     },
     "execution_count": 15,
     "metadata": {},
     "output_type": "execute_result"
    }
   ],
   "source": [
    "if not 'Label' in df: \n",
    "    df.insert(1,\"Label\",labels)\n",
    "df.tail(5)"
   ]
  },
  {
   "cell_type": "code",
   "execution_count": 16,
   "metadata": {},
   "outputs": [
    {
     "name": "stdout",
     "output_type": "stream",
     "text": [
      "KMeans Labels:  [0 1 2 3 4 5 6 7 8]\n"
     ]
    }
   ],
   "source": [
    "print (\"KMeans Labels: \",np.unique(labels))     "
   ]
  },
  {
   "cell_type": "code",
   "execution_count": 17,
   "metadata": {},
   "outputs": [],
   "source": [
    "def clusterCounts(labels): \n",
    "    #Count number in each cluster for general population \n",
    "    clusterDict = collections.Counter(labels)\n",
    "    clusterSum = sum(clusterDict.values())\n",
    "\n",
    "    for key,value in sorted(clusterDict.items()): \n",
    "        print (key, ' ->',np.round(100*value/clusterSum),'%')"
   ]
  },
  {
   "cell_type": "code",
   "execution_count": 18,
   "metadata": {},
   "outputs": [
    {
     "name": "stderr",
     "output_type": "stream",
     "text": [
      "/Users/thomasspringett/anaconda3/lib/python3.7/site-packages/pandas/core/frame.py:3997: SettingWithCopyWarning: \n",
      "A value is trying to be set on a copy of a slice from a DataFrame\n",
      "\n",
      "See the caveats in the documentation: https://pandas.pydata.org/pandas-docs/stable/user_guide/indexing.html#returning-a-view-versus-a-copy\n",
      "  errors=errors,\n"
     ]
    },
    {
     "name": "stdout",
     "output_type": "stream",
     "text": [
      "\n",
      "Cluster <zip object at 0x7fc857812a08>: [[ 71.]\n",
      " [113.]\n",
      " [144.]\n",
      " [ 88.]\n",
      " [ 59.]]\n",
      "KMeans Labels:  [0 1 2 3 4]\n",
      "0  -> 33.0 %\n",
      "1  -> 11.0 %\n",
      "2  -> 5.0 %\n",
      "3  -> 16.0 %\n",
      "4  -> 35.0 %\n"
     ]
    },
    {
     "data": {
      "image/png": "[encoded data removed]",
      "text/plain": [
       "<Figure size 720x360 with 1 Axes>"
      ]
     },
     "metadata": {
      "needs_background": "light"
     },
     "output_type": "display_data"
    }
   ],
   "source": [
    "hr_zone_histogram(df)"
   ]
  },
  {
   "cell_type": "code",
   "execution_count": 19,
   "metadata": {},
   "outputs": [],
   "source": [
    "def assignZone(value):\n",
    "    zone = None\n",
    "    if (value) < very_light: \n",
    "        zone = \"zone1\"\n",
    "    elif (value > very_light) and (value < light):\n",
    "        zone = \"zone2\"\n",
    "    elif (value > light) and (value < moderate):\n",
    "        zone = \"zone3\"\n",
    "    elif (value > moderate) and (value < hard):\n",
    "        zone = \"zone4\"    \n",
    "    elif (value > hard) and (value < maximum):\n",
    "        zone = \"zone5\"\n",
    "        \n",
    "    return zone"
   ]
  },
  {
   "cell_type": "code",
   "execution_count": 22,
   "metadata": {},
   "outputs": [
    {
     "name": "stdout",
     "output_type": "stream",
     "text": [
      "Very Light: 74 \n",
      "Light: 81 \n",
      "Moderate: 92\n",
      "Hard: 113 \n",
      "Maximum: 209\n"
     ]
    },
    {
     "data": {
      "text/html": [
       "<div>\n",
       "<style scoped>\n",
       "    .dataframe tbody tr th:only-of-type {\n",
       "        vertical-align: middle;\n",
       "    }\n",
       "\n",
       "    .dataframe tbody tr th {\n",
       "        vertical-align: top;\n",
       "    }\n",
       "\n",
       "    .dataframe thead th {\n",
       "        text-align: right;\n",
       "    }\n",
       "</style>\n",
       "<table border=\"1\" class=\"dataframe\">\n",
       "  <thead>\n",
       "    <tr style=\"text-align: right;\">\n",
       "      <th></th>\n",
       "      <th>BPM</th>\n",
       "      <th>Label</th>\n",
       "      <th>Polar_Zone</th>\n",
       "    </tr>\n",
       "  </thead>\n",
       "  <tbody>\n",
       "    <tr>\n",
       "      <th>0</th>\n",
       "      <td>77</td>\n",
       "      <td>0</td>\n",
       "      <td>zone2</td>\n",
       "    </tr>\n",
       "    <tr>\n",
       "      <th>1</th>\n",
       "      <td>69</td>\n",
       "      <td>0</td>\n",
       "      <td>zone1</td>\n",
       "    </tr>\n",
       "    <tr>\n",
       "      <th>2</th>\n",
       "      <td>69</td>\n",
       "      <td>0</td>\n",
       "      <td>zone1</td>\n",
       "    </tr>\n",
       "    <tr>\n",
       "      <th>3</th>\n",
       "      <td>69</td>\n",
       "      <td>0</td>\n",
       "      <td>zone1</td>\n",
       "    </tr>\n",
       "    <tr>\n",
       "      <th>4</th>\n",
       "      <td>69</td>\n",
       "      <td>0</td>\n",
       "      <td>zone1</td>\n",
       "    </tr>\n",
       "  </tbody>\n",
       "</table>\n",
       "</div>"
      ],
      "text/plain": [
       "   BPM  Label Polar_Zone\n",
       "0   77      0      zone2\n",
       "1   69      0      zone1\n",
       "2   69      0      zone1\n",
       "3   69      0      zone1\n",
       "4   69      0      zone1"
      ]
     },
     "execution_count": 22,
     "metadata": {},
     "output_type": "execute_result"
    }
   ],
   "source": [
    "#x=df.BPM.quantile([0.5,0.6,0.7,0.8,0.9])\n",
    "very_light = int(df.BPM.quantile([0.6]))\n",
    "light = int(df.BPM.quantile([0.7]))\n",
    "moderate = int(df.BPM.quantile([0.8]))\n",
    "hard = int(df.BPM.quantile([0.9]))\n",
    "maximum = int(df.BPM.quantile([1.0]))\n",
    "\n",
    "df1=df.copy()\n",
    "print (\"Very Light: {} \\nLight: {} \\nModerate: {}\\nHard: {} \\nMaximum: {}\".format(very_light,light,moderate,hard,maximum))\n",
    "df1[\"Polar_Zone\"] = df1.BPM.apply(assignZone)\n",
    "df1.head()"
   ]
  },
  {
   "cell_type": "code",
   "execution_count": 23,
   "metadata": {},
   "outputs": [
    {
     "data": {
      "text/plain": [
       "array(['zone2', 'zone1', 'zone3', 'zone4', None, 'zone5'], dtype=object)"
      ]
     },
     "execution_count": 23,
     "metadata": {},
     "output_type": "execute_result"
    }
   ],
   "source": [
    "#Checking for Zone assignment: \n",
    "df1.Polar_Zone.unique()"
   ]
  },
  {
   "cell_type": "code",
   "execution_count": null,
   "metadata": {},
   "outputs": [],
   "source": [
    "#for score in scores:\n",
    "    #print (round(score/100000000,2))\n",
    "\n",
    "def findK(df,limit): \n",
    "    for k in range(len(df)):\n",
    "        if k == len(df):\n",
    "           print (\"end of array reached.\")\n",
    "            \n",
    "        if k == 0: \n",
    "          improvement = 'None'\n",
    "        if k > 0:\n",
    "          improvement = (round(100*((df[k-1]-df[k])/df[k])))\n",
    "          print (k,round(df[k]/100000000,2),improvement)\n",
    "          if improvement < limit:\n",
    "                break \n",
    "    print (\"Less than {}% improvement in score after k = {}\".format(limit,k))\n",
    "findK(scores,10)      "
   ]
  },
  {
   "cell_type": "code",
   "execution_count": null,
   "metadata": {},
   "outputs": [],
   "source": [
    "%%time\n",
    "def silhouetteScore(df): \n",
    "    sil_scores = [] \n",
    "    start = timer()\n",
    "    range_n_clusters = list(range(1,10))\n",
    "    for n_clusters in range_n_clusters:\n",
    "        kmeans = KMeans(n_clusters=n_clusters, random_state=10)\n",
    "        cluster_labels = kmeans.fit_predict(df)\n",
    "        score = silhouette_score(df,cluster_labels)\n",
    "        sil_scores.append(score)\n",
    "        print(\"For n_clusters = {}, silhouette score is {}\".format(n_clusters, score))\n",
    "        end=timer()\n",
    "        print(f\"\\nFunction in {(end - start)/60:0.1f} minutes\")\n",
    "    print (\"\\nFinished!\")\n",
    "    return sil_scores"
   ]
  },
  {
   "cell_type": "code",
   "execution_count": null,
   "metadata": {
    "scrolled": true
   },
   "outputs": [],
   "source": [
    "#sil_scores = silhouetteScore(df)"
   ]
  },
  {
   "cell_type": "code",
   "execution_count": null,
   "metadata": {},
   "outputs": [],
   "source": [
    "#pickle.dump(sil_scores,open('data/silhouetteScores','wb'))\n",
    "silhouette = pickle.load(open('data/silhouetteScores', 'rb'))\n",
    "print (\"Sil Scores: \",silhouette)"
   ]
  },
  {
   "cell_type": "code",
   "execution_count": null,
   "metadata": {},
   "outputs": [],
   "source": [
    "def silhouette_plot(scores, k_values):\n",
    "\n",
    "    plt.ylabel('Silhouette Score')\n",
    "    plt.xlabel('k value')\n",
    "    plt.title('Silhouete For Best K')\n",
    "    plt.ylim=(0.0,1.0)\n",
    "    plt.grid(True)\n",
    "    plt.plot(k_values, scores, marker = 'o')\n",
    "    plt.show()"
   ]
  },
  {
   "cell_type": "code",
   "execution_count": null,
   "metadata": {},
   "outputs": [],
   "source": [
    "print (len(k_values), len(silhouette))\n",
    "oftype(k_values)\n",
    "oftype(silhouette)\n",
    "if len(k_values) > len(silhouette):\n",
    "    k_values = k_values[:-1]\n",
    "oftype(k_values)\n",
    "print (len(k_values), len(silhouette))"
   ]
  },
  {
   "cell_type": "code",
   "execution_count": null,
   "metadata": {},
   "outputs": [],
   "source": [
    "silhouette_plot(silhouette,k_values)"
   ]
  },
  {
   "cell_type": "code",
   "execution_count": null,
   "metadata": {},
   "outputs": [],
   "source": [
    "def clusters_plot(df,num_clusters):\n",
    "    \n",
    "    if  'Label' in df: \n",
    "        df.drop(\"Label\",axis='columns',inplace=True)\n",
    "    kmeans = KMeans(n_clusters=num_clusters)\n",
    "    model = kmeans.fit(df)\n",
    "    print (\"\\nCluster {}: {}\".format(k,model.cluster_centers_))\n",
    "    labels = kmeans.predict(df)\n",
    "    print (\"KMeans Labels: \",np.unique(labels))   \n",
    "   \n",
    "    df.insert(1,\"Label\",labels)\n",
    " \n",
    "    cluster0 = df.loc[df['Label'] == 0]\n",
    "    cluster1 = df.loc[df['Label'] == 1]\n",
    "    \n",
    "    print (\"cluster0.shape: \",cluster0.shape)\n",
    "    print (\"cluster1.shape: \",cluster1.shape)\n",
    "    #print (cluster0.head())\n",
    "    #print (cluster1.head())\n",
    "    \n",
    "    bins = np.linspace(30, 200, 50)\n",
    "    plt.subplot(2,1,1)\n",
    "    plt.hist(cluster0.BPM,bins)\n",
    "    plt.title('Heart Rate Distribution for 2 Clusters')\n",
    "  \n",
    "    plt.grid(True)\n",
    "    plt.ylabel('Cluster 0')\n",
    "    \n",
    "    plt.subplot(2,1,2)\n",
    "    plt.hist(cluster1.BPM,bins) \n",
    "    plt.xlabel('Beats Per Minute')\n",
    "    plt.ylabel('Cluster 1')\n",
    "    plt.grid(True)\n",
    "    plt.show()\n",
    "        \n",
    "clusters_plot(df,2)"
   ]
  },
  {
   "cell_type": "markdown",
   "metadata": {},
   "source": [
    "The first step in determining high intensity heart rate zones is to determine maximum heart rate. There are several methods for this: \n",
    "\n",
    "1. 200 - 1/2 age. Or 168bpm for a 62 year old. \n",
    "2. 220 - age. 0r 158bpm for a 62 year old.\n",
    "3. Heart Rate Monitor data collected over a period of months with various activities. \n",
    "4. Using a treadmill or stationary bike with an ECG. \n",
    "\n",
    "Option number 2 is the most common for folks that do not have access to the treadmill and ECG. It will be used for the remainder of the project. \n",
    "\n",
    "After the maximum heart rate is determined, target heart rates can be determined: \n",
    "1. Target active heart rate: 60-70%. Or 95 to 110 bpm for the 62 year old. \n",
    "2. Target Heart Rate is 64% to 76%. CDC. \n",
    "3. High Intensity target heart rate is 76-93% (CDC). Or 120 to 146 for the 62 year old. \n",
    " \n",
    "The heart rate monitor company Polar suggests 5 heart rate zones: \n",
    "1. Very light at 50-60% of HRMAX. Boost recovery and prepare for higher zones.\n",
    "2. Light 60-70%. Improve general endurance and increase capillary density.\n",
    "2. Moderate at 70-80%. Lactic acid build up,improve efficiency of blood circulation in the heart and muscles\n",
    "4. Hard 80-90%. Improve speed endurance.\n",
    "5. Maximum 90-100%. For elite atheletes to further improve speed. "
   ]
  }
 ],
 "metadata": {
  "kernelspec": {
   "display_name": "Python 3",
   "language": "python",
   "name": "python3"
  },
  "language_info": {
   "codemirror_mode": {
    "name": "ipython",
    "version": 3
   },
   "file_extension": ".py",
   "mimetype": "text/x-python",
   "name": "python",
   "nbconvert_exporter": "python",
   "pygments_lexer": "ipython3",
   "version": "3.7.3"
  }
 },
 "nbformat": 4,
 "nbformat_minor": 4
}
