{
 "cells": [
  {
   "cell_type": "code",
   "execution_count": 1,
   "metadata": {},
   "outputs": [],
   "source": [
    "# import libraries\n",
    "import pandas as pd\n",
    "import numpy as np\n",
    "import os\n",
    "import matplotlib.pyplot as plt\n",
    "from timeit import default_timer as timer\n",
    "from sklearn.cluster import KMeans\n",
    "from sklearn.metrics import silhouette_samples, silhouette_score\n",
    "import collections\n",
    "import helpers\n",
    "from helpers import *\n",
    "import pickle\n",
    "from matplotlib.pyplot import figure\n",
    "%matplotlib inline\n",
    "import warnings\n",
    "from IPython.display import Image\n",
    "from collections import Counter\n",
    "import random\n",
    "\n",
    "def fxn():\n",
    "    warnings.warn(\"deprecated\", DeprecationWarning)\n",
    "\n",
    "with warnings.catch_warnings():\n",
    "    warnings.simplefilter(\"ignore\")\n",
    "    fxn()"
   ]
  },
  {
   "cell_type": "code",
   "execution_count": 2,
   "metadata": {},
   "outputs": [
    {
     "data": {
      "text/plain": [
       "'/Users/thomasspringett/github/heartrate'"
      ]
     },
     "execution_count": 2,
     "metadata": {},
     "output_type": "execute_result"
    }
   ],
   "source": [
    "%pwd"
   ]
  },
  {
   "cell_type": "code",
   "execution_count": 3,
   "metadata": {},
   "outputs": [
    {
     "data": {
      "text/html": [
       "<div>\n",
       "<style scoped>\n",
       "    .dataframe tbody tr th:only-of-type {\n",
       "        vertical-align: middle;\n",
       "    }\n",
       "\n",
       "    .dataframe tbody tr th {\n",
       "        vertical-align: top;\n",
       "    }\n",
       "\n",
       "    .dataframe thead th {\n",
       "        text-align: right;\n",
       "    }\n",
       "</style>\n",
       "<table border=\"1\" class=\"dataframe\">\n",
       "  <thead>\n",
       "    <tr style=\"text-align: right;\">\n",
       "      <th></th>\n",
       "      <th>BPM</th>\n",
       "    </tr>\n",
       "  </thead>\n",
       "  <tbody>\n",
       "    <tr>\n",
       "      <th>0</th>\n",
       "      <td>77</td>\n",
       "    </tr>\n",
       "    <tr>\n",
       "      <th>1</th>\n",
       "      <td>69</td>\n",
       "    </tr>\n",
       "    <tr>\n",
       "      <th>2</th>\n",
       "      <td>69</td>\n",
       "    </tr>\n",
       "  </tbody>\n",
       "</table>\n",
       "</div>"
      ],
      "text/plain": [
       "   BPM\n",
       "0   77\n",
       "1   69\n",
       "2   69"
      ]
     },
     "execution_count": 3,
     "metadata": {},
     "output_type": "execute_result"
    }
   ],
   "source": [
    "csv_file = 'data/HeartRateData.csv'\n",
    "df_raw = pd.read_csv(csv_file)\n",
    "df_raw=df_raw.drop('DateTime',1)\n",
    "df_raw.head(3)"
   ]
  },
  {
   "cell_type": "code",
   "execution_count": 4,
   "metadata": {},
   "outputs": [
    {
     "name": "stdout",
     "output_type": "stream",
     "text": [
      "count    349768.0\n",
      "mean         78.0\n",
      "std          24.0\n",
      "min          30.0\n",
      "25%          61.0\n",
      "50%          69.0\n",
      "75%          86.0\n",
      "max         215.0\n",
      "Name: BPM, dtype: float64\n"
     ]
    }
   ],
   "source": [
    "print (round(df_raw.BPM.describe()))"
   ]
  },
  {
   "cell_type": "code",
   "execution_count": 37,
   "metadata": {},
   "outputs": [
    {
     "name": "stdout",
     "output_type": "stream",
     "text": [
      "           BPM\n",
      "count  40000.0\n",
      "mean      78.0\n",
      "std       24.0\n",
      "min       33.0\n",
      "25%       61.0\n",
      "50%       69.0\n",
      "75%       86.0\n",
      "max      215.0\n"
     ]
    }
   ],
   "source": [
    "df_s=random.sample(list(df_raw.BPM), 40000)\n",
    "\n",
    "df_sample = pd.DataFrame(df_s)\n",
    "df_sample.columns=['BPM']\n",
    "\n",
    "\n",
    "print (round(df_sample.describe()))"
   ]
  },
  {
   "cell_type": "code",
   "execution_count": 38,
   "metadata": {},
   "outputs": [],
   "source": [
    "def zones(age):\n",
    "    max_hr = 220 - age\n",
    "    target_low = 0.64*max_hr\n",
    "    target_high = 0.76*max_hr\n",
    "    target_intensity_lo = 0.76*max_hr\n",
    "    target_intensity_hi = 0.93*max_hr\n",
    "    print (\"For Age: {} Maximum HR: {}\".format(age,max_hr))\n",
    "    print (\"Target HR Lower Bound:\", target_low)\n",
    "    print (\"Target HR Upper Bound:\", target_high)\n",
    "    print (\"Target HR Intensity Upper Bound:\", target_intensity_hi)\n",
    "    return max_hr, target_low, target_high, target_intensity_lo, target_intensity_hi"
   ]
  },
  {
   "cell_type": "code",
   "execution_count": 39,
   "metadata": {},
   "outputs": [
    {
     "name": "stdout",
     "output_type": "stream",
     "text": [
      "For Age: 62 Maximum HR: 158\n",
      "Target HR Lower Bound: 101.12\n",
      "Target HR Upper Bound: 120.08\n",
      "Target HR Intensity Upper Bound: 146.94\n"
     ]
    }
   ],
   "source": [
    "max_hr, target_low, target_high, target_intensity_lo, target_intensity_hi = zones(62)"
   ]
  },
  {
   "cell_type": "code",
   "execution_count": 40,
   "metadata": {},
   "outputs": [],
   "source": [
    "def plot_data_histo(totals): \n",
    "    xref = [max_hr,target_low, target_high,target_intensity_hi]\n",
    "    ref_colors=['r','g','y','b']\n",
    "    plt.figure(figsize=(10,5))\n",
    "    for ref, c in zip(xref,ref_colors):\n",
    "        plt.axvline(x=ref, c=c, label= 'ref at = {}'.format(ref))\n",
    "    plt.legend()\n",
    "    #plt.figure(figsize=(10,5))\n",
    "    plt.grid(True)\n",
    "    bin=100\n",
    "    # Turn on the minor TICKS, which are required for the minor GRID\n",
    "    plt.minorticks_on()\n",
    "    # Customize the major grid\n",
    "    plt.grid(which='major', linestyle='-', linewidth='0.5', color='grey')\n",
    "    # Customize the minor grid\n",
    "    plt.grid(which='minor', linestyle=':', linewidth='0.5', color='grey')\n",
    "    plt.xlabel('Beats/Minute')\n",
    "    plt.ylabel('Count')\n",
    "    plt.title('Raw Heart Rate Distribution')\n",
    "    #plt.ylim(0,35000)\n",
    "    #plt.xlim(30,200)\n",
    "    plt.hist(df_raw.BPM, bins=range(35, 205+2, 2))\n",
    "    plt.savefig('./plots/raw_histo.png')\n",
    "    plt.show()"
   ]
  },
  {
   "cell_type": "code",
   "execution_count": 41,
   "metadata": {},
   "outputs": [
    {
     "data": {
      "image/png": "[encoded data removed]",
      "text/plain": [
       "<Figure size 720x360 with 1 Axes>"
      ]
     },
     "metadata": {
      "needs_background": "light"
     },
     "output_type": "display_data"
    }
   ],
   "source": [
    "plot_data_histo(df_sample)"
   ]
  },
  {
   "cell_type": "code",
   "execution_count": 42,
   "metadata": {},
   "outputs": [],
   "source": [
    "def hr_cluster_histogram(df): \n",
    "    \n",
    "    if  'Label' in df: \n",
    "        df.drop(\"Label\",axis='columns',inplace=True)\n",
    "    kmeans = KMeans(n_clusters=5)\n",
    "    model = kmeans.fit(df)\n",
    "    centers = np.round(model.cluster_centers_,0)\n",
    "    print (\"\\nCluster {}: {}\".format(k,centers))\n",
    "    labels = kmeans.predict(df)\n",
    "    print (\"KMeans Labels: \",np.unique(labels))   \n",
    "   \n",
    "    df.insert(1,\"Label\",labels)\n",
    "\n",
    "    clusterCounts(labels)\n",
    "    #Histogram of the number of missing values per column (featrure).\n",
    "    xref = [max_hr,target_low, target_high,target_intensity_hi]\n",
    "    ref_colors=['r','g','y','b']\n",
    "\n",
    "    #for ref, c in zip(xref,ref_colors):\n",
    "    #    plt.axvline(x=ref, c=c, label= 'ref at = {}'.format(ref))\n",
    "        \n",
    "    zone1 = df.loc[df.Label ==0, 'BPM']\n",
    "    zone2 = df.loc[df.Label ==1, 'BPM']\n",
    "    zone3 = df.loc[df.Label ==2, 'BPM']\n",
    "    zone4 = df.loc[df.Label ==3, 'BPM']\n",
    "    zone5 = df.loc[df.Label ==4, 'BPM']\n",
    "    \n",
    "    \n",
    "    plt.figure(figsize=(10,5))\n",
    "    # xticks = np.linspace(30, 200, 50)\n",
    "    kwargs = dict(alpha=0.5)\n",
    "    plt.xticks(np.arange(20, 205, 20))\n",
    "    plt.grid(b=True, which='both', color='0.65', linestyle='-')\n",
    "    \n",
    "    # Turn on the minor TICKS, which are required for the minor GRID\n",
    "    plt.minorticks_on()\n",
    "\n",
    "    # Customize the major grid\n",
    "    plt.grid(which='major', linestyle='-', linewidth='0.5', color='grey')\n",
    "    # Customize the minor grid\n",
    "    plt.grid(which='minor', linestyle=':', linewidth='0.5', color='grey')\n",
    "    \n",
    "    bin = 20\n",
    "    \n",
    "    #plt.grid(True)\n",
    "    plt.title('Cluster Heart Rate Distribution')\n",
    "    plt.hist(zone1, **kwargs, color='b', label='Cluster 1', bins=range(35, 205, 2))\n",
    "    plt.hist(zone2, **kwargs, color='c', label='Cluster 2', bins=range(35, 205, 2))\n",
    "    plt.hist(zone3, **kwargs, color='g', label='Cluster 3', bins=range(35, 205, 2))\n",
    "    plt.hist(zone4, **kwargs, color='y', label='Cluster 4', bins=range(35, 205, 2))\n",
    "    plt.hist(zone5, **kwargs, color='r', label='Cluster 5', bins=range(35, 205, 2))\n",
    "    plt.ylabel('Counts')\n",
    "    plt.xlabel('Beats Per Minute (BPM)')\n",
    "    #plt.ylim(0,35000)\n",
    "    #plt.xlim(30,200)\n",
    "    #plt.hist(df_raw.BPM, bins=range(35, 205, 2))\n",
    "    plt.legend()\n",
    "    plt.savefig('./plots/cluster_histo.png')\n",
    "    plt.show()"
   ]
  },
  {
   "cell_type": "code",
   "execution_count": 76,
   "metadata": {},
   "outputs": [],
   "source": [
    "def hr_zone_histogram(df): \n",
    "    \n",
    "    clusterCounts(df['Polar_Zone'])\n",
    "    #Histogram of the number of missing values per column (featrure).\n",
    "    xref = [max_hr,target_low, target_high,target_intensity_hi]\n",
    "    ref_colors=['r','g','y','b']\n",
    "\n",
    "    #for ref, c in zip(xref,ref_colors):\n",
    "    #    plt.axvline(x=ref, c=c, label= 'ref at = {}'.format(ref))\n",
    "        \n",
    "    zone1 = df.loc[df.Polar_Zone == 'zone1', 'BPM']\n",
    "    zone2 = df.loc[df.Polar_Zone == 'zone2', 'BPM']\n",
    "    zone3 = df.loc[df.Polar_Zone == 'zone3', 'BPM']\n",
    "    zone4 = df.loc[df.Polar_Zone == 'zone4', 'BPM']\n",
    "    zone5 = df.loc[df.Polar_Zone == 'zone5', 'BPM']\n",
    "    \n",
    "    \n",
    "    plt.figure(figsize=(10,5))\n",
    "    # xticks = np.linspace(30, 200, 50)\n",
    "    kwargs = dict(alpha=0.5)\n",
    "    plt.xticks(np.arange(20, 205, 20))\n",
    "    plt.grid(b=True, which='both', color='0.65', linestyle='-')\n",
    "    \n",
    "    # Turn on the minor TICKS, which are required for the minor GRID\n",
    "    plt.minorticks_on()\n",
    "\n",
    "    # Customize the major grid\n",
    "    plt.grid(which='major', linestyle='-', linewidth='0.5', color='grey')\n",
    "    # Customize the minor grid\n",
    "    plt.grid(which='minor', linestyle=':', linewidth='0.5', color='grey')\n",
    "    \n",
    "    bin = 20 \n",
    "    \n",
    "    #plt.grid(True)\n",
    "    plt.title('Zone Heart Rate Distribution')\n",
    "    plt.hist(zone1, **kwargs, color='g', label='Zone 1',bins=bin)\n",
    "    plt.hist(zone2, **kwargs, color='b', label='Zone 2',bins=bin)\n",
    "    plt.hist(zone3, **kwargs, color='r', label='Zone 3',bins=bin)\n",
    "    plt.hist(zone4, **kwargs, color='c', label='Zone 4',bins=bin)\n",
    "    plt.hist(zone5, **kwargs, color='y', label='Zone 5',bins=bin)\n",
    "    plt.ylabel('Counts')\n",
    "    plt.xlabel('Beats Per Minute (BPM)')\n",
    "    #plt.ylim(0,35000)\n",
    "    plt.xlim(30,200)\n",
    "    plt.legend()\n",
    "    plt.savefig('./plots/zone_histo.png')\n",
    "    plt.show()"
   ]
  },
  {
   "cell_type": "code",
   "execution_count": 43,
   "metadata": {},
   "outputs": [
    {
     "name": "stdout",
     "output_type": "stream",
     "text": [
      "Applying hardware limit of 210bpm resulted in dropping 0 data points.\n"
     ]
    }
   ],
   "source": [
    "hardware_limit = 210\n",
    "df_limit = df_sample[(df_sample < hardware_limit)]\n",
    "num_screened = df_sample.shape[0]-df_limit.shape[0]\n",
    "print (\"Applying hardware limit of {}bpm resulted in dropping {} data points.\".format(hardware_limit,num_screened))"
   ]
  },
  {
   "cell_type": "markdown",
   "metadata": {},
   "source": [
    " Note that with KMeans clustering the data will not be split into training and test sets. Kmeans clustering is not a classification tool. The data is not labeled."
   ]
  },
  {
   "cell_type": "code",
   "execution_count": 44,
   "metadata": {},
   "outputs": [],
   "source": [
    "\n",
    "def scree_KMeans_plot(data,num_clusters):\n",
    "    clusterCenters = [] \n",
    "    scores = [] \n",
    "    k_values = []\n",
    "    start = timer()\n",
    "    for k in range(1,num_clusters):\n",
    "        k_values.append(k)\n",
    "        kmeans = KMeans(n_clusters=k)\n",
    "        model = kmeans.fit(data)\n",
    "        print (\"\\nCluster {}: {}\".format(k,model.cluster_centers_))\n",
    "        clusterCenters.append(model.cluster_centers_)\n",
    "        labels = kmeans.predict(data)\n",
    "        print (\"Cluster Labels: \",np.unique(labels))\n",
    "        score = -(kmeans.score(data))\n",
    "        print (\"score: \",round(score/100000000,2))\n",
    "        scores.append(score)\n",
    "    plt.plot(k_values, scores, marker = 'o')\n",
    "    plt.ylabel('K-Cluster Score')\n",
    "    plt.xlabel('k value')\n",
    "    plt.title('Number of Clusters vs KMeans Score')\n",
    "    plt.savefig('./plots/Cluster_vs_score_plot.png')\n",
    "    plt.show()\n",
    "    end = timer() \n",
    "    print(f\"\\nFunction in {(end - start)/60:0.1f} minutes\")\n",
    "    return k_values, scores, labels"
   ]
  },
  {
   "cell_type": "code",
   "execution_count": 45,
   "metadata": {
    "scrolled": true
   },
   "outputs": [
    {
     "name": "stdout",
     "output_type": "stream",
     "text": [
      "\n",
      "Cluster 1: [[77.73615]]\n",
      "Cluster Labels:  [0]\n",
      "score:  0.22\n",
      "\n",
      "Cluster 2: [[ 67.81352542]\n",
      " [117.42044744]]\n",
      "Cluster Labels:  [0 1]\n",
      "score:  0.07\n",
      "\n",
      "Cluster 3: [[ 88.03384904]\n",
      " [129.16100629]\n",
      " [ 63.27974761]]\n",
      "Cluster Labels:  [0 1 2]\n",
      "score:  0.04\n",
      "\n",
      "Cluster 4: [[ 61.99775023]\n",
      " [106.41608263]\n",
      " [141.47667984]\n",
      " [ 80.26986755]]\n",
      "Cluster Labels:  [0 1 2 3]\n",
      "score:  0.02\n",
      "\n",
      "Cluster 5: [[104.74381163]\n",
      " [ 61.99775023]\n",
      " [ 80.2088267 ]\n",
      " [134.02098151]\n",
      " [191.55454545]]\n",
      "Cluster Labels:  [0 1 2 3 4]\n",
      "score:  0.02\n",
      "\n",
      "Cluster 6: [[ 59.56278952]\n",
      " [109.82087379]\n",
      " [136.7545376 ]\n",
      " [ 87.78423237]\n",
      " [ 71.55337748]\n",
      " [192.06481481]]\n",
      "Cluster Labels:  [0 1 2 3 4 5]\n",
      "score:  0.01\n",
      "\n",
      "Cluster 7: [[ 69.13708679]\n",
      " [114.94115691]\n",
      " [138.53548387]\n",
      " [ 58.90922661]\n",
      " [ 96.25708008]\n",
      " [192.31775701]\n",
      " [ 81.06555228]]\n",
      "Cluster Labels:  [0 1 2 3 4 5 6]\n",
      "score:  0.01\n",
      "\n",
      "Cluster 8: [[126.32914704]\n",
      " [ 67.01854073]\n",
      " [ 90.89675252]\n",
      " [145.05      ]\n",
      " [ 57.96977222]\n",
      " [108.05269646]\n",
      " [194.3030303 ]\n",
      " [ 77.51436869]]\n",
      "Cluster Labels:  [0 1 2 3 4 5 6 7]\n",
      "score:  0.01\n",
      "\n",
      "Cluster 9: [[ 57.47016362]\n",
      " [125.13717277]\n",
      " [ 84.15002587]\n",
      " [ 74.33384663]\n",
      " [193.55882353]\n",
      " [108.63333333]\n",
      " [143.90572119]\n",
      " [ 65.60323529]\n",
      " [ 94.79284497]]\n",
      "Cluster Labels:  [0 1 2 3 4 5 6 7 8]\n",
      "score:  0.0\n",
      "\n",
      "Cluster 10: [[ 97.02042024]\n",
      " [ 66.7939483 ]\n",
      " [145.38082192]\n",
      " [ 74.6542087 ]\n",
      " [111.59889409]\n",
      " [194.80412371]\n",
      " [ 60.35838083]\n",
      " [ 54.57516951]\n",
      " [ 84.55560905]\n",
      " [127.38095238]]\n",
      "Cluster Labels:  [0 1 2 3 4 5 6 7 8 9]\n",
      "score:  0.0\n",
      "\n",
      "Cluster 11: [[ 54.57516951]\n",
      " [107.02253521]\n",
      " [ 74.6542087 ]\n",
      " [135.87701318]\n",
      " [ 66.7939483 ]\n",
      " [196.45856354]\n",
      " [ 83.76695507]\n",
      " [ 60.35838083]\n",
      " [120.49628359]\n",
      " [152.13737374]\n",
      " [ 93.92966961]]\n",
      "Cluster Labels:  [ 0  1  2  3  4  5  6  7  8  9 10]\n",
      "score:  0.0\n",
      "\n",
      "Cluster 12: [[ 67.14484617]\n",
      " [102.49895616]\n",
      " [135.84706882]\n",
      " [ 75.16610106]\n",
      " [196.21311475]\n",
      " [ 60.00280811]\n",
      " [ 92.80023971]\n",
      " [112.69175028]\n",
      " [ 53.8177355 ]\n",
      " [150.81786942]\n",
      " [123.85908319]\n",
      " [ 83.76695507]]\n",
      "Cluster Labels:  [ 0  1  2  3  4  5  6  7  8  9 10 11]\n",
      "score:  0.0\n",
      "\n",
      "Cluster 13: [[ 85.61160036]\n",
      " [ 69.45855712]\n",
      " [139.81704782]\n",
      " [104.35882661]\n",
      " [ 54.57516951]\n",
      " [196.82022472]\n",
      " [ 64.36280162]\n",
      " [126.69024045]\n",
      " [ 76.9829606 ]\n",
      " [114.35294118]\n",
      " [ 59.93149574]\n",
      " [154.22427441]\n",
      " [ 94.50874126]]\n",
      "Cluster Labels:  [ 0  1  2  3  4  5  6  7  8  9 10 11 12]\n",
      "score:  0.0\n",
      "\n",
      "Cluster 14: [[ 53.8177355 ]\n",
      " [103.80046948]\n",
      " [ 69.03816174]\n",
      " [124.63067695]\n",
      " [196.21311475]\n",
      " [ 87.10059715]\n",
      " [ 63.85312343]\n",
      " [150.81786942]\n",
      " [ 94.50874126]\n",
      " [113.39988493]\n",
      " [ 59.13939139]\n",
      " [ 81.52341215]\n",
      " [136.25636364]\n",
      " [ 75.54230331]]\n",
      "Cluster Labels:  [ 0  1  2  3  4  5  6  7  8  9 10 11 12 13]\n",
      "score:  0.0\n",
      "\n",
      "Cluster 15: [[ 77.61669506]\n",
      " [134.17323556]\n",
      " [ 63.06204058]\n",
      " [102.08883827]\n",
      " [169.19444444]\n",
      " [ 92.80023971]\n",
      " [ 68.00075786]\n",
      " [122.3229246 ]\n",
      " [ 53.01050862]\n",
      " [200.32432432]\n",
      " [147.00863309]\n",
      " [111.5095986 ]\n",
      " [ 84.26176192]\n",
      " [ 58.31407723]\n",
      " [ 72.82001134]]\n",
      "Cluster Labels:  [ 0  1  2  3  4  5  6  7  8  9 10 11 12 13 14]\n",
      "score:  0.0\n",
      "\n",
      "Cluster 16: [[ 58.31407723]\n",
      " [124.67608476]\n",
      " [ 84.79500367]\n",
      " [ 72.82001134]\n",
      " [108.53229572]\n",
      " [157.86693548]\n",
      " [ 63.06204058]\n",
      " [197.78235294]\n",
      " [ 92.68118324]\n",
      " [143.60136986]\n",
      " [ 78.06213018]\n",
      " [ 53.01050862]\n",
      " [101.15633245]\n",
      " [133.46599496]\n",
      " [115.69527897]\n",
      " [ 68.00075786]]\n",
      "Cluster Labels:  [ 0  1  2  3  4  5  6  7  8  9 10 11 12 13 14 15]\n",
      "score:  0.0\n",
      "\n",
      "Cluster 17: [[ 63.06204058]\n",
      " [140.49925706]\n",
      " [ 88.70883147]\n",
      " [ 72.82001134]\n",
      " [105.26451613]\n",
      " [203.13934426]\n",
      " [ 53.01050862]\n",
      " [122.038     ]\n",
      " [ 96.80169671]\n",
      " [ 68.00075786]\n",
      " [ 82.23557278]\n",
      " [177.69148936]\n",
      " [113.33083832]\n",
      " [ 58.31407723]\n",
      " [ 77.22310441]\n",
      " [131.03951701]\n",
      " [151.24941725]]\n",
      "Cluster Labels:  [ 0  1  2  3  4  5  6  7  8  9 10 11 12 13 14 15 16]\n",
      "score:  0.0\n",
      "\n",
      "Cluster 18: [[ 60.99331021]\n",
      " [113.33083832]\n",
      " [ 84.67022901]\n",
      " [151.24941725]\n",
      " [ 68.25834046]\n",
      " [203.13934426]\n",
      " [ 96.50954654]\n",
      " [129.88726043]\n",
      " [ 53.8177355 ]\n",
      " [ 78.06213018]\n",
      " [104.86323787]\n",
      " [ 72.82001134]\n",
      " [ 64.36280162]\n",
      " [177.69148936]\n",
      " [121.58305463]\n",
      " [ 90.60620364]\n",
      " [ 58.27287246]\n",
      " [139.62625   ]]\n",
      "Cluster Labels:  [ 0  1  2  3  4  5  6  7  8  9 10 11 12 13 14 15 16 17]\n",
      "score:  0.0\n",
      "\n",
      "Cluster 19: [[203.13934426]\n",
      " [ 63.61240454]\n",
      " [103.80046948]\n",
      " [140.87257618]\n",
      " [ 77.22310441]\n",
      " [121.47424512]\n",
      " [ 86.10689252]\n",
      " [ 55.75974441]\n",
      " [ 68.00075786]\n",
      " [ 96.04194858]\n",
      " [177.69148936]\n",
      " [ 59.49566498]\n",
      " [131.03951701]\n",
      " [ 72.82001134]\n",
      " [151.92631579]\n",
      " [112.37667845]\n",
      " [ 81.62586852]\n",
      " [ 90.7986966 ]\n",
      " [ 51.34263296]]\n",
      "Cluster Labels:  [ 0  1  2  3  4  5  6  7  8  9 10 11 12 13 14 15 16 17 18]\n",
      "score:  0.0\n"
     ]
    },
    {
     "data": {
      "image/png": "[encoded data removed]",
      "text/plain": [
       "<Figure size 432x288 with 1 Axes>"
      ]
     },
     "metadata": {
      "needs_background": "light"
     },
     "output_type": "display_data"
    },
    {
     "name": "stdout",
     "output_type": "stream",
     "text": [
      "\n",
      "Function in 0.1 minutes\n",
      "<zip object at 0x7f8ad31285c8>\n"
     ]
    }
   ],
   "source": [
    "\n",
    "k_values, scores, labels = scree_KMeans_plot(df_sample,20) \n",
    "k = zip(k_values, scores)\n",
    "print (k)"
   ]
  },
  {
   "cell_type": "code",
   "execution_count": 47,
   "metadata": {},
   "outputs": [
    {
     "name": "stdout",
     "output_type": "stream",
     "text": [
      "Maximum value of number of clusters (k) is:  19\n",
      "1 0.07 236.0\n",
      "2 0.04 89.0\n",
      "3 0.02 60.0\n",
      "4 0.02 41.0\n",
      "5 0.01 55.0\n",
      "6 0.01 35.0\n",
      "7 0.01 32.0\n",
      "8 0.0 24.0\n",
      "9 0.0 22.0\n",
      "10 0.0 19.0\n",
      "11 0.0 19.0\n",
      "12 0.0 15.0\n",
      "13 0.0 17.0\n",
      "14 0.0 15.0\n",
      "15 0.0 9.0\n",
      "Less than 15% improvement in score after k = 15\n"
     ]
    }
   ],
   "source": [
    "#for score in scores:\n",
    "    #print (round(score/100000000,2))\n",
    "\n",
    "def findK(df,limit): \n",
    "    print (\"Maximum value of number of clusters (k) is: \",len(df))\n",
    "    for k in range(len(df)):\n",
    " \n",
    "        if k == len(df):\n",
    "           print (\"\\nEnd of array reached.\") \n",
    "        elif k == len(df): \n",
    "          improvement = 'None'\n",
    "          print (\"end of array reached prior to limit\")\n",
    "          print (\"K=0\")\n",
    "        elif k > 0:\n",
    "          improvement = (round(100*((df[k-1]-df[k])/df[k])))\n",
    "          print (k,round(df[k]/100000000,2),improvement)\n",
    "          if improvement < limit:\n",
    "                #print (\"Improvement of {}% is less than lower limit of {}% for k = {}. k max is {} \".format(improvement,limit,k,len(df)))\n",
    "                break\n",
    "    print (\"Less than {}% improvement in score after k = {}\".format(limit,k))\n",
    "\n",
    "findK(scores,15) "
   ]
  },
  {
   "cell_type": "code",
   "execution_count": 48,
   "metadata": {},
   "outputs": [
    {
     "name": "stdout",
     "output_type": "stream",
     "text": [
      "KMeans Labels:  [ 0  1  2  3  4  5  6  7  8  9 10 11 12 13 14 15 16 17 18]\n"
     ]
    }
   ],
   "source": [
    "print (\"KMeans Labels: \",np.unique(labels))     "
   ]
  },
  {
   "cell_type": "code",
   "execution_count": 49,
   "metadata": {},
   "outputs": [],
   "source": [
    "def clusterCounts(labels): \n",
    "    #Count number in each cluster for general population \n",
    "    clusterDict = collections.Counter(labels)\n",
    "    clusterSum = sum(clusterDict.values())\n",
    "    #clusterCounter = Counter(clusterDict.values())\n",
    "\n",
    "    for key,value in sorted(clusterDict.items()): \n",
    "        print (key, ' ->',np.round(100*value/clusterSum),'%')"
   ]
  },
  {
   "cell_type": "code",
   "execution_count": 50,
   "metadata": {},
   "outputs": [
    {
     "name": "stdout",
     "output_type": "stream",
     "text": [
      "\n",
      "Cluster <zip object at 0x7f8ad31285c8>: [[102.]\n",
      " [ 61.]\n",
      " [132.]\n",
      " [ 78.]\n",
      " [190.]]\n",
      "KMeans Labels:  [0 1 2 3 4]\n",
      "0  -> 14.0 %\n",
      "1  -> 51.0 %\n",
      "2  -> 8.0 %\n",
      "3  -> 26.0 %\n",
      "4  -> 1.0 %\n"
     ]
    },
    {
     "data": {
      "image/png": "[encoded data removed]",
      "text/plain": [
       "<Figure size 720x360 with 1 Axes>"
      ]
     },
     "metadata": {
      "needs_background": "light"
     },
     "output_type": "display_data"
    }
   ],
   "source": [
    "hr_cluster_histogram(df_sample)"
   ]
  },
  {
   "cell_type": "code",
   "execution_count": 51,
   "metadata": {},
   "outputs": [],
   "source": [
    "#Image('./plots/cluster_histo.png')"
   ]
  },
  {
   "cell_type": "code",
   "execution_count": 52,
   "metadata": {},
   "outputs": [],
   "source": [
    "def assignZone(value):\n",
    "    if (value) <= zone1: \n",
    "        return\"zone1\"\n",
    "    elif (value > zone1) and (value <= zone2):\n",
    "        return \"zone2\"\n",
    "    elif (value > zone2) and (value <= zone3):\n",
    "        return  \"zone3\"\n",
    "    elif (value > zone3) and (value <= zone4):\n",
    "        return  \"zone4\"    \n",
    "    elif (value > zone4) and (value <= zone5):\n",
    "        return \"zone5\"\n",
    "    else:\n",
    "        return 'nan'\n",
    "        print ('\\nvalue is nan: ',value)\n",
    "   "
   ]
  },
  {
   "cell_type": "code",
   "execution_count": 54,
   "metadata": {},
   "outputs": [
    {
     "name": "stdout",
     "output_type": "stream",
     "text": [
      "Zone Upper Limits: zone1: 94.2, zone2: 110, zone3: 126, zone4: 141.3, zone5: 157.0\n"
     ]
    }
   ],
   "source": [
    "zone1 = 0.6 * (220-63) \n",
    "zone2 = 0.7 * (220-63) \n",
    "zone3 = 0.8 * (220-63)\n",
    "zone4 = 0.9 * (220-63)\n",
    "zone5 = 1.0 * (220-63)\n",
    "print (\"Zone Upper Limits: zone1: {}, zone2: {}, zone3: {}, zone4: {}, zone5: {}\".format(zone1,round(zone2),round(zone3),zone4,zone5))"
   ]
  },
  {
   "cell_type": "code",
   "execution_count": 55,
   "metadata": {},
   "outputs": [
    {
     "name": "stdout",
     "output_type": "stream",
     "text": [
      "(40000, 3)\n"
     ]
    },
    {
     "data": {
      "text/html": [
       "<div>\n",
       "<style scoped>\n",
       "    .dataframe tbody tr th:only-of-type {\n",
       "        vertical-align: middle;\n",
       "    }\n",
       "\n",
       "    .dataframe tbody tr th {\n",
       "        vertical-align: top;\n",
       "    }\n",
       "\n",
       "    .dataframe thead th {\n",
       "        text-align: right;\n",
       "    }\n",
       "</style>\n",
       "<table border=\"1\" class=\"dataframe\">\n",
       "  <thead>\n",
       "    <tr style=\"text-align: right;\">\n",
       "      <th></th>\n",
       "      <th>BPM</th>\n",
       "      <th>Label</th>\n",
       "      <th>Polar_Zone</th>\n",
       "    </tr>\n",
       "  </thead>\n",
       "  <tbody>\n",
       "    <tr>\n",
       "      <th>0</th>\n",
       "      <td>64</td>\n",
       "      <td>1</td>\n",
       "      <td>zone1</td>\n",
       "    </tr>\n",
       "    <tr>\n",
       "      <th>1</th>\n",
       "      <td>69</td>\n",
       "      <td>1</td>\n",
       "      <td>zone1</td>\n",
       "    </tr>\n",
       "    <tr>\n",
       "      <th>2</th>\n",
       "      <td>72</td>\n",
       "      <td>3</td>\n",
       "      <td>zone1</td>\n",
       "    </tr>\n",
       "    <tr>\n",
       "      <th>3</th>\n",
       "      <td>72</td>\n",
       "      <td>3</td>\n",
       "      <td>zone1</td>\n",
       "    </tr>\n",
       "    <tr>\n",
       "      <th>4</th>\n",
       "      <td>83</td>\n",
       "      <td>3</td>\n",
       "      <td>zone1</td>\n",
       "    </tr>\n",
       "  </tbody>\n",
       "</table>\n",
       "</div>"
      ],
      "text/plain": [
       "   BPM  Label Polar_Zone\n",
       "0   64      1      zone1\n",
       "1   69      1      zone1\n",
       "2   72      3      zone1\n",
       "3   72      3      zone1\n",
       "4   83      3      zone1"
      ]
     },
     "execution_count": 55,
     "metadata": {},
     "output_type": "execute_result"
    }
   ],
   "source": [
    "df_zones=df_sample.copy()\n",
    "df_zones['Polar_Zone'] = df_zones.BPM.apply(assignZone)\n",
    "print (df_zones.shape)\n",
    "df_zones.head()"
   ]
  },
  {
   "cell_type": "code",
   "execution_count": 56,
   "metadata": {},
   "outputs": [
    {
     "data": {
      "text/plain": [
       "array(['zone1', 'zone4', 'nan', 'zone2', 'zone3', 'zone5'], dtype=object)"
      ]
     },
     "execution_count": 56,
     "metadata": {},
     "output_type": "execute_result"
    }
   ],
   "source": [
    "#Checking for Zone assignment: \n",
    "df_zones['Polar_Zone'].unique()"
   ]
  },
  {
   "cell_type": "code",
   "execution_count": 57,
   "metadata": {},
   "outputs": [
    {
     "name": "stdout",
     "output_type": "stream",
     "text": [
      "df2 shape: \n",
      " (40000, 3)\n",
      "nan  -> 1.0 %\n",
      "zone1  -> 81.0 %\n",
      "zone2  -> 8.0 %\n",
      "zone3  -> 6.0 %\n",
      "zone4  -> 4.0 %\n",
      "zone5  -> 2.0 %\n"
     ]
    }
   ],
   "source": [
    "df2 = df_zones.copy() \n",
    "print (\"df2 shape: \\n\",df2.shape)\n",
    "clusterCounts(df2['Polar_Zone'])\n",
    "#display (df2.groupby('Polar_Zone').count())\n",
    "#display (df.groupby('Label').count())"
   ]
  },
  {
   "cell_type": "code",
   "execution_count": 59,
   "metadata": {},
   "outputs": [
    {
     "data": {
      "image/png": "[encoded data removed]",
      "text/plain": [
       "<Figure size 720x360 with 1 Axes>"
      ]
     },
     "metadata": {
      "needs_background": "light"
     },
     "output_type": "display_data"
    }
   ],
   "source": [
    "plot_data_histo(df_sample.BPM)"
   ]
  },
  {
   "cell_type": "code",
   "execution_count": 60,
   "metadata": {},
   "outputs": [
    {
     "data": {
      "text/html": [
       "<div>\n",
       "<style scoped>\n",
       "    .dataframe tbody tr th:only-of-type {\n",
       "        vertical-align: middle;\n",
       "    }\n",
       "\n",
       "    .dataframe tbody tr th {\n",
       "        vertical-align: top;\n",
       "    }\n",
       "\n",
       "    .dataframe thead th {\n",
       "        text-align: right;\n",
       "    }\n",
       "</style>\n",
       "<table border=\"1\" class=\"dataframe\">\n",
       "  <thead>\n",
       "    <tr style=\"text-align: right;\">\n",
       "      <th></th>\n",
       "      <th>BPM</th>\n",
       "      <th>Label</th>\n",
       "      <th>Polar_Zone</th>\n",
       "    </tr>\n",
       "  </thead>\n",
       "  <tbody>\n",
       "    <tr>\n",
       "      <th>0</th>\n",
       "      <td>64</td>\n",
       "      <td>1</td>\n",
       "      <td>zone1</td>\n",
       "    </tr>\n",
       "    <tr>\n",
       "      <th>1</th>\n",
       "      <td>69</td>\n",
       "      <td>1</td>\n",
       "      <td>zone1</td>\n",
       "    </tr>\n",
       "    <tr>\n",
       "      <th>2</th>\n",
       "      <td>72</td>\n",
       "      <td>3</td>\n",
       "      <td>zone1</td>\n",
       "    </tr>\n",
       "    <tr>\n",
       "      <th>3</th>\n",
       "      <td>72</td>\n",
       "      <td>3</td>\n",
       "      <td>zone1</td>\n",
       "    </tr>\n",
       "    <tr>\n",
       "      <th>4</th>\n",
       "      <td>83</td>\n",
       "      <td>3</td>\n",
       "      <td>zone1</td>\n",
       "    </tr>\n",
       "  </tbody>\n",
       "</table>\n",
       "</div>"
      ],
      "text/plain": [
       "   BPM  Label Polar_Zone\n",
       "0   64      1      zone1\n",
       "1   69      1      zone1\n",
       "2   72      3      zone1\n",
       "3   72      3      zone1\n",
       "4   83      3      zone1"
      ]
     },
     "execution_count": 60,
     "metadata": {},
     "output_type": "execute_result"
    }
   ],
   "source": [
    "df2.head()"
   ]
  },
  {
   "cell_type": "code",
   "execution_count": 77,
   "metadata": {},
   "outputs": [
    {
     "name": "stdout",
     "output_type": "stream",
     "text": [
      "nan  -> 1.0 %\n",
      "zone1  -> 81.0 %\n",
      "zone2  -> 8.0 %\n",
      "zone3  -> 6.0 %\n",
      "zone4  -> 4.0 %\n",
      "zone5  -> 2.0 %\n"
     ]
    },
    {
     "data": {
      "image/png": "[encoded data removed]",
      "text/plain": [
       "<Figure size 720x360 with 1 Axes>"
      ]
     },
     "metadata": {
      "needs_background": "light"
     },
     "output_type": "display_data"
    }
   ],
   "source": [
    "hr_zone_histogram(df2)"
   ]
  },
  {
   "cell_type": "code",
   "execution_count": null,
   "metadata": {},
   "outputs": [],
   "source": [
    "Image('./plots/raw_histo.png')"
   ]
  },
  {
   "cell_type": "code",
   "execution_count": null,
   "metadata": {},
   "outputs": [],
   "source": [
    "Image('./plots/cluster_histo.png')"
   ]
  },
  {
   "cell_type": "code",
   "execution_count": null,
   "metadata": {},
   "outputs": [],
   "source": [
    "Image('./plots/zone_histo.png')"
   ]
  },
  {
   "cell_type": "code",
   "execution_count": 62,
   "metadata": {},
   "outputs": [
    {
     "name": "stdout",
     "output_type": "stream",
     "text": [
      "   BPM  Label Polar_Zone\n",
      "0   64      1      zone1\n",
      "1   69      1      zone1\n",
      "2   72      3      zone1\n",
      "3   72      3      zone1\n",
      "4   83      3      zone1\n"
     ]
    },
    {
     "data": {
      "text/plain": [
       "0    64\n",
       "1    69\n",
       "2    72\n",
       "3    72\n",
       "4    83\n",
       "Name: BPM, dtype: int64"
      ]
     },
     "execution_count": 62,
     "metadata": {},
     "output_type": "execute_result"
    }
   ],
   "source": [
    "print (df2.head())\n",
    "df2.BPM.head()\n"
   ]
  },
  {
   "cell_type": "code",
   "execution_count": 81,
   "metadata": {},
   "outputs": [],
   "source": [
    "\n",
    "def silhouetteScore(df,num_clusters): \n",
    "    sil_scores = [] \n",
    "    start = timer()\n",
    "    range_n_clusters = list(range(2,num_clusters))\n",
    "    for n_clusters in range_n_clusters:\n",
    "        #kmeans = KMeans(n_clusters=n_clusters, random_state=10)\n",
    "        kmeans = KMeans(n_clusters=n_clusters)\n",
    "        cluster_labels = kmeans.fit_predict(df)\n",
    "        score = silhouette_score(df,cluster_labels)\n",
    "        sil_scores.append(score)\n",
    "        print(\"\\nFor n_clusters = {}, silhouette score is {}\".format(n_clusters, score))\n",
    "        end=timer()\n",
    "        print(f\"Function in {(end - start)/60:0.1f} minutes\")\n",
    "    print (\"\\nFinished!\")\n",
    "    return sil_scores"
   ]
  },
  {
   "cell_type": "code",
   "execution_count": null,
   "metadata": {},
   "outputs": [],
   "source": []
  },
  {
   "cell_type": "code",
   "execution_count": 85,
   "metadata": {
    "scrolled": true
   },
   "outputs": [
    {
     "name": "stdout",
     "output_type": "stream",
     "text": [
      "   BPM  Label Polar_Zone\n",
      "0   64      1      zone1\n",
      "1   69      1      zone1\n",
      "2   72      3      zone1\n",
      "3   72      3      zone1\n",
      "4   83      3      zone1\n",
      "[[64]\n",
      " [69]\n",
      " [72]\n",
      " ...\n",
      " [59]\n",
      " [68]\n",
      " [60]]\n",
      "==============================\n",
      "\n",
      "For n_clusters = 2, silhouette score is 0.7019536815859312\n",
      "Function in 0.4 minutes\n",
      "\n",
      "Finished!\n",
      "CPU times: user 20.6 s, sys: 2.78 s, total: 23.4 s\n",
      "Wall time: 23.4 s\n"
     ]
    }
   ],
   "source": [
    "%%time\n",
    "sil_scores = silhouetteScore(df2.BPM.values.reshape(-1,1),num_clusters)"
   ]
  },
  {
   "cell_type": "code",
   "execution_count": 66,
   "metadata": {},
   "outputs": [
    {
     "name": "stdout",
     "output_type": "stream",
     "text": [
      "Sil Scores:  [0.7019536815859312, 0.6147305730470606, 0.5854387570593567, 0.5873391956080526, 0.567917391844778, 0.5562202011210109, 0.5537230074225479, 0.5577654335791888, 0.5514605559203648, 0.5564664141356312, 0.5433096404868549, 0.545879403770531, 0.5697131501461868]\n"
     ]
    }
   ],
   "source": [
    "#pickle.dump(sil_scores,open('data/silhouetteScores','wb'))\n",
    "silhouette = pickle.load(open('data/silhouetteScores', 'rb'))\n",
    "print (\"Sil Scores: \",silhouette)"
   ]
  },
  {
   "cell_type": "code",
   "execution_count": 67,
   "metadata": {},
   "outputs": [],
   "source": [
    "def silhouette_plot(scores, k_values):\n",
    "\n",
    "    plt.ylabel('Silhouette Score')\n",
    "    plt.xlabel('k value')\n",
    "    plt.title('Silhouete For Best K')\n",
    "    plt.ylim=(0.0,1.0)\n",
    "    plt.grid(True)\n",
    "    plt.plot(k_values, scores, marker = 'o')\n",
    "    plt.show()"
   ]
  },
  {
   "cell_type": "code",
   "execution_count": 72,
   "metadata": {},
   "outputs": [
    {
     "name": "stdout",
     "output_type": "stream",
     "text": [
      "14 13\n",
      "None\n",
      "None\n",
      "13 13\n"
     ]
    }
   ],
   "source": [
    "print (len(k_values), len(silhouette))\n",
    "print (oftype(k_values))\n",
    "print (oftype(silhouette))\n",
    "if len(k_values) > len(silhouette):\n",
    "    k_values = k_values[:-1]\n",
    "oftype(k_values)\n",
    "print (len(k_values), len(silhouette))"
   ]
  },
  {
   "cell_type": "code",
   "execution_count": 73,
   "metadata": {},
   "outputs": [
    {
     "data": {
      "image/png": "[encoded data removed]",
      "text/plain": [
       "<Figure size 432x288 with 1 Axes>"
      ]
     },
     "metadata": {
      "needs_background": "light"
     },
     "output_type": "display_data"
    }
   ],
   "source": [
    "silhouette_plot(silhouette,k_values)"
   ]
  },
  {
   "cell_type": "code",
   "execution_count": null,
   "metadata": {},
   "outputs": [],
   "source": [
    "def clusters_plot(df,num_clusters):\n",
    "    \n",
    "    if  'Label' in df: \n",
    "        df.drop(\"Label\",axis='columns',inplace=True)\n",
    "    kmeans = KMeans(n_clusters=num_clusters)\n",
    "    model = kmeans.fit(df)\n",
    "    print (\"\\nCluster {}: {}\".format(k,model.cluster_centers_))\n",
    "    labels = kmeans.predict(df)\n",
    "    print (\"KMeans Labels: \",np.unique(labels))   \n",
    "   \n",
    "    df.insert(1,\"Label\",labels)\n",
    " \n",
    "    cluster0 = df.loc[df['Label'] == 0]\n",
    "    cluster1 = df.loc[df['Label'] == 1]\n",
    "    \n",
    "    print (\"cluster0.shape: \",cluster0.shape)\n",
    "    print (\"cluster1.shape: \",cluster1.shape)\n",
    "    #print (cluster0.head())\n",
    "    #print (cluster1.head())\n",
    "    \n",
    "    bins = np.linspace(30, 200, 50)\n",
    "    plt.subplot(2,1,1)\n",
    "    plt.hist(cluster0.BPM,bins)\n",
    "    plt.title('Heart Rate Distribution for 2 Clusters')\n",
    "  \n",
    "    plt.grid(True)\n",
    "    plt.ylabel('Cluster 0')\n",
    "    \n",
    "    plt.subplot(2,1,2)\n",
    "    plt.hist(cluster1.BPM,bins) \n",
    "    plt.xlabel('Beats Per Minute')\n",
    "    plt.ylabel('Cluster 1')\n",
    "    plt.grid(True)\n",
    "    plt.show()\n",
    "        \n",
    "#clusters_plot(df,2)"
   ]
  },
  {
   "cell_type": "code",
   "execution_count": null,
   "metadata": {},
   "outputs": [],
   "source": [
    "Image('./plots/raw_histo.png')\n",
    "Image('./plots/cluster_histo.png')\n",
    "Image('./plots/zone_histo.png')"
   ]
  },
  {
   "cell_type": "markdown",
   "metadata": {},
   "source": [
    "The first step in determining high intensity heart rate zones is to determine maximum heart rate. There are several methods for this: \n",
    "\n",
    "1. 200 - 1/2 age. Or 168bpm for a 62 year old. \n",
    "2. 220 - age. 0r 158bpm for a 62 year old.\n",
    "3. Heart Rate Monitor data collected over a period of months with various activities. \n",
    "4. Using a treadmill or stationary bike with an ECG. \n",
    "\n",
    "Option number 2 is the most common for folks that do not have access to the treadmill and ECG. It will be used for the remainder of the project. \n",
    "\n",
    "After the maximum heart rate is determined, target heart rates can be determined: \n",
    "1. Target active heart rate: 60-70%. Or 95 to 110 bpm for the 62 year old. \n",
    "2. Target Heart Rate is 64% to 76%. CDC. \n",
    "3. High Intensity target heart rate is 76-93% (CDC). Or 120 to 146 for the 62 year old. \n",
    " \n",
    "The heart rate monitor company Polar suggests 5 heart rate zones: \n",
    "1. Very light at 50-60% of HRMAX. Boost recovery and prepare for higher zones.\n",
    "2. Light 60-70%. Improve general endurance and increase capillary density.\n",
    "2. Moderate at 70-80%. Lactic acid build up,improve efficiency of blood circulation in the heart and muscles\n",
    "4. Hard 80-90%. Improve speed endurance.\n",
    "5. Maximum 90-100%. For elite atheletes to further improve speed. "
   ]
  }
 ],
 "metadata": {
  "kernelspec": {
   "display_name": "Python 3",
   "language": "python",
   "name": "python3"
  },
  "language_info": {
   "codemirror_mode": {
    "name": "ipython",
    "version": 3
   },
   "file_extension": ".py",
   "mimetype": "text/x-python",
   "name": "python",
   "nbconvert_exporter": "python",
   "pygments_lexer": "ipython3",
   "version": "3.7.3"
  }
 },
 "nbformat": 4,
 "nbformat_minor": 4
}
