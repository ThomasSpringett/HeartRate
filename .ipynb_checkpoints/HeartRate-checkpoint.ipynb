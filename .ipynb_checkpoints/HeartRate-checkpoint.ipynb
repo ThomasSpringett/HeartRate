{
 "cells": [
  {
   "cell_type": "code",
   "execution_count": 1,
   "metadata": {},
   "outputs": [],
   "source": [
    "# import libraries\n",
    "import pandas as pd\n",
    "import numpy as np\n",
    "import os\n",
    "import matplotlib.pyplot as plt\n",
    "from timeit import default_timer as timer\n",
    "from sklearn.cluster import KMeans\n",
    "from sklearn.metrics import silhouette_samples, silhouette_score\n",
    "import collections\n",
    "import helpers\n",
    "from helpers import *\n",
    "import pickle"
   ]
  },
  {
   "cell_type": "code",
   "execution_count": 2,
   "metadata": {},
   "outputs": [
    {
     "data": {
      "text/plain": [
       "'/Users/thomasspringett/Git/HeartRate'"
      ]
     },
     "execution_count": 2,
     "metadata": {},
     "output_type": "execute_result"
    }
   ],
   "source": [
    "%pwd"
   ]
  },
  {
   "cell_type": "code",
   "execution_count": 3,
   "metadata": {},
   "outputs": [
    {
     "data": {
      "text/html": [
       "<div>\n",
       "<style scoped>\n",
       "    .dataframe tbody tr th:only-of-type {\n",
       "        vertical-align: middle;\n",
       "    }\n",
       "\n",
       "    .dataframe tbody tr th {\n",
       "        vertical-align: top;\n",
       "    }\n",
       "\n",
       "    .dataframe thead th {\n",
       "        text-align: right;\n",
       "    }\n",
       "</style>\n",
       "<table border=\"1\" class=\"dataframe\">\n",
       "  <thead>\n",
       "    <tr style=\"text-align: right;\">\n",
       "      <th></th>\n",
       "      <th>BPM</th>\n",
       "    </tr>\n",
       "  </thead>\n",
       "  <tbody>\n",
       "    <tr>\n",
       "      <td>0</td>\n",
       "      <td>77</td>\n",
       "    </tr>\n",
       "    <tr>\n",
       "      <td>1</td>\n",
       "      <td>69</td>\n",
       "    </tr>\n",
       "    <tr>\n",
       "      <td>2</td>\n",
       "      <td>69</td>\n",
       "    </tr>\n",
       "    <tr>\n",
       "      <td>3</td>\n",
       "      <td>69</td>\n",
       "    </tr>\n",
       "    <tr>\n",
       "      <td>4</td>\n",
       "      <td>69</td>\n",
       "    </tr>\n",
       "  </tbody>\n",
       "</table>\n",
       "</div>"
      ],
      "text/plain": [
       "   BPM\n",
       "0   77\n",
       "1   69\n",
       "2   69\n",
       "3   69\n",
       "4   69"
      ]
     },
     "execution_count": 3,
     "metadata": {},
     "output_type": "execute_result"
    }
   ],
   "source": [
    "csv_file = 'data/HeartRateData.csv'\n",
    "df_raw = pd.read_csv(csv_file)\n",
    "df_raw=df_raw.drop('DateTime',1)\n",
    "df_raw.head()"
   ]
  },
  {
   "cell_type": "code",
   "execution_count": 4,
   "metadata": {},
   "outputs": [
    {
     "name": "stdout",
     "output_type": "stream",
     "text": [
      "count    349768.0\n",
      "mean         78.0\n",
      "std          24.0\n",
      "min          30.0\n",
      "25%          61.0\n",
      "50%          69.0\n",
      "75%          86.0\n",
      "max         215.0\n",
      "Name: BPM, dtype: float64\n"
     ]
    }
   ],
   "source": [
    "print (round(df_raw.BPM.describe()))\n"
   ]
  },
  {
   "cell_type": "code",
   "execution_count": 5,
   "metadata": {},
   "outputs": [],
   "source": [
    "def zones(df_raw, age):\n",
    "    max_hr = 220 - age\n",
    "    target_low = 0.64*max_hr\n",
    "    target_high = 0.76*max_hr\n",
    "    target_intensity_lo = 0.76*max_hr\n",
    "    target_intensity_hi = 0.93*max_hr\n",
    "    print (\"For Age: {} Maximum HR: {}\".format(age,max_hr))\n",
    "    print (\"Target HR Lower Bound:\", target_low)\n",
    "    print (\"Target HR Upper Bound:\", target_high)\n",
    "    print (\"Target HR Intensity Upper Bound:\", target_intensity_hi)\n",
    "    return max_hr, target_low, target_high, target_intensity_lo, target_intensity_hi"
   ]
  },
  {
   "cell_type": "code",
   "execution_count": 6,
   "metadata": {},
   "outputs": [
    {
     "name": "stdout",
     "output_type": "stream",
     "text": [
      "For Age: 62 Maximum HR: 158\n",
      "Target HR Lower Bound: 101.12\n",
      "Target HR Upper Bound: 120.08\n",
      "Target HR Intensity Upper Bound: 146.94\n"
     ]
    }
   ],
   "source": [
    "max_hr, target_low, target_high, target_intensity_lo, target_intensity_hi = zones(df_raw,62)"
   ]
  },
  {
   "cell_type": "code",
   "execution_count": 7,
   "metadata": {},
   "outputs": [],
   "source": [
    "def plot_data_histo(totals): \n",
    "    #Histogram of the number of missing values per column (featrure).\n",
    "    xref = [max_hr,target_low, target_high,target_intensity_hi]\n",
    "    ref_colors=['r','g','y','b']\n",
    "\n",
    "    for ref, c in zip(xref,ref_colors):\n",
    "        plt.axvline(x=ref, c=c, label= 'ref at = {}'.format(ref))\n",
    "    plt.legend()\n",
    "    plt.grid(True)\n",
    "    plt.xlabel('Beats/Minute')\n",
    "    plt.ylabel('Count')\n",
    "    plt.title('Heart Rate Distribution')\n",
    "    plt.hist(df_raw.BPM,50)\n",
    "    plt.show()"
   ]
  },
  {
   "cell_type": "code",
   "execution_count": 8,
   "metadata": {},
   "outputs": [
    {
     "data": {
      "image/png": "[encoded data removed]",
      "text/plain": [
       "<Figure size 432x288 with 1 Axes>"
      ]
     },
     "metadata": {
      "needs_background": "light"
     },
     "output_type": "display_data"
    }
   ],
   "source": [
    "#print (df.BPM)\n",
    "plot_data_histo(df_raw.BPM)"
   ]
  },
  {
   "cell_type": "code",
   "execution_count": 9,
   "metadata": {},
   "outputs": [],
   "source": [
    "#df_raw.BPM.quantile([0.95,0.98,0.99])"
   ]
  },
  {
   "cell_type": "code",
   "execution_count": 10,
   "metadata": {},
   "outputs": [
    {
     "name": "stdout",
     "output_type": "stream",
     "text": [
      "Applying hardware limit of 210bpm resulted in dropping 314 data points.\n"
     ]
    }
   ],
   "source": [
    "hardware_limit = 210\n",
    "df = df_raw[(df_raw.BPM < hardware_limit)]\n",
    "num_screened = df_raw.shape[0]-df.shape[0]\n",
    "print (\"Applying hardware limit of {}bpm resulted in dropping {} data points.\".format(hardware_limit,num_screened))"
   ]
  },
  {
   "cell_type": "markdown",
   "metadata": {},
   "source": [
    " Note that with KMeans clustering the data will not be split into training and test sets. Kmeans clustering is not a classification tool. The data is not labeled."
   ]
  },
  {
   "cell_type": "code",
   "execution_count": 11,
   "metadata": {},
   "outputs": [],
   "source": [
    "\n",
    "def scree_KMeans_plot(data,num_clusters):\n",
    "    clusterCenters = [] \n",
    "    scores = [] \n",
    "    k_values = []\n",
    "    start = timer()\n",
    "    for k in range(1,num_clusters):\n",
    "        k_values.append(k)\n",
    "        kmeans = KMeans(n_clusters=k)\n",
    "        model = kmeans.fit(data)\n",
    "        print (\"\\nCluster {}: {}\".format(k,model.cluster_centers_))\n",
    "        clusterCenters.append(model.cluster_centers_)\n",
    "        labels = kmeans.predict(data)\n",
    "        print (\"Cluster Label: \",labels)\n",
    "        score = -(kmeans.score(data))\n",
    "        print (\"score: \",round(score/100000000,2))\n",
    "        scores.append(score)\n",
    "    plt.plot(k_values, scores, marker = 'o')\n",
    "    plt.ylabel('K-Cluster Score')\n",
    "    plt.xlabel('k value')\n",
    "    plt.title('Number of Clusters vs KMeans Score')\n",
    "    plt.savefig('Cluster_vs_score_plot.png')\n",
    "    plt.show()\n",
    "    end = timer() \n",
    "    print(f\"\\nFunction in {(end - start)/60:0.1f} minutes\")\n",
    "    return k_values, scores, labels"
   ]
  },
  {
   "cell_type": "code",
   "execution_count": 12,
   "metadata": {
    "scrolled": true
   },
   "outputs": [
    {
     "name": "stdout",
     "output_type": "stream",
     "text": [
      "\n",
      "Cluster 1: [[77.52634109]]\n",
      "Cluster Label:  [0 0 0 ... 0 0 0]\n",
      "score:  1.89\n",
      "\n",
      "Cluster 2: [[ 67.39849131]\n",
      " [115.66932624]]\n",
      "Cluster Label:  [0 0 0 ... 0 0 0]\n",
      "score:  0.54\n",
      "\n",
      "Cluster 3: [[127.76962689]\n",
      " [ 87.68667061]\n",
      " [ 63.25309656]]\n",
      "Cluster Label:  [1 2 2 ... 2 2 2]\n",
      "score:  0.28\n",
      "\n",
      "Cluster 4: [[ 78.97879596]\n",
      " [137.63246011]\n",
      " [ 61.66033189]\n",
      " [104.03828101]]\n",
      "Cluster Label:  [0 2 2 ... 2 2 2]\n",
      "score:  0.17\n",
      "\n",
      "Cluster 5: [[ 71.85607837]\n",
      " [142.22547081]\n",
      " [ 59.53639126]\n",
      " [111.37086986]\n",
      " [ 88.60821494]]\n",
      "Cluster Label:  [0 0 0 ... 2 2 2]\n",
      "score:  0.12\n",
      "\n",
      "Cluster 6: [[ 59.53639126]\n",
      " [111.17730665]\n",
      " [ 71.85607837]\n",
      " [183.03125   ]\n",
      " [ 88.96072077]\n",
      " [136.93746754]]\n",
      "Cluster Label:  [2 2 2 ... 0 0 0]\n",
      "score:  0.09\n",
      "\n",
      "Cluster 7: [[ 67.92611997]\n",
      " [115.7736893 ]\n",
      " [ 96.67963783]\n",
      " [ 57.91997182]\n",
      " [185.71492347]\n",
      " [138.9212575 ]\n",
      " [ 80.78030018]]\n",
      "Cluster Label:  [6 0 0 ... 3 0 3]\n",
      "score:  0.06\n",
      "\n",
      "Cluster 8: [[ 67.00769094]\n",
      " [125.71840257]\n",
      " [ 90.89587328]\n",
      " [ 57.91997182]\n",
      " [144.84094667]\n",
      " [107.65608387]\n",
      " [ 77.53533437]\n",
      " [187.34594223]]\n",
      "Cluster Label:  [6 0 0 ... 3 0 3]\n",
      "score:  0.05\n",
      "\n",
      "Cluster 9: [[112.34381013]\n",
      " [ 65.6012573 ]\n",
      " [ 84.9165779 ]\n",
      " [145.04472404]\n",
      " [ 57.41391104]\n",
      " [187.34594223]\n",
      " [ 97.95442388]\n",
      " [ 74.35194341]\n",
      " [127.79423755]]\n",
      "Cluster Label:  [7 1 1 ... 4 1 1]\n",
      "score:  0.04\n"
     ]
    },
    {
     "data": {
      "image/png": "[encoded data removed]",
      "text/plain": [
       "<Figure size 432x288 with 1 Axes>"
      ]
     },
     "metadata": {
      "needs_background": "light"
     },
     "output_type": "display_data"
    },
    {
     "name": "stdout",
     "output_type": "stream",
     "text": [
      "\n",
      "Function in 0.3 minutes\n",
      "<zip object at 0x7fdf76416c80>\n"
     ]
    }
   ],
   "source": [
    "k_values, scores, labels = scree_KMeans_plot(df,10) \n",
    "k = zip(k_values, scores)\n",
    "print (k)"
   ]
  },
  {
   "cell_type": "code",
   "execution_count": 13,
   "metadata": {},
   "outputs": [
    {
     "data": {
      "text/html": [
       "<div>\n",
       "<style scoped>\n",
       "    .dataframe tbody tr th:only-of-type {\n",
       "        vertical-align: middle;\n",
       "    }\n",
       "\n",
       "    .dataframe tbody tr th {\n",
       "        vertical-align: top;\n",
       "    }\n",
       "\n",
       "    .dataframe thead th {\n",
       "        text-align: right;\n",
       "    }\n",
       "</style>\n",
       "<table border=\"1\" class=\"dataframe\">\n",
       "  <thead>\n",
       "    <tr style=\"text-align: right;\">\n",
       "      <th></th>\n",
       "      <th>BPM</th>\n",
       "      <th>Label</th>\n",
       "    </tr>\n",
       "  </thead>\n",
       "  <tbody>\n",
       "    <tr>\n",
       "      <td>349762</td>\n",
       "      <td>62</td>\n",
       "      <td>1</td>\n",
       "    </tr>\n",
       "    <tr>\n",
       "      <td>349763</td>\n",
       "      <td>67</td>\n",
       "      <td>1</td>\n",
       "    </tr>\n",
       "    <tr>\n",
       "      <td>349764</td>\n",
       "      <td>61</td>\n",
       "      <td>4</td>\n",
       "    </tr>\n",
       "    <tr>\n",
       "      <td>349765</td>\n",
       "      <td>63</td>\n",
       "      <td>1</td>\n",
       "    </tr>\n",
       "    <tr>\n",
       "      <td>349766</td>\n",
       "      <td>62</td>\n",
       "      <td>1</td>\n",
       "    </tr>\n",
       "  </tbody>\n",
       "</table>\n",
       "</div>"
      ],
      "text/plain": [
       "        BPM  Label\n",
       "349762   62      1\n",
       "349763   67      1\n",
       "349764   61      4\n",
       "349765   63      1\n",
       "349766   62      1"
      ]
     },
     "execution_count": 13,
     "metadata": {},
     "output_type": "execute_result"
    }
   ],
   "source": [
    "if not 'Label' in df: \n",
    "    df.insert(1,\"Label\",labels)\n",
    "df.tail(5)"
   ]
  },
  {
   "cell_type": "code",
   "execution_count": 14,
   "metadata": {},
   "outputs": [
    {
     "name": "stdout",
     "output_type": "stream",
     "text": [
      "KMeans Labels:  [0 1 2 3 4 5 6 7 8]\n"
     ]
    }
   ],
   "source": [
    "print (\"KMeans Labels: \",np.unique(labels))     "
   ]
  },
  {
   "cell_type": "code",
   "execution_count": 15,
   "metadata": {},
   "outputs": [
    {
     "name": "stdout",
     "output_type": "stream",
     "text": [
      "1.89\n",
      "0.54\n",
      "0.28\n",
      "0.17\n",
      "0.12\n",
      "0.09\n",
      "0.06\n",
      "0.05\n",
      "0.04\n",
      "1 0.54 248.0\n",
      "2 0.28 92.0\n",
      "3 0.17 63.0\n",
      "4 0.12 43.0\n",
      "5 0.09 38.0\n",
      "6 0.06 37.0\n",
      "7 0.05 33.0\n",
      "8 0.04 25.0\n",
      "Less than 10% improvement in score after k = 8\n"
     ]
    }
   ],
   "source": [
    "for score in scores:\n",
    "    print (round(score/100000000,2))\n",
    "def findK(df,limit): \n",
    "    for k in range(len(df)):\n",
    "        if k == len(df):\n",
    "           print (\"end of array reached.\")\n",
    "            \n",
    "        if k == 0: \n",
    "          improvement = 'None'\n",
    "        if k > 0:\n",
    "          improvement = (round(100*((df[k-1]-df[k])/df[k])))\n",
    "          print (k,round(df[k]/100000000,2),improvement)\n",
    "          if improvement < limit:\n",
    "                break \n",
    "    print (\"Less than {}% improvement in score after k = {}\".format(limit,k))\n",
    "findK(scores,10)      "
   ]
  },
  {
   "cell_type": "code",
   "execution_count": 16,
   "metadata": {},
   "outputs": [
    {
     "name": "stdout",
     "output_type": "stream",
     "text": [
      "CPU times: user 3 µs, sys: 1 µs, total: 4 µs\n",
      "Wall time: 4.05 µs\n"
     ]
    }
   ],
   "source": [
    "%%time\n",
    "def silhouetteScore(df): \n",
    "    sil_scores = [] \n",
    "    start = timer()\n",
    "    range_n_clusters = list(range(1,10))\n",
    "    for n_clusters in range_n_clusters:\n",
    "        kmeans = KMeans(n_clusters=n_clusters, random_state=10)\n",
    "        cluster_labels = kmeans.fit_predict(df)\n",
    "        score = silhouette_score(df,cluster_labels)\n",
    "        sil_scores.append(score)\n",
    "        print(\"For n_clusters = {}, silhouette score is {}\".format(n_clusters, score))\n",
    "        end=timer()\n",
    "        print(f\"\\nFunction in {(end - start)/60:0.1f} minutes\")\n",
    "    print (\"\\nFinished!\")\n",
    "    return sil_scores"
   ]
  },
  {
   "cell_type": "code",
   "execution_count": 17,
   "metadata": {
    "scrolled": true
   },
   "outputs": [],
   "source": [
    "#sil_scores = silhouetteScore(df)"
   ]
  },
  {
   "cell_type": "code",
   "execution_count": 18,
   "metadata": {},
   "outputs": [
    {
     "name": "stdout",
     "output_type": "stream",
     "text": [
      "Sil Scores:  [0.6898181825990433, 0.5874511324301963, 0.5535071353160601, 0.5660426272202901, 0.5787567554857502, 0.5823607690806277, 0.6260014148168749, 0.6373106436985563]\n"
     ]
    }
   ],
   "source": [
    "#pickle.dump(sil_scores,open('data/silhouetteScores','wb'))\n",
    "silhouette = pickle.load(open('data/silhouetteScores', 'rb'))\n",
    "print (\"Sil Scores: \",silhouette)"
   ]
  },
  {
   "cell_type": "code",
   "execution_count": 19,
   "metadata": {},
   "outputs": [],
   "source": [
    "def silhouette_plot(scores, k_values):\n",
    "\n",
    "    plt.ylabel('Silhouette Score')\n",
    "    plt.xlabel('k value')\n",
    "    plt.title('Silhouete For Best K')\n",
    "    plt.ylim=(0.0,1.0)\n",
    "    plt.grid(True)\n",
    "    plt.plot(k_values, scores, marker = 'o')\n",
    "    plt.show()"
   ]
  },
  {
   "cell_type": "code",
   "execution_count": 20,
   "metadata": {},
   "outputs": [
    {
     "name": "stdout",
     "output_type": "stream",
     "text": [
      "9 8\n",
      "8 8\n"
     ]
    }
   ],
   "source": [
    "print (len(k_values), len(silhouette))\n",
    "oftype(k_values)\n",
    "oftype(silhouette)\n",
    "if len(k_values) > len(silhouette):\n",
    "    k_values = k_values[:-1]\n",
    "oftype(k_values)\n",
    "print (len(k_values), len(silhouette))"
   ]
  },
  {
   "cell_type": "code",
   "execution_count": 21,
   "metadata": {},
   "outputs": [
    {
     "data": {
      "image/png": "[encoded data removed]",
      "text/plain": [
       "<Figure size 432x288 with 1 Axes>"
      ]
     },
     "metadata": {
      "needs_background": "light"
     },
     "output_type": "display_data"
    }
   ],
   "source": [
    "silhouette_plot(silhouette,k_values)"
   ]
  },
  {
   "cell_type": "code",
   "execution_count": 22,
   "metadata": {},
   "outputs": [
    {
     "name": "stderr",
     "output_type": "stream",
     "text": [
      "/Users/thomasspringett/opt/anaconda3/lib/python3.7/site-packages/pandas/core/frame.py:4102: SettingWithCopyWarning: \n",
      "A value is trying to be set on a copy of a slice from a DataFrame\n",
      "\n",
      "See the caveats in the documentation: http://pandas.pydata.org/pandas-docs/stable/user_guide/indexing.html#returning-a-view-versus-a-copy\n",
      "  errors=errors,\n"
     ]
    },
    {
     "name": "stdout",
     "output_type": "stream",
     "text": [
      "\n",
      "Cluster <zip object at 0x7fdf76416c80>: [[ 67.39849131]\n",
      " [115.66932624]]\n",
      "KMeans Labels:  [0 1]\n",
      "cluster0.shape:  (276134, 2)\n",
      "cluster1.shape:  (73320, 2)\n"
     ]
    },
    {
     "data": {
      "image/png": "[encoded data removed]",
      "text/plain": [
       "<Figure size 432x288 with 2 Axes>"
      ]
     },
     "metadata": {
      "needs_background": "light"
     },
     "output_type": "display_data"
    }
   ],
   "source": [
    "def clusters_plot(df,num_clusters):\n",
    "    \n",
    "    if  'Label' in df: \n",
    "        df.drop(\"Label\",axis='columns',inplace=True)\n",
    "    kmeans = KMeans(n_clusters=num_clusters)\n",
    "    model = kmeans.fit(df)\n",
    "    print (\"\\nCluster {}: {}\".format(k,model.cluster_centers_))\n",
    "    labels = kmeans.predict(df)\n",
    "    print (\"KMeans Labels: \",np.unique(labels))   \n",
    "   \n",
    "    df.insert(1,\"Label\",labels)\n",
    " \n",
    "    cluster0 = df.loc[df['Label'] == 0]\n",
    "    cluster1 = df.loc[df['Label'] == 1]\n",
    "    \n",
    "    print (\"cluster0.shape: \",cluster0.shape)\n",
    "    print (\"cluster1.shape: \",cluster1.shape)\n",
    "    #print (cluster0.head())\n",
    "    #print (cluster1.head())\n",
    "    \n",
    "    bins = np.linspace(30, 200, 50)\n",
    "    plt.subplot(2,1,1)\n",
    "    plt.hist(cluster0.BPM,bins)\n",
    "    plt.title('Heart Rate Distribution for 2 Clusters')\n",
    "  \n",
    "    plt.grid(True)\n",
    "    plt.ylabel('Cluster 0')\n",
    "    \n",
    "    plt.subplot(2,1,2)\n",
    "    plt.hist(cluster1.BPM,bins) \n",
    "    plt.xlabel('Beats Per Minute')\n",
    "    plt.ylabel('Cluster 1')\n",
    "    plt.grid(True)\n",
    "    plt.show()\n",
    "        \n",
    "clusters_plot(df,2)"
   ]
  },
  {
   "cell_type": "code",
   "execution_count": 23,
   "metadata": {
    "scrolled": false
   },
   "outputs": [
    {
     "name": "stderr",
     "output_type": "stream",
     "text": [
      "/Users/thomasspringett/opt/anaconda3/lib/python3.7/site-packages/pandas/core/frame.py:4102: SettingWithCopyWarning: \n",
      "A value is trying to be set on a copy of a slice from a DataFrame\n",
      "\n",
      "See the caveats in the documentation: http://pandas.pydata.org/pandas-docs/stable/user_guide/indexing.html#returning-a-view-versus-a-copy\n",
      "  errors=errors,\n"
     ]
    },
    {
     "name": "stdout",
     "output_type": "stream",
     "text": [
      "\n",
      "Cluster <zip object at 0x7fdf76416c80>: [[ 87.68667061]\n",
      " [127.76962689]\n",
      " [ 63.25309656]]\n",
      "KMeans Labels:  [0 1 2]\n",
      "   BPM  Label\n",
      "0   77      0\n",
      "1   69      2\n",
      "2   69      2\n",
      "3   69      2\n",
      "4   69      2\n",
      "cluster0.shape:  (91332, 2)\n",
      "cluster1.shape:  (42722, 2)\n",
      "cluster1.shape:  (215400, 2)\n"
     ]
    },
    {
     "data": {
      "image/png": "[encoded data removed]",
      "text/plain": [
       "<Figure size 432x288 with 3 Axes>"
      ]
     },
     "metadata": {
      "needs_background": "light"
     },
     "output_type": "display_data"
    }
   ],
   "source": [
    "def clusters_plot(df,num_clusters):\n",
    "    \n",
    "    if  'Label' in df: \n",
    "        df.drop(\"Label\",axis='columns',inplace=True)\n",
    "    kmeans = KMeans(n_clusters=num_clusters)\n",
    "    model = kmeans.fit(df)\n",
    "    print (\"\\nCluster {}: {}\".format(k,model.cluster_centers_))\n",
    "    labels = kmeans.predict(df)\n",
    "    print (\"KMeans Labels: \",np.unique(labels))   \n",
    "   \n",
    "    df.insert(1,\"Label\",labels)\n",
    "    print (df.head())\n",
    "    cluster0 = df.loc[df['Label'] == 0]\n",
    "    cluster1 = df.loc[df['Label'] == 1]\n",
    "    cluster2 = df.loc[df['Label'] == 2]\n",
    "    \n",
    "    print (\"cluster0.shape: \",cluster0.shape)\n",
    "    print (\"cluster1.shape: \",cluster1.shape)\n",
    "    print (\"cluster1.shape: \",cluster2.shape)\n",
    "    #print (cluster0.head())\n",
    "    #print (cluster1.head())\n",
    "    \n",
    "    xbins = np.linspace(30, 200, 50)\n",
    "    #ybins = np.linspace(0, 60000, 2000)\n",
    "\n",
    "    \n",
    "    plt.subplot(3,1,1)\n",
    "    plt.hist(cluster0.BPM,xbins)\n",
    "    plt.title('Heart Rate Distribution for 3 Clusters')\n",
    "    plt.ylabel('Cluster 1')\n",
    "    plt.grid(True)\n",
    "    #plt.ylim(0,40000)\n",
    "    \n",
    "\n",
    "    plt.subplot(3,1,2)\n",
    "    plt.hist(cluster1.BPM,xbins) \n",
    "    plt.xlabel('Beats Per Minute')\n",
    "    plt.ylabel('Cluster 2')\n",
    "    plt.grid(True)\n",
    "    #plt.ylim(0,40000)\n",
    "\n",
    "    plt.subplot(3,1,3)\n",
    "    plt.hist(cluster2.BPM,xbins) \n",
    "    plt.xlabel('Beats Per Minute')\n",
    "    plt.ylabel('Cluster 3')\n",
    "    plt.grid(True)\n",
    "    #plt.ylim(0,40000)\n",
    "\n",
    "    plt.show()\n",
    "        \n",
    "clusters_plot(df,3)"
   ]
  },
  {
   "cell_type": "code",
   "execution_count": 24,
   "metadata": {},
   "outputs": [],
   "source": [
    "# Maximum Heart Rate: 200 - 1/2 age. Harvard Health News \n",
    "# bootstrap KNN\n",
    "#Target Heart Rate Zone: 60%-75%. 70 yr old max would be 165 and target of 99 to 124. Harvard Health News.\n",
    "# Maxiumum Heart Rate is 200 - Age. CDC. \n",
    "# Target Heart Rate is 64% to 76%. CDC. \n",
    "# Intenisty target heart rate is 77% to 93%. CDC. \n",
    "# Polar.com: \n",
    "# 5 Zones. 1: very light at 60-70% of HRMAX. Boost recovery, \n",
    "#2: light at 60-70% improve general endurance and increase capillary density. , \n",
    "#3:moderate at 70-80%.Lactic acid build up, improve efficiency of blood circulation in the heart and muscles\n",
    "#4: Hard 80-90%, 5: Maximum 90-100%. \n",
    "#5 - improve speed endurance. "
   ]
  },
  {
   "cell_type": "code",
   "execution_count": 25,
   "metadata": {},
   "outputs": [
    {
     "name": "stdout",
     "output_type": "stream",
     "text": [
      "0  -> 5.8 %\n",
      "1  -> 25.72 %\n",
      "2  -> 11.01 %\n",
      "3  -> 2.71 %\n",
      "4  -> 26.02 %\n",
      "5  -> 0.42 %\n",
      "6  -> 7.92 %\n",
      "7  -> 16.26 %\n",
      "8  -> 4.14 %\n"
     ]
    }
   ],
   "source": [
    "#Count number in each cluster for general population \n",
    "clusterDict = collections.Counter(labels)\n",
    "#print (clusterDict)\n",
    "\n",
    "clusterSum = sum(clusterDict.values())\n",
    "\n",
    "for key,value in sorted(clusterDict.items()): \n",
    "    print (key, ' ->',np.round(100*value/clusterSum,2),'%')"
   ]
  },
  {
   "cell_type": "code",
   "execution_count": 26,
   "metadata": {},
   "outputs": [],
   "source": [
    "def make_histos(df_col1,df_col2,df_col3,df_col4,df_col5,df_col6):\n",
    "   \n",
    "    bins = 20\n",
    "    bins = np.linspace(0, 10, 50)\n",
    "    \n",
    "    column1, df1, df2 = df_col1\n",
    "    column2, df3, df4 = df_col2\n",
    "    column3, df5, df6 = df_col3\n",
    "    column4, df7, df8 = df_col4\n",
    "    column5, df9, df10 = df_col5\n",
    "    column6, df11, df12 = df_col6\n",
    "\n",
    "    fig, ax = plt.subplots(2,3, sharex=True,sharey=True,figsize=(14,4),gridspec_kw={'hspace': 0.3})\n",
    "    \n",
    "    ax0, ax1,ax2,ax3,ax4,ax5 = ax.flatten()\n",
    "     \n",
    "    ax0.hist(df1,bins,label='Lower',histtype='bar',stacked = False)\n",
    "    ax0.hist(df2,bins,label='Higher',histtype='bar', stacked = False)\n",
    "    ax0.set_title('Category: ' + column1)\n",
    "    ax0.legend(loc='upper right')\n",
    "    ax0.grid(True)\n",
    "    \n",
    "    ax1.hist(df3,bins,label='Lower',stacked = False)\n",
    "    ax1.hist(df4,bins,label='Higher',stacked = False)\n",
    "    ax1.set_title('Category: ' + column2)\n",
    "    ax1.legend(loc='upper right')\n",
    "    ax1.grid(True)\n",
    "    \n",
    "    ax2.hist(df5,bins,label='Lower',stacked = False)\n",
    "    ax2.hist(df6,bins,label='Higher',stacked = False)\n",
    "    ax2.set_title('Category: ' + column3)\n",
    "    ax2.legend(loc='upper right')\n",
    "    ax2.grid(True)\n",
    "        \n",
    "    ax3.hist(df7,bins,label='Lower',stacked = False)\n",
    "    ax3.hist(df8,bins,label='Higher',stacked = False)\n",
    "    ax3.set_title('Category: ' + column4)\n",
    "    ax3.legend(loc='upper right')\n",
    "    ax3.grid(True)\n",
    "    \n",
    "    ax4.hist(df9,bins,label='Lower',stacked = False)\n",
    "    ax4.hist(df10,bins,label='Higher',stacked = False)\n",
    "    ax4.set_title('Category: ' + column5)\n",
    "    ax4.legend(loc='upper right')\n",
    "    ax4.grid(True)\n",
    "    \n",
    "    ax5.hist(df11,bins,label='Lower',stacked = False)\n",
    "    ax5.hist(df12,bins,label='Higher',stacked = False)\n",
    "    ax5.set_title('Category: ' + column6)\n",
    "    ax5.legend(loc='upper right')\n",
    "    ax5.grid(True)\n",
    "    \n",
    "    plt.subplots_adjust(wspace= 0.1)\n",
    "    plt.legend(loc='upper right')\n",
    " \n",
    "    fig.text(0.5,0.04,'Category Code', ha='center')\n",
    "    fig.text(0.04,0.5,'Number of Rows', va='center', rotation='vertical')\n",
    "    plt.show()\n",
    "    return\n",
    "\n"
   ]
  }
 ],
 "metadata": {
  "kernelspec": {
   "display_name": "Python 3",
   "language": "python",
   "name": "python3"
  },
  "language_info": {
   "codemirror_mode": {
    "name": "ipython",
    "version": 3
   },
   "file_extension": ".py",
   "mimetype": "text/x-python",
   "name": "python",
   "nbconvert_exporter": "python",
   "pygments_lexer": "ipython3",
   "version": "3.7.4"
  }
 },
 "nbformat": 4,
 "nbformat_minor": 4
}
