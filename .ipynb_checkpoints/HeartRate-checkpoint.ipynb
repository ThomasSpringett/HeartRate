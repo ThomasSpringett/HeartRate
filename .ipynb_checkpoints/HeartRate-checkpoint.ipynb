{
 "cells": [
  {
   "cell_type": "code",
   "execution_count": 67,
   "metadata": {},
   "outputs": [
    {
     "data": {
      "text/plain": [
       "'   \\ndef fxn():\\n    warnings.warn(\"deprecated\", DeprecationWarning)\\n\\nwith warnings.catch_warnings():\\n    warnings.simplefilter(\"ignore\")\\n    fxn()\\n'"
      ]
     },
     "execution_count": 67,
     "metadata": {},
     "output_type": "execute_result"
    }
   ],
   "source": [
    "# import libraries\n",
    "import pandas as pd\n",
    "import numpy as np\n",
    "import os\n",
    "import matplotlib.pyplot as plt\n",
    "from timeit import default_timer as timer\n",
    "from sklearn.cluster import KMeans\n",
    "from sklearn.metrics import silhouette_samples, silhouette_score\n",
    "import collections\n",
    "import helpers\n",
    "from helpers import *\n",
    "import pickle\n",
    "from matplotlib.pyplot import figure\n",
    "%matplotlib inline\n",
    "import warnings\n",
    "from IPython.display import Image\n",
    "from collections import Counter\n",
    "import random\n",
    "from sklearn import datasets, mixture \n",
    "from sklearn.cluster import DBSCAN\n",
    "import imageio\n",
    "import matplotlib.gridspec as gridspec\n",
    "    \n",
    "'''   \n",
    "def fxn():\n",
    "    warnings.warn(\"deprecated\", DeprecationWarning)\n",
    "\n",
    "with warnings.catch_warnings():\n",
    "    warnings.simplefilter(\"ignore\")\n",
    "    fxn()\n",
    "'''"
   ]
  },
  {
   "cell_type": "code",
   "execution_count": 68,
   "metadata": {},
   "outputs": [
    {
     "data": {
      "text/plain": [
       "'/Users/thomasspringett/github/heartrate'"
      ]
     },
     "execution_count": 68,
     "metadata": {},
     "output_type": "execute_result"
    }
   ],
   "source": [
    "%pwd"
   ]
  },
  {
   "cell_type": "markdown",
   "metadata": {},
   "source": [
    "# Project Objectives\n",
    "This project will analyze heart rate data to determine if machine learning and clustering algorithms can indetify a high intensity zone for a given individual. The process will be to load and filter the data, select a sample, and plot the data with the various limits to determine how the zones are impacted. Several clustering models will be evaluated using performance metrics. "
   ]
  },
  {
   "cell_type": "markdown",
   "metadata": {},
   "source": [
    "# Loading and Pre-Processing\n",
    "\n",
    "The dataset is from one 63 year old white male exported from the Apple Health app. No features were available. For ill be analyzed.The .csv file was over 100MB, the limit for github. Consequently the data file was converted into a pickle file and is loaded below."
   ]
  },
  {
   "cell_type": "code",
   "execution_count": 79,
   "metadata": {},
   "outputs": [
    {
     "data": {
      "text/html": [
       "<div>\n",
       "<style scoped>\n",
       "    .dataframe tbody tr th:only-of-type {\n",
       "        vertical-align: middle;\n",
       "    }\n",
       "\n",
       "    .dataframe tbody tr th {\n",
       "        vertical-align: top;\n",
       "    }\n",
       "\n",
       "    .dataframe thead th {\n",
       "        text-align: right;\n",
       "    }\n",
       "</style>\n",
       "<table border=\"1\" class=\"dataframe\">\n",
       "  <thead>\n",
       "    <tr style=\"text-align: right;\">\n",
       "      <th></th>\n",
       "      <th>/@locale</th>\n",
       "      <th>/ExportDate/@value</th>\n",
       "      <th>/Me/@HKCharacteristicTypeIdentifierBiologicalSex</th>\n",
       "      <th>/Me/@HKCharacteristicTypeIdentifierBloodType</th>\n",
       "      <th>/Me/@HKCharacteristicTypeIdentifierDateOfBirth</th>\n",
       "      <th>/Me/@HKCharacteristicTypeIdentifierFitzpatrickSkinType</th>\n",
       "      <th>/Record/@creationDate</th>\n",
       "      <th>/Record/@device</th>\n",
       "      <th>/Record/@endDate</th>\n",
       "      <th>/Record/@sourceName</th>\n",
       "      <th>/Record/@sourceVersion</th>\n",
       "      <th>/Record/@startDate</th>\n",
       "      <th>/Record/@type</th>\n",
       "      <th>/Record/@unit</th>\n",
       "      <th>/Record/@value</th>\n",
       "      <th>/Record/MetadataEntry/@key</th>\n",
       "      <th>/Record/MetadataEntry/@value</th>\n",
       "      <th>/Record/MetadataEntry/@value/#agg</th>\n",
       "    </tr>\n",
       "  </thead>\n",
       "  <tbody>\n",
       "    <tr>\n",
       "      <th>0</th>\n",
       "      <td>en_US</td>\n",
       "      <td>8/23/20 10:28</td>\n",
       "      <td>HKBiologicalSexMale</td>\n",
       "      <td>HKBloodTypeOPositive</td>\n",
       "      <td>10/22/57</td>\n",
       "      <td>HKFitzpatrickSkinTypeNotSet</td>\n",
       "      <td>12/21/14 19:13</td>\n",
       "      <td>NaN</td>\n",
       "      <td>12/21/14 19:13</td>\n",
       "      <td>Health</td>\n",
       "      <td>NaN</td>\n",
       "      <td>12/21/14 19:13</td>\n",
       "      <td>HKQuantityTypeIdentifierBodyMassIndex</td>\n",
       "      <td>count</td>\n",
       "      <td>26.29000</td>\n",
       "      <td>HKWasUserEntered</td>\n",
       "      <td>1.0</td>\n",
       "      <td>1.0</td>\n",
       "    </tr>\n",
       "    <tr>\n",
       "      <th>1</th>\n",
       "      <td>en_US</td>\n",
       "      <td>8/23/20 10:28</td>\n",
       "      <td>HKBiologicalSexMale</td>\n",
       "      <td>HKBloodTypeOPositive</td>\n",
       "      <td>10/22/57</td>\n",
       "      <td>HKFitzpatrickSkinTypeNotSet</td>\n",
       "      <td>10/2/14 17:40</td>\n",
       "      <td>NaN</td>\n",
       "      <td>10/2/14 17:40</td>\n",
       "      <td>Health</td>\n",
       "      <td>NaN</td>\n",
       "      <td>10/2/14 17:40</td>\n",
       "      <td>HKQuantityTypeIdentifierHeight</td>\n",
       "      <td>ft</td>\n",
       "      <td>5.66667</td>\n",
       "      <td>HKWasUserEntered</td>\n",
       "      <td>1.0</td>\n",
       "      <td>1.0</td>\n",
       "    </tr>\n",
       "    <tr>\n",
       "      <th>2</th>\n",
       "      <td>en_US</td>\n",
       "      <td>8/23/20 10:28</td>\n",
       "      <td>HKBiologicalSexMale</td>\n",
       "      <td>HKBloodTypeOPositive</td>\n",
       "      <td>10/22/57</td>\n",
       "      <td>HKFitzpatrickSkinTypeNotSet</td>\n",
       "      <td>11/24/14 15:22</td>\n",
       "      <td>NaN</td>\n",
       "      <td>11/24/14 15:22</td>\n",
       "      <td>Health</td>\n",
       "      <td>NaN</td>\n",
       "      <td>11/24/14 15:22</td>\n",
       "      <td>HKQuantityTypeIdentifierHeight</td>\n",
       "      <td>ft</td>\n",
       "      <td>4.83333</td>\n",
       "      <td>HKWasUserEntered</td>\n",
       "      <td>1.0</td>\n",
       "      <td>1.0</td>\n",
       "    </tr>\n",
       "    <tr>\n",
       "      <th>3</th>\n",
       "      <td>en_US</td>\n",
       "      <td>8/23/20 10:28</td>\n",
       "      <td>HKBiologicalSexMale</td>\n",
       "      <td>HKBloodTypeOPositive</td>\n",
       "      <td>10/22/57</td>\n",
       "      <td>HKFitzpatrickSkinTypeNotSet</td>\n",
       "      <td>8/8/15 19:20</td>\n",
       "      <td>NaN</td>\n",
       "      <td>8/8/15 19:20</td>\n",
       "      <td>Toms iPhone6</td>\n",
       "      <td>NaN</td>\n",
       "      <td>8/8/15 19:20</td>\n",
       "      <td>HKQuantityTypeIdentifierHeight</td>\n",
       "      <td>ft</td>\n",
       "      <td>5.66667</td>\n",
       "      <td>NaN</td>\n",
       "      <td>NaN</td>\n",
       "      <td>NaN</td>\n",
       "    </tr>\n",
       "    <tr>\n",
       "      <th>4</th>\n",
       "      <td>en_US</td>\n",
       "      <td>8/23/20 10:28</td>\n",
       "      <td>HKBiologicalSexMale</td>\n",
       "      <td>HKBloodTypeOPositive</td>\n",
       "      <td>10/22/57</td>\n",
       "      <td>HKFitzpatrickSkinTypeNotSet</td>\n",
       "      <td>8/8/15 19:29</td>\n",
       "      <td>NaN</td>\n",
       "      <td>8/8/15 19:29</td>\n",
       "      <td>Thomas's Apple Watch</td>\n",
       "      <td>NaN</td>\n",
       "      <td>8/8/15 19:29</td>\n",
       "      <td>HKQuantityTypeIdentifierHeight</td>\n",
       "      <td>ft</td>\n",
       "      <td>5.66667</td>\n",
       "      <td>NaN</td>\n",
       "      <td>NaN</td>\n",
       "      <td>NaN</td>\n",
       "    </tr>\n",
       "  </tbody>\n",
       "</table>\n",
       "</div>"
      ],
      "text/plain": [
       "  /@locale /ExportDate/@value  \\\n",
       "0    en_US      8/23/20 10:28   \n",
       "1    en_US      8/23/20 10:28   \n",
       "2    en_US      8/23/20 10:28   \n",
       "3    en_US      8/23/20 10:28   \n",
       "4    en_US      8/23/20 10:28   \n",
       "\n",
       "  /Me/@HKCharacteristicTypeIdentifierBiologicalSex  \\\n",
       "0                              HKBiologicalSexMale   \n",
       "1                              HKBiologicalSexMale   \n",
       "2                              HKBiologicalSexMale   \n",
       "3                              HKBiologicalSexMale   \n",
       "4                              HKBiologicalSexMale   \n",
       "\n",
       "  /Me/@HKCharacteristicTypeIdentifierBloodType  \\\n",
       "0                         HKBloodTypeOPositive   \n",
       "1                         HKBloodTypeOPositive   \n",
       "2                         HKBloodTypeOPositive   \n",
       "3                         HKBloodTypeOPositive   \n",
       "4                         HKBloodTypeOPositive   \n",
       "\n",
       "  /Me/@HKCharacteristicTypeIdentifierDateOfBirth  \\\n",
       "0                                       10/22/57   \n",
       "1                                       10/22/57   \n",
       "2                                       10/22/57   \n",
       "3                                       10/22/57   \n",
       "4                                       10/22/57   \n",
       "\n",
       "  /Me/@HKCharacteristicTypeIdentifierFitzpatrickSkinType  \\\n",
       "0                        HKFitzpatrickSkinTypeNotSet       \n",
       "1                        HKFitzpatrickSkinTypeNotSet       \n",
       "2                        HKFitzpatrickSkinTypeNotSet       \n",
       "3                        HKFitzpatrickSkinTypeNotSet       \n",
       "4                        HKFitzpatrickSkinTypeNotSet       \n",
       "\n",
       "  /Record/@creationDate /Record/@device /Record/@endDate  \\\n",
       "0        12/21/14 19:13             NaN   12/21/14 19:13   \n",
       "1         10/2/14 17:40             NaN    10/2/14 17:40   \n",
       "2        11/24/14 15:22             NaN   11/24/14 15:22   \n",
       "3          8/8/15 19:20             NaN     8/8/15 19:20   \n",
       "4          8/8/15 19:29             NaN     8/8/15 19:29   \n",
       "\n",
       "    /Record/@sourceName /Record/@sourceVersion /Record/@startDate  \\\n",
       "0                Health                    NaN     12/21/14 19:13   \n",
       "1                Health                    NaN      10/2/14 17:40   \n",
       "2                Health                    NaN     11/24/14 15:22   \n",
       "3          Toms iPhone6                    NaN       8/8/15 19:20   \n",
       "4  Thomas's Apple Watch                    NaN       8/8/15 19:29   \n",
       "\n",
       "                           /Record/@type /Record/@unit  /Record/@value  \\\n",
       "0  HKQuantityTypeIdentifierBodyMassIndex         count        26.29000   \n",
       "1         HKQuantityTypeIdentifierHeight            ft         5.66667   \n",
       "2         HKQuantityTypeIdentifierHeight            ft         4.83333   \n",
       "3         HKQuantityTypeIdentifierHeight            ft         5.66667   \n",
       "4         HKQuantityTypeIdentifierHeight            ft         5.66667   \n",
       "\n",
       "  /Record/MetadataEntry/@key  /Record/MetadataEntry/@value  \\\n",
       "0           HKWasUserEntered                           1.0   \n",
       "1           HKWasUserEntered                           1.0   \n",
       "2           HKWasUserEntered                           1.0   \n",
       "3                        NaN                           NaN   \n",
       "4                        NaN                           NaN   \n",
       "\n",
       "   /Record/MetadataEntry/@value/#agg  \n",
       "0                                1.0  \n",
       "1                                1.0  \n",
       "2                                1.0  \n",
       "3                                NaN  \n",
       "4                                NaN  "
      ]
     },
     "execution_count": 79,
     "metadata": {},
     "output_type": "execute_result"
    }
   ],
   "source": [
    "# The dataset for this project consist of heart rate data collected over 4 years \n",
    "# during various physical activities: biking, walking, skiing. \n",
    "\n",
    "#csv_file = 'data/HeartRateDataRaw.csv'\n",
    "#df_raw = pd.read_csv(csv_file, header=0)\n",
    "#df_raw.to_pickle('./data/HeartRateDataRaw.pickle')\n",
    "df_raw=pd.read_pickle('./data/HeartRateDataRaw.pickle')\n",
    "df_raw.head()"
   ]
  },
  {
   "cell_type": "code",
   "execution_count": 80,
   "metadata": {},
   "outputs": [
    {
     "name": "stdout",
     "output_type": "stream",
     "text": [
      "/@locale\n",
      "/ExportDate/@value\n",
      "/Me/@HKCharacteristicTypeIdentifierBiologicalSex\n",
      "/Me/@HKCharacteristicTypeIdentifierBloodType\n",
      "/Me/@HKCharacteristicTypeIdentifierDateOfBirth\n",
      "/Me/@HKCharacteristicTypeIdentifierFitzpatrickSkinType\n",
      "/Record/@creationDate\n",
      "/Record/@device\n",
      "/Record/@endDate\n",
      "/Record/@sourceName\n",
      "/Record/@sourceVersion\n",
      "/Record/@startDate\n",
      "/Record/@type\n",
      "/Record/@unit\n",
      "/Record/@value\n",
      "/Record/MetadataEntry/@key\n",
      "/Record/MetadataEntry/@value\n",
      "/Record/MetadataEntry/@value/#agg\n"
     ]
    }
   ],
   "source": [
    "# Displaying the list of column names in the heart rate export: \n",
    "for col in df_raw.columns:\n",
    "    print (col)"
   ]
  },
  {
   "cell_type": "markdown",
   "metadata": {},
   "source": [
    "## Selecting Fields of Interest\n",
    "The only feature of interest is '/Record/@value'. It contains the beats per minute data. The other fields could be of interest, but they were either not populated, had only a single value (sex = male) or not expected to be relevant (skin type). The code below selects only the '/Record/@value' parameter and renames it to 'BPM'. In an ideal dataset scenario, multiple people of both sexes, a wide range of ages and different devices would also be included. For this exploratory analysis, this limited dataset should be sufficient. "
   ]
  },
  {
   "cell_type": "code",
   "execution_count": 81,
   "metadata": {},
   "outputs": [
    {
     "data": {
      "text/html": [
       "<div>\n",
       "<style scoped>\n",
       "    .dataframe tbody tr th:only-of-type {\n",
       "        vertical-align: middle;\n",
       "    }\n",
       "\n",
       "    .dataframe tbody tr th {\n",
       "        vertical-align: top;\n",
       "    }\n",
       "\n",
       "    .dataframe thead th {\n",
       "        text-align: right;\n",
       "    }\n",
       "</style>\n",
       "<table border=\"1\" class=\"dataframe\">\n",
       "  <thead>\n",
       "    <tr style=\"text-align: right;\">\n",
       "      <th></th>\n",
       "      <th>BPM</th>\n",
       "    </tr>\n",
       "  </thead>\n",
       "  <tbody>\n",
       "    <tr>\n",
       "      <th>0</th>\n",
       "      <td>26.29000</td>\n",
       "    </tr>\n",
       "    <tr>\n",
       "      <th>1</th>\n",
       "      <td>5.66667</td>\n",
       "    </tr>\n",
       "    <tr>\n",
       "      <th>2</th>\n",
       "      <td>4.83333</td>\n",
       "    </tr>\n",
       "    <tr>\n",
       "      <th>3</th>\n",
       "      <td>5.66667</td>\n",
       "    </tr>\n",
       "    <tr>\n",
       "      <th>4</th>\n",
       "      <td>5.66667</td>\n",
       "    </tr>\n",
       "  </tbody>\n",
       "</table>\n",
       "</div>"
      ],
      "text/plain": [
       "        BPM\n",
       "0  26.29000\n",
       "1   5.66667\n",
       "2   4.83333\n",
       "3   5.66667\n",
       "4   5.66667"
      ]
     },
     "execution_count": 81,
     "metadata": {},
     "output_type": "execute_result"
    }
   ],
   "source": [
    "# Saving and renaming only the BPM values: \n",
    "df_raw = df_raw.filter(items=['/Record/@value'])\n",
    "df_raw = df_raw.rename(columns={'/Record/@value':\"BPM\"})\n",
    "df_raw.head()"
   ]
  },
  {
   "cell_type": "markdown",
   "metadata": {},
   "source": [
    "\n",
    "# Setting Parameters and Limits\n",
    "### Hardware Limits, Sample Size, Maximum HR \n",
    "\n",
    "The heart rate data was obtained from an Apple Watch and exported from Healthkit. Do to the sensitivity and availability of health data, the dataset is collected from only one white 63 year old male. The watch sensor's valid hardware limits are from 30 bpm to 210 bpm. Values outside of this range were filtered. Do to the large database with over 349,000 data points, a random sample of 10,000 from this population was generated. This did not significantly affect the distribution or results but did improve execution time. \n",
    "\n",
    "Maximum heart can be calculated from age. The formula is 220-age. There is no comparable algorithm for minimum heart rate. In general, a lower resting heart rate is indicative of better conditioning. "
   ]
  },
  {
   "cell_type": "code",
   "execution_count": 82,
   "metadata": {},
   "outputs": [],
   "source": [
    "# Configuration Parameters including hardware sensor limits, maximum heart rate and sample size are defined. \n",
    "# To calculate maximum heart rate, the formula 220 - age is used. \n",
    "age = 63 \n",
    "max_hr = 220-age\n",
    "sample_size = 10000\n",
    "hardware_upper_limit = 210\n",
    "hardware_lower_limit = 30"
   ]
  },
  {
   "cell_type": "markdown",
   "metadata": {},
   "source": [
    "### Heart Rate Zone Limits\n",
    "\n",
    "Various heart rate zones have been defined. They range from resting to high intensity zones. There is no standard. Polar heart rate monitors have been in use by atheletes for decades and have 5 zones. The CDC and Mayo clinic define two exercise zones, moderate and intense. While the zones for each of these sources have different limits, all use the same calculation for maximum hear rate, namely 220-age. Clustering algorithms will also be applied to the data with each cluster defining a zone. \n",
    "\n",
    "The limits for the CDC, Polar and Mayo Clinic zones are defined in the dictionaries below: "
   ]
  },
  {
   "cell_type": "code",
   "execution_count": 83,
   "metadata": {},
   "outputs": [],
   "source": [
    "#Dictionaries are defined for Mayo Clinic, CDC and Polar (tm) heart rate zones: \n",
    "mayo_limits = {'moderate_low':0.50*max_hr,'moderate_hi':0.7*max_hr,'intensity_low':0.70*max_hr,'intensity_hi':0.85*max_hr}\n",
    "cdc_limits = {'moderate_low':0.64*max_hr,'moderate_hi':0.76*max_hr,'intensity_low':0.76*max_hr,'intensity_hi':0.93*max_hr}\n",
    "polar_limits = {'zone1':0.6*max_hr,'zone2':0.7*max_hr,'zone3':0.80*max_hr,'zone4':0.9*max_hr,'zone5':1*max_hr}"
   ]
  },
  {
   "cell_type": "markdown",
   "metadata": {},
   "source": [
    "# Explore the Data\n",
    "It is now time to explore the data. A display of the raw dataframe, summary\n",
    "statistics and graphical analysis will all be used to understand the dataset. \n",
    "### Descriptive Statistics\n",
    "The above summary shows that there were 349,781 heat beat measurements. The minimum was 5 and the maximum is 215. These values are outside of the sensor's valid range, which is 30 to 210. Consequently, they will be filtered out. \n",
    "The mean at 78 bpm is significantly above the median at 69 bpm, suggesting there the distribution has a high end tail. The standard distribution of 24 is also high further suggesting a wide range of values. "
   ]
  },
  {
   "cell_type": "code",
   "execution_count": 85,
   "metadata": {},
   "outputs": [
    {
     "data": {
      "text/html": [
       "<div>\n",
       "<style scoped>\n",
       "    .dataframe tbody tr th:only-of-type {\n",
       "        vertical-align: middle;\n",
       "    }\n",
       "\n",
       "    .dataframe tbody tr th {\n",
       "        vertical-align: top;\n",
       "    }\n",
       "\n",
       "    .dataframe thead th {\n",
       "        text-align: right;\n",
       "    }\n",
       "</style>\n",
       "<table border=\"1\" class=\"dataframe\">\n",
       "  <thead>\n",
       "    <tr style=\"text-align: right;\">\n",
       "      <th></th>\n",
       "      <th>BPM</th>\n",
       "    </tr>\n",
       "  </thead>\n",
       "  <tbody>\n",
       "    <tr>\n",
       "      <th>0</th>\n",
       "      <td>26.29000</td>\n",
       "    </tr>\n",
       "    <tr>\n",
       "      <th>1</th>\n",
       "      <td>5.66667</td>\n",
       "    </tr>\n",
       "    <tr>\n",
       "      <th>2</th>\n",
       "      <td>4.83333</td>\n",
       "    </tr>\n",
       "    <tr>\n",
       "      <th>3</th>\n",
       "      <td>5.66667</td>\n",
       "    </tr>\n",
       "    <tr>\n",
       "      <th>4</th>\n",
       "      <td>5.66667</td>\n",
       "    </tr>\n",
       "  </tbody>\n",
       "</table>\n",
       "</div>"
      ],
      "text/plain": [
       "        BPM\n",
       "0  26.29000\n",
       "1   5.66667\n",
       "2   4.83333\n",
       "3   5.66667\n",
       "4   5.66667"
      ]
     },
     "metadata": {},
     "output_type": "display_data"
    },
    {
     "data": {
      "text/plain": [
       "count    349781.0\n",
       "mean         78.0\n",
       "std          24.0\n",
       "min           5.0\n",
       "25%          61.0\n",
       "50%          69.0\n",
       "75%          86.0\n",
       "max         215.0\n",
       "Name: BPM, dtype: float64"
      ]
     },
     "metadata": {},
     "output_type": "display_data"
    }
   ],
   "source": [
    "display (df_raw.head())\n",
    "# The summary statistics for heart rate data on the full dataset: \n",
    "display (round(df_raw.BPM.describe()))"
   ]
  },
  {
   "cell_type": "markdown",
   "metadata": {},
   "source": [
    "### Filter Outliers\n",
    "The hardware limits noted above will be applied to the dataset: "
   ]
  },
  {
   "cell_type": "code",
   "execution_count": 86,
   "metadata": {},
   "outputs": [
    {
     "name": "stdout",
     "output_type": "stream",
     "text": [
      "Applying hardware limit of 210bpm resulted in dropping 330 instances.\n"
     ]
    }
   ],
   "source": [
    "# Apply hardware limits:\n",
    "df_limit = df_raw[(df_raw['BPM'] < hardware_upper_limit) & (df_raw['BPM'] > hardware_lower_limit) ]\n",
    "num_screened = df_raw.shape[0]-df_limit.shape[0]\n",
    "print (\"Applying hardware limit of {}bpm resulted in dropping {} instances.\".format(hardware_upper_limit,num_screened))"
   ]
  },
  {
   "cell_type": "markdown",
   "metadata": {},
   "source": [
    "### Sampling \n",
    "In order to reduce execution times, a sample was drawn from the original population. The sample size was 10,000. Descriptive statistics were again generated on this sample and the distibution is virtually unchanged. The results are presented below:"
   ]
  },
  {
   "cell_type": "code",
   "execution_count": 87,
   "metadata": {},
   "outputs": [
    {
     "name": "stdout",
     "output_type": "stream",
     "text": [
      "           BPM\n",
      "count  10000.0\n",
      "mean      78.0\n",
      "std       24.0\n",
      "min        6.0\n",
      "25%       61.0\n",
      "50%       69.0\n",
      "75%       86.0\n",
      "max      215.0\n"
     ]
    }
   ],
   "source": [
    "#To improve execution times, a random sample of 10,000 from the population of 349,768 is drawn. By comparing the \n",
    "#percentiles of the population above to that of the sample below, it can be seen the sample actuately \n",
    "#reflects the population. \n",
    "\n",
    "df_s=random.sample(list(df_raw.BPM), sample_size)\n",
    "df_sample = pd.DataFrame(df_s)\n",
    "df_sample.columns=['BPM']\n",
    "print (round(df_sample.describe()))"
   ]
  },
  {
   "cell_type": "markdown",
   "metadata": {},
   "source": [
    "## Adding Benchmark Limits to the Dataset Zones\n",
    "The next section of code will add target heart rate limits for various zones from the CDC, Polar and Mayo Clinic.  "
   ]
  },
  {
   "cell_type": "code",
   "execution_count": 89,
   "metadata": {},
   "outputs": [
    {
     "name": "stdout",
     "output_type": "stream",
     "text": [
      "Polar: 94 109 125 141 157 \n"
     ]
    }
   ],
   "source": [
    "def assignPolarZone(value):\n",
    "    '''\n",
    "    Polar Heart rate zones are defined below.\n",
    "    '''\n",
    "    if (value <= polar_limits['zone1']): \n",
    "        return \"zone1\"\n",
    "    elif (value > polar_limits['zone1']) and (value <= polar_limits['zone2']):\n",
    "        return \"zone2\"\n",
    "    elif (value > polar_limits['zone2']) and (value <= polar_limits['zone3']):\n",
    "        return  \"zone3\"\n",
    "    elif (value > polar_limits['zone3']) and (value <= polar_limits['zone4']):\n",
    "        return  \"zone4\"    \n",
    "    elif (value > polar_limits['zone4']) and (value <=polar_limits['zone5']):\n",
    "        return \"zone5\"\n",
    "    else:\n",
    "        return\n",
    "\n",
    "print (\"Polar: {} {} {} {} {} \".format(int(polar_limits['zone1']),int(polar_limits['zone2']),int(polar_limits['zone3']),int(polar_limits['zone4']),int(polar_limits['zone5'])))"
   ]
  },
  {
   "cell_type": "code",
   "execution_count": 90,
   "metadata": {},
   "outputs": [
    {
     "name": "stdout",
     "output_type": "stream",
     "text": [
      "CDC Limits:  100 119 119 146\n"
     ]
    }
   ],
   "source": [
    "print (\"CDC Limits: \",int(cdc_limits['moderate_low']),int(cdc_limits['moderate_hi']), int(cdc_limits['intensity_low']),int(cdc_limits['intensity_hi']))\n",
    "def assignCDCZone(value):\n",
    "    '''\n",
    "    CDC Definitions are defined here:\n",
    "    '''\n",
    "    if (value > cdc_limits['moderate_low']) and (value <= cdc_limits['moderate_hi']):\n",
    "        return \"Moderate\"\n",
    "    elif (value > cdc_limits['intensity_low']) and (value <= cdc_limits['intensity_hi']):\n",
    "        return  \"Intensity\"\n",
    "    else:\n",
    "        return 'Other'"
   ]
  },
  {
   "cell_type": "code",
   "execution_count": 91,
   "metadata": {},
   "outputs": [
    {
     "name": "stdout",
     "output_type": "stream",
     "text": [
      "Mayo Clinic Limits:  78 109 109 133\n"
     ]
    }
   ],
   "source": [
    "print (\"Mayo Clinic Limits: \",int(mayo_limits['moderate_low']),int(mayo_limits['moderate_hi']), int(mayo_limits['intensity_low']),int(mayo_limits['intensity_hi']))\n",
    "def assignMayoZone(value):\n",
    "    '''\n",
    "    Mayo Clinic heart rate zones are defined below\n",
    "    '''\n",
    "    if (value > mayo_limits['moderate_low']) and (value <= mayo_limits['moderate_hi']):\n",
    "        return \"Moderate\"\n",
    "    elif (value > mayo_limits['intensity_low']) and (value <= mayo_limits['intensity_hi']):\n",
    "        return  \"Intensity\"\n",
    "    else:\n",
    "        return 'Other'"
   ]
  },
  {
   "cell_type": "code",
   "execution_count": 93,
   "metadata": {},
   "outputs": [
    {
     "name": "stdout",
     "output_type": "stream",
     "text": [
      "\n",
      "Here is what the dataframe header looks like with these zones applied:\n"
     ]
    },
    {
     "data": {
      "text/html": [
       "<div>\n",
       "<style scoped>\n",
       "    .dataframe tbody tr th:only-of-type {\n",
       "        vertical-align: middle;\n",
       "    }\n",
       "\n",
       "    .dataframe tbody tr th {\n",
       "        vertical-align: top;\n",
       "    }\n",
       "\n",
       "    .dataframe thead th {\n",
       "        text-align: right;\n",
       "    }\n",
       "</style>\n",
       "<table border=\"1\" class=\"dataframe\">\n",
       "  <thead>\n",
       "    <tr style=\"text-align: right;\">\n",
       "      <th></th>\n",
       "      <th>BPM</th>\n",
       "      <th>Polar_Zone</th>\n",
       "      <th>CDC_Zone</th>\n",
       "      <th>Mayo_Zone</th>\n",
       "    </tr>\n",
       "  </thead>\n",
       "  <tbody>\n",
       "    <tr>\n",
       "      <th>0</th>\n",
       "      <td>57.0</td>\n",
       "      <td>zone1</td>\n",
       "      <td>Other</td>\n",
       "      <td>Other</td>\n",
       "    </tr>\n",
       "    <tr>\n",
       "      <th>1</th>\n",
       "      <td>71.0</td>\n",
       "      <td>zone1</td>\n",
       "      <td>Other</td>\n",
       "      <td>Other</td>\n",
       "    </tr>\n",
       "    <tr>\n",
       "      <th>2</th>\n",
       "      <td>63.0</td>\n",
       "      <td>zone1</td>\n",
       "      <td>Other</td>\n",
       "      <td>Other</td>\n",
       "    </tr>\n",
       "    <tr>\n",
       "      <th>3</th>\n",
       "      <td>90.0</td>\n",
       "      <td>zone1</td>\n",
       "      <td>Other</td>\n",
       "      <td>Moderate</td>\n",
       "    </tr>\n",
       "    <tr>\n",
       "      <th>4</th>\n",
       "      <td>67.0</td>\n",
       "      <td>zone1</td>\n",
       "      <td>Other</td>\n",
       "      <td>Other</td>\n",
       "    </tr>\n",
       "  </tbody>\n",
       "</table>\n",
       "</div>"
      ],
      "text/plain": [
       "    BPM Polar_Zone CDC_Zone Mayo_Zone\n",
       "0  57.0      zone1    Other     Other\n",
       "1  71.0      zone1    Other     Other\n",
       "2  63.0      zone1    Other     Other\n",
       "3  90.0      zone1    Other  Moderate\n",
       "4  67.0      zone1    Other     Other"
      ]
     },
     "execution_count": 93,
     "metadata": {},
     "output_type": "execute_result"
    }
   ],
   "source": [
    "# This section uses the 'apply' function to generate 3 new columns, one for each source of target heart rate limits: CDC, Polar and Mayo Clinic. \n",
    "df_zones=df_sample.copy()\n",
    "df_zones['Polar_Zone'] = df_zones.BPM.apply(assignPolarZone)\n",
    "df_zones['CDC_Zone'] = df_zones.BPM.apply(assignCDCZone)\n",
    "df_zones['Mayo_Zone'] = df_zones.BPM.apply(assignMayoZone)\n",
    "\n",
    "print (\"\\nHere is what the dataframe header looks like with these zones applied:\")\n",
    "df_zones.head()"
   ]
  },
  {
   "cell_type": "code",
   "execution_count": 94,
   "metadata": {},
   "outputs": [
    {
     "name": "stdout",
     "output_type": "stream",
     "text": [
      "Polar:  ['zone1' 'zone4' 'zone2' 'zone5' 'zone3' None]\n",
      "CDC  :  ['Other' 'Intensity' 'Moderate']\n",
      "Mayo :  ['Other' 'Moderate' 'Intensity']\n"
     ]
    }
   ],
   "source": [
    "#Checking for Zone assignment: \n",
    "print (\"Polar: \",df_zones['Polar_Zone'].unique())\n",
    "print (\"CDC  : \",df_zones['CDC_Zone'].unique())\n",
    "print (\"Mayo : \",df_zones['Mayo_Zone'].unique())"
   ]
  },
  {
   "cell_type": "code",
   "execution_count": 35,
   "metadata": {},
   "outputs": [],
   "source": [
    "df2 = df_zones.copy() "
   ]
  },
  {
   "cell_type": "markdown",
   "metadata": {},
   "source": [
    "## Clustering and the Distribution\n",
    "The next section will superimpose the zones on the histogram. \n",
    "First step is to write the code:"
   ]
  },
  {
   "cell_type": "code",
   "execution_count": 122,
   "metadata": {},
   "outputs": [],
   "source": [
    "def hr_newzone_histogram(df,source,show): \n",
    "    '''\n",
    "       This method takes the heart rate zone limits from 3 different sources and applies\n",
    "       them to the given distribution. \n",
    "    '''\n",
    "    xref = [max_hr]\n",
    "    ref_colors=['r']\n",
    "    plt.figure(figsize=(5,3))\n",
    "\n",
    "    plt.figure(figsize=(5,3))\n",
    "    kwargs = dict(alpha=0.5)\n",
    "    plt.xticks(np.arange(20, 205, 20))\n",
    "    plt.grid(b=True, which='both', color='0.65', linestyle='-')\n",
    "    \n",
    "    # Turn on the minor TICKS, which are required for the minor GRID\n",
    "    plt.minorticks_on()\n",
    "\n",
    "    # Customize the major grid\n",
    "    plt.grid(which='major', linestyle='-', linewidth='0.5', color='grey')\n",
    "    # Customize the minor grid\n",
    "    plt.grid(which='minor', linestyle=':', linewidth='0.5', color='grey')\n",
    "\n",
    "    plt.title(source + ' Clinic Zone Heart Rate Distribution')\n",
    "    \n",
    "    \n",
    "    if source == 'kmeans':\n",
    "        if  'Label' in df: \n",
    "            df.drop(\"Label\",axis='columns',inplace=True)\n",
    "\n",
    "        kmeans = KMeans(n_clusters=5)\n",
    "        labels = kmeans.fit_predict(df2.BPM.values.reshape(-1,1))\n",
    "        if  'Label' in df2: \n",
    "            df2.drop(\"Label\",axis='columns',inplace=True)\n",
    "        df2.insert(1,\"Label\",labels)\n",
    "        \n",
    "        zone1 = df.loc[df.Label ==0, 'BPM']\n",
    "        zone2 = df.loc[df.Label ==1, 'BPM']\n",
    "        zone3 = df.loc[df.Label ==2, 'BPM']\n",
    "        zone4 = df.loc[df.Label ==3, 'BPM']\n",
    "        zone5 = df.loc[df.Label ==4, 'BPM']\n",
    "\n",
    "        plt.hist(zone1, **kwargs, color='g', label='Cluster1',bins=range(35, 205+2, 2))\n",
    "        plt.hist(zone2, **kwargs, color='b', label='Cluster2',bins=range(35, 205+2, 2))\n",
    "        plt.hist(zone3, **kwargs, color='r', label='Cluster3',bins=range(35, 205+2, 2))\n",
    "        plt.hist(zone4, **kwargs, color='y', label='Cluster4',bins=range(35, 205+2, 2))\n",
    "        plt.hist(zone5, **kwargs, color='c', label='Cluster5',bins=range(35, 205+2, 2))\n",
    "        plt.legend()\n",
    "        plt.savefig('./plots/cluster_histo.png')\n",
    "\n",
    "        \n",
    "    elif source == 'Raw':\n",
    "        plt.hist(df.BPM, **kwargs, color='b', label='Raw Data',bins=range(35, 205+2, 2))\n",
    "        plt.legend()\n",
    "        plt.savefig('./plots/raw_histo.png')\n",
    "\n",
    "    elif source == 'CDC':\n",
    "        zone1 = df.loc[df.CDC_Zone == 'Moderate', 'BPM']\n",
    "        zone2 = df.loc[df.CDC_Zone == 'Intensity', 'BPM']\n",
    "        zone3 = df.loc[df.CDC_Zone == 'Other', 'BPM']\n",
    "        plt.hist(zone1, **kwargs, color='g', label='Moderate',bins=range(35, 205+2, 2))\n",
    "        plt.hist(zone2, **kwargs, color='b', label='Intensity',bins=range(35, 205+2, 2))\n",
    "        plt.hist(zone3, **kwargs, color='r', label='Other',bins=range(35, 205+2, 2))\n",
    "        plt.legend()\n",
    "        plt.savefig('./plots/cdc_histo.png')\n",
    "        \n",
    "    elif source == 'Mayo':\n",
    "        zone1 = df.loc[df.Mayo_Zone == 'Moderate', 'BPM']\n",
    "        zone2 = df.loc[df.Mayo_Zone == 'Intensity', 'BPM']\n",
    "        zone3 = df.loc[df.Mayo_Zone == 'Other', 'BPM']\n",
    "        plt.hist(zone1, **kwargs, color='g', label='Moderate',bins=range(35, 205+2, 2))\n",
    "        plt.hist(zone2, **kwargs, color='b', label='Intensity',bins=range(35, 205+2, 2))\n",
    "        plt.hist(zone3, **kwargs, color='r', label='Other',bins=range(35, 205+2, 2))\n",
    "        plt.legend()\n",
    "        plt.savefig('./plots/mayo_histo.png')\n",
    "        \n",
    "    elif source == 'Polar':\n",
    "        zone1 = df.loc[df.Polar_Zone == 'zone1', 'BPM']\n",
    "        zone2 = df.loc[df.Polar_Zone == 'zone2', 'BPM']\n",
    "        zone3 = df.loc[df.Polar_Zone == 'zone3', 'BPM']\n",
    "        zone4 = df.loc[df.Polar_Zone == 'zone4', 'BPM']\n",
    "        zone5 = df.loc[df.Polar_Zone == 'zone5', 'BPM']\n",
    "        plt.hist(zone1, **kwargs, color='g', label='zone1',bins=range(35, 205+2, 2))\n",
    "        plt.hist(zone2, **kwargs, color='b', label='zone2',bins=range(35, 205+2, 2))\n",
    "        plt.hist(zone3, **kwargs, color='r', label='zone3',bins=range(35, 205+2, 2))\n",
    "        plt.hist(zone4, **kwargs, color='y', label='zone4',bins=range(35, 205+2, 2))\n",
    "        plt.hist(zone5, **kwargs, color='c', label='zone5',bins=range(35, 205+2, 2))\n",
    "        plt.legend()\n",
    "        plt.savefig('./plots/polar_histo.png')\n",
    "    else: \n",
    "        print (\"Source not recognized. Need CDC, Polar, kmeans, Mayo or Cluster.\")\n",
    "   \n",
    "    for ref, c in zip(xref,ref_colors):\n",
    "         plt.axvline(x=ref, c=c, label= 'ref at = {}'.format(ref))\n",
    "\n",
    "    plt.ylabel('Counts')\n",
    "    plt.xlabel('Beats Per Minute (BPM)')\n",
    "    #plt.ylim(0,35000)\n",
    "    plt.xlim(30,200)\n",
    "  \n",
    "    if show == 'noshow':\n",
    "        plt.close()\n",
    "    else:\n",
    "        plt.show()\n"
   ]
  },
  {
   "cell_type": "code",
   "execution_count": 123,
   "metadata": {},
   "outputs": [
    {
     "data": {
      "text/plain": [
       "<Figure size 360x216 with 0 Axes>"
      ]
     },
     "metadata": {},
     "output_type": "display_data"
    }
   ],
   "source": [
    "hr_newzone_histogram(df2,'kmeans','noshow')"
   ]
  },
  {
   "cell_type": "code",
   "execution_count": 124,
   "metadata": {},
   "outputs": [
    {
     "data": {
      "text/plain": [
       "<Figure size 360x216 with 0 Axes>"
      ]
     },
     "metadata": {},
     "output_type": "display_data"
    }
   ],
   "source": [
    "hr_newzone_histogram(df2,'Raw','noshow')"
   ]
  },
  {
   "cell_type": "code",
   "execution_count": 125,
   "metadata": {},
   "outputs": [
    {
     "data": {
      "text/plain": [
       "<Figure size 360x216 with 0 Axes>"
      ]
     },
     "metadata": {},
     "output_type": "display_data"
    }
   ],
   "source": [
    "hr_newzone_histogram(df2,'Polar','noshow')"
   ]
  },
  {
   "cell_type": "code",
   "execution_count": 126,
   "metadata": {},
   "outputs": [
    {
     "data": {
      "text/plain": [
       "<Figure size 360x216 with 0 Axes>"
      ]
     },
     "metadata": {},
     "output_type": "display_data"
    }
   ],
   "source": [
    "hr_newzone_histogram(df2,'CDC','noshow')"
   ]
  },
  {
   "cell_type": "code",
   "execution_count": 127,
   "metadata": {},
   "outputs": [
    {
     "data": {
      "text/plain": [
       "<Figure size 360x216 with 0 Axes>"
      ]
     },
     "metadata": {},
     "output_type": "display_data"
    }
   ],
   "source": [
    "hr_newzone_histogram(df2,'Mayo','noshow')"
   ]
  },
  {
   "cell_type": "code",
   "execution_count": 128,
   "metadata": {},
   "outputs": [
    {
     "data": {
      "image/png": "[encoded data removed]",
      "text/plain": [
       "<Figure size 1440x1440 with 4 Axes>"
      ]
     },
     "metadata": {
      "needs_background": "light"
     },
     "output_type": "display_data"
    }
   ],
   "source": [
    "fig,((ax1,ax2),(ax3,ax4)) = plt.subplots(nrows=2, ncols=2,sharey=True)\n",
    "\n",
    "img1 = imageio.imread('./plots/cluster_histo.png')\n",
    "img2 = imageio.imread('./plots/polar_histo.png') \n",
    "img3 = imageio.imread('./plots/mayo_histo.png')\n",
    "img4 = imageio.imread('./plots/cdc_histo.png')\n",
    "\n",
    "plt.rcParams[\"figure.figsize\"] = (20,20)\n",
    "#gs1 = gridspec.GridSpec(4, 4)\n",
    "#gs1.update(wspace=0.025, hspace=0.05) # set the spacing between axes\n",
    "fig.subplots_adjust(wspace=0, hspace=0,bottom = 0,top = 0.9)\n",
    "\n",
    "#fig,(ax1,ax2,ax3,ax4) = plt.subplots(2,2)\n",
    "#plt.subplot(2,1,1)\n",
    "#plt.figure()\n",
    "\n",
    "ax1.imshow(img1)                     \n",
    "#plt.subplot(212) \n",
    "ax2.imshow(img2) \n",
    "ax3.imshow(img3) \n",
    "ax4.imshow(img4) \n",
    "plt.show()"
   ]
  },
  {
   "cell_type": "markdown",
   "metadata": {},
   "source": [
    "## Pre-Processing Summary\n",
    "The dataset has been loaded, columns of interest selected, data filtered and a smaller sample generated to speed execution. Summary statistics and graphical analysis have also been completed. This is a simple 1D dataset with no features or labels.\n",
    "\n",
    "The most siginificant take-away, highlighted by the distribution,  is that there does not appear to be any clusters. The is no clear separation in any of the data. However, the analysis will continue. The models, particularly a Guassian Mixture Model, may be able to tease apart at least a second distribution. \n",
    "\n",
    "Note also that training and test datasets have not been generated. This is becaused it is un-supervised learning. There are no labels for model predictions to be compared against. Instead a 'score', explained more below, will be used to evaluate the model with the best fit. "
   ]
  },
  {
   "cell_type": "markdown",
   "metadata": {},
   "source": [
    "# Modeling \n",
    "Since the data is not labeled, unsupervised clustering techniques will be utilized. Three models are evaluated: Kmeans, GMM and DBSCAN. The silhouette score will be used as a performance metric to determine the best model. \n",
    "## KMeans \n",
    "This model was selected as it does not required labeled data and it is intuitive to understand. One primary question to be answered is whether or not a high intensity, high heart rate cluster can be indentified. This would allow for personalized zones. \n",
    "### Fitting, Predicting and Evaluating the Model\n",
    "The primary hyperparameter of interest is the number of clusters. It is the first step in optimizing the model. Values from 2 to 10 were used. The data was fit and model predictions were used to define labels. \n",
    "\n",
    "The KMeans performance metric is called its score or inertia. It measures the mean square distance from the instance to the cluster centroid. Lower numbers are considerted to be better. \n",
    "\n",
    "The code below "
   ]
  },
  {
   "cell_type": "code",
   "execution_count": 129,
   "metadata": {},
   "outputs": [],
   "source": [
    "def scree_KMeans_plot(data,num_clusters):\n",
    "    ''' This method will calculate Kmeans clusters. The number of clusters will be defined by a range. \n",
    "        Kmeans will be used to define the clusters and labels for the data generated. Finally the data \n",
    "        will be ploted so the Elbow method can be used to determine the optimum number of clusters. \n",
    "    '''\n",
    "    clusterCenters = [] \n",
    "    scores = [] \n",
    "    k_values = []\n",
    "    start = timer()\n",
    "    plt.figure(figsize=(5,3))\n",
    "    for k in range(1,num_clusters):\n",
    "        k_values.append(k)\n",
    "        kmeans = KMeans(n_clusters=k)\n",
    "        model = kmeans.fit(data)\n",
    "        #print (\"\\nCluster {}: {}\".format(k,model.cluster_centers_))\n",
    "        clusterCenters.append(model.cluster_centers_)\n",
    "        labels = kmeans.predict(data)\n",
    "        #print (\"Cluster Labels: \",np.unique(labels))\n",
    "        score = -(kmeans.score(data))\n",
    "        #print (\"score: \",round(score/100000000,2))\n",
    "        scores.append(score)\n",
    "    plt.plot(k_values, scores, marker = 'o')\n",
    "    plt.ylabel('K-Cluster Score')\n",
    "    plt.xlabel('k value')\n",
    "    plt.title('Elbow Method: Number of Clusters vs KMeans Score')\n",
    "    plt.savefig('./plots/Cluster_vs_score_plot.png')\n",
    "    plt.show()\n",
    "    end = timer() \n",
    "    #print(f\"\\nFunction in {(end - start)/60:0.1f} minutes\")\n",
    "    return k_values, scores, labels"
   ]
  },
  {
   "cell_type": "code",
   "execution_count": 130,
   "metadata": {},
   "outputs": [
    {
     "data": {
      "image/png": "[encoded data removed]",
      "text/plain": [
       "<Figure size 360x216 with 1 Axes>"
      ]
     },
     "metadata": {
      "needs_background": "light"
     },
     "output_type": "display_data"
    }
   ],
   "source": [
    "k_values, scores, labels = scree_KMeans_plot(df_sample,11) "
   ]
  },
  {
   "cell_type": "markdown",
   "metadata": {},
   "source": [
    "#### KMeans Score or Inertia\n",
    "For each of the clusters numbered 2 to 10, the score was calculated and compared to k. The elbow plot is above. It can be seen that after 5 clusters the improvment in score diminishes. \n",
    "\n",
    "Another method, listed below, was written to specify a percentage improvement in the score at which the addition of more clusters is no longer beneficial.  "
   ]
  },
  {
   "cell_type": "code",
   "execution_count": 132,
   "metadata": {},
   "outputs": [
    {
     "name": "stdout",
     "output_type": "stream",
     "text": [
      "Maximum value of number of clusters (k) is:  10\n",
      "Less than 30% improvement in score after k = 4\n"
     ]
    }
   ],
   "source": [
    "findK(scores,30) #helper function to determine percent improvement cutoff"
   ]
  },
  {
   "cell_type": "markdown",
   "metadata": {},
   "source": [
    "#### KMeans Silhouette Score\n",
    "A second performance metric was also used to evaluate the model performance. It is called the silhouette score and is more robust than the inertia score.  It comprehends both cohesion, or intra-cluster distances,  as well as the inter-cluster distances, or separation.\n",
    "\n",
    "The silhouette coefficient can vary from -1 to 1. Values near 1 mean that the instance is well within its cluster and far from other clusters. So higher is better. As can be seem from the plot above, the best fit is with a cluster of 2. Note that 2 is the minimum number of clusters that can be used for the silhouette calculation. \n",
    "\n",
    "The silhouette score is contradicting the kmeans score. The silhouette score is more sensitive to cluster separation and is a more accurate measure of performance."
   ]
  },
  {
   "cell_type": "markdown",
   "metadata": {},
   "source": [
    "### Clustering Partitions on the Distribution\n",
    "This histogram show clearly that although KMeans succesfully partioned the data into clusters, there is no separation between clusters, suggesting the model has overfit the data. "
   ]
  },
  {
   "cell_type": "markdown",
   "metadata": {},
   "source": [
    "## Benchmarking\n",
    "The next section will compare how several sources, the Mayo Clinic, the CDC and the Polar Heart Rate company, define high intensity heart rates zones. These zones will be used as benchmarks for the ones defined by the clustering algorithm. \n",
    "\n",
    "The overall process is outlined below. \n",
    "###  Maximum Heart Rate\n",
    "The first step in determining high intensity heart rate zones is to determine maximum heart rate. There are several methods for this: \n",
    "\n",
    "1. 220 - age. 0r 158bpm for a 62 year old.\n",
    "2. Heart Rate Monitor data collected over a period of months with various activities. \n",
    "3. Using a treadmill or stationary bike with an ECG. \n",
    "Option number 1 is the most common for folks that do not have access to the treadmill and ECG. It is remarkable how well it works. The body seems to have a built in algorithm.  \n",
    "After the maximum heart rate is determined, target heart rates can be determined:\n",
    "\n",
    "### Hear Rate Intensity Zones\n",
    "\n",
    "#### CDC\n",
    "The CDC defines zones as follows: \n",
    "* Target Heart Rate is 64% to 76%. CDC. \n",
    "* High Intensity target heart rate is 76-93% (CDC). Or 120 to 146 for the 62 year old. \n",
    "\n",
    "#### MayoClinic\n",
    "The Mayo Clinic defines \n",
    "\n",
    "1. Moderate intensity as 50-70% of maximum heart rate.\n",
    "2. Vigorous as 70% to 85%.\n",
    "\n",
    "#### Polar\n",
    "The heart rate monitor company Polar suggests 5 heart rate zones:\n",
    "\n",
    "1. Very light at 50-60% of HRMAX. Boost recovery and prepare for higher zones.\n",
    "2. Light 60-70%. Improve general endurance and increase capillary density.\n",
    "2. Moderate at 70-80%. Lactic acid build up,improve efficiency of blood circulation in the heart and muscles\n",
    "4. Hard 80-90%. Improve speed endurance.\n",
    "5. Maximum 90-100%. For elite atheletes to further improve speed. \n",
    "\n",
    "The code below will assign new columns in the dataset that categorize the heart rate into the zones covered above: \n"
   ]
  },
  {
   "cell_type": "markdown",
   "metadata": {},
   "source": []
  },
  {
   "cell_type": "markdown",
   "metadata": {},
   "source": [
    "#### Displaying the Histograms\n",
    "The four histograms, one each for the clusters, CDC, Mayo and Polar are shown: "
   ]
  },
  {
   "cell_type": "code",
   "execution_count": 139,
   "metadata": {},
   "outputs": [
    {
     "name": "stdout",
     "output_type": "stream",
     "text": [
      "CPU times: user 3 µs, sys: 0 ns, total: 3 µs\n",
      "Wall time: 6.91 µs\n"
     ]
    }
   ],
   "source": [
    "%%time\n",
    "def silhouetteScore(df,num_clusters):\n",
    "    models = ['kmeans', 'gmm', 'dbscan']\n",
    "    sil_scores = []\n",
    "    k_value = []\n",
    "    model_type = []\n",
    "    range_n_clusters = list(range(2,num_clusters))\n",
    "    for n_clusters in range_n_clusters:\n",
    "            for mymodel in models:\n",
    "                    if mymodel == 'kmeans':\n",
    "                            k_value.append(n_clusters)\n",
    "                            model_type.append(mymodel)\n",
    "                            kmeans = KMeans(n_clusters=n_clusters)\n",
    "                            cluster_labels = kmeans.fit_predict(df)\n",
    "                            score = round(silhouette_score(df,cluster_labels),2)\n",
    "                            sil_scores.append(score)\n",
    "                            print(\"Model {} with n_clusters = {}, silhouette score is {}\".format(mymodel,n_clusters, score))\n",
    "                    \n",
    "                    elif mymodel == 'gmm': \n",
    "                            k_value.append(n_clusters)\n",
    "                            model_type.append(mymodel)\n",
    "                            gmm = mixture.GaussianMixture(n_components=n_clusters)\n",
    "                            cluster_labels = gmm.fit_predict(df)\n",
    "                            score = round(silhouette_score(df,cluster_labels),2)\n",
    "                            sil_scores.append(score)\n",
    "                            print(\"Model {} with n_clusters = {}, silhouette score is {}\".format(mymodel,n_clusters, score))\n",
    "                    \n",
    "                    elif mymodel == 'dbscan':\n",
    "                            k_value.append(n_clusters)\n",
    "                            model_type.append(mymodel)\n",
    "                            dbscan = DBSCAN(eps=27, min_samples= 100)\n",
    "                            cluster_labels = dbscan.fit_predict(df)\n",
    "                            score = round(silhouette_score(df,cluster_labels),2)\n",
    "                            sil_scores.append(score)\n",
    "                            #print(\"Model {} with n_clusters = {}, silhouette score is {}\".format(mymodel,n_clusters, score))\n",
    " \n",
    "    print (\"\\nFinished!\")\n",
    "    return sil_scores, k_value, model_type"
   ]
  },
  {
   "cell_type": "code",
   "execution_count": 140,
   "metadata": {},
   "outputs": [
    {
     "name": "stdout",
     "output_type": "stream",
     "text": [
      "Model kmeans with n_clusters = 2, silhouette score is 0.71\n",
      "Model gmm with n_clusters = 2, silhouette score is 0.66\n",
      "Model kmeans with n_clusters = 3, silhouette score is 0.64\n",
      "Model gmm with n_clusters = 3, silhouette score is 0.63\n",
      "Model kmeans with n_clusters = 4, silhouette score is 0.59\n",
      "Model gmm with n_clusters = 4, silhouette score is 0.6\n",
      "Model kmeans with n_clusters = 5, silhouette score is 0.59\n",
      "Model gmm with n_clusters = 5, silhouette score is 0.55\n",
      "Model kmeans with n_clusters = 6, silhouette score is 0.56\n",
      "Model gmm with n_clusters = 6, silhouette score is 0.56\n",
      "Model kmeans with n_clusters = 7, silhouette score is 0.56\n",
      "Model gmm with n_clusters = 7, silhouette score is 0.51\n",
      "Model kmeans with n_clusters = 8, silhouette score is 0.56\n",
      "Model gmm with n_clusters = 8, silhouette score is 0.55\n",
      "Model kmeans with n_clusters = 9, silhouette score is 0.56\n",
      "Model gmm with n_clusters = 9, silhouette score is 0.56\n",
      "Model kmeans with n_clusters = 10, silhouette score is 0.53\n",
      "Model gmm with n_clusters = 10, silhouette score is 0.55\n",
      "\n",
      "Finished!\n",
      "CPU times: user 46.9 s, sys: 11.2 s, total: 58.1 s\n",
      "Wall time: 53.2 s\n"
     ]
    }
   ],
   "source": [
    "%%time\n",
    "sil_scores, k_value, model_type = silhouetteScore(df_sample.BPM.values.reshape(-1,1),11)"
   ]
  },
  {
   "cell_type": "code",
   "execution_count": 141,
   "metadata": {},
   "outputs": [
    {
     "data": {
      "text/html": [
       "<div>\n",
       "<style scoped>\n",
       "    .dataframe tbody tr th:only-of-type {\n",
       "        vertical-align: middle;\n",
       "    }\n",
       "\n",
       "    .dataframe tbody tr th {\n",
       "        vertical-align: top;\n",
       "    }\n",
       "\n",
       "    .dataframe thead th {\n",
       "        text-align: right;\n",
       "    }\n",
       "</style>\n",
       "<table border=\"1\" class=\"dataframe\">\n",
       "  <thead>\n",
       "    <tr style=\"text-align: right;\">\n",
       "      <th></th>\n",
       "      <th>sil_score</th>\n",
       "      <th>k</th>\n",
       "      <th>model</th>\n",
       "    </tr>\n",
       "  </thead>\n",
       "  <tbody>\n",
       "    <tr>\n",
       "      <th>0</th>\n",
       "      <td>0.71</td>\n",
       "      <td>2</td>\n",
       "      <td>kmeans</td>\n",
       "    </tr>\n",
       "    <tr>\n",
       "      <th>1</th>\n",
       "      <td>0.66</td>\n",
       "      <td>2</td>\n",
       "      <td>gmm</td>\n",
       "    </tr>\n",
       "    <tr>\n",
       "      <th>2</th>\n",
       "      <td>0.79</td>\n",
       "      <td>2</td>\n",
       "      <td>dbscan</td>\n",
       "    </tr>\n",
       "    <tr>\n",
       "      <th>3</th>\n",
       "      <td>0.64</td>\n",
       "      <td>3</td>\n",
       "      <td>kmeans</td>\n",
       "    </tr>\n",
       "    <tr>\n",
       "      <th>4</th>\n",
       "      <td>0.63</td>\n",
       "      <td>3</td>\n",
       "      <td>gmm</td>\n",
       "    </tr>\n",
       "  </tbody>\n",
       "</table>\n",
       "</div>"
      ],
      "text/plain": [
       "   sil_score  k   model\n",
       "0       0.71  2  kmeans\n",
       "1       0.66  2     gmm\n",
       "2       0.79  2  dbscan\n",
       "3       0.64  3  kmeans\n",
       "4       0.63  3     gmm"
      ]
     },
     "metadata": {},
     "output_type": "display_data"
    },
    {
     "data": {
      "text/plain": [
       "0.64"
      ]
     },
     "metadata": {},
     "output_type": "display_data"
    }
   ],
   "source": [
    "#print (list(all))\n",
    "df =pd.DataFrame(list(zip(sil_scores,k_value,model_type)),columns=['sil_score','k','model'])\n",
    "display (df.head(5))\n",
    "display (df.iat[3,0])"
   ]
  },
  {
   "cell_type": "code",
   "execution_count": 143,
   "metadata": {},
   "outputs": [],
   "source": [
    "def silhouette_plot(df):\n",
    "    \n",
    "    kmeans = df.loc[df.model == 'kmeans']\n",
    "    gmm = df.loc[df.model == 'gmm']\n",
    "    dbscan = df.loc[df.model == 'dbscan']\n",
    "    plt.figure(figsize=(5,3))\n",
    "    plt.ylabel('Silhouette Coefficient')\n",
    "    plt.xlabel('k value')\n",
    "    plt.title('Selecting K for Best Silhouette Score \\n Models = KMeans, GMM, DBSCAN')\n",
    "    plt.ylim=(0.3,1.0)\n",
    "    plt.grid(True)\n",
    "    plt.plot(kmeans.k,kmeans.sil_score,  label = 'kmeans', marker = 'o')\n",
    "    plt.plot(gmm.k,gmm.sil_score,  label = 'gmm', marker = 'o')\n",
    "    plt.plot(dbscan.iat[0,1],dbscan.iat[0,0],  label = 'gmm', marker = 'o')\n",
    "    #plt.plot(dbscan.k[0],d,  label = 'gmm', marker = 'o')\n",
    "\n",
    "    plt.xticks(np.arange(1.0, 11, 1.0))\n",
    "    plt.yticks(np.arange(0.4, 1.1, 0.1))\n",
    "    plt.legend(['kmeans', 'gmm','dbscan'])\n",
    "    plt.show()"
   ]
  },
  {
   "cell_type": "code",
   "execution_count": 144,
   "metadata": {},
   "outputs": [
    {
     "data": {
      "image/png": "[encoded data removed]",
      "text/plain": [
       "<Figure size 360x216 with 1 Axes>"
      ]
     },
     "metadata": {
      "needs_background": "light"
     },
     "output_type": "display_data"
    }
   ],
   "source": [
    "silhouette_plot(df)"
   ]
  },
  {
   "cell_type": "code",
   "execution_count": 145,
   "metadata": {},
   "outputs": [
    {
     "name": "stdout",
     "output_type": "stream",
     "text": [
      "CPU times: user 17.4 s, sys: 4.58 s, total: 22 s\n",
      "Wall time: 22 s\n"
     ]
    },
    {
     "data": {
      "text/plain": [
       "[<matplotlib.lines.Line2D at 0x7fe69f251a20>]"
      ]
     },
     "execution_count": 145,
     "metadata": {},
     "output_type": "execute_result"
    },
    {
     "data": {
      "image/png": "[encoded data removed]",
      "text/plain": [
       "<Figure size 360x216 with 1 Axes>"
      ]
     },
     "metadata": {
      "needs_background": "light"
     },
     "output_type": "display_data"
    }
   ],
   "source": [
    "%%time\n",
    "scores = []\n",
    "eps = []\n",
    "for x in range(2,21,2):\n",
    "    dbscan = DBSCAN(eps=x, min_samples= 100)\n",
    "    dbscan.fit(df_sample.BPM.values.reshape(-1,1))\n",
    "    score = silhouette_score(df_sample.BPM.values.reshape(-1,1),dbscan.labels_)\n",
    "    scores.append(score)\n",
    "    eps.append(x)\n",
    "    #print (x,np.unique(dbscan.labels_),round(score,2))\n",
    "plt.figure(figsize=(5,3))\n",
    "plt.ylabel('Silhouette Coefficient')\n",
    "plt.xlabel('EPS Hyper-Parameter ')\n",
    "plt.title('DBSCAN EPS Hyper-Parameter \\n min_samples = 100')\n",
    "plt.plot(eps,scores,  label = 'eps', marker = 'o')"
   ]
  },
  {
   "cell_type": "markdown",
   "metadata": {},
   "source": [
    "### Discussion \n",
    "The clustering algorithm defines 5 zones but the boundaries seem artifical. The Polar algoritm seems to suffer from the same plight, but has a larger resting (Zone 1 & Zone 2) percentage. The Mayo Clinc and CDC Zones have an intensity session defined that provides a buffer to the maximum heart rate. \n",
    "\n",
    "### Next Steps \n",
    "Providing more features and data from more persons need to be added to the dataset. "
   ]
  },
  {
   "cell_type": "code",
   "execution_count": null,
   "metadata": {},
   "outputs": [],
   "source": []
  }
 ],
 "metadata": {
  "kernelspec": {
   "display_name": "Python 3",
   "language": "python",
   "name": "python3"
  },
  "language_info": {
   "codemirror_mode": {
    "name": "ipython",
    "version": 3
   },
   "file_extension": ".py",
   "mimetype": "text/x-python",
   "name": "python",
   "nbconvert_exporter": "python",
   "pygments_lexer": "ipython3",
   "version": "3.7.3"
  }
 },
 "nbformat": 4,
 "nbformat_minor": 4
}
